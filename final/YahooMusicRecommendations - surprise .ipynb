{
 "cells": [
  {
   "cell_type": "code",
   "execution_count": 2,
   "metadata": {},
   "outputs": [],
   "source": [
    "import pandas as pd\n",
    "import glob\n",
    "import matplotlib.pyplot as plt\n",
    "from itertools import combinations, islice\n",
    "import csv\n",
    "from datetime import datetime, timedelta\n",
    "import time\n",
    "import pickle\n",
    "from itertools import islice\n",
    "\n",
    "from surprise import Reader, Dataset, SVD, KNNWithMeans, NMF\n",
    "from surprise.model_selection.validation import cross_validate\n",
    "svd = SVD()"
   ]
  },
  {
   "cell_type": "markdown",
   "metadata": {},
   "source": [
    "### EDA"
   ]
  },
  {
   "cell_type": "code",
   "execution_count": 3,
   "metadata": {},
   "outputs": [
    {
     "data": {
      "text/plain": [
       "[]"
      ]
     },
     "execution_count": 3,
     "metadata": {},
     "output_type": "execute_result"
    }
   ],
   "source": [
    "# data source: https://www.kaggle.com/c/ee627a-2019fall/data?select=albumData2.txt\n",
    "# origin of data: https://webscope.sandbox.yahoo.com/catalog.php?datatype=c&guccounter=1&guce_referrer=aHR0cHM6Ly9naXRodWIuY29tL3NhcmFueWF2c3IvTXVzaWMtUmVjb21tZW5kYXRpb25z&guce_referrer_sig=AQAAADdDVj1NcJ7l9D0AF1OwjrIchcuyq2aDD8kc4qxRk3RP-B1mQTaY0IDliV2wsC-gQw05v-d9k8v70efaNULAbemXR_upER5MDVS8mcDsU_DQJZmtcUF8Sdh7A1holj3I-8UJVcKbI65keJp44o46CL8aGp2kLYhRCUYeTXkwxv9N\n",
    "\n",
    "\n",
    "data_list = glob.glob('ee627a-2019fall\\*')\n",
    "data_list"
   ]
  },
  {
   "cell_type": "markdown",
   "metadata": {},
   "source": [
    "- trainItem2.txt - the training set \n",
    "- testItem2.txt - the test set \n",
    "- sample_ submission.csv - a sample submission file in the correct format \n",
    "- trackData2.txt -- Track information formatted as: <'TrackId'>|<'AlbumId'>|<'ArtistId'>|<'Optional GenreId_1'>|...|<'Optional GenreId_k'> \n",
    "- albumData2.txt -- Album information formatted as: <'AlbumId'>|<'ArtistId'>|<'Optional GenreId_1'>|...|<'Optional GenreId_k'> \n",
    "- artistData2.txt -- Artist listing formatted as: <'ArtistId'>\n",
    "- genreData2.txt -- Genre listing formatted as: <'GenreId'>\n",
    "\n"
   ]
  },
  {
   "cell_type": "markdown",
   "metadata": {},
   "source": [
    "## Process for surprise"
   ]
  },
  {
   "cell_type": "code",
   "execution_count": 3,
   "metadata": {},
   "outputs": [],
   "source": [
    "# process track data\n",
    "rows = []\n",
    "for row in open('ee627a-2019fall/trackData2.txt'):\n",
    "    cur_set = row.strip('\\n').split('|')\n",
    "    row_dict = {'track': cur_set[0], \n",
    "                'album': cur_set[1], \n",
    "                'artist': cur_set[2]\n",
    "               }\n",
    "    if len(cur_set) > 3:\n",
    "        row_dict['genres'] = cur_set[3:]\n",
    "    rows.append(row_dict)\n",
    "\n",
    "df_tracks = pd.DataFrame(rows)"
   ]
  },
  {
   "cell_type": "code",
   "execution_count": 4,
   "metadata": {},
   "outputs": [
    {
     "name": "stdout",
     "output_type": "stream",
     "text": [
      "<class 'pandas.core.frame.DataFrame'>\n",
      "RangeIndex: 224041 entries, 0 to 224040\n",
      "Data columns (total 4 columns):\n",
      " #   Column  Non-Null Count   Dtype \n",
      "---  ------  --------------   ----- \n",
      " 0   track   224041 non-null  int64 \n",
      " 1   album   224041 non-null  object\n",
      " 2   artist  224041 non-null  object\n",
      " 3   genres  215595 non-null  object\n",
      "dtypes: int64(1), object(3)\n",
      "memory usage: 6.8+ MB\n"
     ]
    }
   ],
   "source": [
    "df_tracks['track'] = df_tracks.track.astype(int)\n",
    "df_tracks.info()"
   ]
  },
  {
   "cell_type": "code",
   "execution_count": 5,
   "metadata": {},
   "outputs": [
    {
     "data": {
      "text/html": [
       "<div>\n",
       "<style scoped>\n",
       "    .dataframe tbody tr th:only-of-type {\n",
       "        vertical-align: middle;\n",
       "    }\n",
       "\n",
       "    .dataframe tbody tr th {\n",
       "        vertical-align: top;\n",
       "    }\n",
       "\n",
       "    .dataframe thead th {\n",
       "        text-align: right;\n",
       "    }\n",
       "</style>\n",
       "<table border=\"1\" class=\"dataframe\">\n",
       "  <thead>\n",
       "    <tr style=\"text-align: right;\">\n",
       "      <th></th>\n",
       "      <th>track</th>\n",
       "      <th>album</th>\n",
       "      <th>artist</th>\n",
       "      <th>genres</th>\n",
       "    </tr>\n",
       "  </thead>\n",
       "  <tbody>\n",
       "    <tr>\n",
       "      <th>0</th>\n",
       "      <td>1</td>\n",
       "      <td>106710</td>\n",
       "      <td>281667</td>\n",
       "      <td>[214765, 162234, 155788]</td>\n",
       "    </tr>\n",
       "    <tr>\n",
       "      <th>1</th>\n",
       "      <td>2</td>\n",
       "      <td>280977</td>\n",
       "      <td>233685</td>\n",
       "      <td>[131552, 173467, 48505]</td>\n",
       "    </tr>\n",
       "    <tr>\n",
       "      <th>2</th>\n",
       "      <td>3</td>\n",
       "      <td>38422</td>\n",
       "      <td>219136</td>\n",
       "      <td>[61215, 201738, 88853]</td>\n",
       "    </tr>\n",
       "    <tr>\n",
       "      <th>3</th>\n",
       "      <td>4</td>\n",
       "      <td>119529</td>\n",
       "      <td>166863</td>\n",
       "      <td>[17453, 35389]</td>\n",
       "    </tr>\n",
       "    <tr>\n",
       "      <th>4</th>\n",
       "      <td>5</td>\n",
       "      <td>16742</td>\n",
       "      <td>294690</td>\n",
       "      <td>[61215, 34486, 274088]</td>\n",
       "    </tr>\n",
       "    <tr>\n",
       "      <th>...</th>\n",
       "      <td>...</td>\n",
       "      <td>...</td>\n",
       "      <td>...</td>\n",
       "      <td>...</td>\n",
       "    </tr>\n",
       "    <tr>\n",
       "      <th>224036</th>\n",
       "      <td>296100</td>\n",
       "      <td>166516</td>\n",
       "      <td>33011</td>\n",
       "      <td>[274088, 199606, 88853]</td>\n",
       "    </tr>\n",
       "    <tr>\n",
       "      <th>224037</th>\n",
       "      <td>296101</td>\n",
       "      <td>None</td>\n",
       "      <td>None</td>\n",
       "      <td>NaN</td>\n",
       "    </tr>\n",
       "    <tr>\n",
       "      <th>224038</th>\n",
       "      <td>296102</td>\n",
       "      <td>153644</td>\n",
       "      <td>289056</td>\n",
       "      <td>[158282, 139095, 242383]</td>\n",
       "    </tr>\n",
       "    <tr>\n",
       "      <th>224039</th>\n",
       "      <td>296105</td>\n",
       "      <td>68336</td>\n",
       "      <td>6613</td>\n",
       "      <td>[82064]</td>\n",
       "    </tr>\n",
       "    <tr>\n",
       "      <th>224040</th>\n",
       "      <td>296110</td>\n",
       "      <td>281202</td>\n",
       "      <td>140302</td>\n",
       "      <td>[61215]</td>\n",
       "    </tr>\n",
       "  </tbody>\n",
       "</table>\n",
       "<p>224041 rows × 4 columns</p>\n",
       "</div>"
      ],
      "text/plain": [
       "         track   album  artist                    genres\n",
       "0            1  106710  281667  [214765, 162234, 155788]\n",
       "1            2  280977  233685   [131552, 173467, 48505]\n",
       "2            3   38422  219136    [61215, 201738, 88853]\n",
       "3            4  119529  166863            [17453, 35389]\n",
       "4            5   16742  294690    [61215, 34486, 274088]\n",
       "...        ...     ...     ...                       ...\n",
       "224036  296100  166516   33011   [274088, 199606, 88853]\n",
       "224037  296101    None    None                       NaN\n",
       "224038  296102  153644  289056  [158282, 139095, 242383]\n",
       "224039  296105   68336    6613                   [82064]\n",
       "224040  296110  281202  140302                   [61215]\n",
       "\n",
       "[224041 rows x 4 columns]"
      ]
     },
     "execution_count": 5,
     "metadata": {},
     "output_type": "execute_result"
    }
   ],
   "source": [
    "df_tracks"
   ]
  },
  {
   "cell_type": "code",
   "execution_count": 6,
   "metadata": {},
   "outputs": [],
   "source": [
    "# process training data\n",
    "rows = []\n",
    "for row in open('ee627a-2019fall/trainItem2.txt'):\n",
    "    if '|' in row:\n",
    "        cur_user = row.strip('\\n').split('|')[0] # pull user ID. don't need song count\n",
    "        continue # skip to the user's ratings\n",
    "    row = row.strip('\\n').split('\\t')\n",
    "    row_dict = {'user': cur_user, \n",
    "                'track': row[0], \n",
    "                'rating': int(row[1])\n",
    "               }\n",
    "    rows.append(row_dict)\n",
    "\n",
    "df_train = pd.DataFrame(rows)\n",
    "\n",
    "df_train['rating'] = df_train['rating'].replace({0:1}) # nmf can't handle 0"
   ]
  },
  {
   "cell_type": "code",
   "execution_count": 7,
   "metadata": {},
   "outputs": [
    {
     "name": "stdout",
     "output_type": "stream",
     "text": [
      "<class 'pandas.core.frame.DataFrame'>\n",
      "RangeIndex: 12403575 entries, 0 to 12403574\n",
      "Data columns (total 3 columns):\n",
      " #   Column  Dtype \n",
      "---  ------  ----- \n",
      " 0   user    object\n",
      " 1   track   int64 \n",
      " 2   rating  int64 \n",
      "dtypes: int64(2), object(1)\n",
      "memory usage: 283.9+ MB\n"
     ]
    }
   ],
   "source": [
    "df_train['track'] = df_train.track.astype(int)\n",
    "df_train.info()"
   ]
  },
  {
   "cell_type": "code",
   "execution_count": 8,
   "metadata": {},
   "outputs": [
    {
     "data": {
      "text/html": [
       "<div>\n",
       "<style scoped>\n",
       "    .dataframe tbody tr th:only-of-type {\n",
       "        vertical-align: middle;\n",
       "    }\n",
       "\n",
       "    .dataframe tbody tr th {\n",
       "        vertical-align: top;\n",
       "    }\n",
       "\n",
       "    .dataframe thead th {\n",
       "        text-align: right;\n",
       "    }\n",
       "</style>\n",
       "<table border=\"1\" class=\"dataframe\">\n",
       "  <thead>\n",
       "    <tr style=\"text-align: right;\">\n",
       "      <th></th>\n",
       "      <th>user</th>\n",
       "      <th>track</th>\n",
       "      <th>rating</th>\n",
       "    </tr>\n",
       "  </thead>\n",
       "  <tbody>\n",
       "    <tr>\n",
       "      <th>0</th>\n",
       "      <td>199808</td>\n",
       "      <td>248969</td>\n",
       "      <td>90</td>\n",
       "    </tr>\n",
       "    <tr>\n",
       "      <th>1</th>\n",
       "      <td>199808</td>\n",
       "      <td>2663</td>\n",
       "      <td>90</td>\n",
       "    </tr>\n",
       "    <tr>\n",
       "      <th>2</th>\n",
       "      <td>199808</td>\n",
       "      <td>28341</td>\n",
       "      <td>90</td>\n",
       "    </tr>\n",
       "    <tr>\n",
       "      <th>3</th>\n",
       "      <td>199808</td>\n",
       "      <td>42563</td>\n",
       "      <td>90</td>\n",
       "    </tr>\n",
       "    <tr>\n",
       "      <th>4</th>\n",
       "      <td>199808</td>\n",
       "      <td>59092</td>\n",
       "      <td>90</td>\n",
       "    </tr>\n",
       "    <tr>\n",
       "      <th>...</th>\n",
       "      <td>...</td>\n",
       "      <td>...</td>\n",
       "      <td>...</td>\n",
       "    </tr>\n",
       "    <tr>\n",
       "      <th>12403570</th>\n",
       "      <td>249011</td>\n",
       "      <td>270557</td>\n",
       "      <td>90</td>\n",
       "    </tr>\n",
       "    <tr>\n",
       "      <th>12403571</th>\n",
       "      <td>249011</td>\n",
       "      <td>273574</td>\n",
       "      <td>90</td>\n",
       "    </tr>\n",
       "    <tr>\n",
       "      <th>12403572</th>\n",
       "      <td>249011</td>\n",
       "      <td>286938</td>\n",
       "      <td>90</td>\n",
       "    </tr>\n",
       "    <tr>\n",
       "      <th>12403573</th>\n",
       "      <td>249011</td>\n",
       "      <td>287681</td>\n",
       "      <td>80</td>\n",
       "    </tr>\n",
       "    <tr>\n",
       "      <th>12403574</th>\n",
       "      <td>249011</td>\n",
       "      <td>295381</td>\n",
       "      <td>90</td>\n",
       "    </tr>\n",
       "  </tbody>\n",
       "</table>\n",
       "<p>12403575 rows × 3 columns</p>\n",
       "</div>"
      ],
      "text/plain": [
       "            user   track  rating\n",
       "0         199808  248969      90\n",
       "1         199808    2663      90\n",
       "2         199808   28341      90\n",
       "3         199808   42563      90\n",
       "4         199808   59092      90\n",
       "...          ...     ...     ...\n",
       "12403570  249011  270557      90\n",
       "12403571  249011  273574      90\n",
       "12403572  249011  286938      90\n",
       "12403573  249011  287681      80\n",
       "12403574  249011  295381      90\n",
       "\n",
       "[12403575 rows x 3 columns]"
      ]
     },
     "execution_count": 8,
     "metadata": {},
     "output_type": "execute_result"
    }
   ],
   "source": [
    "df_train"
   ]
  },
  {
   "cell_type": "code",
   "execution_count": 9,
   "metadata": {},
   "outputs": [],
   "source": [
    "reader = Reader(rating_scale=(1, 100))\n",
    "data = Dataset.load_from_df(df_train, reader)\n",
    "trainset = data.build_full_trainset()"
   ]
  },
  {
   "cell_type": "code",
   "execution_count": 10,
   "metadata": {},
   "outputs": [],
   "source": [
    "df_trainWgenres = pd.merge(df_tracks, df_train, on='track', how='left')"
   ]
  },
  {
   "cell_type": "code",
   "execution_count": 11,
   "metadata": {},
   "outputs": [
    {
     "name": "stdout",
     "output_type": "stream",
     "text": [
      "<class 'pandas.core.frame.DataFrame'>\n",
      "Int64Index: 5480302 entries, 0 to 5480301\n",
      "Data columns (total 6 columns):\n",
      " #   Column  Dtype  \n",
      "---  ------  -----  \n",
      " 0   track   int64  \n",
      " 1   album   object \n",
      " 2   artist  object \n",
      " 3   genres  object \n",
      " 4   user    object \n",
      " 5   rating  float64\n",
      "dtypes: float64(1), int64(1), object(4)\n",
      "memory usage: 292.7+ MB\n"
     ]
    }
   ],
   "source": [
    "df_trainWgenres.info()"
   ]
  },
  {
   "cell_type": "code",
   "execution_count": 12,
   "metadata": {},
   "outputs": [
    {
     "data": {
      "text/html": [
       "<div>\n",
       "<style scoped>\n",
       "    .dataframe tbody tr th:only-of-type {\n",
       "        vertical-align: middle;\n",
       "    }\n",
       "\n",
       "    .dataframe tbody tr th {\n",
       "        vertical-align: top;\n",
       "    }\n",
       "\n",
       "    .dataframe thead th {\n",
       "        text-align: right;\n",
       "    }\n",
       "</style>\n",
       "<table border=\"1\" class=\"dataframe\">\n",
       "  <thead>\n",
       "    <tr style=\"text-align: right;\">\n",
       "      <th></th>\n",
       "      <th>track</th>\n",
       "      <th>album</th>\n",
       "      <th>artist</th>\n",
       "      <th>genres</th>\n",
       "      <th>user</th>\n",
       "      <th>rating</th>\n",
       "    </tr>\n",
       "  </thead>\n",
       "  <tbody>\n",
       "    <tr>\n",
       "      <th>0</th>\n",
       "      <td>1</td>\n",
       "      <td>106710</td>\n",
       "      <td>281667</td>\n",
       "      <td>[214765, 162234, 155788]</td>\n",
       "      <td>199872</td>\n",
       "      <td>50.0</td>\n",
       "    </tr>\n",
       "    <tr>\n",
       "      <th>1</th>\n",
       "      <td>1</td>\n",
       "      <td>106710</td>\n",
       "      <td>281667</td>\n",
       "      <td>[214765, 162234, 155788]</td>\n",
       "      <td>213142</td>\n",
       "      <td>90.0</td>\n",
       "    </tr>\n",
       "    <tr>\n",
       "      <th>2</th>\n",
       "      <td>1</td>\n",
       "      <td>106710</td>\n",
       "      <td>281667</td>\n",
       "      <td>[214765, 162234, 155788]</td>\n",
       "      <td>214520</td>\n",
       "      <td>1.0</td>\n",
       "    </tr>\n",
       "    <tr>\n",
       "      <th>3</th>\n",
       "      <td>1</td>\n",
       "      <td>106710</td>\n",
       "      <td>281667</td>\n",
       "      <td>[214765, 162234, 155788]</td>\n",
       "      <td>233636</td>\n",
       "      <td>50.0</td>\n",
       "    </tr>\n",
       "    <tr>\n",
       "      <th>4</th>\n",
       "      <td>1</td>\n",
       "      <td>106710</td>\n",
       "      <td>281667</td>\n",
       "      <td>[214765, 162234, 155788]</td>\n",
       "      <td>237128</td>\n",
       "      <td>1.0</td>\n",
       "    </tr>\n",
       "    <tr>\n",
       "      <th>...</th>\n",
       "      <td>...</td>\n",
       "      <td>...</td>\n",
       "      <td>...</td>\n",
       "      <td>...</td>\n",
       "      <td>...</td>\n",
       "      <td>...</td>\n",
       "    </tr>\n",
       "    <tr>\n",
       "      <th>5480297</th>\n",
       "      <td>296110</td>\n",
       "      <td>281202</td>\n",
       "      <td>140302</td>\n",
       "      <td>[61215]</td>\n",
       "      <td>217723</td>\n",
       "      <td>1.0</td>\n",
       "    </tr>\n",
       "    <tr>\n",
       "      <th>5480298</th>\n",
       "      <td>296110</td>\n",
       "      <td>281202</td>\n",
       "      <td>140302</td>\n",
       "      <td>[61215]</td>\n",
       "      <td>230188</td>\n",
       "      <td>1.0</td>\n",
       "    </tr>\n",
       "    <tr>\n",
       "      <th>5480299</th>\n",
       "      <td>296110</td>\n",
       "      <td>281202</td>\n",
       "      <td>140302</td>\n",
       "      <td>[61215]</td>\n",
       "      <td>235883</td>\n",
       "      <td>1.0</td>\n",
       "    </tr>\n",
       "    <tr>\n",
       "      <th>5480300</th>\n",
       "      <td>296110</td>\n",
       "      <td>281202</td>\n",
       "      <td>140302</td>\n",
       "      <td>[61215]</td>\n",
       "      <td>238641</td>\n",
       "      <td>1.0</td>\n",
       "    </tr>\n",
       "    <tr>\n",
       "      <th>5480301</th>\n",
       "      <td>296110</td>\n",
       "      <td>281202</td>\n",
       "      <td>140302</td>\n",
       "      <td>[61215]</td>\n",
       "      <td>248009</td>\n",
       "      <td>50.0</td>\n",
       "    </tr>\n",
       "  </tbody>\n",
       "</table>\n",
       "<p>5480302 rows × 6 columns</p>\n",
       "</div>"
      ],
      "text/plain": [
       "          track   album  artist                    genres    user  rating\n",
       "0             1  106710  281667  [214765, 162234, 155788]  199872    50.0\n",
       "1             1  106710  281667  [214765, 162234, 155788]  213142    90.0\n",
       "2             1  106710  281667  [214765, 162234, 155788]  214520     1.0\n",
       "3             1  106710  281667  [214765, 162234, 155788]  233636    50.0\n",
       "4             1  106710  281667  [214765, 162234, 155788]  237128     1.0\n",
       "...         ...     ...     ...                       ...     ...     ...\n",
       "5480297  296110  281202  140302                   [61215]  217723     1.0\n",
       "5480298  296110  281202  140302                   [61215]  230188     1.0\n",
       "5480299  296110  281202  140302                   [61215]  235883     1.0\n",
       "5480300  296110  281202  140302                   [61215]  238641     1.0\n",
       "5480301  296110  281202  140302                   [61215]  248009    50.0\n",
       "\n",
       "[5480302 rows x 6 columns]"
      ]
     },
     "execution_count": 12,
     "metadata": {},
     "output_type": "execute_result"
    }
   ],
   "source": [
    "df_trainWgenres"
   ]
  },
  {
   "cell_type": "code",
   "execution_count": 13,
   "metadata": {},
   "outputs": [],
   "source": [
    "dataWgenres = Dataset.load_from_df(df_train, reader)\n",
    "trainsetWgenres = dataWgenres.build_full_trainset()"
   ]
  },
  {
   "cell_type": "markdown",
   "metadata": {},
   "source": [
    "## SVD"
   ]
  },
  {
   "cell_type": "code",
   "execution_count": 9,
   "metadata": {},
   "outputs": [
    {
     "name": "stdout",
     "output_type": "stream",
     "text": [
      "Evaluating RMSE, MAE of algorithm SVD on 5 split(s).\n",
      "\n",
      "                  Fold 1  Fold 2  Fold 3  Fold 4  Fold 5  Mean    Std     \n",
      "RMSE (testset)    63.0237 63.0137 62.9738 62.9827 63.0187 63.0025 0.0203  \n",
      "MAE (testset)     50.2529 50.2442 50.1980 50.2079 50.2439 50.2294 0.0221  \n",
      "Fit time          470.88  431.81  423.76  422.57  423.45  434.49  18.49   \n",
      "Test time         29.59   25.72   28.56   28.69   26.96   27.90   1.38    \n"
     ]
    },
    {
     "data": {
      "text/plain": [
       "{'test_rmse': array([63.02372132, 63.01368387, 62.97381311, 62.98268164, 63.0187177 ]),\n",
       " 'test_mae': array([50.25291096, 50.24423725, 50.19802517, 50.20785983, 50.2439458 ]),\n",
       " 'fit_time': (470.87875986099243,\n",
       "  431.8085570335388,\n",
       "  423.76098585128784,\n",
       "  422.57399702072144,\n",
       "  423.4520380496979),\n",
       " 'test_time': (29.590038537979126,\n",
       "  25.724996089935303,\n",
       "  28.555996894836426,\n",
       "  28.688954830169678,\n",
       "  26.964996576309204)}"
      ]
     },
     "execution_count": 9,
     "metadata": {},
     "output_type": "execute_result"
    }
   ],
   "source": [
    "cross_validate(svd, data, measures=['RMSE', 'MAE'], cv=5, verbose=True)\n"
   ]
  },
  {
   "cell_type": "code",
   "execution_count": 78,
   "metadata": {},
   "outputs": [
    {
     "name": "stdout",
     "output_type": "stream",
     "text": [
      "CPU times: user 6min 3s, sys: 49.2 ms, total: 6min 3s\n",
      "Wall time: 6min 3s\n"
     ]
    },
    {
     "data": {
      "text/plain": [
       "<surprise.prediction_algorithms.matrix_factorization.SVD at 0x7f78e4cf31d0>"
      ]
     },
     "execution_count": 78,
     "metadata": {},
     "output_type": "execute_result"
    }
   ],
   "source": [
    "%time svd.fit(trainsetWgenres)\n"
   ]
  },
  {
   "cell_type": "markdown",
   "metadata": {},
   "source": [
    "#### make predictions"
   ]
  },
  {
   "cell_type": "code",
   "execution_count": 79,
   "metadata": {},
   "outputs": [
    {
     "data": {
      "text/plain": [
       "100"
      ]
     },
     "execution_count": 79,
     "metadata": {},
     "output_type": "execute_result"
    }
   ],
   "source": [
    "svd.predict(str(199810), str(208019)).est"
   ]
  },
  {
   "cell_type": "code",
   "execution_count": 15,
   "metadata": {},
   "outputs": [
    {
     "data": {
      "text/html": [
       "<div>\n",
       "<style scoped>\n",
       "    .dataframe tbody tr th:only-of-type {\n",
       "        vertical-align: middle;\n",
       "    }\n",
       "\n",
       "    .dataframe tbody tr th {\n",
       "        vertical-align: top;\n",
       "    }\n",
       "\n",
       "    .dataframe thead th {\n",
       "        text-align: right;\n",
       "    }\n",
       "</style>\n",
       "<table border=\"1\" class=\"dataframe\">\n",
       "  <thead>\n",
       "    <tr style=\"text-align: right;\">\n",
       "      <th></th>\n",
       "      <th>track</th>\n",
       "      <th>album</th>\n",
       "      <th>artist</th>\n",
       "      <th>genres</th>\n",
       "      <th>user</th>\n",
       "      <th>rating</th>\n",
       "    </tr>\n",
       "  </thead>\n",
       "  <tbody>\n",
       "    <tr>\n",
       "      <th>3857580</th>\n",
       "      <td>208019</td>\n",
       "      <td>209288</td>\n",
       "      <td>None</td>\n",
       "      <td>NaN</td>\n",
       "      <td>199820</td>\n",
       "      <td>1.0</td>\n",
       "    </tr>\n",
       "    <tr>\n",
       "      <th>3857581</th>\n",
       "      <td>208019</td>\n",
       "      <td>209288</td>\n",
       "      <td>None</td>\n",
       "      <td>NaN</td>\n",
       "      <td>200634</td>\n",
       "      <td>50.0</td>\n",
       "    </tr>\n",
       "    <tr>\n",
       "      <th>3857582</th>\n",
       "      <td>208019</td>\n",
       "      <td>209288</td>\n",
       "      <td>None</td>\n",
       "      <td>NaN</td>\n",
       "      <td>200999</td>\n",
       "      <td>1.0</td>\n",
       "    </tr>\n",
       "    <tr>\n",
       "      <th>3857583</th>\n",
       "      <td>208019</td>\n",
       "      <td>209288</td>\n",
       "      <td>None</td>\n",
       "      <td>NaN</td>\n",
       "      <td>201107</td>\n",
       "      <td>90.0</td>\n",
       "    </tr>\n",
       "    <tr>\n",
       "      <th>3857584</th>\n",
       "      <td>208019</td>\n",
       "      <td>209288</td>\n",
       "      <td>None</td>\n",
       "      <td>NaN</td>\n",
       "      <td>201178</td>\n",
       "      <td>50.0</td>\n",
       "    </tr>\n",
       "    <tr>\n",
       "      <th>...</th>\n",
       "      <td>...</td>\n",
       "      <td>...</td>\n",
       "      <td>...</td>\n",
       "      <td>...</td>\n",
       "      <td>...</td>\n",
       "      <td>...</td>\n",
       "    </tr>\n",
       "    <tr>\n",
       "      <th>3857699</th>\n",
       "      <td>208019</td>\n",
       "      <td>209288</td>\n",
       "      <td>None</td>\n",
       "      <td>NaN</td>\n",
       "      <td>247149</td>\n",
       "      <td>70.0</td>\n",
       "    </tr>\n",
       "    <tr>\n",
       "      <th>3857700</th>\n",
       "      <td>208019</td>\n",
       "      <td>209288</td>\n",
       "      <td>None</td>\n",
       "      <td>NaN</td>\n",
       "      <td>247693</td>\n",
       "      <td>70.0</td>\n",
       "    </tr>\n",
       "    <tr>\n",
       "      <th>3857701</th>\n",
       "      <td>208019</td>\n",
       "      <td>209288</td>\n",
       "      <td>None</td>\n",
       "      <td>NaN</td>\n",
       "      <td>248130</td>\n",
       "      <td>1.0</td>\n",
       "    </tr>\n",
       "    <tr>\n",
       "      <th>3857702</th>\n",
       "      <td>208019</td>\n",
       "      <td>209288</td>\n",
       "      <td>None</td>\n",
       "      <td>NaN</td>\n",
       "      <td>248393</td>\n",
       "      <td>90.0</td>\n",
       "    </tr>\n",
       "    <tr>\n",
       "      <th>3857703</th>\n",
       "      <td>208019</td>\n",
       "      <td>209288</td>\n",
       "      <td>None</td>\n",
       "      <td>NaN</td>\n",
       "      <td>248453</td>\n",
       "      <td>80.0</td>\n",
       "    </tr>\n",
       "  </tbody>\n",
       "</table>\n",
       "<p>124 rows × 6 columns</p>\n",
       "</div>"
      ],
      "text/plain": [
       "          track   album artist genres    user  rating\n",
       "3857580  208019  209288   None    NaN  199820     1.0\n",
       "3857581  208019  209288   None    NaN  200634    50.0\n",
       "3857582  208019  209288   None    NaN  200999     1.0\n",
       "3857583  208019  209288   None    NaN  201107    90.0\n",
       "3857584  208019  209288   None    NaN  201178    50.0\n",
       "...         ...     ...    ...    ...     ...     ...\n",
       "3857699  208019  209288   None    NaN  247149    70.0\n",
       "3857700  208019  209288   None    NaN  247693    70.0\n",
       "3857701  208019  209288   None    NaN  248130     1.0\n",
       "3857702  208019  209288   None    NaN  248393    90.0\n",
       "3857703  208019  209288   None    NaN  248453    80.0\n",
       "\n",
       "[124 rows x 6 columns]"
      ]
     },
     "execution_count": 15,
     "metadata": {},
     "output_type": "execute_result"
    }
   ],
   "source": [
    "df_trainWgenres[df_trainWgenres.track==208019]"
   ]
  },
  {
   "cell_type": "code",
   "execution_count": 80,
   "metadata": {},
   "outputs": [],
   "source": [
    "predictions = []\n",
    "with open('ee627a-2019fall/testItem2.txt') as f:\n",
    "    while True:\n",
    "        next_n_lines = list(islice(f, 7))\n",
    "        if not next_n_lines:\n",
    "            break\n",
    "        ratings = [] # reset for new user's list of songs\n",
    "        cur_set = [x.strip('\\n').split('|') for x in next_n_lines]\n",
    "        test_user = int(cur_set[0][0]) # pull user ID. don't need song count \n",
    "        for track in cur_set[1:]:\n",
    "            rating = svd.predict(str(test_user), track[0]).est\n",
    "            rating_tup = (int(track[0]), rating)\n",
    "            ratings.append(rating_tup)\n",
    "        \n",
    "        ratings.sort(key=lambda x:x[1]) # sort 6 songs by rating\n",
    "        for i, j in enumerate(ratings):\n",
    "            cur_dict = {}\n",
    "            cur_dict['TrackID'] = f'{test_user}_{j[0]}'\n",
    "            cur_dict['rating'] = j[1]\n",
    "            if i < 3:\n",
    "                cur_dict['Predictor'] = 0 \n",
    "            else:\n",
    "                cur_dict['Predictor'] = 1 \n",
    "            predictions.append(cur_dict)\n",
    "        "
   ]
  },
  {
   "cell_type": "code",
   "execution_count": 81,
   "metadata": {},
   "outputs": [
    {
     "data": {
      "text/html": [
       "<div>\n",
       "<style scoped>\n",
       "    .dataframe tbody tr th:only-of-type {\n",
       "        vertical-align: middle;\n",
       "    }\n",
       "\n",
       "    .dataframe tbody tr th {\n",
       "        vertical-align: top;\n",
       "    }\n",
       "\n",
       "    .dataframe thead th {\n",
       "        text-align: right;\n",
       "    }\n",
       "</style>\n",
       "<table border=\"1\" class=\"dataframe\">\n",
       "  <thead>\n",
       "    <tr style=\"text-align: right;\">\n",
       "      <th></th>\n",
       "      <th>TrackID</th>\n",
       "      <th>rating</th>\n",
       "      <th>Predictor</th>\n",
       "    </tr>\n",
       "  </thead>\n",
       "  <tbody>\n",
       "    <tr>\n",
       "      <th>0</th>\n",
       "      <td>199810_208019</td>\n",
       "      <td>100</td>\n",
       "      <td>0</td>\n",
       "    </tr>\n",
       "    <tr>\n",
       "      <th>1</th>\n",
       "      <td>199810_74139</td>\n",
       "      <td>100</td>\n",
       "      <td>0</td>\n",
       "    </tr>\n",
       "    <tr>\n",
       "      <th>2</th>\n",
       "      <td>199810_9903</td>\n",
       "      <td>100</td>\n",
       "      <td>0</td>\n",
       "    </tr>\n",
       "    <tr>\n",
       "      <th>3</th>\n",
       "      <td>199810_242681</td>\n",
       "      <td>100</td>\n",
       "      <td>1</td>\n",
       "    </tr>\n",
       "    <tr>\n",
       "      <th>4</th>\n",
       "      <td>199810_18515</td>\n",
       "      <td>100</td>\n",
       "      <td>1</td>\n",
       "    </tr>\n",
       "    <tr>\n",
       "      <th>...</th>\n",
       "      <td>...</td>\n",
       "      <td>...</td>\n",
       "      <td>...</td>\n",
       "    </tr>\n",
       "    <tr>\n",
       "      <th>119995</th>\n",
       "      <td>249010_72192</td>\n",
       "      <td>100</td>\n",
       "      <td>0</td>\n",
       "    </tr>\n",
       "    <tr>\n",
       "      <th>119996</th>\n",
       "      <td>249010_86104</td>\n",
       "      <td>100</td>\n",
       "      <td>0</td>\n",
       "    </tr>\n",
       "    <tr>\n",
       "      <th>119997</th>\n",
       "      <td>249010_186634</td>\n",
       "      <td>100</td>\n",
       "      <td>1</td>\n",
       "    </tr>\n",
       "    <tr>\n",
       "      <th>119998</th>\n",
       "      <td>249010_293818</td>\n",
       "      <td>100</td>\n",
       "      <td>1</td>\n",
       "    </tr>\n",
       "    <tr>\n",
       "      <th>119999</th>\n",
       "      <td>249010_262811</td>\n",
       "      <td>100</td>\n",
       "      <td>1</td>\n",
       "    </tr>\n",
       "  </tbody>\n",
       "</table>\n",
       "<p>120000 rows × 3 columns</p>\n",
       "</div>"
      ],
      "text/plain": [
       "              TrackID  rating  Predictor\n",
       "0       199810_208019     100          0\n",
       "1        199810_74139     100          0\n",
       "2         199810_9903     100          0\n",
       "3       199810_242681     100          1\n",
       "4        199810_18515     100          1\n",
       "...               ...     ...        ...\n",
       "119995   249010_72192     100          0\n",
       "119996   249010_86104     100          0\n",
       "119997  249010_186634     100          1\n",
       "119998  249010_293818     100          1\n",
       "119999  249010_262811     100          1\n",
       "\n",
       "[120000 rows x 3 columns]"
      ]
     },
     "execution_count": 81,
     "metadata": {},
     "output_type": "execute_result"
    }
   ],
   "source": [
    "preditions_df_svd = pd.DataFrame(predictions)\n",
    "preditions_df_svd"
   ]
  },
  {
   "cell_type": "markdown",
   "metadata": {},
   "source": [
    "## KNN"
   ]
  },
  {
   "cell_type": "code",
   "execution_count": 28,
   "metadata": {},
   "outputs": [
    {
     "name": "stdout",
     "output_type": "stream",
     "text": [
      "Computing the cosine similarity matrix...\n"
     ]
    },
    {
     "ename": "MemoryError",
     "evalue": "Unable to allocate 652. GiB for an array with shape (295799, 295799) and data type float64",
     "output_type": "error",
     "traceback": [
      "\u001b[1;31m---------------------------------------------------------------------------\u001b[0m",
      "\u001b[1;31mMemoryError\u001b[0m                               Traceback (most recent call last)",
      "\u001b[1;32m~\\AppData\\Local\\Temp/ipykernel_2156/1810096856.py\u001b[0m in \u001b[0;36m<module>\u001b[1;34m\u001b[0m\n\u001b[0;32m      7\u001b[0m }\n\u001b[0;32m      8\u001b[0m \u001b[0malgo\u001b[0m \u001b[1;33m=\u001b[0m \u001b[0mKNNWithMeans\u001b[0m\u001b[1;33m(\u001b[0m\u001b[0msim_options\u001b[0m\u001b[1;33m=\u001b[0m\u001b[0msim_options\u001b[0m\u001b[1;33m)\u001b[0m\u001b[1;33m\u001b[0m\u001b[1;33m\u001b[0m\u001b[0m\n\u001b[1;32m----> 9\u001b[1;33m \u001b[0malgo\u001b[0m\u001b[1;33m.\u001b[0m\u001b[0mfit\u001b[0m\u001b[1;33m(\u001b[0m\u001b[0mtrainset\u001b[0m\u001b[1;33m)\u001b[0m\u001b[1;33m\u001b[0m\u001b[1;33m\u001b[0m\u001b[0m\n\u001b[0m\u001b[0;32m     10\u001b[0m \u001b[1;33m\u001b[0m\u001b[0m\n",
      "\u001b[1;32m~\\miniconda3\\envs\\neura\\lib\\site-packages\\surprise\\prediction_algorithms\\knns.py\u001b[0m in \u001b[0;36mfit\u001b[1;34m(self, trainset)\u001b[0m\n\u001b[0;32m    176\u001b[0m \u001b[1;33m\u001b[0m\u001b[0m\n\u001b[0;32m    177\u001b[0m         \u001b[0mSymmetricAlgo\u001b[0m\u001b[1;33m.\u001b[0m\u001b[0mfit\u001b[0m\u001b[1;33m(\u001b[0m\u001b[0mself\u001b[0m\u001b[1;33m,\u001b[0m \u001b[0mtrainset\u001b[0m\u001b[1;33m)\u001b[0m\u001b[1;33m\u001b[0m\u001b[1;33m\u001b[0m\u001b[0m\n\u001b[1;32m--> 178\u001b[1;33m         \u001b[0mself\u001b[0m\u001b[1;33m.\u001b[0m\u001b[0msim\u001b[0m \u001b[1;33m=\u001b[0m \u001b[0mself\u001b[0m\u001b[1;33m.\u001b[0m\u001b[0mcompute_similarities\u001b[0m\u001b[1;33m(\u001b[0m\u001b[1;33m)\u001b[0m\u001b[1;33m\u001b[0m\u001b[1;33m\u001b[0m\u001b[0m\n\u001b[0m\u001b[0;32m    179\u001b[0m \u001b[1;33m\u001b[0m\u001b[0m\n\u001b[0;32m    180\u001b[0m         \u001b[0mself\u001b[0m\u001b[1;33m.\u001b[0m\u001b[0mmeans\u001b[0m \u001b[1;33m=\u001b[0m \u001b[0mnp\u001b[0m\u001b[1;33m.\u001b[0m\u001b[0mzeros\u001b[0m\u001b[1;33m(\u001b[0m\u001b[0mself\u001b[0m\u001b[1;33m.\u001b[0m\u001b[0mn_x\u001b[0m\u001b[1;33m)\u001b[0m\u001b[1;33m\u001b[0m\u001b[1;33m\u001b[0m\u001b[0m\n",
      "\u001b[1;32m~\\miniconda3\\envs\\neura\\lib\\site-packages\\surprise\\prediction_algorithms\\algo_base.py\u001b[0m in \u001b[0;36mcompute_similarities\u001b[1;34m(self)\u001b[0m\n\u001b[0;32m    247\u001b[0m             \u001b[1;32mif\u001b[0m \u001b[0mgetattr\u001b[0m\u001b[1;33m(\u001b[0m\u001b[0mself\u001b[0m\u001b[1;33m,\u001b[0m \u001b[1;34m'verbose'\u001b[0m\u001b[1;33m,\u001b[0m \u001b[1;32mFalse\u001b[0m\u001b[1;33m)\u001b[0m\u001b[1;33m:\u001b[0m\u001b[1;33m\u001b[0m\u001b[1;33m\u001b[0m\u001b[0m\n\u001b[0;32m    248\u001b[0m                 \u001b[0mprint\u001b[0m\u001b[1;33m(\u001b[0m\u001b[1;34m'Computing the {0} similarity matrix...'\u001b[0m\u001b[1;33m.\u001b[0m\u001b[0mformat\u001b[0m\u001b[1;33m(\u001b[0m\u001b[0mname\u001b[0m\u001b[1;33m)\u001b[0m\u001b[1;33m)\u001b[0m\u001b[1;33m\u001b[0m\u001b[1;33m\u001b[0m\u001b[0m\n\u001b[1;32m--> 249\u001b[1;33m             \u001b[0msim\u001b[0m \u001b[1;33m=\u001b[0m \u001b[0mconstruction_func\u001b[0m\u001b[1;33m[\u001b[0m\u001b[0mname\u001b[0m\u001b[1;33m]\u001b[0m\u001b[1;33m(\u001b[0m\u001b[1;33m*\u001b[0m\u001b[0margs\u001b[0m\u001b[1;33m)\u001b[0m\u001b[1;33m\u001b[0m\u001b[1;33m\u001b[0m\u001b[0m\n\u001b[0m\u001b[0;32m    250\u001b[0m             \u001b[1;32mif\u001b[0m \u001b[0mgetattr\u001b[0m\u001b[1;33m(\u001b[0m\u001b[0mself\u001b[0m\u001b[1;33m,\u001b[0m \u001b[1;34m'verbose'\u001b[0m\u001b[1;33m,\u001b[0m \u001b[1;32mFalse\u001b[0m\u001b[1;33m)\u001b[0m\u001b[1;33m:\u001b[0m\u001b[1;33m\u001b[0m\u001b[1;33m\u001b[0m\u001b[0m\n\u001b[0;32m    251\u001b[0m                 \u001b[0mprint\u001b[0m\u001b[1;33m(\u001b[0m\u001b[1;34m'Done computing similarity matrix.'\u001b[0m\u001b[1;33m)\u001b[0m\u001b[1;33m\u001b[0m\u001b[1;33m\u001b[0m\u001b[0m\n",
      "\u001b[1;32m~\\miniconda3\\envs\\neura\\lib\\site-packages\\surprise\\similarities.pyx\u001b[0m in \u001b[0;36msurprise.similarities.cosine\u001b[1;34m()\u001b[0m\n",
      "\u001b[1;31mMemoryError\u001b[0m: Unable to allocate 652. GiB for an array with shape (295799, 295799) and data type float64"
     ]
    }
   ],
   "source": [
    "# To use item-based cosine similarity\n",
    "sim_options = {\n",
    "    \"name\": \"cosine\",\n",
    "    \"user_based\": False,  # Compute  similarities between items\n",
    "}\n",
    "algo = KNNWithMeans(sim_options=sim_options)\n",
    "%time algo.fit(trainset)\n",
    "\n"
   ]
  },
  {
   "cell_type": "code",
   "execution_count": null,
   "metadata": {},
   "outputs": [],
   "source": [
    "# To use item-based cosine similarity\n",
    "sim_options = {\n",
    "    \"name\": \"cosine\",\n",
    "    \"user_based\": True,  # Compute  similarities between items\n",
    "}\n",
    "algo = KNNWithMeans(sim_options=sim_options)\n",
    "%time algo.fit(trainset)\n",
    "\n"
   ]
  },
  {
   "cell_type": "code",
   "execution_count": null,
   "metadata": {},
   "outputs": [],
   "source": [
    "prediction = algo.predict('E', 2) # E=user, 2=movie"
   ]
  },
  {
   "cell_type": "markdown",
   "metadata": {},
   "source": [
    "## NMF - no genre"
   ]
  },
  {
   "cell_type": "code",
   "execution_count": 9,
   "metadata": {},
   "outputs": [
    {
     "data": {
      "text/plain": [
       "<surprise.prediction_algorithms.matrix_factorization.NMF at 0x7f78b4364b10>"
      ]
     },
     "execution_count": 9,
     "metadata": {},
     "output_type": "execute_result"
    }
   ],
   "source": [
    "algo = NMF(n_factors = 16)\n",
    "%time algo.fit(trainset)"
   ]
  },
  {
   "cell_type": "code",
   "execution_count": null,
   "metadata": {},
   "outputs": [],
   "source": []
  },
  {
   "cell_type": "code",
   "execution_count": 12,
   "metadata": {},
   "outputs": [
    {
     "name": "stdout",
     "output_type": "stream",
     "text": [
      "user: 199810     item: 208019     r_ui = None   est = 9.39   {'was_impossible': False}\n",
      "user: 199810     item: 74139      r_ui = None   est = 12.98   {'was_impossible': False}\n"
     ]
    }
   ],
   "source": [
    "# with open('model.pkl') as f: \n",
    "#     alg0_NMF = pickle.load(f)   # pickling error: UnicodeDecodeError: 'utf-8' codec can't decode byte 0x80\n",
    "# test 2 predictions\n",
    "print(algo.predict('199810', '208019'))\n",
    "print(algo.predict('199810', '74139'))\n"
   ]
  },
  {
   "cell_type": "code",
   "execution_count": 22,
   "metadata": {},
   "outputs": [],
   "source": [
    "predictions = []\n",
    "with open('ee627a-2019fall/testItem2.txt') as f:\n",
    "    while True:\n",
    "        next_n_lines = list(islice(f, 7))\n",
    "        if not next_n_lines:\n",
    "            break\n",
    "        ratings = [] # reset for new user's list of songs\n",
    "        cur_set = [x.strip('\\n').split('|') for x in next_n_lines]\n",
    "        test_user = int(cur_set[0][0]) # pull user ID. don't need song count \n",
    "        for track in cur_set[1:]:\n",
    "            rating = algo.predict(str(test_user), track[0]).est\n",
    "            rating_tup = (int(track[0]), rating)\n",
    "            ratings.append(rating_tup)\n",
    "        \n",
    "        ratings.sort(key=lambda x:x[1]) # sort 6 songs by rating\n",
    "        for i, j in enumerate(ratings):\n",
    "            cur_dict = {}\n",
    "            cur_dict['TrackID'] = f'{test_user}_{j[0]}'\n",
    "            cur_dict['rating'] = j[1]\n",
    "            if i < 3:\n",
    "                cur_dict['Predictor'] = 0 \n",
    "            else:\n",
    "                cur_dict['Predictor'] = 1 \n",
    "            predictions.append(cur_dict)"
   ]
  },
  {
   "cell_type": "code",
   "execution_count": 23,
   "metadata": {},
   "outputs": [
    {
     "data": {
      "text/html": [
       "<div>\n",
       "<style scoped>\n",
       "    .dataframe tbody tr th:only-of-type {\n",
       "        vertical-align: middle;\n",
       "    }\n",
       "\n",
       "    .dataframe tbody tr th {\n",
       "        vertical-align: top;\n",
       "    }\n",
       "\n",
       "    .dataframe thead th {\n",
       "        text-align: right;\n",
       "    }\n",
       "</style>\n",
       "<table border=\"1\" class=\"dataframe\">\n",
       "  <thead>\n",
       "    <tr style=\"text-align: right;\">\n",
       "      <th></th>\n",
       "      <th>TrackID</th>\n",
       "      <th>rating</th>\n",
       "      <th>Predictor</th>\n",
       "    </tr>\n",
       "  </thead>\n",
       "  <tbody>\n",
       "    <tr>\n",
       "      <th>0</th>\n",
       "      <td>199810_242681</td>\n",
       "      <td>8.276465</td>\n",
       "      <td>0</td>\n",
       "    </tr>\n",
       "    <tr>\n",
       "      <th>1</th>\n",
       "      <td>199810_208019</td>\n",
       "      <td>9.392225</td>\n",
       "      <td>0</td>\n",
       "    </tr>\n",
       "    <tr>\n",
       "      <th>2</th>\n",
       "      <td>199810_105760</td>\n",
       "      <td>9.754371</td>\n",
       "      <td>0</td>\n",
       "    </tr>\n",
       "    <tr>\n",
       "      <th>3</th>\n",
       "      <td>199810_18515</td>\n",
       "      <td>10.584244</td>\n",
       "      <td>1</td>\n",
       "    </tr>\n",
       "    <tr>\n",
       "      <th>4</th>\n",
       "      <td>199810_9903</td>\n",
       "      <td>11.668439</td>\n",
       "      <td>1</td>\n",
       "    </tr>\n",
       "    <tr>\n",
       "      <th>...</th>\n",
       "      <td>...</td>\n",
       "      <td>...</td>\n",
       "      <td>...</td>\n",
       "    </tr>\n",
       "    <tr>\n",
       "      <th>119995</th>\n",
       "      <td>249010_110470</td>\n",
       "      <td>12.653526</td>\n",
       "      <td>0</td>\n",
       "    </tr>\n",
       "    <tr>\n",
       "      <th>119996</th>\n",
       "      <td>249010_86104</td>\n",
       "      <td>13.094187</td>\n",
       "      <td>0</td>\n",
       "    </tr>\n",
       "    <tr>\n",
       "      <th>119997</th>\n",
       "      <td>249010_72192</td>\n",
       "      <td>13.353449</td>\n",
       "      <td>1</td>\n",
       "    </tr>\n",
       "    <tr>\n",
       "      <th>119998</th>\n",
       "      <td>249010_262811</td>\n",
       "      <td>14.027582</td>\n",
       "      <td>1</td>\n",
       "    </tr>\n",
       "    <tr>\n",
       "      <th>119999</th>\n",
       "      <td>249010_293818</td>\n",
       "      <td>15.067168</td>\n",
       "      <td>1</td>\n",
       "    </tr>\n",
       "  </tbody>\n",
       "</table>\n",
       "<p>120000 rows × 3 columns</p>\n",
       "</div>"
      ],
      "text/plain": [
       "              TrackID     rating  Predictor\n",
       "0       199810_242681   8.276465          0\n",
       "1       199810_208019   9.392225          0\n",
       "2       199810_105760   9.754371          0\n",
       "3        199810_18515  10.584244          1\n",
       "4         199810_9903  11.668439          1\n",
       "...               ...        ...        ...\n",
       "119995  249010_110470  12.653526          0\n",
       "119996   249010_86104  13.094187          0\n",
       "119997   249010_72192  13.353449          1\n",
       "119998  249010_262811  14.027582          1\n",
       "119999  249010_293818  15.067168          1\n",
       "\n",
       "[120000 rows x 3 columns]"
      ]
     },
     "execution_count": 23,
     "metadata": {},
     "output_type": "execute_result"
    }
   ],
   "source": [
    "preditions_df = pd.DataFrame(predictions)\n",
    "preditions_df"
   ]
  },
  {
   "cell_type": "code",
   "execution_count": 25,
   "metadata": {},
   "outputs": [],
   "source": [
    "preditions_df[['TrackID','Predictor']].to_csv('YahooMusic_predictions-nmf-AJS.csv', index=False)"
   ]
  },
  {
   "cell_type": "markdown",
   "metadata": {},
   "source": [
    "## NMF - with genre"
   ]
  },
  {
   "cell_type": "code",
   "execution_count": 69,
   "metadata": {},
   "outputs": [
    {
     "name": "stdout",
     "output_type": "stream",
     "text": [
      "CPU times: user 8min 26s, sys: 1.51 s, total: 8min 28s\n",
      "Wall time: 8min 28s\n"
     ]
    },
    {
     "data": {
      "text/plain": [
       "<surprise.prediction_algorithms.matrix_factorization.NMF at 0x7f77db4ed8d0>"
      ]
     },
     "execution_count": 69,
     "metadata": {},
     "output_type": "execute_result"
    }
   ],
   "source": [
    "algo = NMF(n_factors = 16)\n",
    "%time algo.fit(trainsetWgenres)"
   ]
  },
  {
   "cell_type": "code",
   "execution_count": 72,
   "metadata": {},
   "outputs": [
    {
     "name": "stdout",
     "output_type": "stream",
     "text": [
      "user: 199810     item: 208019     r_ui = None   est = 9.08   {'was_impossible': False}\n",
      "user: 199810     item: 74139      r_ui = None   est = 11.57   {'was_impossible': False}\n"
     ]
    }
   ],
   "source": [
    "# with open('model.pkl') as f: \n",
    "#     alg0_NMF = pickle.load(f)   # pickling error: UnicodeDecodeError: 'utf-8' codec can't decode byte 0x80\n",
    "# test 2 predictions\n",
    "print(algo.predict('199810', 208019))\n",
    "print(algo.predict('199810', 74139))\n"
   ]
  },
  {
   "cell_type": "code",
   "execution_count": 75,
   "metadata": {},
   "outputs": [],
   "source": [
    "predictions = []\n",
    "with open('ee627a-2019fall/testItem2.txt') as f:\n",
    "    while True:\n",
    "        next_n_lines = list(islice(f, 7))\n",
    "        if not next_n_lines:\n",
    "            break\n",
    "        ratings = [] # reset for new user's list of songs\n",
    "        cur_set = [x.strip('\\n').split('|') for x in next_n_lines]\n",
    "        test_user = int(cur_set[0][0]) # pull user ID. don't need song count \n",
    "        for track in cur_set[1:]:\n",
    "            rating = algo.predict(str(test_user), int(track[0])).est\n",
    "            rating_tup = (int(track[0]), rating)\n",
    "            ratings.append(rating_tup)\n",
    "        \n",
    "        ratings.sort(key=lambda x:x[1]) # sort 6 songs by rating\n",
    "        for i, j in enumerate(ratings):\n",
    "            cur_dict = {}\n",
    "            cur_dict['TrackID'] = f'{test_user}_{j[0]}'\n",
    "            cur_dict['rating'] = j[1]\n",
    "            if i < 3:\n",
    "                cur_dict['Predictor'] = 0 \n",
    "            else:\n",
    "                cur_dict['Predictor'] = 1 \n",
    "            predictions.append(cur_dict)"
   ]
  },
  {
   "cell_type": "code",
   "execution_count": 76,
   "metadata": {},
   "outputs": [
    {
     "data": {
      "text/html": [
       "<div>\n",
       "<style scoped>\n",
       "    .dataframe tbody tr th:only-of-type {\n",
       "        vertical-align: middle;\n",
       "    }\n",
       "\n",
       "    .dataframe tbody tr th {\n",
       "        vertical-align: top;\n",
       "    }\n",
       "\n",
       "    .dataframe thead th {\n",
       "        text-align: right;\n",
       "    }\n",
       "</style>\n",
       "<table border=\"1\" class=\"dataframe\">\n",
       "  <thead>\n",
       "    <tr style=\"text-align: right;\">\n",
       "      <th></th>\n",
       "      <th>TrackID</th>\n",
       "      <th>rating</th>\n",
       "      <th>Predictor</th>\n",
       "    </tr>\n",
       "  </thead>\n",
       "  <tbody>\n",
       "    <tr>\n",
       "      <th>0</th>\n",
       "      <td>199810_242681</td>\n",
       "      <td>7.731504</td>\n",
       "      <td>0</td>\n",
       "    </tr>\n",
       "    <tr>\n",
       "      <th>1</th>\n",
       "      <td>199810_208019</td>\n",
       "      <td>9.078159</td>\n",
       "      <td>0</td>\n",
       "    </tr>\n",
       "    <tr>\n",
       "      <th>2</th>\n",
       "      <td>199810_18515</td>\n",
       "      <td>10.412370</td>\n",
       "      <td>0</td>\n",
       "    </tr>\n",
       "    <tr>\n",
       "      <th>3</th>\n",
       "      <td>199810_9903</td>\n",
       "      <td>10.933214</td>\n",
       "      <td>1</td>\n",
       "    </tr>\n",
       "    <tr>\n",
       "      <th>4</th>\n",
       "      <td>199810_105760</td>\n",
       "      <td>11.382126</td>\n",
       "      <td>1</td>\n",
       "    </tr>\n",
       "    <tr>\n",
       "      <th>...</th>\n",
       "      <td>...</td>\n",
       "      <td>...</td>\n",
       "      <td>...</td>\n",
       "    </tr>\n",
       "    <tr>\n",
       "      <th>119995</th>\n",
       "      <td>249010_186634</td>\n",
       "      <td>10.679229</td>\n",
       "      <td>0</td>\n",
       "    </tr>\n",
       "    <tr>\n",
       "      <th>119996</th>\n",
       "      <td>249010_293818</td>\n",
       "      <td>12.486086</td>\n",
       "      <td>0</td>\n",
       "    </tr>\n",
       "    <tr>\n",
       "      <th>119997</th>\n",
       "      <td>249010_110470</td>\n",
       "      <td>13.602687</td>\n",
       "      <td>1</td>\n",
       "    </tr>\n",
       "    <tr>\n",
       "      <th>119998</th>\n",
       "      <td>249010_72192</td>\n",
       "      <td>14.612461</td>\n",
       "      <td>1</td>\n",
       "    </tr>\n",
       "    <tr>\n",
       "      <th>119999</th>\n",
       "      <td>249010_262811</td>\n",
       "      <td>16.474685</td>\n",
       "      <td>1</td>\n",
       "    </tr>\n",
       "  </tbody>\n",
       "</table>\n",
       "<p>120000 rows × 3 columns</p>\n",
       "</div>"
      ],
      "text/plain": [
       "              TrackID     rating  Predictor\n",
       "0       199810_242681   7.731504          0\n",
       "1       199810_208019   9.078159          0\n",
       "2        199810_18515  10.412370          0\n",
       "3         199810_9903  10.933214          1\n",
       "4       199810_105760  11.382126          1\n",
       "...               ...        ...        ...\n",
       "119995  249010_186634  10.679229          0\n",
       "119996  249010_293818  12.486086          0\n",
       "119997  249010_110470  13.602687          1\n",
       "119998   249010_72192  14.612461          1\n",
       "119999  249010_262811  16.474685          1\n",
       "\n",
       "[120000 rows x 3 columns]"
      ]
     },
     "execution_count": 76,
     "metadata": {},
     "output_type": "execute_result"
    }
   ],
   "source": [
    "preditions_df = pd.DataFrame(predictions)\n",
    "preditions_df"
   ]
  },
  {
   "cell_type": "code",
   "execution_count": 77,
   "metadata": {},
   "outputs": [],
   "source": [
    "preditions_df[['TrackID','Predictor']].to_csv('YahooMusic_predictions-nmf-genre-AJS.csv', index=False)"
   ]
  },
  {
   "cell_type": "markdown",
   "metadata": {},
   "source": [
    "# Graveyard"
   ]
  },
  {
   "cell_type": "markdown",
   "metadata": {},
   "source": [
    "## Process for networkx"
   ]
  },
  {
   "cell_type": "code",
   "execution_count": 4,
   "metadata": {},
   "outputs": [],
   "source": [
    "df_tracks = pd.DataFrame()\n",
    "\n",
    "# process tracks data file\n",
    "for row in open('ee627a-2019fall/trackData2.txt'):\n",
    "    row = row.strip('\\n').split('|')\n",
    "    G.add_node(row[0], attr = {\"node_type\": \"track\"}) # add track node\n",
    "    G.add_edge(row[0], row[1], weight=100) # connect track to album\n",
    "    G.add_node(row[1], attr = {\"node_type\": \"album\"}) # add album node\n",
    "    G.add_node(row[2], attr = {\"node_type\": \"artist\"}) # add artist node\n",
    "    if len(row) > 3:\n",
    "        for genre in row[3:]:\n",
    "            G.add_node(genre, attr = {\"node_type\": \"genre\"}) # add genre node\n",
    "            G.add_edge(row[0], genre, weight=100) # connect each genre to the track"
   ]
  },
  {
   "cell_type": "code",
   "execution_count": 5,
   "metadata": {},
   "outputs": [],
   "source": [
    "# process albums data file\n",
    "for row in open('ee627a-2019fall/albumData2.txt'):\n",
    "    row = row.strip('\\n').split('|')\n",
    "    G.add_edge(row[0], row[1], weight=100) # connect album to artist\n",
    "    if len(row) > 2:\n",
    "        for genre in row[2:]:\n",
    "            G.add_node(genre, attr = {\"node_type\": \"genre\"}) # add genre node\n",
    "            G.add_edge(row[0], genre, weight=100) # connect each genre to the album"
   ]
  },
  {
   "cell_type": "code",
   "execution_count": 6,
   "metadata": {},
   "outputs": [],
   "source": [
    "# process training user data file\n",
    "for row in open('ee627a-2019fall/trainItem2.txt'):\n",
    "    if '|' in row:\n",
    "        cur_user = row.strip('\\n').split('|')[0] # pull user ID. don't need song count\n",
    "        G.add_node(cur_user, attr = {\"node_type\": \"user\"}) # add user node\n",
    "        continue # skip to the user's ratings\n",
    "    row = row.strip('\\n').split('\\t')\n",
    "    G.add_edge(cur_user, row[0], weight=int(row[1])) # connect user to song with rating as edge weight"
   ]
  },
  {
   "cell_type": "code",
   "execution_count": 7,
   "metadata": {},
   "outputs": [
    {
     "name": "stdout",
     "output_type": "stream",
     "text": [
      "296101\n",
      "13342506\n",
      "5\n"
     ]
    }
   ],
   "source": [
    "print(len(G.nodes))\n",
    "print(len(G.edges)) # 956820\n",
    "print(len([1 for cc in nx.connected_components(G)]))\n"
   ]
  },
  {
   "cell_type": "markdown",
   "metadata": {},
   "source": [
    "### G2 selects the largest subgraph. appears to just drop 4 disconnected nodes\n",
    "not currently needed because switched to astar, which is ok with weakly connected graphs  \n",
    "don't want to process if not necessary because the 2nd graph takes about 1.5GB of memory"
   ]
  },
  {
   "cell_type": "raw",
   "metadata": {},
   "source": [
    "# G.remove_nodes_from(nx.isolates(G))\n",
    "\n",
    "largest_component = max(nx.connected_components(G), key=len)\n",
    "\n",
    "# Create a subgraph of G consisting only of this component:\n",
    "G2 = G.subgraph(largest_component)\n",
    "\n",
    "# print(len(combs = list(combinations(list(G.nodes), 2))))"
   ]
  },
  {
   "cell_type": "raw",
   "metadata": {},
   "source": [
    "print(len(G2.nodes))\n",
    "print(len(G2.edges))\n",
    "print(len([1 for cc in nx.connected_components(G2)]))\n",
    "\n",
    "\"\"\"\n",
    "296097\n",
    "13342506\n",
    "1\n",
    "\"\"\""
   ]
  },
  {
   "cell_type": "markdown",
   "metadata": {},
   "source": [
    "### Processing attempt 1. estimated time to completion of 20 days"
   ]
  },
  {
   "cell_type": "raw",
   "metadata": {},
   "source": [
    "# process training user data file\n",
    "# astar is taking about 8-20sec per calc\n",
    "predictions = []\n",
    "with open('ee627a-2019fall/testItem2.txt') as f:\n",
    "    while True:\n",
    "        ratings = [] # reset for new user's list of songs\n",
    "        cur_set = [next(f).strip('\\n').split('|') for x in range(7)]\n",
    "        test_user = cur_set[0][0] # pull user ID. don't need song count  199810_208019\n",
    "        for song in cur_set[1:]:\n",
    "            dist=nx.astar_path_length(G, str(test_user), \\\n",
    "                                            str(song[0]), weight='weight') # distance from user to target song\n",
    "            ratings.append((f'{test_user}_{song}', dist))\n",
    "        ratings.sort(key=lambda x:x[1])\n",
    "        for i, j in enumerate(ratings):\n",
    "            cur_dict = {}\n",
    "            cur_dict['TrackID'] = f'{test_user}_{song}'\n",
    "            if i < 3:\n",
    "                cur_dict['Predictor'] = 1 # sorted ascending, smaller distance means closer & should be recommended\n",
    "            else:\n",
    "                cur_dict['Predictor'] = 0\n",
    "            predictions.append(cur_dict)\n",
    "\n",
    "\n",
    "# started at 0833\n",
    "from datetime import datetime\n",
    "\n",
    "now = datetime.now()\n",
    "\n",
    "current_time = now.strftime(\"%H:%M:%S\")\n",
    "print(\"Current Time =\", current_time)\n",
    "\n",
    "\n",
    "print(predictions)"
   ]
  },
  {
   "cell_type": "raw",
   "metadata": {},
   "source": [
    "import pickle\n",
    "\n",
    "with open('predictions.pkl', 'wb') as f:\n",
    "    pickle.dump(predictions, f)\n"
   ]
  },
  {
   "cell_type": "markdown",
   "metadata": {},
   "source": [
    "### fill in missing netowrkx preds"
   ]
  },
  {
   "cell_type": "code",
   "execution_count": null,
   "metadata": {},
   "outputs": [],
   "source": [
    "# submit to: https://www.kaggle.com/c/ee627a-2019fall/submit\n",
    "df_submission = pd.read_csv('ee627a-2019fall\\\\sample_submission.csv')\n",
    "df_submission[['user', 'track']] = df_submission['TrackID'].str.split('_', 1, expand=True)\n",
    "\n",
    "df_submission"
   ]
  },
  {
   "cell_type": "code",
   "execution_count": null,
   "metadata": {},
   "outputs": [],
   "source": [
    "### Fillin netowrkX remaining, remove dupes"
   ]
  },
  {
   "cell_type": "code",
   "execution_count": 91,
   "metadata": {},
   "outputs": [
    {
     "data": {
      "text/html": [
       "<div>\n",
       "<style scoped>\n",
       "    .dataframe tbody tr th:only-of-type {\n",
       "        vertical-align: middle;\n",
       "    }\n",
       "\n",
       "    .dataframe tbody tr th {\n",
       "        vertical-align: top;\n",
       "    }\n",
       "\n",
       "    .dataframe thead th {\n",
       "        text-align: right;\n",
       "    }\n",
       "</style>\n",
       "<table border=\"1\" class=\"dataframe\">\n",
       "  <thead>\n",
       "    <tr style=\"text-align: right;\">\n",
       "      <th></th>\n",
       "      <th>TrackID</th>\n",
       "      <th>Predictor</th>\n",
       "    </tr>\n",
       "  </thead>\n",
       "  <tbody>\n",
       "    <tr>\n",
       "      <th>0</th>\n",
       "      <td>199814_122375</td>\n",
       "      <td>1</td>\n",
       "    </tr>\n",
       "    <tr>\n",
       "      <th>1</th>\n",
       "      <td>199814_189043</td>\n",
       "      <td>1</td>\n",
       "    </tr>\n",
       "    <tr>\n",
       "      <th>2</th>\n",
       "      <td>199814_122429</td>\n",
       "      <td>1</td>\n",
       "    </tr>\n",
       "    <tr>\n",
       "      <th>3</th>\n",
       "      <td>199814_52519</td>\n",
       "      <td>0</td>\n",
       "    </tr>\n",
       "    <tr>\n",
       "      <th>4</th>\n",
       "      <td>199814_232332</td>\n",
       "      <td>0</td>\n",
       "    </tr>\n",
       "    <tr>\n",
       "      <th>...</th>\n",
       "      <td>...</td>\n",
       "      <td>...</td>\n",
       "    </tr>\n",
       "    <tr>\n",
       "      <th>15637</th>\n",
       "      <td>199814_122375</td>\n",
       "      <td>0</td>\n",
       "    </tr>\n",
       "    <tr>\n",
       "      <th>15638</th>\n",
       "      <td>199814_232332</td>\n",
       "      <td>0</td>\n",
       "    </tr>\n",
       "    <tr>\n",
       "      <th>15639</th>\n",
       "      <td>199814_52519</td>\n",
       "      <td>1</td>\n",
       "    </tr>\n",
       "    <tr>\n",
       "      <th>15640</th>\n",
       "      <td>199814_122429</td>\n",
       "      <td>1</td>\n",
       "    </tr>\n",
       "    <tr>\n",
       "      <th>15641</th>\n",
       "      <td>199814_189043</td>\n",
       "      <td>1</td>\n",
       "    </tr>\n",
       "  </tbody>\n",
       "</table>\n",
       "<p>15642 rows × 2 columns</p>\n",
       "</div>"
      ],
      "text/plain": [
       "             TrackID  Predictor\n",
       "0      199814_122375          1\n",
       "1      199814_189043          1\n",
       "2      199814_122429          1\n",
       "3       199814_52519          0\n",
       "4      199814_232332          0\n",
       "...              ...        ...\n",
       "15637  199814_122375          0\n",
       "15638  199814_232332          0\n",
       "15639   199814_52519          1\n",
       "15640  199814_122429          1\n",
       "15641  199814_189043          1\n",
       "\n",
       "[15642 rows x 2 columns]"
      ]
     },
     "execution_count": 91,
     "metadata": {},
     "output_type": "execute_result"
    }
   ],
   "source": [
    "df_networkx_preds = pd.read_csv('recommendations-combined.csv')\n",
    "df_networkx_preds"
   ]
  },
  {
   "cell_type": "code",
   "execution_count": 92,
   "metadata": {},
   "outputs": [],
   "source": [
    "df_networkx_preds.drop_duplicates(subset=['TrackID'], keep='first', inplace=True)\n"
   ]
  },
  {
   "cell_type": "code",
   "execution_count": 93,
   "metadata": {},
   "outputs": [
    {
     "data": {
      "text/html": [
       "<div>\n",
       "<style scoped>\n",
       "    .dataframe tbody tr th:only-of-type {\n",
       "        vertical-align: middle;\n",
       "    }\n",
       "\n",
       "    .dataframe tbody tr th {\n",
       "        vertical-align: top;\n",
       "    }\n",
       "\n",
       "    .dataframe thead th {\n",
       "        text-align: right;\n",
       "    }\n",
       "</style>\n",
       "<table border=\"1\" class=\"dataframe\">\n",
       "  <thead>\n",
       "    <tr style=\"text-align: right;\">\n",
       "      <th></th>\n",
       "      <th>TrackID</th>\n",
       "      <th>Predictor</th>\n",
       "    </tr>\n",
       "  </thead>\n",
       "  <tbody>\n",
       "    <tr>\n",
       "      <th>0</th>\n",
       "      <td>199814_122375</td>\n",
       "      <td>1</td>\n",
       "    </tr>\n",
       "    <tr>\n",
       "      <th>1</th>\n",
       "      <td>199814_189043</td>\n",
       "      <td>1</td>\n",
       "    </tr>\n",
       "    <tr>\n",
       "      <th>2</th>\n",
       "      <td>199814_122429</td>\n",
       "      <td>1</td>\n",
       "    </tr>\n",
       "    <tr>\n",
       "      <th>3</th>\n",
       "      <td>199814_52519</td>\n",
       "      <td>0</td>\n",
       "    </tr>\n",
       "    <tr>\n",
       "      <th>4</th>\n",
       "      <td>199814_232332</td>\n",
       "      <td>0</td>\n",
       "    </tr>\n",
       "    <tr>\n",
       "      <th>...</th>\n",
       "      <td>...</td>\n",
       "      <td>...</td>\n",
       "    </tr>\n",
       "    <tr>\n",
       "      <th>15547</th>\n",
       "      <td>206132_108120</td>\n",
       "      <td>1</td>\n",
       "    </tr>\n",
       "    <tr>\n",
       "      <th>15548</th>\n",
       "      <td>206132_261653</td>\n",
       "      <td>1</td>\n",
       "    </tr>\n",
       "    <tr>\n",
       "      <th>15549</th>\n",
       "      <td>206132_205259</td>\n",
       "      <td>0</td>\n",
       "    </tr>\n",
       "    <tr>\n",
       "      <th>15550</th>\n",
       "      <td>206132_144483</td>\n",
       "      <td>0</td>\n",
       "    </tr>\n",
       "    <tr>\n",
       "      <th>15551</th>\n",
       "      <td>206132_92449</td>\n",
       "      <td>0</td>\n",
       "    </tr>\n",
       "  </tbody>\n",
       "</table>\n",
       "<p>15552 rows × 2 columns</p>\n",
       "</div>"
      ],
      "text/plain": [
       "             TrackID  Predictor\n",
       "0      199814_122375          1\n",
       "1      199814_189043          1\n",
       "2      199814_122429          1\n",
       "3       199814_52519          0\n",
       "4      199814_232332          0\n",
       "...              ...        ...\n",
       "15547  206132_108120          1\n",
       "15548  206132_261653          1\n",
       "15549  206132_205259          0\n",
       "15550  206132_144483          0\n",
       "15551   206132_92449          0\n",
       "\n",
       "[15552 rows x 2 columns]"
      ]
     },
     "execution_count": 93,
     "metadata": {},
     "output_type": "execute_result"
    }
   ],
   "source": [
    "df_networkx_preds"
   ]
  },
  {
   "cell_type": "code",
   "execution_count": 96,
   "metadata": {},
   "outputs": [],
   "source": [
    "# exted with other predictions\n",
    "frames = [df_networkx_preds, preditions_df[['TrackID','Predictor']]]\n",
    "\n",
    "df_networkx_preds = pd.concat(frames)\n",
    "df_networkx_preds.drop_duplicates(subset=['TrackID'], keep='first', inplace=True)\n"
   ]
  },
  {
   "cell_type": "code",
   "execution_count": 98,
   "metadata": {},
   "outputs": [
    {
     "data": {
      "text/html": [
       "<div>\n",
       "<style scoped>\n",
       "    .dataframe tbody tr th:only-of-type {\n",
       "        vertical-align: middle;\n",
       "    }\n",
       "\n",
       "    .dataframe tbody tr th {\n",
       "        vertical-align: top;\n",
       "    }\n",
       "\n",
       "    .dataframe thead th {\n",
       "        text-align: right;\n",
       "    }\n",
       "</style>\n",
       "<table border=\"1\" class=\"dataframe\">\n",
       "  <thead>\n",
       "    <tr style=\"text-align: right;\">\n",
       "      <th></th>\n",
       "      <th>TrackID</th>\n",
       "      <th>Predictor</th>\n",
       "    </tr>\n",
       "  </thead>\n",
       "  <tbody>\n",
       "    <tr>\n",
       "      <th>0</th>\n",
       "      <td>199814_122375</td>\n",
       "      <td>1</td>\n",
       "    </tr>\n",
       "    <tr>\n",
       "      <th>1</th>\n",
       "      <td>199814_189043</td>\n",
       "      <td>1</td>\n",
       "    </tr>\n",
       "    <tr>\n",
       "      <th>2</th>\n",
       "      <td>199814_122429</td>\n",
       "      <td>1</td>\n",
       "    </tr>\n",
       "    <tr>\n",
       "      <th>3</th>\n",
       "      <td>199814_52519</td>\n",
       "      <td>0</td>\n",
       "    </tr>\n",
       "    <tr>\n",
       "      <th>4</th>\n",
       "      <td>199814_232332</td>\n",
       "      <td>0</td>\n",
       "    </tr>\n",
       "    <tr>\n",
       "      <th>...</th>\n",
       "      <td>...</td>\n",
       "      <td>...</td>\n",
       "    </tr>\n",
       "    <tr>\n",
       "      <th>119995</th>\n",
       "      <td>249010_186634</td>\n",
       "      <td>0</td>\n",
       "    </tr>\n",
       "    <tr>\n",
       "      <th>119996</th>\n",
       "      <td>249010_293818</td>\n",
       "      <td>0</td>\n",
       "    </tr>\n",
       "    <tr>\n",
       "      <th>119997</th>\n",
       "      <td>249010_110470</td>\n",
       "      <td>1</td>\n",
       "    </tr>\n",
       "    <tr>\n",
       "      <th>119998</th>\n",
       "      <td>249010_72192</td>\n",
       "      <td>1</td>\n",
       "    </tr>\n",
       "    <tr>\n",
       "      <th>119999</th>\n",
       "      <td>249010_262811</td>\n",
       "      <td>1</td>\n",
       "    </tr>\n",
       "  </tbody>\n",
       "</table>\n",
       "<p>120000 rows × 2 columns</p>\n",
       "</div>"
      ],
      "text/plain": [
       "              TrackID  Predictor\n",
       "0       199814_122375          1\n",
       "1       199814_189043          1\n",
       "2       199814_122429          1\n",
       "3        199814_52519          0\n",
       "4       199814_232332          0\n",
       "...               ...        ...\n",
       "119995  249010_186634          0\n",
       "119996  249010_293818          0\n",
       "119997  249010_110470          1\n",
       "119998   249010_72192          1\n",
       "119999  249010_262811          1\n",
       "\n",
       "[120000 rows x 2 columns]"
      ]
     },
     "execution_count": 98,
     "metadata": {},
     "output_type": "execute_result"
    }
   ],
   "source": [
    "df_networkx_preds"
   ]
  },
  {
   "cell_type": "code",
   "execution_count": 97,
   "metadata": {},
   "outputs": [],
   "source": [
    "df_networkx_preds.to_csv('recommendations-combined-dedup.csv', index=False)"
   ]
  },
  {
   "cell_type": "markdown",
   "metadata": {},
   "source": [
    "## lightfm"
   ]
  },
  {
   "cell_type": "code",
   "execution_count": 106,
   "metadata": {},
   "outputs": [],
   "source": [
    "from lightfm import LightFM\n",
    "from lightfm.datasets import fetch_movielens\n",
    "from lightfm.evaluation import precision_at_k\n",
    "\n",
    "# Load the MovieLens 100k dataset. Only five\n",
    "# star ratings are treated as positive.\n",
    "\n",
    "data = fetch_movielens(min_rating=5.0)\n",
    "\n",
    "# Instantiate and train the model\n",
    "model = LightFM(loss='warp')\n",
    "model.fit(data['train'], epochs=300, num_threads=8)\n",
    "\n",
    "# Evaluate the trained model\n",
    "test_precision = precision_at_k(model, data['test'], k=5).mean()\n"
   ]
  },
  {
   "cell_type": "code",
   "execution_count": 107,
   "metadata": {},
   "outputs": [
    {
     "data": {
      "text/plain": [
       "0.045706734"
      ]
     },
     "execution_count": 107,
     "metadata": {},
     "output_type": "execute_result"
    }
   ],
   "source": [
    "test_precision"
   ]
  },
  {
   "cell_type": "code",
   "execution_count": null,
   "metadata": {},
   "outputs": [],
   "source": []
  }
 ],
 "metadata": {
  "kernelspec": {
   "display_name": "Python [conda env:graph] *",
   "language": "python",
   "name": "conda-env-graph-py"
  }
 },
 "nbformat": 4,
 "nbformat_minor": 1
}
