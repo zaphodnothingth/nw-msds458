{
 "cells": [
  {
   "cell_type": "markdown",
   "metadata": {
    "id": "Cfh9kVB-rpjo"
   },
   "source": [
    "<img src=\"https://github.com/djp840/MSDS_458_Public/blob/master/images/NorthwesternHeader.png?raw=1\">"
   ]
  },
  {
   "cell_type": "markdown",
   "metadata": {
    "id": "pRAx1f1ir1St"
   },
   "source": [
    "## MSDS458 Research Assignment 3"
   ]
  },
  {
   "cell_type": "markdown",
   "metadata": {
    "id": "t-Jjr3rNr5PR"
   },
   "source": [
    "## Import packages "
   ]
  },
  {
   "cell_type": "code",
   "execution_count": 1,
   "metadata": {
    "id": "mbrX9qUZvfs1"
   },
   "outputs": [],
   "source": [
    "import datetime\n",
    "from packaging import version\n",
    "from collections import Counter\n",
    "import numpy as np\n",
    "import pandas as pd\n",
    "import time\n",
    "\n",
    "import matplotlib.pyplot as plt\n",
    "import matplotlib as mpl\n",
    "import seaborn as sns\n",
    "\n",
    "from sklearn.metrics import confusion_matrix, classification_report\n",
    "from sklearn.preprocessing import StandardScaler\n",
    "from sklearn.decomposition import PCA\n",
    "from sklearn.manifold import TSNE\n",
    "from sklearn.ensemble import RandomForestClassifier\n",
    "from sklearn.metrics import mean_squared_error as MSE\n",
    "from sklearn.metrics import accuracy_score\n",
    "\n",
    "import tensorflow as tf\n",
    "from tensorflow import keras\n",
    "import tensorflow_datasets as tfds"
   ]
  },
  {
   "cell_type": "code",
   "execution_count": 2,
   "metadata": {
    "id": "Rn-mj2I3yRRJ"
   },
   "outputs": [],
   "source": [
    "#tf.get_logger().setLevel('INFO')"
   ]
  },
  {
   "cell_type": "code",
   "execution_count": 3,
   "metadata": {
    "id": "q0H8HuzHrWwN"
   },
   "outputs": [],
   "source": [
    "%matplotlib inline\n",
    "np.set_printoptions(precision=3, suppress=True)"
   ]
  },
  {
   "cell_type": "markdown",
   "metadata": {},
   "source": [
    "### Functions For Research Assignment "
   ]
  },
  {
   "cell_type": "code",
   "execution_count": 4,
   "metadata": {},
   "outputs": [],
   "source": [
    "def print_validation_report(test_labels, predictions):\n",
    "    print(\"Classification Report\")\n",
    "    print(classification_report(test_labels, predictions))\n",
    "    print('Accuracy Score: {}'.format(accuracy_score(test_labels, predictions)))\n",
    "    print('Root Mean Square Error: {}'.format(np.sqrt(MSE(test_labels, predictions)))) "
   ]
  },
  {
   "cell_type": "code",
   "execution_count": 5,
   "metadata": {},
   "outputs": [],
   "source": [
    "def plot_confusion_matrix(y_true, y_pred):\n",
    "    mtx = confusion_matrix(y_true, y_pred)\n",
    "    fig, ax = plt.subplots(figsize=(8,8))\n",
    "    sns.heatmap(mtx, annot=True, fmt='d', linewidths=.75,  cbar=False, ax=ax,cmap='Blues',linecolor='white')\n",
    "    #  square=True,\n",
    "    plt.ylabel('true label')\n",
    "    plt.xlabel('predicted label')"
   ]
  },
  {
   "cell_type": "code",
   "execution_count": 6,
   "metadata": {},
   "outputs": [],
   "source": [
    "def plot_graphs(history, metric):\n",
    "  plt.plot(history.history[metric])\n",
    "  plt.plot(history.history['val_'+metric], '')\n",
    "  plt.xlabel(\"Epochs\")\n",
    "  plt.ylabel(metric)\n",
    "  plt.legend([metric, 'val_'+metric])"
   ]
  },
  {
   "cell_type": "code",
   "execution_count": 7,
   "metadata": {
    "colab": {
     "base_uri": "https://localhost:8080/"
    },
    "id": "VNj2HSxNtTNS",
    "outputId": "ccb05e1b-1b3b-4a1a-89c3-a48ac934bbf3",
    "scrolled": true
   },
   "outputs": [
    {
     "name": "stderr",
     "output_type": "stream",
     "text": [
      "2022-02-19 15:13:22.519288: I tensorflow/stream_executor/platform/default/dso_loader.cc:48] Successfully opened dynamic library cudart64_101.dll\n",
      "W0219 15:13:27.801972 26700 download_and_prepare.py:43] ***`tfds build` should be used instead of `download_and_prepare`.***\n"
     ]
    },
    {
     "name": "stdout",
     "output_type": "stream",
     "text": [
      "INFO[build.py]: Loading dataset ag_news_subset from imports: tensorflow_datasets.text.ag_news_subset\n",
      "INFO[dataset_info.py]: Load dataset info from C:\\Users\\steve\\tensorflow_datasets\\ag_news_subset\\1.0.0\n",
      "INFO[build.py]: download_and_prepare for dataset ag_news_subset/1.0.0...\n",
      "INFO[dataset_builder.py]: Reusing dataset ag_news_subset (C:\\Users\\steve\\tensorflow_datasets\\ag_news_subset\\1.0.0)\n",
      "INFO[build.py]: Dataset generation complete...\n",
      "\n",
      "tfds.core.DatasetInfo(\n",
      "    name='ag_news_subset',\n",
      "    full_name='ag_news_subset/1.0.0',\n",
      "    description=\"\"\"\n",
      "    AG is a collection of more than 1 million news articles.\n",
      "    News articles have been gathered from more than 2000  news sources by ComeToMyHead in more than 1 year of activity.\n",
      "    ComeToMyHead is an academic news search engine which has been running since July, 2004.\n",
      "    The dataset is provided by the academic comunity for research purposes in data mining (clustering, classification, etc),\n",
      "    information retrieval (ranking, search, etc), xml, data compression, data streaming,\n",
      "    and any other non-commercial activity.\n",
      "    For more information, please refer to the link http://www.di.unipi.it/~gulli/AG_corpus_of_news_articles.html .\n",
      "    \n",
      "    The AG's news topic classification dataset is constructed by Xiang Zhang (xiang.zhang@nyu.edu) from the dataset above.\n",
      "    It is used as a text classification benchmark in the following paper:\n",
      "    Xiang Zhang, Junbo Zhao, Yann LeCun. Character-level Convolutional Networks for Text Classification. Advances in Neural Information Processing Systems 28 (NIPS 2015).\n",
      "    \n",
      "    The AG's news topic classification dataset is constructed by choosing 4 largest classes from the original corpus.\n",
      "    Each class contains 30,000 training samples and 1,900 testing samples.\n",
      "    The total number of training samples is 120,000 and testing 7,600.\n",
      "    \"\"\",\n",
      "    homepage='https://arxiv.org/abs/1509.01626',\n",
      "    data_path='C:\\\\Users\\\\steve\\\\tensorflow_datasets\\\\ag_news_subset\\\\1.0.0',\n",
      "    download_size=11.24 MiB,\n",
      "    dataset_size=35.79 MiB,\n",
      "    features=FeaturesDict({\n",
      "        'description': Text(shape=(), dtype=tf.string),\n",
      "        'label': ClassLabel(shape=(), dtype=tf.int64, num_classes=4),\n",
      "        'title': Text(shape=(), dtype=tf.string),\n",
      "    }),\n",
      "    supervised_keys=('description', 'label'),\n",
      "    disable_shuffling=False,\n",
      "    splits={\n",
      "        'test': <SplitInfo num_examples=7600, num_shards=1>,\n",
      "        'train': <SplitInfo num_examples=120000, num_shards=1>,\n",
      "    },\n",
      "    citation=\"\"\"@misc{zhang2015characterlevel,\n",
      "        title={Character-level Convolutional Networks for Text Classification},\n",
      "        author={Xiang Zhang and Junbo Zhao and Yann LeCun},\n",
      "        year={2015},\n",
      "        eprint={1509.01626},\n",
      "        archivePrefix={arXiv},\n",
      "        primaryClass={cs.LG}\n",
      "    }\"\"\",\n",
      ")\n",
      "\n"
     ]
    }
   ],
   "source": [
    "#register  ag_news_subset so that tfds.load doesn't generate a checksum (mismatch) error\n",
    "!python -m tensorflow_datasets.scripts.download_and_prepare --register_checksums --datasets=ag_news_subset\n",
    "\n",
    "# https://www.tensorflow.org/datasets/splits\n",
    "# The full `train` and `test` splits, interleaved together.\n",
    "ri = tfds.core.ReadInstruction('train') + tfds.core.ReadInstruction('test')\n",
    "dataset_all, info = tfds.load('ag_news_subset', with_info=True,  split=ri, as_supervised=True)"
   ]
  },
  {
   "cell_type": "code",
   "execution_count": 8,
   "metadata": {
    "colab": {
     "base_uri": "https://localhost:8080/"
    },
    "id": "fRbULmnCtTXo",
    "outputId": "4bd2c2a9-b63b-49c0-80da-081818f5da54"
   },
   "outputs": [
    {
     "data": {
      "text/plain": [
       "{0: 'World', 1: 'Sports', 2: 'Business', 3: 'Sci/Tech'}"
      ]
     },
     "execution_count": 8,
     "metadata": {},
     "output_type": "execute_result"
    }
   ],
   "source": [
    "# classes dictionary\n",
    "categories =dict(enumerate(info.features[\"label\"].names))\n",
    "categories"
   ]
  },
  {
   "cell_type": "markdown",
   "metadata": {
    "id": "xXQzudk9MmOs"
   },
   "source": [
    "The 127,600 news articles are evenly distributed among the 4 categories"
   ]
  },
  {
   "cell_type": "code",
   "execution_count": 9,
   "metadata": {
    "colab": {
     "base_uri": "https://localhost:8080/"
    },
    "id": "PRtOaULstTbJ",
    "outputId": "0cb930ec-b3a5-4790-880f-94a2ac6d3169"
   },
   "outputs": [
    {
     "data": {
      "text/plain": [
       "[('Sci/Tech', 31900), ('Sports', 31900), ('Business', 31900), ('World', 31900)]"
      ]
     },
     "execution_count": 9,
     "metadata": {},
     "output_type": "execute_result"
    }
   ],
   "source": [
    "train_categories = [categories[label] for label in dataset_all.map(lambda text, label: label).as_numpy_iterator()]\n",
    "Counter(train_categories).most_common()"
   ]
  },
  {
   "cell_type": "markdown",
   "metadata": {
    "id": "aEPOPb63RNjv"
   },
   "source": [
    "### Preprocessing Data Create Input Pipeline"
   ]
  },
  {
   "cell_type": "code",
   "execution_count": 10,
   "metadata": {
    "colab": {
     "base_uri": "https://localhost:8080/"
    },
    "id": "0_tU6cH0ncl0",
    "outputId": "d5481efe-d363-49c8-f7ee-66ed1f3dd85a",
    "scrolled": true
   },
   "outputs": [
    {
     "name": "stdout",
     "output_type": "stream",
     "text": [
      "INFO[build.py]: Loading dataset ag_news_subset from imports: tensorflow_datasets.text.ag_news_subset\n",
      "INFO[dataset_info.py]: Load dataset info from C:\\Users\\steve\\tensorflow_datasets\\ag_news_subset\\1.0.0\n",
      "INFO[build.py]: download_and_prepare for dataset ag_news_subset/1.0.0...\n",
      "INFO[dataset_builder.py]: Reusing dataset ag_news_subset (C:\\Users\\steve\\tensorflow_datasets\\ag_news_subset\\1.0.0)\n",
      "INFO[build.py]: Dataset generation complete...\n",
      "\n",
      "tfds.core.DatasetInfo(\n",
      "    name='ag_news_subset',\n",
      "    full_name='ag_news_subset/1.0.0',\n",
      "    description=\"\"\"\n",
      "    AG is a collection of more than 1 million news articles.\n",
      "    News articles have been gathered from more than 2000  news sources by ComeToMyHead in more than 1 year of activity.\n",
      "    ComeToMyHead is an academic news search engine which has been running since July, 2004.\n",
      "    The dataset is provided by the academic comunity for research purposes in data mining (clustering, classification, etc),\n",
      "    information retrieval (ranking, search, etc), xml, data compression, data streaming,\n",
      "    and any other non-commercial activity.\n",
      "    For more information, please refer to the link http://www.di.unipi.it/~gulli/AG_corpus_of_news_articles.html .\n",
      "    \n",
      "    The AG's news topic classification dataset is constructed by Xiang Zhang (xiang.zhang@nyu.edu) from the dataset above.\n",
      "    It is used as a text classification benchmark in the following paper:\n",
      "    Xiang Zhang, Junbo Zhao, Yann LeCun. Character-level Convolutional Networks for Text Classification. Advances in Neural Information Processing Systems 28 (NIPS 2015).\n",
      "    \n",
      "    The AG's news topic classification dataset is constructed by choosing 4 largest classes from the original corpus.\n",
      "    Each class contains 30,000 training samples and 1,900 testing samples.\n",
      "    The total number of training samples is 120,000 and testing 7,600.\n",
      "    \"\"\",\n",
      "    homepage='https://arxiv.org/abs/1509.01626',\n",
      "    data_path='C:\\\\Users\\\\steve\\\\tensorflow_datasets\\\\ag_news_subset\\\\1.0.0',\n",
      "    download_size=11.24 MiB,\n",
      "    dataset_size=35.79 MiB,\n",
      "    features=FeaturesDict({\n",
      "        'description': Text(shape=(), dtype=tf.string),\n",
      "        'label': ClassLabel(shape=(), dtype=tf.int64, num_classes=4),\n",
      "        'title': Text(shape=(), dtype=tf.string),\n",
      "    }),\n",
      "    supervised_keys=('description', 'label'),\n",
      "    disable_shuffling=False,\n",
      "    splits={\n",
      "        'test': <SplitInfo num_examples=7600, num_shards=1>,\n",
      "        'train': <SplitInfo num_examples=120000, num_shards=1>,\n",
      "    },\n",
      "    citation=\"\"\"@misc{zhang2015characterlevel,\n",
      "        title={Character-level Convolutional Networks for Text Classification},\n",
      "        author={Xiang Zhang and Junbo Zhao and Yann LeCun},\n",
      "        year={2015},\n",
      "        eprint={1509.01626},\n",
      "        archivePrefix={arXiv},\n",
      "        primaryClass={cs.LG}\n",
      "    }\"\"\",\n",
      ")\n",
      "\n"
     ]
    },
    {
     "name": "stderr",
     "output_type": "stream",
     "text": [
      "2022-02-19 15:13:47.458667: I tensorflow/stream_executor/platform/default/dso_loader.cc:48] Successfully opened dynamic library cudart64_101.dll\n",
      "W0219 15:13:50.496142 26404 download_and_prepare.py:43] ***`tfds build` should be used instead of `download_and_prepare`.***\n"
     ]
    }
   ],
   "source": [
    "# register  ag_news_subset so that tfds.load doesn't generate a checksum (mismatch) error\n",
    "!python -m tensorflow_datasets.scripts.download_and_prepare --register_checksums --datasets=ag_news_subset\n",
    "\n",
    "# Example Approaches to Split Data Set\n",
    "# dataset, info = tfds.load('ag_news_subset', with_info=True,  split=['train[:]','test[:1000]', 'test[1000:]'],\n",
    "dataset, info = tfds.load('ag_news_subset', with_info=True,  split=['train[:95%]','train[95%:]', 'test'],\n",
    "# dataset, info = tfds.load('ag_news_subset', with_info=True,  split=['train[:114000]','train[114000:]', 'test[:]'],\n",
    "                          as_supervised=True)\n",
    "train_dataset, validation_dataset, test_dataset = dataset\n",
    "# train_dataset, test_dataset = dataset['train'],dataset['test']"
   ]
  },
  {
   "cell_type": "code",
   "execution_count": 11,
   "metadata": {
    "colab": {
     "base_uri": "https://localhost:8080/"
    },
    "id": "3TXXMh7Hdr47",
    "outputId": "8d70619b-443a-410c-f8cb-3c85c422a47f"
   },
   "outputs": [
    {
     "data": {
      "text/plain": [
       "(114000, 6000, 7600)"
      ]
     },
     "execution_count": 11,
     "metadata": {},
     "output_type": "execute_result"
    }
   ],
   "source": [
    "len(train_dataset),len(validation_dataset),len(test_dataset) \n",
    "# len(train_dataset),len(test_dataset) "
   ]
  },
  {
   "cell_type": "code",
   "execution_count": 12,
   "metadata": {
    "colab": {
     "base_uri": "https://localhost:8080/"
    },
    "id": "Itjr5Erroxv9",
    "outputId": "e428da54-6c6b-4c2f-cc4a-048e82a6c294"
   },
   "outputs": [
    {
     "data": {
      "text/plain": [
       "[('Business', 28531), ('Sports', 28495), ('World', 28491), ('Sci/Tech', 28483)]"
      ]
     },
     "execution_count": 12,
     "metadata": {},
     "output_type": "execute_result"
    }
   ],
   "source": [
    "from collections import Counter\n",
    "train_categories = [categories[label] for label in train_dataset.map(lambda text, label: label).as_numpy_iterator()]\n",
    "Counter(train_categories).most_common()"
   ]
  },
  {
   "cell_type": "markdown",
   "metadata": {
    "id": "z2qVJzcEluH_"
   },
   "source": [
    "#### Preprocessing Shuffle Data for Training and Create Batches of `(text, label)` pairs:"
   ]
  },
  {
   "cell_type": "code",
   "execution_count": 13,
   "metadata": {
    "id": "dDsCaZCDYZgm"
   },
   "outputs": [],
   "source": [
    "BUFFER_SIZE = 10000\n",
    "BATCH_SIZE = 64"
   ]
  },
  {
   "cell_type": "code",
   "execution_count": 14,
   "metadata": {
    "id": "VznrltNOnUc5"
   },
   "outputs": [],
   "source": [
    "train_dataset = train_dataset.shuffle(BUFFER_SIZE).batch(BATCH_SIZE).prefetch(tf.data.experimental.AUTOTUNE)\n",
    "validation_dataset = validation_dataset.shuffle(BUFFER_SIZE).batch(BATCH_SIZE).prefetch(tf.data.experimental.AUTOTUNE)\n",
    "test_dataset = test_dataset.batch(BATCH_SIZE).prefetch(tf.data.experimental.AUTOTUNE)"
   ]
  },
  {
   "cell_type": "markdown",
   "metadata": {
    "id": "s5eWCo88voPY"
   },
   "source": [
    "## Single Bidirectional LSTM"
   ]
  },
  {
   "cell_type": "code",
   "execution_count": 15,
   "metadata": {
    "id": "uC25Lu1Yvuqy"
   },
   "outputs": [],
   "source": [
    "VOCAB_SIZE=1000\n",
    "encoder = tf.keras.layers.experimental.preprocessing.TextVectorization(\n",
    "    max_tokens=VOCAB_SIZE)\n",
    "encoder.adapt(train_dataset.map(lambda text, label: text))"
   ]
  },
  {
   "cell_type": "code",
   "execution_count": 16,
   "metadata": {
    "colab": {
     "base_uri": "https://localhost:8080/"
    },
    "id": "s5tP4VcSkTvY",
    "outputId": "cbd87b1e-9391-48eb-eb76-495eafa35cdc"
   },
   "outputs": [
    {
     "data": {
      "text/plain": [
       "1000"
      ]
     },
     "execution_count": 16,
     "metadata": {},
     "output_type": "execute_result"
    }
   ],
   "source": [
    "vocab = np.array(encoder.get_vocabulary())\n",
    "len(vocab)"
   ]
  },
  {
   "cell_type": "markdown",
   "metadata": {
    "id": "F5cjz0bS39IN"
   },
   "source": [
    "With the default settings, the process is not completely reversible. There are three main reasons for that:\n",
    "\n",
    "1. The default value for `preprocessing.TextVectorization`'s `standardize` argument is `\"lower_and_strip_punctuation\"`.\n",
    "2. The limited vocabulary size and lack of character-based fallback results in some unknown tokens."
   ]
  },
  {
   "cell_type": "code",
   "execution_count": 17,
   "metadata": {
    "id": "LwfoBkmRYcP3"
   },
   "outputs": [],
   "source": [
    "num_classes = 4\n",
    "model = tf.keras.Sequential([\n",
    "                              encoder\n",
    "                              ,tf.keras.layers.Embedding(input_dim=len(encoder.get_vocabulary())\n",
    "                              ,output_dim=64\n",
    "                                # Use masking to handle the variable sequence lengths\n",
    "                              ,mask_zero=True)\n",
    "                              ,tf.keras.layers.Bidirectional(tf.keras.layers.LSTM(64))\n",
    "                              ,tf.keras.layers.Dense(64, activation='relu')\n",
    "                              ,tf.keras.layers.Dense(num_classes,activation='softmax')   # num_classes = 4\n",
    "])"
   ]
  },
  {
   "cell_type": "code",
   "execution_count": 18,
   "metadata": {
    "id": "ZmWbBazIDe_-"
   },
   "outputs": [],
   "source": [
    "model.compile(optimizer=tf.keras.optimizers.Adam(1e-4)\n",
    "              ,loss=tf.keras.losses.SparseCategoricalCrossentropy() # if we set from_logits=True we don not have specify a softmax activation function in the last layer\n",
    "              ,metrics=['accuracy'])"
   ]
  },
  {
   "cell_type": "code",
   "execution_count": 19,
   "metadata": {
    "colab": {
     "base_uri": "https://localhost:8080/"
    },
    "id": "hw86wWS4YgR2",
    "outputId": "ff206c6d-224d-45fa-cd65-b34113b4e45c"
   },
   "outputs": [
    {
     "name": "stdout",
     "output_type": "stream",
     "text": [
      "Epoch 1/200\n",
      "1782/1782 [==============================] - 70s 39ms/step - loss: 0.7182 - accuracy: 0.7284 - val_loss: 0.4774 - val_accuracy: 0.8372\n",
      "Epoch 2/200\n",
      "1782/1782 [==============================] - 65s 37ms/step - loss: 0.4484 - accuracy: 0.8422 - val_loss: 0.4196 - val_accuracy: 0.8557\n",
      "Epoch 3/200\n",
      "1782/1782 [==============================] - 66s 37ms/step - loss: 0.4120 - accuracy: 0.8524 - val_loss: 0.4047 - val_accuracy: 0.8565\n",
      "Epoch 4/200\n",
      "1782/1782 [==============================] - 68s 38ms/step - loss: 0.3987 - accuracy: 0.8562 - val_loss: 0.4183 - val_accuracy: 0.8510\n",
      "Epoch 5/200\n",
      "1782/1782 [==============================] - 69s 39ms/step - loss: 0.3900 - accuracy: 0.8589 - val_loss: 0.3895 - val_accuracy: 0.8613\n",
      "Epoch 6/200\n",
      "1782/1782 [==============================] - 68s 38ms/step - loss: 0.3856 - accuracy: 0.8599 - val_loss: 0.3870 - val_accuracy: 0.8642\n",
      "Epoch 7/200\n",
      "1782/1782 [==============================] - 67s 38ms/step - loss: 0.3814 - accuracy: 0.8613 - val_loss: 0.3815 - val_accuracy: 0.8657\n",
      "Epoch 8/200\n",
      "1782/1782 [==============================] - 67s 38ms/step - loss: 0.3782 - accuracy: 0.8623 - val_loss: 0.3899 - val_accuracy: 0.8602\n",
      "Epoch 9/200\n",
      "1782/1782 [==============================] - 68s 38ms/step - loss: 0.3748 - accuracy: 0.8635 - val_loss: 0.3847 - val_accuracy: 0.8648\n"
     ]
    }
   ],
   "source": [
    "history = model.fit(train_dataset\n",
    "                    ,epochs = 200\n",
    "                    ,validation_data=validation_dataset\n",
    "                    ,callbacks=[tf.keras.callbacks.EarlyStopping(monitor='val_accuracy', patience=2)]\n",
    "                    )"
   ]
  },
  {
   "cell_type": "code",
   "execution_count": 20,
   "metadata": {
    "colab": {
     "base_uri": "https://localhost:8080/"
    },
    "id": "BaNbXi43YgUT",
    "outputId": "c1c62b58-d132-4dd6-9d8e-20a1a5521151"
   },
   "outputs": [
    {
     "name": "stdout",
     "output_type": "stream",
     "text": [
      "119/119 [==============================] - 2s 19ms/step - loss: 0.4071 - accuracy: 0.8521\n",
      "Test Loss: 0.4071229100227356\n",
      "Test Accuracy: 0.8521052598953247\n"
     ]
    }
   ],
   "source": [
    "test_loss, test_acc = model.evaluate(test_dataset)\n",
    "\n",
    "print('Test Loss: {}'.format(test_loss))\n",
    "print('Test Accuracy: {}'.format(test_acc))"
   ]
  },
  {
   "cell_type": "code",
   "execution_count": 25,
   "metadata": {
    "colab": {
     "base_uri": "https://localhost:8080/"
    },
    "id": "KVd7MMCoOjMp",
    "outputId": "0469b445-4f5b-42bf-eaaf-f5b589e695f9"
   },
   "outputs": [
    {
     "name": "stdout",
     "output_type": "stream",
     "text": [
      "Model: \"sequential\"\n",
      "_________________________________________________________________\n",
      "Layer (type)                 Output Shape              Param #   \n",
      "=================================================================\n",
      "text_vectorization (TextVect (None, None)              0         \n",
      "_________________________________________________________________\n",
      "embedding (Embedding)        (None, None, 64)          64000     \n",
      "_________________________________________________________________\n",
      "bidirectional (Bidirectional (None, 128)               66048     \n",
      "_________________________________________________________________\n",
      "dense (Dense)                (None, 64)                8256      \n",
      "_________________________________________________________________\n",
      "dense_1 (Dense)              (None, 4)                 260       \n",
      "=================================================================\n",
      "Total params: 138,564\n",
      "Trainable params: 138,564\n",
      "Non-trainable params: 0\n",
      "_________________________________________________________________\n"
     ]
    }
   ],
   "source": [
    "model.summary()"
   ]
  },
  {
   "cell_type": "code",
   "execution_count": 21,
   "metadata": {
    "colab": {
     "base_uri": "https://localhost:8080/"
    },
    "id": "HzEOTxsc1JTJ",
    "outputId": "2be08095-1e09-4843-ddd0-6e489616cefd"
   },
   "outputs": [
    {
     "data": {
      "text/plain": [
       "dict_keys(['loss', 'accuracy', 'val_loss', 'val_accuracy'])"
      ]
     },
     "execution_count": 21,
     "metadata": {},
     "output_type": "execute_result"
    }
   ],
   "source": [
    "history_dict = history.history\n",
    "history_dict.keys()"
   ]
  },
  {
   "cell_type": "code",
   "execution_count": 22,
   "metadata": {
    "colab": {
     "base_uri": "https://localhost:8080/",
     "height": 206
    },
    "id": "2VV8VwoA1Je1",
    "outputId": "2ded4b6d-390e-4d12-c485-6c234cae6c2a"
   },
   "outputs": [
    {
     "data": {
      "text/html": [
       "<div>\n",
       "<style scoped>\n",
       "    .dataframe tbody tr th:only-of-type {\n",
       "        vertical-align: middle;\n",
       "    }\n",
       "\n",
       "    .dataframe tbody tr th {\n",
       "        vertical-align: top;\n",
       "    }\n",
       "\n",
       "    .dataframe thead th {\n",
       "        text-align: right;\n",
       "    }\n",
       "</style>\n",
       "<table border=\"1\" class=\"dataframe\">\n",
       "  <thead>\n",
       "    <tr style=\"text-align: right;\">\n",
       "      <th></th>\n",
       "      <th>loss</th>\n",
       "      <th>accuracy</th>\n",
       "      <th>val_loss</th>\n",
       "      <th>val_accuracy</th>\n",
       "    </tr>\n",
       "  </thead>\n",
       "  <tbody>\n",
       "    <tr>\n",
       "      <th>0</th>\n",
       "      <td>0.718</td>\n",
       "      <td>0.728</td>\n",
       "      <td>0.477</td>\n",
       "      <td>0.837</td>\n",
       "    </tr>\n",
       "    <tr>\n",
       "      <th>1</th>\n",
       "      <td>0.448</td>\n",
       "      <td>0.842</td>\n",
       "      <td>0.420</td>\n",
       "      <td>0.856</td>\n",
       "    </tr>\n",
       "    <tr>\n",
       "      <th>2</th>\n",
       "      <td>0.412</td>\n",
       "      <td>0.852</td>\n",
       "      <td>0.405</td>\n",
       "      <td>0.857</td>\n",
       "    </tr>\n",
       "    <tr>\n",
       "      <th>3</th>\n",
       "      <td>0.399</td>\n",
       "      <td>0.856</td>\n",
       "      <td>0.418</td>\n",
       "      <td>0.851</td>\n",
       "    </tr>\n",
       "    <tr>\n",
       "      <th>4</th>\n",
       "      <td>0.390</td>\n",
       "      <td>0.859</td>\n",
       "      <td>0.390</td>\n",
       "      <td>0.861</td>\n",
       "    </tr>\n",
       "    <tr>\n",
       "      <th>5</th>\n",
       "      <td>0.386</td>\n",
       "      <td>0.860</td>\n",
       "      <td>0.387</td>\n",
       "      <td>0.864</td>\n",
       "    </tr>\n",
       "    <tr>\n",
       "      <th>6</th>\n",
       "      <td>0.381</td>\n",
       "      <td>0.861</td>\n",
       "      <td>0.382</td>\n",
       "      <td>0.866</td>\n",
       "    </tr>\n",
       "    <tr>\n",
       "      <th>7</th>\n",
       "      <td>0.378</td>\n",
       "      <td>0.862</td>\n",
       "      <td>0.390</td>\n",
       "      <td>0.860</td>\n",
       "    </tr>\n",
       "    <tr>\n",
       "      <th>8</th>\n",
       "      <td>0.375</td>\n",
       "      <td>0.863</td>\n",
       "      <td>0.385</td>\n",
       "      <td>0.865</td>\n",
       "    </tr>\n",
       "  </tbody>\n",
       "</table>\n",
       "</div>"
      ],
      "text/plain": [
       "    loss  accuracy  val_loss  val_accuracy\n",
       "0  0.718     0.728     0.477         0.837\n",
       "1  0.448     0.842     0.420         0.856\n",
       "2  0.412     0.852     0.405         0.857\n",
       "3  0.399     0.856     0.418         0.851\n",
       "4  0.390     0.859     0.390         0.861\n",
       "5  0.386     0.860     0.387         0.864\n",
       "6  0.381     0.861     0.382         0.866\n",
       "7  0.378     0.862     0.390         0.860\n",
       "8  0.375     0.863     0.385         0.865"
      ]
     },
     "execution_count": 22,
     "metadata": {},
     "output_type": "execute_result"
    }
   ],
   "source": [
    "history_df=pd.DataFrame(history_dict)\n",
    "history_df.tail(10).round(3)"
   ]
  },
  {
   "cell_type": "code",
   "execution_count": 23,
   "metadata": {
    "id": "NvA2u5do1JqA"
   },
   "outputs": [],
   "source": [
    "losses = history.history['loss']\n",
    "accs = history.history['accuracy']\n",
    "val_losses = history.history['val_loss']\n",
    "val_accs = history.history['val_accuracy']\n",
    "epochs = len(losses)"
   ]
  },
  {
   "cell_type": "code",
   "execution_count": 24,
   "metadata": {
    "colab": {
     "base_uri": "https://localhost:8080/",
     "height": 265
    },
    "id": "JGoRjq2T1SUp",
    "outputId": "ba97450a-6af3-4584-8c9f-e31ad054da55",
    "scrolled": true
   },
   "outputs": [
    {
     "data": {
      "image/png": "[encoded data removed]",
      "text/plain": [
       "<Figure size 1152x288 with 2 Axes>"
      ]
     },
     "metadata": {
      "needs_background": "light"
     },
     "output_type": "display_data"
    }
   ],
   "source": [
    "plt.figure(figsize=(16, 4))\n",
    "for i, metrics in enumerate(zip([losses, accs], [val_losses, val_accs], ['Loss', 'Accuracy'])):\n",
    "    plt.subplot(1, 2, i + 1)\n",
    "    plt.plot(range(epochs), metrics[0], label='Training {}'.format(metrics[2]))\n",
    "    plt.plot(range(epochs), metrics[1], label='Validation {}'.format(metrics[2]))\n",
    "    plt.legend()\n",
    "plt.show()"
   ]
  },
  {
   "cell_type": "markdown",
   "metadata": {
    "id": "bawulBahPZQq"
   },
   "source": [
    "## Dual Bidirectional LSTM"
   ]
  },
  {
   "cell_type": "code",
   "execution_count": 26,
   "metadata": {
    "id": "jo1jjO3vn0jo"
   },
   "outputs": [],
   "source": [
    "model2 = tf.keras.Sequential([\n",
    "                              encoder\n",
    "                              ,tf.keras.layers.Embedding(len(encoder.get_vocabulary()), 64, mask_zero=True)\n",
    "                              ,tf.keras.layers.Bidirectional(tf.keras.layers.LSTM(64,  return_sequences=True))\n",
    "                              ,tf.keras.layers.Bidirectional(tf.keras.layers.LSTM(32))\n",
    "                              ,tf.keras.layers.Dense(64, activation='relu')\n",
    "                              ,tf.keras.layers.Dropout(0.5)\n",
    "                              ,tf.keras.layers.Dense(num_classes,activation='softmax')   # not binary since there are num_classes categories\n",
    "])"
   ]
  },
  {
   "cell_type": "code",
   "execution_count": 27,
   "metadata": {
    "id": "_zjWuJesR72x"
   },
   "outputs": [],
   "source": [
    "model2.compile(optimizer='adam'\n",
    "              ,loss=tf.keras.losses.SparseCategoricalCrossentropy() # if we set from_logits=True we do not have specify a softmax activation function in the last layer\n",
    "              ,metrics=['accuracy'])"
   ]
  },
  {
   "cell_type": "code",
   "execution_count": 28,
   "metadata": {
    "colab": {
     "base_uri": "https://localhost:8080/"
    },
    "id": "LeSE-YjdqAeN",
    "outputId": "065043bf-ceaf-4bad-c26a-77c41cb31bf1"
   },
   "outputs": [
    {
     "name": "stdout",
     "output_type": "stream",
     "text": [
      "Epoch 1/200\n",
      "1782/1782 [==============================] - 129s 73ms/step - loss: 0.5193 - accuracy: 0.8129 - val_loss: 0.4384 - val_accuracy: 0.8490\n",
      "Epoch 2/200\n",
      "1782/1782 [==============================] - 122s 68ms/step - loss: 0.4290 - accuracy: 0.8508 - val_loss: 0.4030 - val_accuracy: 0.8505\n",
      "Epoch 3/200\n",
      "1782/1782 [==============================] - 124s 70ms/step - loss: 0.4072 - accuracy: 0.8570 - val_loss: 0.3887 - val_accuracy: 0.8599\n",
      "Epoch 4/200\n",
      "1782/1782 [==============================] - 122s 69ms/step - loss: 0.3891 - accuracy: 0.8627 - val_loss: 0.4053 - val_accuracy: 0.8562\n",
      "Epoch 5/200\n",
      "1782/1782 [==============================] - 123s 69ms/step - loss: 0.3709 - accuracy: 0.8679 - val_loss: 0.4033 - val_accuracy: 0.8500\n"
     ]
    }
   ],
   "source": [
    "history2 = model2.fit(train_dataset\n",
    "                    ,epochs=200\n",
    "                    ,validation_data=validation_dataset\n",
    "                    ,validation_steps=30\n",
    "                    ,callbacks=[tf.keras.callbacks.EarlyStopping(monitor='val_accuracy', patience=2)]\n",
    "                    )"
   ]
  },
  {
   "cell_type": "code",
   "execution_count": 29,
   "metadata": {
    "colab": {
     "base_uri": "https://localhost:8080/"
    },
    "id": "_LdwilM1qPM3",
    "outputId": "11a6921f-8005-4429-d62e-09d4ca6a6512"
   },
   "outputs": [
    {
     "name": "stdout",
     "output_type": "stream",
     "text": [
      "119/119 [==============================] - 4s 33ms/step - loss: 0.3837 - accuracy: 0.8586\n",
      "Test Loss: 0.3836745023727417\n",
      "Test Accuracy: 0.8585526347160339\n"
     ]
    }
   ],
   "source": [
    "test_loss, test_acc = model2.evaluate(test_dataset)\n",
    "\n",
    "print('Test Loss: {}'.format(test_loss))\n",
    "print('Test Accuracy: {}'.format(test_acc))"
   ]
  },
  {
   "cell_type": "code",
   "execution_count": 38,
   "metadata": {
    "colab": {
     "base_uri": "https://localhost:8080/"
    },
    "id": "idRIHfoySu12",
    "outputId": "ed31f258-94ab-4e62-c17f-8c0f42d2ca25"
   },
   "outputs": [
    {
     "name": "stdout",
     "output_type": "stream",
     "text": [
      "Model: \"sequential_1\"\n",
      "_________________________________________________________________\n",
      "Layer (type)                 Output Shape              Param #   \n",
      "=================================================================\n",
      "text_vectorization (TextVect (None, None)              0         \n",
      "_________________________________________________________________\n",
      "embedding_1 (Embedding)      (None, None, 64)          64000     \n",
      "_________________________________________________________________\n",
      "bidirectional_1 (Bidirection (None, None, 128)         66048     \n",
      "_________________________________________________________________\n",
      "bidirectional_2 (Bidirection (None, 64)                41216     \n",
      "_________________________________________________________________\n",
      "dense_2 (Dense)              (None, 64)                4160      \n",
      "_________________________________________________________________\n",
      "dropout (Dropout)            (None, 64)                0         \n",
      "_________________________________________________________________\n",
      "dense_3 (Dense)              (None, 4)                 260       \n",
      "=================================================================\n",
      "Total params: 175,684\n",
      "Trainable params: 175,684\n",
      "Non-trainable params: 0\n",
      "_________________________________________________________________\n"
     ]
    }
   ],
   "source": [
    "model2.summary()"
   ]
  },
  {
   "cell_type": "code",
   "execution_count": 30,
   "metadata": {
    "colab": {
     "base_uri": "https://localhost:8080/"
    },
    "id": "l5Wa2bx7Suny",
    "outputId": "2d185881-ccbe-4923-e445-33c197795bf8"
   },
   "outputs": [
    {
     "data": {
      "text/plain": [
       "dict_keys(['loss', 'accuracy', 'val_loss', 'val_accuracy'])"
      ]
     },
     "execution_count": 30,
     "metadata": {},
     "output_type": "execute_result"
    }
   ],
   "source": [
    "history_dict2 = history2.history\n",
    "history_dict2.keys()"
   ]
  },
  {
   "cell_type": "code",
   "execution_count": 31,
   "metadata": {
    "colab": {
     "base_uri": "https://localhost:8080/",
     "height": 206
    },
    "id": "cwzqjLbrSurM",
    "outputId": "92494400-336c-41d5-a5fb-056d55752b5c"
   },
   "outputs": [
    {
     "data": {
      "text/html": [
       "<div>\n",
       "<style scoped>\n",
       "    .dataframe tbody tr th:only-of-type {\n",
       "        vertical-align: middle;\n",
       "    }\n",
       "\n",
       "    .dataframe tbody tr th {\n",
       "        vertical-align: top;\n",
       "    }\n",
       "\n",
       "    .dataframe thead th {\n",
       "        text-align: right;\n",
       "    }\n",
       "</style>\n",
       "<table border=\"1\" class=\"dataframe\">\n",
       "  <thead>\n",
       "    <tr style=\"text-align: right;\">\n",
       "      <th></th>\n",
       "      <th>loss</th>\n",
       "      <th>accuracy</th>\n",
       "      <th>val_loss</th>\n",
       "      <th>val_accuracy</th>\n",
       "    </tr>\n",
       "  </thead>\n",
       "  <tbody>\n",
       "    <tr>\n",
       "      <th>0</th>\n",
       "      <td>0.519</td>\n",
       "      <td>0.813</td>\n",
       "      <td>0.438</td>\n",
       "      <td>0.849</td>\n",
       "    </tr>\n",
       "    <tr>\n",
       "      <th>1</th>\n",
       "      <td>0.429</td>\n",
       "      <td>0.851</td>\n",
       "      <td>0.403</td>\n",
       "      <td>0.851</td>\n",
       "    </tr>\n",
       "    <tr>\n",
       "      <th>2</th>\n",
       "      <td>0.407</td>\n",
       "      <td>0.857</td>\n",
       "      <td>0.389</td>\n",
       "      <td>0.860</td>\n",
       "    </tr>\n",
       "    <tr>\n",
       "      <th>3</th>\n",
       "      <td>0.389</td>\n",
       "      <td>0.863</td>\n",
       "      <td>0.405</td>\n",
       "      <td>0.856</td>\n",
       "    </tr>\n",
       "    <tr>\n",
       "      <th>4</th>\n",
       "      <td>0.371</td>\n",
       "      <td>0.868</td>\n",
       "      <td>0.403</td>\n",
       "      <td>0.850</td>\n",
       "    </tr>\n",
       "  </tbody>\n",
       "</table>\n",
       "</div>"
      ],
      "text/plain": [
       "    loss  accuracy  val_loss  val_accuracy\n",
       "0  0.519     0.813     0.438         0.849\n",
       "1  0.429     0.851     0.403         0.851\n",
       "2  0.407     0.857     0.389         0.860\n",
       "3  0.389     0.863     0.405         0.856\n",
       "4  0.371     0.868     0.403         0.850"
      ]
     },
     "execution_count": 31,
     "metadata": {},
     "output_type": "execute_result"
    }
   ],
   "source": [
    "history2_df=pd.DataFrame(history_dict2)\n",
    "history2_df.tail().round(3)"
   ]
  },
  {
   "cell_type": "code",
   "execution_count": 32,
   "metadata": {
    "id": "5CrnwjN7Suu5"
   },
   "outputs": [],
   "source": [
    "losses = history2.history['loss']\n",
    "accs = history2.history['accuracy']\n",
    "val_losses = history2.history['val_loss']\n",
    "val_accs = history2.history['val_accuracy']\n",
    "epochs = len(losses)"
   ]
  },
  {
   "cell_type": "code",
   "execution_count": 33,
   "metadata": {
    "colab": {
     "base_uri": "https://localhost:8080/",
     "height": 265
    },
    "id": "Uw20TBZxSuye",
    "outputId": "e1dc3026-a47f-4e3c-c311-b0e285caf89c"
   },
   "outputs": [
    {
     "data": {
      "image/png": "[encoded data removed]",
      "text/plain": [
       "<Figure size 1152x288 with 2 Axes>"
      ]
     },
     "metadata": {
      "needs_background": "light"
     },
     "output_type": "display_data"
    }
   ],
   "source": [
    "plt.figure(figsize=(16, 4))\n",
    "for i, metrics in enumerate(zip([losses, accs], [val_losses, val_accs], ['Loss', 'Accuracy'])):\n",
    "    plt.subplot(1, 2, i + 1)\n",
    "    plt.plot(range(epochs), metrics[0], label='Training {}'.format(metrics[2]))\n",
    "    plt.plot(range(epochs), metrics[1], label='Validation {}'.format(metrics[2]))\n",
    "    plt.legend()\n",
    "plt.show()"
   ]
  },
  {
   "cell_type": "code",
   "execution_count": 34,
   "metadata": {
    "id": "TaRFsKvJyRRv"
   },
   "outputs": [],
   "source": [
    "preds = model.predict(test_dataset)"
   ]
  },
  {
   "cell_type": "code",
   "execution_count": 35,
   "metadata": {
    "colab": {
     "base_uri": "https://localhost:8080/"
    },
    "id": "38sM3BdNyRRv",
    "outputId": "224571b1-e68e-44a9-c62a-8f8073010fa9"
   },
   "outputs": [
    {
     "data": {
      "text/plain": [
       "(7600, 4)"
      ]
     },
     "execution_count": 35,
     "metadata": {},
     "output_type": "execute_result"
    }
   ],
   "source": [
    "preds.shape"
   ]
  },
  {
   "cell_type": "code",
   "execution_count": 36,
   "metadata": {
    "id": "HLEVza9CyRRw"
   },
   "outputs": [],
   "source": [
    "cm = sns.light_palette((260, 75, 60), input=\"husl\", as_cmap=True)"
   ]
  },
  {
   "cell_type": "code",
   "execution_count": 37,
   "metadata": {
    "colab": {
     "base_uri": "https://localhost:8080/",
     "height": 121
    },
    "id": "QJ4Zct-xyRRw",
    "outputId": "effd38ba-f989-4053-bee6-b5d96842e81d"
   },
   "outputs": [
    {
     "data": {
      "text/html": [
       "<style type=\"text/css\">\n",
       "#T_dcf0e_row0_col0, #T_dcf0e_row0_col2, #T_dcf0e_row0_col5, #T_dcf0e_row0_col11, #T_dcf0e_row1_col1, #T_dcf0e_row1_col2, #T_dcf0e_row1_col4, #T_dcf0e_row1_col5, #T_dcf0e_row1_col8, #T_dcf0e_row1_col9, #T_dcf0e_row1_col10, #T_dcf0e_row1_col11, #T_dcf0e_row1_col12, #T_dcf0e_row1_col13, #T_dcf0e_row1_col14, #T_dcf0e_row2_col0, #T_dcf0e_row2_col1, #T_dcf0e_row2_col3, #T_dcf0e_row2_col4, #T_dcf0e_row2_col6, #T_dcf0e_row2_col7, #T_dcf0e_row2_col10, #T_dcf0e_row2_col14, #T_dcf0e_row3_col0, #T_dcf0e_row3_col1, #T_dcf0e_row3_col3, #T_dcf0e_row3_col4, #T_dcf0e_row3_col6, #T_dcf0e_row3_col10, #T_dcf0e_row3_col14 {\n",
       "  background-color: #f0f1f2;\n",
       "  color: #000000;\n",
       "}\n",
       "#T_dcf0e_row0_col1, #T_dcf0e_row0_col4, #T_dcf0e_row0_col8, #T_dcf0e_row0_col10, #T_dcf0e_row0_col13, #T_dcf0e_row0_col14, #T_dcf0e_row1_col0, #T_dcf0e_row1_col3, #T_dcf0e_row1_col6, #T_dcf0e_row1_col7, #T_dcf0e_row2_col9, #T_dcf0e_row2_col12, #T_dcf0e_row3_col2, #T_dcf0e_row3_col5, #T_dcf0e_row3_col11 {\n",
       "  background-color: #778ce4;\n",
       "  color: #f1f1f1;\n",
       "}\n",
       "#T_dcf0e_row0_col3, #T_dcf0e_row0_col6, #T_dcf0e_row2_col11 {\n",
       "  background-color: #f0f0f2;\n",
       "  color: #000000;\n",
       "}\n",
       "#T_dcf0e_row0_col7 {\n",
       "  background-color: #c5cded;\n",
       "  color: #000000;\n",
       "}\n",
       "#T_dcf0e_row0_col9 {\n",
       "  background-color: #edeef2;\n",
       "  color: #000000;\n",
       "}\n",
       "#T_dcf0e_row0_col12, #T_dcf0e_row2_col8, #T_dcf0e_row3_col12 {\n",
       "  background-color: #eff0f2;\n",
       "  color: #000000;\n",
       "}\n",
       "#T_dcf0e_row2_col2, #T_dcf0e_row3_col7 {\n",
       "  background-color: #e6e8f1;\n",
       "  color: #000000;\n",
       "}\n",
       "#T_dcf0e_row2_col5 {\n",
       "  background-color: #e2e5f0;\n",
       "  color: #000000;\n",
       "}\n",
       "#T_dcf0e_row2_col13 {\n",
       "  background-color: #efeff2;\n",
       "  color: #000000;\n",
       "}\n",
       "#T_dcf0e_row3_col8 {\n",
       "  background-color: #e8e9f1;\n",
       "  color: #000000;\n",
       "}\n",
       "#T_dcf0e_row3_col9 {\n",
       "  background-color: #dadef0;\n",
       "  color: #000000;\n",
       "}\n",
       "#T_dcf0e_row3_col13 {\n",
       "  background-color: #e8eaf1;\n",
       "  color: #000000;\n",
       "}\n",
       "</style>\n",
       "<table id=\"T_dcf0e_\">\n",
       "  <thead>\n",
       "    <tr>\n",
       "      <th class=\"blank level0\" >&nbsp;</th>\n",
       "      <th class=\"col_heading level0 col0\" >0</th>\n",
       "      <th class=\"col_heading level0 col1\" >1</th>\n",
       "      <th class=\"col_heading level0 col2\" >2</th>\n",
       "      <th class=\"col_heading level0 col3\" >3</th>\n",
       "      <th class=\"col_heading level0 col4\" >4</th>\n",
       "      <th class=\"col_heading level0 col5\" >5</th>\n",
       "      <th class=\"col_heading level0 col6\" >6</th>\n",
       "      <th class=\"col_heading level0 col7\" >7</th>\n",
       "      <th class=\"col_heading level0 col8\" >8</th>\n",
       "      <th class=\"col_heading level0 col9\" >9</th>\n",
       "      <th class=\"col_heading level0 col10\" >10</th>\n",
       "      <th class=\"col_heading level0 col11\" >11</th>\n",
       "      <th class=\"col_heading level0 col12\" >12</th>\n",
       "      <th class=\"col_heading level0 col13\" >13</th>\n",
       "      <th class=\"col_heading level0 col14\" >14</th>\n",
       "    </tr>\n",
       "  </thead>\n",
       "  <tbody>\n",
       "    <tr>\n",
       "      <th id=\"T_dcf0e_level0_row0\" class=\"row_heading level0 row0\" >World</th>\n",
       "      <td id=\"T_dcf0e_row0_col0\" class=\"data row0 col0\" >0.53%</td>\n",
       "      <td id=\"T_dcf0e_row0_col1\" class=\"data row0 col1\" >99.96%</td>\n",
       "      <td id=\"T_dcf0e_row0_col2\" class=\"data row0 col2\" >0.11%</td>\n",
       "      <td id=\"T_dcf0e_row0_col3\" class=\"data row0 col3\" >0.71%</td>\n",
       "      <td id=\"T_dcf0e_row0_col4\" class=\"data row0 col4\" >99.77%</td>\n",
       "      <td id=\"T_dcf0e_row0_col5\" class=\"data row0 col5\" >0.33%</td>\n",
       "      <td id=\"T_dcf0e_row0_col6\" class=\"data row0 col6\" >0.73%</td>\n",
       "      <td id=\"T_dcf0e_row0_col7\" class=\"data row0 col7\" >24.90%</td>\n",
       "      <td id=\"T_dcf0e_row0_col8\" class=\"data row0 col8\" >92.09%</td>\n",
       "      <td id=\"T_dcf0e_row0_col9\" class=\"data row0 col9\" >2.16%</td>\n",
       "      <td id=\"T_dcf0e_row0_col10\" class=\"data row0 col10\" >99.99%</td>\n",
       "      <td id=\"T_dcf0e_row0_col11\" class=\"data row0 col11\" >0.23%</td>\n",
       "      <td id=\"T_dcf0e_row0_col12\" class=\"data row0 col12\" >0.85%</td>\n",
       "      <td id=\"T_dcf0e_row0_col13\" class=\"data row0 col13\" >88.44%</td>\n",
       "      <td id=\"T_dcf0e_row0_col14\" class=\"data row0 col14\" >99.82%</td>\n",
       "    </tr>\n",
       "    <tr>\n",
       "      <th id=\"T_dcf0e_level0_row1\" class=\"row_heading level0 row1\" >Sports</th>\n",
       "      <td id=\"T_dcf0e_row1_col0\" class=\"data row1 col0\" >99.17%</td>\n",
       "      <td id=\"T_dcf0e_row1_col1\" class=\"data row1 col1\" >0.00%</td>\n",
       "      <td id=\"T_dcf0e_row1_col2\" class=\"data row1 col2\" >0.00%</td>\n",
       "      <td id=\"T_dcf0e_row1_col3\" class=\"data row1 col3\" >99.11%</td>\n",
       "      <td id=\"T_dcf0e_row1_col4\" class=\"data row1 col4\" >0.00%</td>\n",
       "      <td id=\"T_dcf0e_row1_col5\" class=\"data row1 col5\" >0.06%</td>\n",
       "      <td id=\"T_dcf0e_row1_col6\" class=\"data row1 col6\" >98.99%</td>\n",
       "      <td id=\"T_dcf0e_row1_col7\" class=\"data row1 col7\" >68.86%</td>\n",
       "      <td id=\"T_dcf0e_row1_col8\" class=\"data row1 col8\" >0.10%</td>\n",
       "      <td id=\"T_dcf0e_row1_col9\" class=\"data row1 col9\" >0.01%</td>\n",
       "      <td id=\"T_dcf0e_row1_col10\" class=\"data row1 col10\" >0.00%</td>\n",
       "      <td id=\"T_dcf0e_row1_col11\" class=\"data row1 col11\" >0.59%</td>\n",
       "      <td id=\"T_dcf0e_row1_col12\" class=\"data row1 col12\" >0.00%</td>\n",
       "      <td id=\"T_dcf0e_row1_col13\" class=\"data row1 col13\" >1.40%</td>\n",
       "      <td id=\"T_dcf0e_row1_col14\" class=\"data row1 col14\" >0.00%</td>\n",
       "    </tr>\n",
       "    <tr>\n",
       "      <th id=\"T_dcf0e_level0_row2\" class=\"row_heading level0 row2\" >Business</th>\n",
       "      <td id=\"T_dcf0e_row2_col0\" class=\"data row2 col0\" >0.16%</td>\n",
       "      <td id=\"T_dcf0e_row2_col1\" class=\"data row2 col1\" >0.03%</td>\n",
       "      <td id=\"T_dcf0e_row2_col2\" class=\"data row2 col2\" >7.65%</td>\n",
       "      <td id=\"T_dcf0e_row2_col3\" class=\"data row2 col3\" >0.07%</td>\n",
       "      <td id=\"T_dcf0e_row2_col4\" class=\"data row2 col4\" >0.05%</td>\n",
       "      <td id=\"T_dcf0e_row2_col5\" class=\"data row2 col5\" >10.76%</td>\n",
       "      <td id=\"T_dcf0e_row2_col6\" class=\"data row2 col6\" >0.05%</td>\n",
       "      <td id=\"T_dcf0e_row2_col7\" class=\"data row2 col7\" >0.29%</td>\n",
       "      <td id=\"T_dcf0e_row2_col8\" class=\"data row2 col8\" >0.94%</td>\n",
       "      <td id=\"T_dcf0e_row2_col9\" class=\"data row2 col9\" >82.40%</td>\n",
       "      <td id=\"T_dcf0e_row2_col10\" class=\"data row2 col10\" >0.01%</td>\n",
       "      <td id=\"T_dcf0e_row2_col11\" class=\"data row2 col11\" >0.77%</td>\n",
       "      <td id=\"T_dcf0e_row2_col12\" class=\"data row2 col12\" >98.28%</td>\n",
       "      <td id=\"T_dcf0e_row2_col13\" class=\"data row2 col13\" >2.71%</td>\n",
       "      <td id=\"T_dcf0e_row2_col14\" class=\"data row2 col14\" >0.05%</td>\n",
       "    </tr>\n",
       "    <tr>\n",
       "      <th id=\"T_dcf0e_level0_row3\" class=\"row_heading level0 row3\" >Sci/Tech</th>\n",
       "      <td id=\"T_dcf0e_row3_col0\" class=\"data row3 col0\" >0.14%</td>\n",
       "      <td id=\"T_dcf0e_row3_col1\" class=\"data row3 col1\" >0.01%</td>\n",
       "      <td id=\"T_dcf0e_row3_col2\" class=\"data row3 col2\" >92.23%</td>\n",
       "      <td id=\"T_dcf0e_row3_col3\" class=\"data row3 col3\" >0.11%</td>\n",
       "      <td id=\"T_dcf0e_row3_col4\" class=\"data row3 col4\" >0.17%</td>\n",
       "      <td id=\"T_dcf0e_row3_col5\" class=\"data row3 col5\" >88.85%</td>\n",
       "      <td id=\"T_dcf0e_row3_col6\" class=\"data row3 col6\" >0.22%</td>\n",
       "      <td id=\"T_dcf0e_row3_col7\" class=\"data row3 col7\" >5.96%</td>\n",
       "      <td id=\"T_dcf0e_row3_col8\" class=\"data row3 col8\" >6.87%</td>\n",
       "      <td id=\"T_dcf0e_row3_col9\" class=\"data row3 col9\" >15.43%</td>\n",
       "      <td id=\"T_dcf0e_row3_col10\" class=\"data row3 col10\" >0.00%</td>\n",
       "      <td id=\"T_dcf0e_row3_col11\" class=\"data row3 col11\" >98.41%</td>\n",
       "      <td id=\"T_dcf0e_row3_col12\" class=\"data row3 col12\" >0.86%</td>\n",
       "      <td id=\"T_dcf0e_row3_col13\" class=\"data row3 col13\" >7.45%</td>\n",
       "      <td id=\"T_dcf0e_row3_col14\" class=\"data row3 col14\" >0.13%</td>\n",
       "    </tr>\n",
       "  </tbody>\n",
       "</table>\n"
      ],
      "text/plain": [
       "<pandas.io.formats.style.Styler at 0x2cc11a000c8>"
      ]
     },
     "execution_count": 37,
     "metadata": {},
     "output_type": "execute_result"
    }
   ],
   "source": [
    "df = pd.DataFrame(preds[0:15]\n",
    "                  ,columns = ['World','Sports','Business','Sci/Tech']).T\n",
    "df.style.format(\"{:.2%}\").background_gradient(cmap=cm)"
   ]
  },
  {
   "cell_type": "markdown",
   "metadata": {},
   "source": [
    "### Experiment B: single unidirectional lstm"
   ]
  },
  {
   "cell_type": "code",
   "execution_count": 40,
   "metadata": {},
   "outputs": [],
   "source": [
    "start_time = time.time()\n",
    "\n",
    "VOCAB_SIZE=1000\n",
    "encoder_a2 = tf.keras.layers.experimental.preprocessing.TextVectorization(\n",
    "    max_tokens=VOCAB_SIZE)\n",
    "encoder_a2.adapt(train_dataset.map(lambda text, label: text))\n",
    "vocab_a2 = np.array(encoder_a2.get_vocabulary())\n",
    "\n",
    "num_classes = 4\n",
    "\n",
    "model_a2 = tf.keras.Sequential([\n",
    "                              encoder_a2\n",
    "                              ,tf.keras.layers.Embedding(input_dim=len(encoder_a2.get_vocabulary())\n",
    "                              ,output_dim=64\n",
    "                                # Use masking to handle the variable sequence lengths\n",
    "                              ,mask_zero=True)\n",
    "                              ,tf.keras.layers.LSTM(64)\n",
    "                              ,tf.keras.layers.Dense(64, activation='relu')\n",
    "                              ,tf.keras.layers.Dense(num_classes,activation='softmax')   # num_classes = 4\n",
    "])\n",
    "model_a2.compile(optimizer=tf.keras.optimizers.Adam(1e-4)\n",
    "              ,loss=tf.keras.losses.SparseCategoricalCrossentropy() # if we set from_logits=True we don not have specify a softmax activation function in the last layer\n",
    "              ,metrics=['accuracy'])"
   ]
  },
  {
   "cell_type": "code",
   "execution_count": 41,
   "metadata": {},
   "outputs": [
    {
     "name": "stdout",
     "output_type": "stream",
     "text": [
      "Epoch 1/200\n",
      "1782/1782 [==============================] - 42s 24ms/step - loss: 0.9691 - accuracy: 0.5322 - val_loss: 0.7093 - val_accuracy: 0.7275\n",
      "Epoch 2/200\n",
      "1782/1782 [==============================] - 40s 23ms/step - loss: 0.5543 - accuracy: 0.7979 - val_loss: 0.4777 - val_accuracy: 0.8345\n",
      "Epoch 3/200\n",
      "1782/1782 [==============================] - 39s 22ms/step - loss: 0.4640 - accuracy: 0.8351 - val_loss: 0.4430 - val_accuracy: 0.8440\n",
      "Epoch 4/200\n",
      "1782/1782 [==============================] - 40s 22ms/step - loss: 0.4372 - accuracy: 0.8443 - val_loss: 0.4197 - val_accuracy: 0.8515\n",
      "Epoch 5/200\n",
      "1782/1782 [==============================] - 40s 22ms/step - loss: 0.4152 - accuracy: 0.8521 - val_loss: 0.4076 - val_accuracy: 0.8573\n",
      "Epoch 6/200\n",
      "1782/1782 [==============================] - 41s 23ms/step - loss: 0.4008 - accuracy: 0.8564 - val_loss: 0.4090 - val_accuracy: 0.8558\n",
      "Epoch 7/200\n",
      "1782/1782 [==============================] - 41s 23ms/step - loss: 0.3916 - accuracy: 0.8593 - val_loss: 0.3964 - val_accuracy: 0.8595\n",
      "Epoch 8/200\n",
      "1782/1782 [==============================] - 40s 23ms/step - loss: 0.3856 - accuracy: 0.8608 - val_loss: 0.3947 - val_accuracy: 0.8597\n",
      "Epoch 9/200\n",
      "1782/1782 [==============================] - 39s 22ms/step - loss: 0.3817 - accuracy: 0.8619 - val_loss: 0.3916 - val_accuracy: 0.8612\n",
      "Epoch 10/200\n",
      "1782/1782 [==============================] - 40s 22ms/step - loss: 0.3780 - accuracy: 0.8631 - val_loss: 0.3869 - val_accuracy: 0.8623\n",
      "Epoch 11/200\n",
      "1782/1782 [==============================] - 40s 22ms/step - loss: 0.3747 - accuracy: 0.8636 - val_loss: 0.3856 - val_accuracy: 0.8640\n",
      "Epoch 12/200\n",
      "1782/1782 [==============================] - 41s 23ms/step - loss: 0.3715 - accuracy: 0.8650 - val_loss: 0.3826 - val_accuracy: 0.8645\n",
      "Epoch 13/200\n",
      "1782/1782 [==============================] - 39s 22ms/step - loss: 0.3687 - accuracy: 0.8656 - val_loss: 0.3798 - val_accuracy: 0.8645\n",
      "Epoch 14/200\n",
      "1782/1782 [==============================] - 40s 22ms/step - loss: 0.3663 - accuracy: 0.8663 - val_loss: 0.3774 - val_accuracy: 0.8663\n",
      "Epoch 15/200\n",
      "1782/1782 [==============================] - 40s 23ms/step - loss: 0.3629 - accuracy: 0.8678 - val_loss: 0.3787 - val_accuracy: 0.8640\n",
      "Epoch 16/200\n",
      "1782/1782 [==============================] - 40s 23ms/step - loss: 0.3600 - accuracy: 0.8683 - val_loss: 0.3798 - val_accuracy: 0.8612\n"
     ]
    }
   ],
   "source": [
    "history_a2 = model_a2.fit(train_dataset\n",
    "                    ,epochs = 200\n",
    "                    ,validation_data=validation_dataset\n",
    "                    ,callbacks=[tf.keras.callbacks.EarlyStopping(monitor='val_accuracy', patience=2)]\n",
    "                    )"
   ]
  },
  {
   "cell_type": "code",
   "execution_count": 42,
   "metadata": {},
   "outputs": [
    {
     "name": "stdout",
     "output_type": "stream",
     "text": [
      "119/119 [==============================] - 1s 13ms/step - loss: 0.3977 - accuracy: 0.8551\n",
      "Test Loss: 0.39766037464141846\n",
      "Test Accuracy: 0.8551315665245056\n",
      "Finished model training in 656s\n"
     ]
    }
   ],
   "source": [
    "test_loss_a2, test_acc_a2 = model_a2.evaluate(test_dataset)\n",
    "\n",
    "print('Test Loss: {}'.format(test_loss_a2))\n",
    "print('Test Accuracy: {}'.format(test_acc_a2))\n",
    "\n",
    "end_time = time.time()\n",
    "second_elapsed = round(end_time - start_time)\n",
    "\n",
    "print(f'Finished model training in {second_elapsed}s')"
   ]
  },
  {
   "cell_type": "code",
   "execution_count": 43,
   "metadata": {
    "colab": {
     "base_uri": "https://localhost:8080/"
    },
    "id": "l5Wa2bx7Suny",
    "outputId": "2d185881-ccbe-4923-e445-33c197795bf8"
   },
   "outputs": [
    {
     "data": {
      "text/plain": [
       "dict_keys(['loss', 'accuracy', 'val_loss', 'val_accuracy'])"
      ]
     },
     "execution_count": 43,
     "metadata": {},
     "output_type": "execute_result"
    }
   ],
   "source": [
    "history_dict_a2 = history_a2.history\n",
    "history_dict_a2.keys()"
   ]
  },
  {
   "cell_type": "code",
   "execution_count": 44,
   "metadata": {
    "colab": {
     "base_uri": "https://localhost:8080/",
     "height": 206
    },
    "id": "cwzqjLbrSurM",
    "outputId": "92494400-336c-41d5-a5fb-056d55752b5c",
    "scrolled": true
   },
   "outputs": [
    {
     "data": {
      "text/html": [
       "<div>\n",
       "<style scoped>\n",
       "    .dataframe tbody tr th:only-of-type {\n",
       "        vertical-align: middle;\n",
       "    }\n",
       "\n",
       "    .dataframe tbody tr th {\n",
       "        vertical-align: top;\n",
       "    }\n",
       "\n",
       "    .dataframe thead th {\n",
       "        text-align: right;\n",
       "    }\n",
       "</style>\n",
       "<table border=\"1\" class=\"dataframe\">\n",
       "  <thead>\n",
       "    <tr style=\"text-align: right;\">\n",
       "      <th></th>\n",
       "      <th>loss</th>\n",
       "      <th>accuracy</th>\n",
       "      <th>val_loss</th>\n",
       "      <th>val_accuracy</th>\n",
       "    </tr>\n",
       "  </thead>\n",
       "  <tbody>\n",
       "    <tr>\n",
       "      <th>11</th>\n",
       "      <td>0.371</td>\n",
       "      <td>0.865</td>\n",
       "      <td>0.383</td>\n",
       "      <td>0.864</td>\n",
       "    </tr>\n",
       "    <tr>\n",
       "      <th>12</th>\n",
       "      <td>0.369</td>\n",
       "      <td>0.866</td>\n",
       "      <td>0.380</td>\n",
       "      <td>0.864</td>\n",
       "    </tr>\n",
       "    <tr>\n",
       "      <th>13</th>\n",
       "      <td>0.366</td>\n",
       "      <td>0.866</td>\n",
       "      <td>0.377</td>\n",
       "      <td>0.866</td>\n",
       "    </tr>\n",
       "    <tr>\n",
       "      <th>14</th>\n",
       "      <td>0.363</td>\n",
       "      <td>0.868</td>\n",
       "      <td>0.379</td>\n",
       "      <td>0.864</td>\n",
       "    </tr>\n",
       "    <tr>\n",
       "      <th>15</th>\n",
       "      <td>0.360</td>\n",
       "      <td>0.868</td>\n",
       "      <td>0.380</td>\n",
       "      <td>0.861</td>\n",
       "    </tr>\n",
       "  </tbody>\n",
       "</table>\n",
       "</div>"
      ],
      "text/plain": [
       "     loss  accuracy  val_loss  val_accuracy\n",
       "11  0.371     0.865     0.383         0.864\n",
       "12  0.369     0.866     0.380         0.864\n",
       "13  0.366     0.866     0.377         0.866\n",
       "14  0.363     0.868     0.379         0.864\n",
       "15  0.360     0.868     0.380         0.861"
      ]
     },
     "execution_count": 44,
     "metadata": {},
     "output_type": "execute_result"
    }
   ],
   "source": [
    "history_a2_df=pd.DataFrame(history_dict_a2)\n",
    "history_a2_df.tail().round(3)"
   ]
  },
  {
   "cell_type": "code",
   "execution_count": 45,
   "metadata": {
    "id": "NvA2u5do1JqA"
   },
   "outputs": [],
   "source": [
    "losses_a2 = history_a2.history['loss']\n",
    "accs_a2 = history_a2.history['accuracy']\n",
    "val_losses_a2 = history_a2.history['val_loss']\n",
    "val_accs_a2 = history_a2.history['val_accuracy']\n",
    "epochs_a2 = len(losses_a2)"
   ]
  },
  {
   "cell_type": "code",
   "execution_count": 46,
   "metadata": {
    "colab": {
     "base_uri": "https://localhost:8080/",
     "height": 265
    },
    "id": "JGoRjq2T1SUp",
    "outputId": "ba97450a-6af3-4584-8c9f-e31ad054da55",
    "scrolled": true
   },
   "outputs": [
    {
     "data": {
      "image/png": "[encoded data removed]",
      "text/plain": [
       "<Figure size 1152x288 with 2 Axes>"
      ]
     },
     "metadata": {
      "needs_background": "light"
     },
     "output_type": "display_data"
    }
   ],
   "source": [
    "plt.figure(figsize=(16, 4))\n",
    "for i, metrics in enumerate(zip([losses_a2, accs_a2], [val_losses_a2, val_accs_a2], ['Loss', 'Accuracy'])):\n",
    "    plt.subplot(1, 2, i + 1)\n",
    "    plt.plot(range(epochs_a2), metrics[0], label='Training {}'.format(metrics[2]))\n",
    "    plt.plot(range(epochs_a2), metrics[1], label='Validation {}'.format(metrics[2]))\n",
    "    plt.legend()\n",
    "plt.show()"
   ]
  },
  {
   "cell_type": "code",
   "execution_count": 47,
   "metadata": {
    "id": "TaRFsKvJyRRv"
   },
   "outputs": [],
   "source": [
    "preds_a2 = model_a2.predict(test_dataset)"
   ]
  },
  {
   "cell_type": "code",
   "execution_count": 48,
   "metadata": {
    "colab": {
     "base_uri": "https://localhost:8080/"
    },
    "id": "38sM3BdNyRRv",
    "outputId": "224571b1-e68e-44a9-c62a-8f8073010fa9"
   },
   "outputs": [
    {
     "data": {
      "text/plain": [
       "(7600, 4)"
      ]
     },
     "execution_count": 48,
     "metadata": {},
     "output_type": "execute_result"
    }
   ],
   "source": [
    "preds_a2.shape"
   ]
  },
  {
   "cell_type": "code",
   "execution_count": 49,
   "metadata": {
    "id": "HLEVza9CyRRw"
   },
   "outputs": [],
   "source": [
    "cm = sns.light_palette((260, 75, 60), input=\"husl\", as_cmap=True)"
   ]
  },
  {
   "cell_type": "code",
   "execution_count": 50,
   "metadata": {
    "colab": {
     "base_uri": "https://localhost:8080/",
     "height": 121
    },
    "id": "QJ4Zct-xyRRw",
    "outputId": "effd38ba-f989-4053-bee6-b5d96842e81d",
    "scrolled": true
   },
   "outputs": [
    {
     "data": {
      "text/html": [
       "<style type=\"text/css\">\n",
       "#T_45d15_row0_col0, #T_45d15_row0_col2, #T_45d15_row0_col11, #T_45d15_row1_col1, #T_45d15_row1_col2, #T_45d15_row1_col4, #T_45d15_row1_col5, #T_45d15_row1_col8, #T_45d15_row1_col9, #T_45d15_row1_col10, #T_45d15_row1_col11, #T_45d15_row1_col12, #T_45d15_row1_col13, #T_45d15_row1_col14, #T_45d15_row2_col0, #T_45d15_row2_col1, #T_45d15_row2_col3, #T_45d15_row2_col4, #T_45d15_row2_col6, #T_45d15_row2_col7, #T_45d15_row2_col10, #T_45d15_row2_col14, #T_45d15_row3_col0, #T_45d15_row3_col1, #T_45d15_row3_col3, #T_45d15_row3_col4, #T_45d15_row3_col6, #T_45d15_row3_col10, #T_45d15_row3_col14 {\n",
       "  background-color: #f0f1f2;\n",
       "  color: #000000;\n",
       "}\n",
       "#T_45d15_row0_col1, #T_45d15_row0_col4, #T_45d15_row0_col8, #T_45d15_row0_col10, #T_45d15_row0_col13, #T_45d15_row0_col14, #T_45d15_row1_col0, #T_45d15_row1_col3, #T_45d15_row1_col6, #T_45d15_row1_col7, #T_45d15_row2_col9, #T_45d15_row2_col12, #T_45d15_row3_col2, #T_45d15_row3_col5, #T_45d15_row3_col11 {\n",
       "  background-color: #778ce4;\n",
       "  color: #f1f1f1;\n",
       "}\n",
       "#T_45d15_row0_col3, #T_45d15_row0_col9, #T_45d15_row3_col8 {\n",
       "  background-color: #eeeff2;\n",
       "  color: #000000;\n",
       "}\n",
       "#T_45d15_row0_col5, #T_45d15_row0_col6, #T_45d15_row3_col12 {\n",
       "  background-color: #f0f0f2;\n",
       "  color: #000000;\n",
       "}\n",
       "#T_45d15_row0_col7 {\n",
       "  background-color: #e4e6f1;\n",
       "  color: #000000;\n",
       "}\n",
       "#T_45d15_row0_col12, #T_45d15_row2_col8, #T_45d15_row2_col11, #T_45d15_row2_col13, #T_45d15_row3_col7 {\n",
       "  background-color: #eff0f2;\n",
       "  color: #000000;\n",
       "}\n",
       "#T_45d15_row2_col2 {\n",
       "  background-color: #ebecf2;\n",
       "  color: #000000;\n",
       "}\n",
       "#T_45d15_row2_col5 {\n",
       "  background-color: #d8ddef;\n",
       "  color: #000000;\n",
       "}\n",
       "#T_45d15_row3_col9 {\n",
       "  background-color: #d6daef;\n",
       "  color: #000000;\n",
       "}\n",
       "#T_45d15_row3_col13 {\n",
       "  background-color: #ebedf2;\n",
       "  color: #000000;\n",
       "}\n",
       "</style>\n",
       "<table id=\"T_45d15_\">\n",
       "  <thead>\n",
       "    <tr>\n",
       "      <th class=\"blank level0\" >&nbsp;</th>\n",
       "      <th class=\"col_heading level0 col0\" >0</th>\n",
       "      <th class=\"col_heading level0 col1\" >1</th>\n",
       "      <th class=\"col_heading level0 col2\" >2</th>\n",
       "      <th class=\"col_heading level0 col3\" >3</th>\n",
       "      <th class=\"col_heading level0 col4\" >4</th>\n",
       "      <th class=\"col_heading level0 col5\" >5</th>\n",
       "      <th class=\"col_heading level0 col6\" >6</th>\n",
       "      <th class=\"col_heading level0 col7\" >7</th>\n",
       "      <th class=\"col_heading level0 col8\" >8</th>\n",
       "      <th class=\"col_heading level0 col9\" >9</th>\n",
       "      <th class=\"col_heading level0 col10\" >10</th>\n",
       "      <th class=\"col_heading level0 col11\" >11</th>\n",
       "      <th class=\"col_heading level0 col12\" >12</th>\n",
       "      <th class=\"col_heading level0 col13\" >13</th>\n",
       "      <th class=\"col_heading level0 col14\" >14</th>\n",
       "    </tr>\n",
       "  </thead>\n",
       "  <tbody>\n",
       "    <tr>\n",
       "      <th id=\"T_45d15_level0_row0\" class=\"row_heading level0 row0\" >World</th>\n",
       "      <td id=\"T_45d15_row0_col0\" class=\"data row0 col0\" >0.18%</td>\n",
       "      <td id=\"T_45d15_row0_col1\" class=\"data row0 col1\" >99.89%</td>\n",
       "      <td id=\"T_45d15_row0_col2\" class=\"data row0 col2\" >0.15%</td>\n",
       "      <td id=\"T_45d15_row0_col3\" class=\"data row0 col3\" >1.80%</td>\n",
       "      <td id=\"T_45d15_row0_col4\" class=\"data row0 col4\" >99.76%</td>\n",
       "      <td id=\"T_45d15_row0_col5\" class=\"data row0 col5\" >0.47%</td>\n",
       "      <td id=\"T_45d15_row0_col6\" class=\"data row0 col6\" >0.74%</td>\n",
       "      <td id=\"T_45d15_row0_col7\" class=\"data row0 col7\" >9.37%</td>\n",
       "      <td id=\"T_45d15_row0_col8\" class=\"data row0 col8\" >95.42%</td>\n",
       "      <td id=\"T_45d15_row0_col9\" class=\"data row0 col9\" >1.46%</td>\n",
       "      <td id=\"T_45d15_row0_col10\" class=\"data row0 col10\" >99.92%</td>\n",
       "      <td id=\"T_45d15_row0_col11\" class=\"data row0 col11\" >0.28%</td>\n",
       "      <td id=\"T_45d15_row0_col12\" class=\"data row0 col12\" >0.89%</td>\n",
       "      <td id=\"T_45d15_row0_col13\" class=\"data row0 col13\" >92.73%</td>\n",
       "      <td id=\"T_45d15_row0_col14\" class=\"data row0 col14\" >99.53%</td>\n",
       "    </tr>\n",
       "    <tr>\n",
       "      <th id=\"T_45d15_level0_row1\" class=\"row_heading level0 row1\" >Sports</th>\n",
       "      <td id=\"T_45d15_row1_col0\" class=\"data row1 col0\" >99.76%</td>\n",
       "      <td id=\"T_45d15_row1_col1\" class=\"data row1 col1\" >0.02%</td>\n",
       "      <td id=\"T_45d15_row1_col2\" class=\"data row1 col2\" >0.00%</td>\n",
       "      <td id=\"T_45d15_row1_col3\" class=\"data row1 col3\" >98.04%</td>\n",
       "      <td id=\"T_45d15_row1_col4\" class=\"data row1 col4\" >0.03%</td>\n",
       "      <td id=\"T_45d15_row1_col5\" class=\"data row1 col5\" >0.08%</td>\n",
       "      <td id=\"T_45d15_row1_col6\" class=\"data row1 col6\" >98.97%</td>\n",
       "      <td id=\"T_45d15_row1_col7\" class=\"data row1 col7\" >89.49%</td>\n",
       "      <td id=\"T_45d15_row1_col8\" class=\"data row1 col8\" >0.48%</td>\n",
       "      <td id=\"T_45d15_row1_col9\" class=\"data row1 col9\" >0.03%</td>\n",
       "      <td id=\"T_45d15_row1_col10\" class=\"data row1 col10\" >0.01%</td>\n",
       "      <td id=\"T_45d15_row1_col11\" class=\"data row1 col11\" >0.12%</td>\n",
       "      <td id=\"T_45d15_row1_col12\" class=\"data row1 col12\" >0.02%</td>\n",
       "      <td id=\"T_45d15_row1_col13\" class=\"data row1 col13\" >0.85%</td>\n",
       "      <td id=\"T_45d15_row1_col14\" class=\"data row1 col14\" >0.00%</td>\n",
       "    </tr>\n",
       "    <tr>\n",
       "      <th id=\"T_45d15_level0_row2\" class=\"row_heading level0 row2\" >Business</th>\n",
       "      <td id=\"T_45d15_row2_col0\" class=\"data row2 col0\" >0.03%</td>\n",
       "      <td id=\"T_45d15_row2_col1\" class=\"data row2 col1\" >0.06%</td>\n",
       "      <td id=\"T_45d15_row2_col2\" class=\"data row2 col2\" >4.54%</td>\n",
       "      <td id=\"T_45d15_row2_col3\" class=\"data row2 col3\" >0.08%</td>\n",
       "      <td id=\"T_45d15_row2_col4\" class=\"data row2 col4\" >0.11%</td>\n",
       "      <td id=\"T_45d15_row2_col5\" class=\"data row2 col5\" >16.38%</td>\n",
       "      <td id=\"T_45d15_row2_col6\" class=\"data row2 col6\" >0.06%</td>\n",
       "      <td id=\"T_45d15_row2_col7\" class=\"data row2 col7\" >0.15%</td>\n",
       "      <td id=\"T_45d15_row2_col8\" class=\"data row2 col8\" >1.41%</td>\n",
       "      <td id=\"T_45d15_row2_col9\" class=\"data row2 col9\" >80.72%</td>\n",
       "      <td id=\"T_45d15_row2_col10\" class=\"data row2 col10\" >0.05%</td>\n",
       "      <td id=\"T_45d15_row2_col11\" class=\"data row2 col11\" >1.05%</td>\n",
       "      <td id=\"T_45d15_row2_col12\" class=\"data row2 col12\" >98.49%</td>\n",
       "      <td id=\"T_45d15_row2_col13\" class=\"data row2 col13\" >1.92%</td>\n",
       "      <td id=\"T_45d15_row2_col14\" class=\"data row2 col14\" >0.31%</td>\n",
       "    </tr>\n",
       "    <tr>\n",
       "      <th id=\"T_45d15_level0_row3\" class=\"row_heading level0 row3\" >Sci/Tech</th>\n",
       "      <td id=\"T_45d15_row3_col0\" class=\"data row3 col0\" >0.03%</td>\n",
       "      <td id=\"T_45d15_row3_col1\" class=\"data row3 col1\" >0.03%</td>\n",
       "      <td id=\"T_45d15_row3_col2\" class=\"data row3 col2\" >95.31%</td>\n",
       "      <td id=\"T_45d15_row3_col3\" class=\"data row3 col3\" >0.09%</td>\n",
       "      <td id=\"T_45d15_row3_col4\" class=\"data row3 col4\" >0.11%</td>\n",
       "      <td id=\"T_45d15_row3_col5\" class=\"data row3 col5\" >83.07%</td>\n",
       "      <td id=\"T_45d15_row3_col6\" class=\"data row3 col6\" >0.22%</td>\n",
       "      <td id=\"T_45d15_row3_col7\" class=\"data row3 col7\" >0.99%</td>\n",
       "      <td id=\"T_45d15_row3_col8\" class=\"data row3 col8\" >2.69%</td>\n",
       "      <td id=\"T_45d15_row3_col9\" class=\"data row3 col9\" >17.79%</td>\n",
       "      <td id=\"T_45d15_row3_col10\" class=\"data row3 col10\" >0.02%</td>\n",
       "      <td id=\"T_45d15_row3_col11\" class=\"data row3 col11\" >98.55%</td>\n",
       "      <td id=\"T_45d15_row3_col12\" class=\"data row3 col12\" >0.61%</td>\n",
       "      <td id=\"T_45d15_row3_col13\" class=\"data row3 col13\" >4.50%</td>\n",
       "      <td id=\"T_45d15_row3_col14\" class=\"data row3 col14\" >0.16%</td>\n",
       "    </tr>\n",
       "  </tbody>\n",
       "</table>\n"
      ],
      "text/plain": [
       "<pandas.io.formats.style.Styler at 0x2cc22ff7848>"
      ]
     },
     "execution_count": 50,
     "metadata": {},
     "output_type": "execute_result"
    }
   ],
   "source": [
    "df = pd.DataFrame(preds_a2[0:15]\n",
    "                  ,columns = ['World','Sports','Business','Sci/Tech']).T\n",
    "df.style.format(\"{:.2%}\").background_gradient(cmap=cm)"
   ]
  },
  {
   "cell_type": "markdown",
   "metadata": {},
   "source": [
    "### dual unidirectional lstm"
   ]
  },
  {
   "cell_type": "code",
   "execution_count": 88,
   "metadata": {},
   "outputs": [],
   "source": [
    "start_time = time.time()\n",
    "\n",
    "VOCAB_SIZE=1000\n",
    "encoder_a2 = tf.keras.layers.experimental.preprocessing.TextVectorization(\n",
    "    max_tokens=VOCAB_SIZE)\n",
    "encoder_a2.adapt(train_dataset.map(lambda text, label: text))\n",
    "vocab_a2 = np.array(encoder_a2.get_vocabulary())\n",
    "\n",
    "num_classes = 4\n",
    "\n",
    "model_a2 = tf.keras.Sequential([\n",
    "                              encoder_a2\n",
    "                              ,tf.keras.layers.Embedding(input_dim=len(encoder_a2.get_vocabulary())\n",
    "                              ,output_dim=64\n",
    "                                # Use masking to handle the variable sequence lengths\n",
    "                              ,mask_zero=True)\n",
    "                              ,tf.keras.layers.LSTM(64,  return_sequences=True)\n",
    "                              ,tf.keras.layers.LSTM(32)\n",
    "                              ,tf.keras.layers.Dense(64, activation='relu')\n",
    "                              ,tf.keras.layers.Dense(num_classes,activation='softmax')   # num_classes = 4\n",
    "])\n",
    "model_a2.compile(optimizer=tf.keras.optimizers.Adam(1e-4)\n",
    "              ,loss=tf.keras.losses.SparseCategoricalCrossentropy() # if we set from_logits=True we don not have specify a softmax activation function in the last layer\n",
    "              ,metrics=['accuracy'])"
   ]
  },
  {
   "cell_type": "code",
   "execution_count": 89,
   "metadata": {
    "scrolled": false
   },
   "outputs": [
    {
     "name": "stdout",
     "output_type": "stream",
     "text": [
      "Epoch 1/200\n",
      "1782/1782 [==============================] - 68s 38ms/step - loss: 0.7947 - accuracy: 0.6507 - val_loss: 0.5011 - val_accuracy: 0.8223\n",
      "Epoch 2/200\n",
      "1782/1782 [==============================] - 67s 38ms/step - loss: 0.4794 - accuracy: 0.8281 - val_loss: 0.4621 - val_accuracy: 0.8375\n",
      "Epoch 3/200\n",
      "1782/1782 [==============================] - 66s 37ms/step - loss: 0.4531 - accuracy: 0.8372 - val_loss: 0.4601 - val_accuracy: 0.8362\n",
      "Epoch 4/200\n",
      "1782/1782 [==============================] - 66s 37ms/step - loss: 0.4323 - accuracy: 0.8452 - val_loss: 0.4333 - val_accuracy: 0.8435\n",
      "Epoch 5/200\n",
      "1782/1782 [==============================] - 66s 37ms/step - loss: 0.4121 - accuracy: 0.8516 - val_loss: 0.4113 - val_accuracy: 0.8510\n",
      "Epoch 6/200\n",
      "1782/1782 [==============================] - 66s 37ms/step - loss: 0.3986 - accuracy: 0.8561 - val_loss: 0.4018 - val_accuracy: 0.8583\n",
      "Epoch 7/200\n",
      "1782/1782 [==============================] - 65s 37ms/step - loss: 0.3922 - accuracy: 0.8581 - val_loss: 0.4014 - val_accuracy: 0.8533\n",
      "Epoch 8/200\n",
      "1782/1782 [==============================] - 69s 39ms/step - loss: 0.3871 - accuracy: 0.8602 - val_loss: 0.3948 - val_accuracy: 0.8583\n"
     ]
    }
   ],
   "source": [
    "history_a2 = model_a2.fit(train_dataset\n",
    "                    ,epochs = 200\n",
    "                    ,validation_data=validation_dataset\n",
    "                    ,callbacks=[tf.keras.callbacks.EarlyStopping(monitor='val_accuracy', patience=2)]\n",
    "                    )"
   ]
  },
  {
   "cell_type": "code",
   "execution_count": 90,
   "metadata": {},
   "outputs": [
    {
     "name": "stdout",
     "output_type": "stream",
     "text": [
      "Model: \"sequential_9\"\n",
      "_________________________________________________________________\n",
      "Layer (type)                 Output Shape              Param #   \n",
      "=================================================================\n",
      "text_vectorization_9 (TextVe (None, None)              0         \n",
      "_________________________________________________________________\n",
      "embedding_9 (Embedding)      (None, None, 64)          64000     \n",
      "_________________________________________________________________\n",
      "lstm_12 (LSTM)               (None, None, 64)          33024     \n",
      "_________________________________________________________________\n",
      "lstm_13 (LSTM)               (None, 32)                12416     \n",
      "_________________________________________________________________\n",
      "dense_18 (Dense)             (None, 64)                2112      \n",
      "_________________________________________________________________\n",
      "dense_19 (Dense)             (None, 4)                 260       \n",
      "=================================================================\n",
      "Total params: 111,812\n",
      "Trainable params: 111,812\n",
      "Non-trainable params: 0\n",
      "_________________________________________________________________\n"
     ]
    }
   ],
   "source": [
    "model_a2.summary()"
   ]
  },
  {
   "cell_type": "code",
   "execution_count": 91,
   "metadata": {},
   "outputs": [
    {
     "name": "stdout",
     "output_type": "stream",
     "text": [
      "119/119 [==============================] - 2s 19ms/step - loss: 0.4079 - accuracy: 0.8529\n",
      "Test Loss: 0.4078977704048157\n",
      "Test Accuracy: 0.8528947234153748\n",
      "Finished model training in 571s\n"
     ]
    }
   ],
   "source": [
    "test_loss_a2, test_acc_a2 = model_a2.evaluate(test_dataset)\n",
    "\n",
    "print('Test Loss: {}'.format(test_loss_a2))\n",
    "print('Test Accuracy: {}'.format(test_acc_a2))\n",
    "\n",
    "end_time = time.time()\n",
    "second_elapsed = round(end_time - start_time)\n",
    "\n",
    "print(f'Finished model training in {second_elapsed}s')"
   ]
  },
  {
   "cell_type": "code",
   "execution_count": 92,
   "metadata": {
    "colab": {
     "base_uri": "https://localhost:8080/"
    },
    "id": "l5Wa2bx7Suny",
    "outputId": "2d185881-ccbe-4923-e445-33c197795bf8"
   },
   "outputs": [
    {
     "data": {
      "text/plain": [
       "dict_keys(['loss', 'accuracy', 'val_loss', 'val_accuracy'])"
      ]
     },
     "execution_count": 92,
     "metadata": {},
     "output_type": "execute_result"
    }
   ],
   "source": [
    "history_dict_a2 = history_a2.history\n",
    "history_dict_a2.keys()"
   ]
  },
  {
   "cell_type": "code",
   "execution_count": 93,
   "metadata": {
    "colab": {
     "base_uri": "https://localhost:8080/",
     "height": 206
    },
    "id": "cwzqjLbrSurM",
    "outputId": "92494400-336c-41d5-a5fb-056d55752b5c",
    "scrolled": true
   },
   "outputs": [
    {
     "data": {
      "text/html": [
       "<div>\n",
       "<style scoped>\n",
       "    .dataframe tbody tr th:only-of-type {\n",
       "        vertical-align: middle;\n",
       "    }\n",
       "\n",
       "    .dataframe tbody tr th {\n",
       "        vertical-align: top;\n",
       "    }\n",
       "\n",
       "    .dataframe thead th {\n",
       "        text-align: right;\n",
       "    }\n",
       "</style>\n",
       "<table border=\"1\" class=\"dataframe\">\n",
       "  <thead>\n",
       "    <tr style=\"text-align: right;\">\n",
       "      <th></th>\n",
       "      <th>loss</th>\n",
       "      <th>accuracy</th>\n",
       "      <th>val_loss</th>\n",
       "      <th>val_accuracy</th>\n",
       "    </tr>\n",
       "  </thead>\n",
       "  <tbody>\n",
       "    <tr>\n",
       "      <th>3</th>\n",
       "      <td>0.432</td>\n",
       "      <td>0.845</td>\n",
       "      <td>0.433</td>\n",
       "      <td>0.844</td>\n",
       "    </tr>\n",
       "    <tr>\n",
       "      <th>4</th>\n",
       "      <td>0.412</td>\n",
       "      <td>0.852</td>\n",
       "      <td>0.411</td>\n",
       "      <td>0.851</td>\n",
       "    </tr>\n",
       "    <tr>\n",
       "      <th>5</th>\n",
       "      <td>0.399</td>\n",
       "      <td>0.856</td>\n",
       "      <td>0.402</td>\n",
       "      <td>0.858</td>\n",
       "    </tr>\n",
       "    <tr>\n",
       "      <th>6</th>\n",
       "      <td>0.392</td>\n",
       "      <td>0.858</td>\n",
       "      <td>0.401</td>\n",
       "      <td>0.853</td>\n",
       "    </tr>\n",
       "    <tr>\n",
       "      <th>7</th>\n",
       "      <td>0.387</td>\n",
       "      <td>0.860</td>\n",
       "      <td>0.395</td>\n",
       "      <td>0.858</td>\n",
       "    </tr>\n",
       "  </tbody>\n",
       "</table>\n",
       "</div>"
      ],
      "text/plain": [
       "    loss  accuracy  val_loss  val_accuracy\n",
       "3  0.432     0.845     0.433         0.844\n",
       "4  0.412     0.852     0.411         0.851\n",
       "5  0.399     0.856     0.402         0.858\n",
       "6  0.392     0.858     0.401         0.853\n",
       "7  0.387     0.860     0.395         0.858"
      ]
     },
     "execution_count": 93,
     "metadata": {},
     "output_type": "execute_result"
    }
   ],
   "source": [
    "history_a2_df=pd.DataFrame(history_dict_a2)\n",
    "history_a2_df.tail().round(3)"
   ]
  },
  {
   "cell_type": "code",
   "execution_count": 94,
   "metadata": {
    "id": "NvA2u5do1JqA"
   },
   "outputs": [],
   "source": [
    "losses_a2 = history_a2.history['loss']\n",
    "accs_a2 = history_a2.history['accuracy']\n",
    "val_losses_a2 = history_a2.history['val_loss']\n",
    "val_accs_a2 = history_a2.history['val_accuracy']\n",
    "epochs_a2 = len(losses_a2)"
   ]
  },
  {
   "cell_type": "code",
   "execution_count": 95,
   "metadata": {
    "colab": {
     "base_uri": "https://localhost:8080/",
     "height": 265
    },
    "id": "JGoRjq2T1SUp",
    "outputId": "ba97450a-6af3-4584-8c9f-e31ad054da55",
    "scrolled": true
   },
   "outputs": [
    {
     "data": {
      "image/png": "[encoded data removed]",
      "text/plain": [
       "<Figure size 1152x288 with 2 Axes>"
      ]
     },
     "metadata": {
      "needs_background": "light"
     },
     "output_type": "display_data"
    }
   ],
   "source": [
    "plt.figure(figsize=(16, 4))\n",
    "for i, metrics in enumerate(zip([losses_a2, accs_a2], [val_losses_a2, val_accs_a2], ['Loss', 'Accuracy'])):\n",
    "    plt.subplot(1, 2, i + 1)\n",
    "    plt.plot(range(epochs_a2), metrics[0], label='Training {}'.format(metrics[2]))\n",
    "    plt.plot(range(epochs_a2), metrics[1], label='Validation {}'.format(metrics[2]))\n",
    "    plt.legend()\n",
    "plt.show()"
   ]
  },
  {
   "cell_type": "code",
   "execution_count": 96,
   "metadata": {
    "id": "TaRFsKvJyRRv"
   },
   "outputs": [],
   "source": [
    "preds_a2 = model_a2.predict(test_dataset)"
   ]
  },
  {
   "cell_type": "code",
   "execution_count": 97,
   "metadata": {
    "colab": {
     "base_uri": "https://localhost:8080/"
    },
    "id": "38sM3BdNyRRv",
    "outputId": "224571b1-e68e-44a9-c62a-8f8073010fa9"
   },
   "outputs": [
    {
     "data": {
      "text/plain": [
       "(7600, 4)"
      ]
     },
     "execution_count": 97,
     "metadata": {},
     "output_type": "execute_result"
    }
   ],
   "source": [
    "preds_a2.shape"
   ]
  },
  {
   "cell_type": "code",
   "execution_count": 98,
   "metadata": {
    "id": "HLEVza9CyRRw"
   },
   "outputs": [],
   "source": [
    "cm = sns.light_palette((260, 75, 60), input=\"husl\", as_cmap=True)"
   ]
  },
  {
   "cell_type": "code",
   "execution_count": 99,
   "metadata": {
    "colab": {
     "base_uri": "https://localhost:8080/",
     "height": 121
    },
    "id": "QJ4Zct-xyRRw",
    "outputId": "effd38ba-f989-4053-bee6-b5d96842e81d",
    "scrolled": true
   },
   "outputs": [
    {
     "data": {
      "text/html": [
       "<style type=\"text/css\">\n",
       "#T_6a4d1_row0_col0, #T_6a4d1_row0_col5 {\n",
       "  background-color: #f0f0f2;\n",
       "  color: #000000;\n",
       "}\n",
       "#T_6a4d1_row0_col1, #T_6a4d1_row0_col4, #T_6a4d1_row0_col8, #T_6a4d1_row0_col10, #T_6a4d1_row0_col13, #T_6a4d1_row0_col14, #T_6a4d1_row1_col0, #T_6a4d1_row1_col3, #T_6a4d1_row1_col6, #T_6a4d1_row1_col7, #T_6a4d1_row2_col9, #T_6a4d1_row2_col12, #T_6a4d1_row3_col2, #T_6a4d1_row3_col5, #T_6a4d1_row3_col11 {\n",
       "  background-color: #778ce4;\n",
       "  color: #f1f1f1;\n",
       "}\n",
       "#T_6a4d1_row0_col2, #T_6a4d1_row0_col11, #T_6a4d1_row1_col1, #T_6a4d1_row1_col2, #T_6a4d1_row1_col4, #T_6a4d1_row1_col5, #T_6a4d1_row1_col8, #T_6a4d1_row1_col9, #T_6a4d1_row1_col10, #T_6a4d1_row1_col11, #T_6a4d1_row1_col12, #T_6a4d1_row1_col13, #T_6a4d1_row1_col14, #T_6a4d1_row2_col0, #T_6a4d1_row2_col1, #T_6a4d1_row2_col3, #T_6a4d1_row2_col4, #T_6a4d1_row2_col6, #T_6a4d1_row2_col7, #T_6a4d1_row2_col10, #T_6a4d1_row2_col14, #T_6a4d1_row3_col0, #T_6a4d1_row3_col1, #T_6a4d1_row3_col3, #T_6a4d1_row3_col4, #T_6a4d1_row3_col6, #T_6a4d1_row3_col10, #T_6a4d1_row3_col14 {\n",
       "  background-color: #f0f1f2;\n",
       "  color: #000000;\n",
       "}\n",
       "#T_6a4d1_row0_col3, #T_6a4d1_row0_col6 {\n",
       "  background-color: #eff0f2;\n",
       "  color: #000000;\n",
       "}\n",
       "#T_6a4d1_row0_col7 {\n",
       "  background-color: #d0d6ee;\n",
       "  color: #000000;\n",
       "}\n",
       "#T_6a4d1_row0_col9, #T_6a4d1_row2_col8, #T_6a4d1_row3_col7, #T_6a4d1_row3_col12 {\n",
       "  background-color: #eeeff2;\n",
       "  color: #000000;\n",
       "}\n",
       "#T_6a4d1_row0_col12, #T_6a4d1_row2_col11, #T_6a4d1_row2_col13 {\n",
       "  background-color: #efeff2;\n",
       "  color: #000000;\n",
       "}\n",
       "#T_6a4d1_row2_col2 {\n",
       "  background-color: #ebedf2;\n",
       "  color: #000000;\n",
       "}\n",
       "#T_6a4d1_row2_col5 {\n",
       "  background-color: #d7dcef;\n",
       "  color: #000000;\n",
       "}\n",
       "#T_6a4d1_row3_col8 {\n",
       "  background-color: #ebecf2;\n",
       "  color: #000000;\n",
       "}\n",
       "#T_6a4d1_row3_col9 {\n",
       "  background-color: #dce0f0;\n",
       "  color: #000000;\n",
       "}\n",
       "#T_6a4d1_row3_col13 {\n",
       "  background-color: #edeef2;\n",
       "  color: #000000;\n",
       "}\n",
       "</style>\n",
       "<table id=\"T_6a4d1_\">\n",
       "  <thead>\n",
       "    <tr>\n",
       "      <th class=\"blank level0\" >&nbsp;</th>\n",
       "      <th class=\"col_heading level0 col0\" >0</th>\n",
       "      <th class=\"col_heading level0 col1\" >1</th>\n",
       "      <th class=\"col_heading level0 col2\" >2</th>\n",
       "      <th class=\"col_heading level0 col3\" >3</th>\n",
       "      <th class=\"col_heading level0 col4\" >4</th>\n",
       "      <th class=\"col_heading level0 col5\" >5</th>\n",
       "      <th class=\"col_heading level0 col6\" >6</th>\n",
       "      <th class=\"col_heading level0 col7\" >7</th>\n",
       "      <th class=\"col_heading level0 col8\" >8</th>\n",
       "      <th class=\"col_heading level0 col9\" >9</th>\n",
       "      <th class=\"col_heading level0 col10\" >10</th>\n",
       "      <th class=\"col_heading level0 col11\" >11</th>\n",
       "      <th class=\"col_heading level0 col12\" >12</th>\n",
       "      <th class=\"col_heading level0 col13\" >13</th>\n",
       "      <th class=\"col_heading level0 col14\" >14</th>\n",
       "    </tr>\n",
       "  </thead>\n",
       "  <tbody>\n",
       "    <tr>\n",
       "      <th id=\"T_6a4d1_level0_row0\" class=\"row_heading level0 row0\" >World</th>\n",
       "      <td id=\"T_6a4d1_row0_col0\" class=\"data row0 col0\" >0.65%</td>\n",
       "      <td id=\"T_6a4d1_row0_col1\" class=\"data row0 col1\" >99.78%</td>\n",
       "      <td id=\"T_6a4d1_row0_col2\" class=\"data row0 col2\" >0.15%</td>\n",
       "      <td id=\"T_6a4d1_row0_col3\" class=\"data row0 col3\" >1.22%</td>\n",
       "      <td id=\"T_6a4d1_row0_col4\" class=\"data row0 col4\" >99.57%</td>\n",
       "      <td id=\"T_6a4d1_row0_col5\" class=\"data row0 col5\" >0.82%</td>\n",
       "      <td id=\"T_6a4d1_row0_col6\" class=\"data row0 col6\" >0.95%</td>\n",
       "      <td id=\"T_6a4d1_row0_col7\" class=\"data row0 col7\" >20.65%</td>\n",
       "      <td id=\"T_6a4d1_row0_col8\" class=\"data row0 col8\" >91.77%</td>\n",
       "      <td id=\"T_6a4d1_row0_col9\" class=\"data row0 col9\" >2.03%</td>\n",
       "      <td id=\"T_6a4d1_row0_col10\" class=\"data row0 col10\" >99.80%</td>\n",
       "      <td id=\"T_6a4d1_row0_col11\" class=\"data row0 col11\" >0.49%</td>\n",
       "      <td id=\"T_6a4d1_row0_col12\" class=\"data row0 col12\" >1.37%</td>\n",
       "      <td id=\"T_6a4d1_row0_col13\" class=\"data row0 col13\" >93.20%</td>\n",
       "      <td id=\"T_6a4d1_row0_col14\" class=\"data row0 col14\" >99.50%</td>\n",
       "    </tr>\n",
       "    <tr>\n",
       "      <th id=\"T_6a4d1_level0_row1\" class=\"row_heading level0 row1\" >Sports</th>\n",
       "      <td id=\"T_6a4d1_row1_col0\" class=\"data row1 col0\" >98.98%</td>\n",
       "      <td id=\"T_6a4d1_row1_col1\" class=\"data row1 col1\" >0.01%</td>\n",
       "      <td id=\"T_6a4d1_row1_col2\" class=\"data row1 col2\" >0.01%</td>\n",
       "      <td id=\"T_6a4d1_row1_col3\" class=\"data row1 col3\" >98.53%</td>\n",
       "      <td id=\"T_6a4d1_row1_col4\" class=\"data row1 col4\" >0.03%</td>\n",
       "      <td id=\"T_6a4d1_row1_col5\" class=\"data row1 col5\" >0.18%</td>\n",
       "      <td id=\"T_6a4d1_row1_col6\" class=\"data row1 col6\" >98.45%</td>\n",
       "      <td id=\"T_6a4d1_row1_col7\" class=\"data row1 col7\" >77.40%</td>\n",
       "      <td id=\"T_6a4d1_row1_col8\" class=\"data row1 col8\" >0.83%</td>\n",
       "      <td id=\"T_6a4d1_row1_col9\" class=\"data row1 col9\" >0.09%</td>\n",
       "      <td id=\"T_6a4d1_row1_col10\" class=\"data row1 col10\" >0.01%</td>\n",
       "      <td id=\"T_6a4d1_row1_col11\" class=\"data row1 col11\" >0.20%</td>\n",
       "      <td id=\"T_6a4d1_row1_col12\" class=\"data row1 col12\" >0.06%</td>\n",
       "      <td id=\"T_6a4d1_row1_col13\" class=\"data row1 col13\" >1.03%</td>\n",
       "      <td id=\"T_6a4d1_row1_col14\" class=\"data row1 col14\" >0.01%</td>\n",
       "    </tr>\n",
       "    <tr>\n",
       "      <th id=\"T_6a4d1_level0_row2\" class=\"row_heading level0 row2\" >Business</th>\n",
       "      <td id=\"T_6a4d1_row2_col0\" class=\"data row2 col0\" >0.17%</td>\n",
       "      <td id=\"T_6a4d1_row2_col1\" class=\"data row2 col1\" >0.15%</td>\n",
       "      <td id=\"T_6a4d1_row2_col2\" class=\"data row2 col2\" >4.04%</td>\n",
       "      <td id=\"T_6a4d1_row2_col3\" class=\"data row2 col3\" >0.10%</td>\n",
       "      <td id=\"T_6a4d1_row2_col4\" class=\"data row2 col4\" >0.24%</td>\n",
       "      <td id=\"T_6a4d1_row2_col5\" class=\"data row2 col5\" >17.14%</td>\n",
       "      <td id=\"T_6a4d1_row2_col6\" class=\"data row2 col6\" >0.16%</td>\n",
       "      <td id=\"T_6a4d1_row2_col7\" class=\"data row2 col7\" >0.31%</td>\n",
       "      <td id=\"T_6a4d1_row2_col8\" class=\"data row2 col8\" >2.61%</td>\n",
       "      <td id=\"T_6a4d1_row2_col9\" class=\"data row2 col9\" >83.78%</td>\n",
       "      <td id=\"T_6a4d1_row2_col10\" class=\"data row2 col10\" >0.14%</td>\n",
       "      <td id=\"T_6a4d1_row2_col11\" class=\"data row2 col11\" >1.39%</td>\n",
       "      <td id=\"T_6a4d1_row2_col12\" class=\"data row2 col12\" >96.83%</td>\n",
       "      <td id=\"T_6a4d1_row2_col13\" class=\"data row2 col13\" >2.20%</td>\n",
       "      <td id=\"T_6a4d1_row2_col14\" class=\"data row2 col14\" >0.32%</td>\n",
       "    </tr>\n",
       "    <tr>\n",
       "      <th id=\"T_6a4d1_level0_row3\" class=\"row_heading level0 row3\" >Sci/Tech</th>\n",
       "      <td id=\"T_6a4d1_row3_col0\" class=\"data row3 col0\" >0.20%</td>\n",
       "      <td id=\"T_6a4d1_row3_col1\" class=\"data row3 col1\" >0.05%</td>\n",
       "      <td id=\"T_6a4d1_row3_col2\" class=\"data row3 col2\" >95.80%</td>\n",
       "      <td id=\"T_6a4d1_row3_col3\" class=\"data row3 col3\" >0.15%</td>\n",
       "      <td id=\"T_6a4d1_row3_col4\" class=\"data row3 col4\" >0.16%</td>\n",
       "      <td id=\"T_6a4d1_row3_col5\" class=\"data row3 col5\" >81.86%</td>\n",
       "      <td id=\"T_6a4d1_row3_col6\" class=\"data row3 col6\" >0.45%</td>\n",
       "      <td id=\"T_6a4d1_row3_col7\" class=\"data row3 col7\" >1.64%</td>\n",
       "      <td id=\"T_6a4d1_row3_col8\" class=\"data row3 col8\" >4.79%</td>\n",
       "      <td id=\"T_6a4d1_row3_col9\" class=\"data row3 col9\" >14.09%</td>\n",
       "      <td id=\"T_6a4d1_row3_col10\" class=\"data row3 col10\" >0.05%</td>\n",
       "      <td id=\"T_6a4d1_row3_col11\" class=\"data row3 col11\" >97.93%</td>\n",
       "      <td id=\"T_6a4d1_row3_col12\" class=\"data row3 col12\" >1.75%</td>\n",
       "      <td id=\"T_6a4d1_row3_col13\" class=\"data row3 col13\" >3.58%</td>\n",
       "      <td id=\"T_6a4d1_row3_col14\" class=\"data row3 col14\" >0.16%</td>\n",
       "    </tr>\n",
       "  </tbody>\n",
       "</table>\n"
      ],
      "text/plain": [
       "<pandas.io.formats.style.Styler at 0x2cc9a930ec8>"
      ]
     },
     "execution_count": 99,
     "metadata": {},
     "output_type": "execute_result"
    }
   ],
   "source": [
    "df = pd.DataFrame(preds_a2[0:15]\n",
    "                  ,columns = ['World','Sports','Business','Sci/Tech']).T\n",
    "df.style.format(\"{:.2%}\").background_gradient(cmap=cm)"
   ]
  },
  {
   "cell_type": "markdown",
   "metadata": {},
   "source": [
    "### Single Unidirectional GRU"
   ]
  },
  {
   "cell_type": "code",
   "execution_count": 100,
   "metadata": {},
   "outputs": [],
   "source": [
    "encoder_a3 = tf.keras.layers.experimental.preprocessing.TextVectorization(\n",
    "    max_tokens=VOCAB_SIZE)\n",
    "encoder_a3.adapt(train_dataset.map(lambda text, label: text))\n",
    "vocab_a3 = np.array(encoder_a3.get_vocabulary())\n"
   ]
  },
  {
   "cell_type": "code",
   "execution_count": 101,
   "metadata": {},
   "outputs": [
    {
     "name": "stdout",
     "output_type": "stream",
     "text": [
      "WARNING:tensorflow:Layer gru will not use cuDNN kernel since it doesn't meet the cuDNN kernel criteria. It will use generic GPU kernel as fallback when running on GPU\n"
     ]
    },
    {
     "name": "stderr",
     "output_type": "stream",
     "text": [
      "WARNING:tensorflow:Layer gru will not use cuDNN kernel since it doesn't meet the cuDNN kernel criteria. It will use generic GPU kernel as fallback when running on GPU\n"
     ]
    }
   ],
   "source": [
    "start_time = time.time()\n",
    "\n",
    "VOCAB_SIZE=3000\n",
    "encoder_a3 = tf.keras.layers.experimental.preprocessing.TextVectorization(\n",
    "    max_tokens=VOCAB_SIZE)\n",
    "encoder_a3.adapt(train_dataset.map(lambda text, label: text))\n",
    "vocab_a3 = np.array(encoder_a3.get_vocabulary())\n",
    "\n",
    "num_classes = 4\n",
    "\n",
    "model_a3 = tf.keras.Sequential([\n",
    "                              encoder_a3\n",
    "                              ,tf.keras.layers.Embedding(input_dim=len(encoder_a3.get_vocabulary())\n",
    "                              ,output_dim=64\n",
    "                                # Use masking to handle the variable sequence lengths\n",
    "                              ,mask_zero=True)\n",
    "                              ,tf.keras.layers.GRU(64, dropout=0.2, recurrent_dropout=0.2)\n",
    "                              ,tf.keras.layers.Dense(64, activation='relu')\n",
    "                              ,tf.keras.layers.Dense(num_classes,activation='softmax')   # num_classes = 4\n",
    "])\n",
    "model_a3.compile(optimizer=tf.keras.optimizers.Adam(1e-4)\n",
    "              ,loss=tf.keras.losses.SparseCategoricalCrossentropy() # if we set from_logits=True we don not have specify a softmax activation function in the last layer\n",
    "              ,metrics=['accuracy'])"
   ]
  },
  {
   "cell_type": "code",
   "execution_count": 102,
   "metadata": {},
   "outputs": [
    {
     "name": "stdout",
     "output_type": "stream",
     "text": [
      "Epoch 1/200\n",
      "1782/1782 [==============================] - 816s 458ms/step - loss: 0.9049 - accuracy: 0.5881 - val_loss: 0.5481 - val_accuracy: 0.8038\n",
      "Epoch 2/200\n",
      "1782/1782 [==============================] - 812s 456ms/step - loss: 0.4337 - accuracy: 0.8473 - val_loss: 0.3831 - val_accuracy: 0.8693\n",
      "Epoch 3/200\n",
      "1782/1782 [==============================] - 813s 456ms/step - loss: 0.3779 - accuracy: 0.8702 - val_loss: 0.3673 - val_accuracy: 0.8740\n",
      "Epoch 4/200\n",
      "1782/1782 [==============================] - 817s 459ms/step - loss: 0.3610 - accuracy: 0.8777 - val_loss: 0.3618 - val_accuracy: 0.8773\n",
      "Epoch 5/200\n",
      "1782/1782 [==============================] - 809s 454ms/step - loss: 0.3522 - accuracy: 0.8791 - val_loss: 0.3593 - val_accuracy: 0.8772\n",
      "Epoch 6/200\n",
      "1782/1782 [==============================] - 798s 448ms/step - loss: 0.3431 - accuracy: 0.8821 - val_loss: 0.3582 - val_accuracy: 0.8783\n",
      "Epoch 7/200\n",
      "1782/1782 [==============================] - 793s 445ms/step - loss: 0.3362 - accuracy: 0.8853 - val_loss: 0.3573 - val_accuracy: 0.8770\n",
      "Epoch 8/200\n",
      "1782/1782 [==============================] - 814s 457ms/step - loss: 0.3301 - accuracy: 0.8867 - val_loss: 0.3577 - val_accuracy: 0.8778\n",
      "Finished model training in 6483s\n"
     ]
    }
   ],
   "source": [
    "history_a3 = model_a3.fit(train_dataset\n",
    "                    ,epochs = 200\n",
    "                    ,validation_data=validation_dataset\n",
    "                    ,callbacks=[tf.keras.callbacks.EarlyStopping(monitor='val_accuracy', patience=2)]\n",
    "                    )\n",
    "end_time = time.time()\n",
    "second_elapsed = round(end_time - start_time)\n",
    "\n",
    "print(f'Finished model training in {second_elapsed}s')"
   ]
  },
  {
   "cell_type": "code",
   "execution_count": 103,
   "metadata": {},
   "outputs": [
    {
     "name": "stdout",
     "output_type": "stream",
     "text": [
      "119/119 [==============================] - 7s 62ms/step - loss: 0.3652 - accuracy: 0.8753\n",
      "Test Loss: 0.3651569187641144\n",
      "Test Accuracy: 0.8752631545066833\n"
     ]
    }
   ],
   "source": [
    "test_loss_a3, test_acc_a3 = model_a3.evaluate(test_dataset)\n",
    "print('Test Loss: {}'.format(test_loss_a3))\n",
    "print('Test Accuracy: {}'.format(test_acc_a3))\n"
   ]
  },
  {
   "cell_type": "code",
   "execution_count": 104,
   "metadata": {
    "colab": {
     "base_uri": "https://localhost:8080/"
    },
    "id": "l5Wa2bx7Suny",
    "outputId": "2d185881-ccbe-4923-e445-33c197795bf8"
   },
   "outputs": [
    {
     "data": {
      "text/plain": [
       "dict_keys(['loss', 'accuracy', 'val_loss', 'val_accuracy'])"
      ]
     },
     "execution_count": 104,
     "metadata": {},
     "output_type": "execute_result"
    }
   ],
   "source": [
    "history_dict_a3 = history_a3.history\n",
    "history_dict_a3.keys()"
   ]
  },
  {
   "cell_type": "code",
   "execution_count": 105,
   "metadata": {
    "colab": {
     "base_uri": "https://localhost:8080/",
     "height": 206
    },
    "id": "cwzqjLbrSurM",
    "outputId": "92494400-336c-41d5-a5fb-056d55752b5c",
    "scrolled": true
   },
   "outputs": [
    {
     "data": {
      "text/html": [
       "<div>\n",
       "<style scoped>\n",
       "    .dataframe tbody tr th:only-of-type {\n",
       "        vertical-align: middle;\n",
       "    }\n",
       "\n",
       "    .dataframe tbody tr th {\n",
       "        vertical-align: top;\n",
       "    }\n",
       "\n",
       "    .dataframe thead th {\n",
       "        text-align: right;\n",
       "    }\n",
       "</style>\n",
       "<table border=\"1\" class=\"dataframe\">\n",
       "  <thead>\n",
       "    <tr style=\"text-align: right;\">\n",
       "      <th></th>\n",
       "      <th>loss</th>\n",
       "      <th>accuracy</th>\n",
       "      <th>val_loss</th>\n",
       "      <th>val_accuracy</th>\n",
       "    </tr>\n",
       "  </thead>\n",
       "  <tbody>\n",
       "    <tr>\n",
       "      <th>3</th>\n",
       "      <td>0.361</td>\n",
       "      <td>0.878</td>\n",
       "      <td>0.362</td>\n",
       "      <td>0.877</td>\n",
       "    </tr>\n",
       "    <tr>\n",
       "      <th>4</th>\n",
       "      <td>0.352</td>\n",
       "      <td>0.879</td>\n",
       "      <td>0.359</td>\n",
       "      <td>0.877</td>\n",
       "    </tr>\n",
       "    <tr>\n",
       "      <th>5</th>\n",
       "      <td>0.343</td>\n",
       "      <td>0.882</td>\n",
       "      <td>0.358</td>\n",
       "      <td>0.878</td>\n",
       "    </tr>\n",
       "    <tr>\n",
       "      <th>6</th>\n",
       "      <td>0.336</td>\n",
       "      <td>0.885</td>\n",
       "      <td>0.357</td>\n",
       "      <td>0.877</td>\n",
       "    </tr>\n",
       "    <tr>\n",
       "      <th>7</th>\n",
       "      <td>0.330</td>\n",
       "      <td>0.887</td>\n",
       "      <td>0.358</td>\n",
       "      <td>0.878</td>\n",
       "    </tr>\n",
       "  </tbody>\n",
       "</table>\n",
       "</div>"
      ],
      "text/plain": [
       "    loss  accuracy  val_loss  val_accuracy\n",
       "3  0.361     0.878     0.362         0.877\n",
       "4  0.352     0.879     0.359         0.877\n",
       "5  0.343     0.882     0.358         0.878\n",
       "6  0.336     0.885     0.357         0.877\n",
       "7  0.330     0.887     0.358         0.878"
      ]
     },
     "execution_count": 105,
     "metadata": {},
     "output_type": "execute_result"
    }
   ],
   "source": [
    "history_a3_df=pd.DataFrame(history_dict_a3)\n",
    "history_a3_df.tail().round(3)"
   ]
  },
  {
   "cell_type": "code",
   "execution_count": 106,
   "metadata": {
    "id": "NvA2u5do1JqA"
   },
   "outputs": [],
   "source": [
    "losses_a3 = history_a3.history['loss']\n",
    "accs_a3 = history_a3.history['accuracy']\n",
    "val_losses_a3 = history_a3.history['val_loss']\n",
    "val_accs_a3 = history_a3.history['val_accuracy']\n",
    "epochs_a3 = len(losses_a3)"
   ]
  },
  {
   "cell_type": "code",
   "execution_count": 107,
   "metadata": {
    "colab": {
     "base_uri": "https://localhost:8080/",
     "height": 265
    },
    "id": "JGoRjq2T1SUp",
    "outputId": "ba97450a-6af3-4584-8c9f-e31ad054da55",
    "scrolled": true
   },
   "outputs": [
    {
     "data": {
      "image/png": "[encoded data removed]",
      "text/plain": [
       "<Figure size 1152x288 with 2 Axes>"
      ]
     },
     "metadata": {
      "needs_background": "light"
     },
     "output_type": "display_data"
    }
   ],
   "source": [
    "plt.figure(figsize=(16, 4))\n",
    "for i, metrics in enumerate(zip([losses_a3, accs_a3], [val_losses_a3, val_accs_a3], ['Loss', 'Accuracy'])):\n",
    "    plt.subplot(1, 2, i + 1)\n",
    "    plt.plot(range(epochs_a3), metrics[0], label='Training {}'.format(metrics[2]))\n",
    "    plt.plot(range(epochs_a3), metrics[1], label='Validation {}'.format(metrics[2]))\n",
    "    plt.legend()\n",
    "plt.show()"
   ]
  },
  {
   "cell_type": "code",
   "execution_count": 108,
   "metadata": {
    "id": "TaRFsKvJyRRv"
   },
   "outputs": [],
   "source": [
    "preds_a3 = model_a3.predict(test_dataset)"
   ]
  },
  {
   "cell_type": "code",
   "execution_count": 109,
   "metadata": {
    "colab": {
     "base_uri": "https://localhost:8080/"
    },
    "id": "38sM3BdNyRRv",
    "outputId": "224571b1-e68e-44a9-c62a-8f8073010fa9"
   },
   "outputs": [
    {
     "data": {
      "text/plain": [
       "(7600, 4)"
      ]
     },
     "execution_count": 109,
     "metadata": {},
     "output_type": "execute_result"
    }
   ],
   "source": [
    "preds_a3.shape"
   ]
  },
  {
   "cell_type": "code",
   "execution_count": 110,
   "metadata": {
    "id": "HLEVza9CyRRw"
   },
   "outputs": [],
   "source": [
    "cm = sns.light_palette((260, 75, 60), input=\"husl\", as_cmap=True)"
   ]
  },
  {
   "cell_type": "code",
   "execution_count": 111,
   "metadata": {
    "colab": {
     "base_uri": "https://localhost:8080/",
     "height": 121
    },
    "id": "QJ4Zct-xyRRw",
    "outputId": "effd38ba-f989-4053-bee6-b5d96842e81d",
    "scrolled": false
   },
   "outputs": [
    {
     "data": {
      "text/html": [
       "<style type=\"text/css\">\n",
       "#T_a44ce_row0_col0, #T_a44ce_row0_col6, #T_a44ce_row2_col11, #T_a44ce_row3_col8 {\n",
       "  background-color: #f0f0f2;\n",
       "  color: #000000;\n",
       "}\n",
       "#T_a44ce_row0_col1, #T_a44ce_row0_col4, #T_a44ce_row0_col8, #T_a44ce_row0_col10, #T_a44ce_row0_col13, #T_a44ce_row0_col14, #T_a44ce_row1_col0, #T_a44ce_row1_col3, #T_a44ce_row1_col6, #T_a44ce_row1_col7, #T_a44ce_row2_col9, #T_a44ce_row2_col12, #T_a44ce_row3_col2, #T_a44ce_row3_col5, #T_a44ce_row3_col11 {\n",
       "  background-color: #778ce4;\n",
       "  color: #f1f1f1;\n",
       "}\n",
       "#T_a44ce_row0_col2, #T_a44ce_row0_col11, #T_a44ce_row1_col1, #T_a44ce_row1_col2, #T_a44ce_row1_col4, #T_a44ce_row1_col5, #T_a44ce_row1_col8, #T_a44ce_row1_col9, #T_a44ce_row1_col10, #T_a44ce_row1_col11, #T_a44ce_row1_col12, #T_a44ce_row1_col14, #T_a44ce_row2_col0, #T_a44ce_row2_col1, #T_a44ce_row2_col3, #T_a44ce_row2_col4, #T_a44ce_row2_col6, #T_a44ce_row2_col7, #T_a44ce_row2_col8, #T_a44ce_row2_col10, #T_a44ce_row2_col13, #T_a44ce_row2_col14, #T_a44ce_row3_col0, #T_a44ce_row3_col1, #T_a44ce_row3_col3, #T_a44ce_row3_col4, #T_a44ce_row3_col6, #T_a44ce_row3_col7, #T_a44ce_row3_col10, #T_a44ce_row3_col14 {\n",
       "  background-color: #f0f1f2;\n",
       "  color: #000000;\n",
       "}\n",
       "#T_a44ce_row0_col3, #T_a44ce_row0_col7, #T_a44ce_row0_col12 {\n",
       "  background-color: #edeef2;\n",
       "  color: #000000;\n",
       "}\n",
       "#T_a44ce_row0_col5, #T_a44ce_row3_col12 {\n",
       "  background-color: #efeff2;\n",
       "  color: #000000;\n",
       "}\n",
       "#T_a44ce_row0_col9 {\n",
       "  background-color: #e9ebf1;\n",
       "  color: #000000;\n",
       "}\n",
       "#T_a44ce_row1_col13 {\n",
       "  background-color: #d9deef;\n",
       "  color: #000000;\n",
       "}\n",
       "#T_a44ce_row2_col2, #T_a44ce_row3_col9 {\n",
       "  background-color: #ecedf2;\n",
       "  color: #000000;\n",
       "}\n",
       "#T_a44ce_row2_col5 {\n",
       "  background-color: #e4e7f1;\n",
       "  color: #000000;\n",
       "}\n",
       "#T_a44ce_row3_col13 {\n",
       "  background-color: #eaebf1;\n",
       "  color: #000000;\n",
       "}\n",
       "</style>\n",
       "<table id=\"T_a44ce_\">\n",
       "  <thead>\n",
       "    <tr>\n",
       "      <th class=\"blank level0\" >&nbsp;</th>\n",
       "      <th class=\"col_heading level0 col0\" >0</th>\n",
       "      <th class=\"col_heading level0 col1\" >1</th>\n",
       "      <th class=\"col_heading level0 col2\" >2</th>\n",
       "      <th class=\"col_heading level0 col3\" >3</th>\n",
       "      <th class=\"col_heading level0 col4\" >4</th>\n",
       "      <th class=\"col_heading level0 col5\" >5</th>\n",
       "      <th class=\"col_heading level0 col6\" >6</th>\n",
       "      <th class=\"col_heading level0 col7\" >7</th>\n",
       "      <th class=\"col_heading level0 col8\" >8</th>\n",
       "      <th class=\"col_heading level0 col9\" >9</th>\n",
       "      <th class=\"col_heading level0 col10\" >10</th>\n",
       "      <th class=\"col_heading level0 col11\" >11</th>\n",
       "      <th class=\"col_heading level0 col12\" >12</th>\n",
       "      <th class=\"col_heading level0 col13\" >13</th>\n",
       "      <th class=\"col_heading level0 col14\" >14</th>\n",
       "    </tr>\n",
       "  </thead>\n",
       "  <tbody>\n",
       "    <tr>\n",
       "      <th id=\"T_a44ce_level0_row0\" class=\"row_heading level0 row0\" >World</th>\n",
       "      <td id=\"T_a44ce_row0_col0\" class=\"data row0 col0\" >0.62%</td>\n",
       "      <td id=\"T_a44ce_row0_col1\" class=\"data row0 col1\" >99.87%</td>\n",
       "      <td id=\"T_a44ce_row0_col2\" class=\"data row0 col2\" >0.24%</td>\n",
       "      <td id=\"T_a44ce_row0_col3\" class=\"data row0 col3\" >2.64%</td>\n",
       "      <td id=\"T_a44ce_row0_col4\" class=\"data row0 col4\" >99.81%</td>\n",
       "      <td id=\"T_a44ce_row0_col5\" class=\"data row0 col5\" >1.36%</td>\n",
       "      <td id=\"T_a44ce_row0_col6\" class=\"data row0 col6\" >1.02%</td>\n",
       "      <td id=\"T_a44ce_row0_col7\" class=\"data row0 col7\" >2.40%</td>\n",
       "      <td id=\"T_a44ce_row0_col8\" class=\"data row0 col8\" >99.16%</td>\n",
       "      <td id=\"T_a44ce_row0_col9\" class=\"data row0 col9\" >5.64%</td>\n",
       "      <td id=\"T_a44ce_row0_col10\" class=\"data row0 col10\" >99.93%</td>\n",
       "      <td id=\"T_a44ce_row0_col11\" class=\"data row0 col11\" >0.16%</td>\n",
       "      <td id=\"T_a44ce_row0_col12\" class=\"data row0 col12\" >2.51%</td>\n",
       "      <td id=\"T_a44ce_row0_col13\" class=\"data row0 col13\" >73.91%</td>\n",
       "      <td id=\"T_a44ce_row0_col14\" class=\"data row0 col14\" >99.89%</td>\n",
       "    </tr>\n",
       "    <tr>\n",
       "      <th id=\"T_a44ce_level0_row1\" class=\"row_heading level0 row1\" >Sports</th>\n",
       "      <td id=\"T_a44ce_row1_col0\" class=\"data row1 col0\" >99.30%</td>\n",
       "      <td id=\"T_a44ce_row1_col1\" class=\"data row1 col1\" >0.01%</td>\n",
       "      <td id=\"T_a44ce_row1_col2\" class=\"data row1 col2\" >0.01%</td>\n",
       "      <td id=\"T_a44ce_row1_col3\" class=\"data row1 col3\" >96.98%</td>\n",
       "      <td id=\"T_a44ce_row1_col4\" class=\"data row1 col4\" >0.03%</td>\n",
       "      <td id=\"T_a44ce_row1_col5\" class=\"data row1 col5\" >0.15%</td>\n",
       "      <td id=\"T_a44ce_row1_col6\" class=\"data row1 col6\" >98.18%</td>\n",
       "      <td id=\"T_a44ce_row1_col7\" class=\"data row1 col7\" >97.43%</td>\n",
       "      <td id=\"T_a44ce_row1_col8\" class=\"data row1 col8\" >0.12%</td>\n",
       "      <td id=\"T_a44ce_row1_col9\" class=\"data row1 col9\" >0.06%</td>\n",
       "      <td id=\"T_a44ce_row1_col10\" class=\"data row1 col10\" >0.00%</td>\n",
       "      <td id=\"T_a44ce_row1_col11\" class=\"data row1 col11\" >0.01%</td>\n",
       "      <td id=\"T_a44ce_row1_col12\" class=\"data row1 col12\" >0.01%</td>\n",
       "      <td id=\"T_a44ce_row1_col13\" class=\"data row1 col13\" >16.27%</td>\n",
       "      <td id=\"T_a44ce_row1_col14\" class=\"data row1 col14\" >0.01%</td>\n",
       "    </tr>\n",
       "    <tr>\n",
       "      <th id=\"T_a44ce_level0_row2\" class=\"row_heading level0 row2\" >Business</th>\n",
       "      <td id=\"T_a44ce_row2_col0\" class=\"data row2 col0\" >0.04%</td>\n",
       "      <td id=\"T_a44ce_row2_col1\" class=\"data row2 col1\" >0.07%</td>\n",
       "      <td id=\"T_a44ce_row2_col2\" class=\"data row2 col2\" >3.46%</td>\n",
       "      <td id=\"T_a44ce_row2_col3\" class=\"data row2 col3\" >0.14%</td>\n",
       "      <td id=\"T_a44ce_row2_col4\" class=\"data row2 col4\" >0.06%</td>\n",
       "      <td id=\"T_a44ce_row2_col5\" class=\"data row2 col5\" >9.20%</td>\n",
       "      <td id=\"T_a44ce_row2_col6\" class=\"data row2 col6\" >0.36%</td>\n",
       "      <td id=\"T_a44ce_row2_col7\" class=\"data row2 col7\" >0.05%</td>\n",
       "      <td id=\"T_a44ce_row2_col8\" class=\"data row2 col8\" >0.19%</td>\n",
       "      <td id=\"T_a44ce_row2_col9\" class=\"data row2 col9\" >90.95%</td>\n",
       "      <td id=\"T_a44ce_row2_col10\" class=\"data row2 col10\" >0.02%</td>\n",
       "      <td id=\"T_a44ce_row2_col11\" class=\"data row2 col11\" >0.59%</td>\n",
       "      <td id=\"T_a44ce_row2_col12\" class=\"data row2 col12\" >96.29%</td>\n",
       "      <td id=\"T_a44ce_row2_col13\" class=\"data row2 col13\" >2.89%</td>\n",
       "      <td id=\"T_a44ce_row2_col14\" class=\"data row2 col14\" >0.02%</td>\n",
       "    </tr>\n",
       "    <tr>\n",
       "      <th id=\"T_a44ce_level0_row3\" class=\"row_heading level0 row3\" >Sci/Tech</th>\n",
       "      <td id=\"T_a44ce_row3_col0\" class=\"data row3 col0\" >0.03%</td>\n",
       "      <td id=\"T_a44ce_row3_col1\" class=\"data row3 col1\" >0.06%</td>\n",
       "      <td id=\"T_a44ce_row3_col2\" class=\"data row3 col2\" >96.30%</td>\n",
       "      <td id=\"T_a44ce_row3_col3\" class=\"data row3 col3\" >0.24%</td>\n",
       "      <td id=\"T_a44ce_row3_col4\" class=\"data row3 col4\" >0.09%</td>\n",
       "      <td id=\"T_a44ce_row3_col5\" class=\"data row3 col5\" >89.30%</td>\n",
       "      <td id=\"T_a44ce_row3_col6\" class=\"data row3 col6\" >0.44%</td>\n",
       "      <td id=\"T_a44ce_row3_col7\" class=\"data row3 col7\" >0.11%</td>\n",
       "      <td id=\"T_a44ce_row3_col8\" class=\"data row3 col8\" >0.53%</td>\n",
       "      <td id=\"T_a44ce_row3_col9\" class=\"data row3 col9\" >3.35%</td>\n",
       "      <td id=\"T_a44ce_row3_col10\" class=\"data row3 col10\" >0.05%</td>\n",
       "      <td id=\"T_a44ce_row3_col11\" class=\"data row3 col11\" >99.24%</td>\n",
       "      <td id=\"T_a44ce_row3_col12\" class=\"data row3 col12\" >1.20%</td>\n",
       "      <td id=\"T_a44ce_row3_col13\" class=\"data row3 col13\" >6.93%</td>\n",
       "      <td id=\"T_a44ce_row3_col14\" class=\"data row3 col14\" >0.08%</td>\n",
       "    </tr>\n",
       "  </tbody>\n",
       "</table>\n"
      ],
      "text/plain": [
       "<pandas.io.formats.style.Styler at 0x2cca1d364c8>"
      ]
     },
     "execution_count": 111,
     "metadata": {},
     "output_type": "execute_result"
    }
   ],
   "source": [
    "df = pd.DataFrame(preds_a3[0:15]\n",
    "                  ,columns = ['World','Sports','Business','Sci/Tech']).T\n",
    "df.style.format(\"{:.2%}\").background_gradient(cmap=cm)"
   ]
  },
  {
   "cell_type": "markdown",
   "metadata": {},
   "source": [
    "### Dual Uniidirectional GRU"
   ]
  },
  {
   "cell_type": "code",
   "execution_count": 112,
   "metadata": {},
   "outputs": [],
   "source": [
    "encoder_a3 = tf.keras.layers.experimental.preprocessing.TextVectorization(\n",
    "    max_tokens=VOCAB_SIZE)\n",
    "encoder_a3.adapt(train_dataset.map(lambda text, label: text))\n",
    "vocab_a3 = np.array(encoder_a3.get_vocabulary())\n"
   ]
  },
  {
   "cell_type": "code",
   "execution_count": 113,
   "metadata": {},
   "outputs": [
    {
     "name": "stdout",
     "output_type": "stream",
     "text": [
      "WARNING:tensorflow:Layer gru_1 will not use cuDNN kernel since it doesn't meet the cuDNN kernel criteria. It will use generic GPU kernel as fallback when running on GPU\n"
     ]
    },
    {
     "name": "stderr",
     "output_type": "stream",
     "text": [
      "WARNING:tensorflow:Layer gru_1 will not use cuDNN kernel since it doesn't meet the cuDNN kernel criteria. It will use generic GPU kernel as fallback when running on GPU\n"
     ]
    },
    {
     "name": "stdout",
     "output_type": "stream",
     "text": [
      "WARNING:tensorflow:Layer gru_2 will not use cuDNN kernel since it doesn't meet the cuDNN kernel criteria. It will use generic GPU kernel as fallback when running on GPU\n"
     ]
    },
    {
     "name": "stderr",
     "output_type": "stream",
     "text": [
      "WARNING:tensorflow:Layer gru_2 will not use cuDNN kernel since it doesn't meet the cuDNN kernel criteria. It will use generic GPU kernel as fallback when running on GPU\n"
     ]
    }
   ],
   "source": [
    "start_time = time.time()\n",
    "\n",
    "VOCAB_SIZE=3000\n",
    "encoder_a3 = tf.keras.layers.experimental.preprocessing.TextVectorization(\n",
    "    max_tokens=VOCAB_SIZE)\n",
    "encoder_a3.adapt(train_dataset.map(lambda text, label: text))\n",
    "vocab_a3 = np.array(encoder_a3.get_vocabulary())\n",
    "\n",
    "num_classes = 4\n",
    "\n",
    "model_a3 = tf.keras.Sequential([\n",
    "                              encoder_a3\n",
    "                              ,tf.keras.layers.Embedding(input_dim=len(encoder_a3.get_vocabulary())\n",
    "                              ,output_dim=64\n",
    "                                # Use masking to handle the variable sequence lengths\n",
    "                              ,mask_zero=True)\n",
    "                              ,tf.keras.layers.GRU(64, return_sequences=True, dropout=0.2, recurrent_dropout=0.1)\n",
    "                              ,tf.keras.layers.GRU(64, dropout=0.2, recurrent_dropout=0.2)\n",
    "                              ,tf.keras.layers.Dense(64, activation='relu')\n",
    "                              ,tf.keras.layers.Dense(num_classes,activation='softmax')   # num_classes = 4\n",
    "])\n",
    "model_a3.compile(optimizer=tf.keras.optimizers.Adam(1e-4)\n",
    "              ,loss=tf.keras.losses.SparseCategoricalCrossentropy() # if we set from_logits=True we don not have specify a softmax activation function in the last layer\n",
    "              ,metrics=['accuracy'])"
   ]
  },
  {
   "cell_type": "code",
   "execution_count": 114,
   "metadata": {},
   "outputs": [
    {
     "name": "stdout",
     "output_type": "stream",
     "text": [
      "Epoch 1/200\n",
      "1782/1782 [==============================] - 1612s 904ms/step - loss: 0.8227 - accuracy: 0.6350 - val_loss: 0.5292 - val_accuracy: 0.8042\n",
      "Epoch 2/200\n",
      "1782/1782 [==============================] - 1605s 901ms/step - loss: 0.4398 - accuracy: 0.8464 - val_loss: 0.3790 - val_accuracy: 0.8695\n",
      "Epoch 3/200\n",
      "1782/1782 [==============================] - 1609s 903ms/step - loss: 0.3761 - accuracy: 0.8706 - val_loss: 0.3592 - val_accuracy: 0.8777\n",
      "Epoch 4/200\n",
      "1782/1782 [==============================] - 1602s 899ms/step - loss: 0.3472 - accuracy: 0.8811 - val_loss: 0.3464 - val_accuracy: 0.8817\n",
      "Epoch 5/200\n",
      "1782/1782 [==============================] - 1621s 910ms/step - loss: 0.3251 - accuracy: 0.8889 - val_loss: 0.3366 - val_accuracy: 0.8848\n",
      "Epoch 6/200\n",
      "1782/1782 [==============================] - 1597s 896ms/step - loss: 0.3113 - accuracy: 0.8932 - val_loss: 0.3320 - val_accuracy: 0.8852\n",
      "Epoch 7/200\n",
      "1782/1782 [==============================] - 1590s 893ms/step - loss: 0.3024 - accuracy: 0.8956 - val_loss: 0.3302 - val_accuracy: 0.8850\n",
      "Epoch 8/200\n",
      "1782/1782 [==============================] - 1569s 881ms/step - loss: 0.2942 - accuracy: 0.8979 - val_loss: 0.3287 - val_accuracy: 0.8860\n",
      "Epoch 9/200\n",
      "1782/1782 [==============================] - 1587s 891ms/step - loss: 0.2891 - accuracy: 0.8997 - val_loss: 0.3302 - val_accuracy: 0.8852\n",
      "Epoch 10/200\n",
      "1782/1782 [==============================] - 1612s 904ms/step - loss: 0.2853 - accuracy: 0.9003 - val_loss: 0.3263 - val_accuracy: 0.8873\n",
      "Epoch 11/200\n",
      "1782/1782 [==============================] - 1605s 901ms/step - loss: 0.2823 - accuracy: 0.9012 - val_loss: 0.3269 - val_accuracy: 0.8885\n",
      "Epoch 12/200\n",
      "1782/1782 [==============================] - 1571s 882ms/step - loss: 0.2794 - accuracy: 0.9023 - val_loss: 0.3297 - val_accuracy: 0.8848\n",
      "Epoch 13/200\n",
      "1782/1782 [==============================] - 1568s 880ms/step - loss: 0.2768 - accuracy: 0.9029 - val_loss: 0.3247 - val_accuracy: 0.8897\n",
      "Epoch 14/200\n",
      "1782/1782 [==============================] - 1611s 904ms/step - loss: 0.2745 - accuracy: 0.9038 - val_loss: 0.3257 - val_accuracy: 0.8868\n",
      "Epoch 15/200\n",
      "1782/1782 [==============================] - 1609s 903ms/step - loss: 0.2724 - accuracy: 0.9048 - val_loss: 0.3240 - val_accuracy: 0.8858\n",
      "Finished model training in 23993s\n"
     ]
    }
   ],
   "source": [
    "history_a3 = model_a3.fit(train_dataset\n",
    "                    ,epochs = 200\n",
    "                    ,validation_data=validation_dataset\n",
    "                    ,callbacks=[tf.keras.callbacks.EarlyStopping(monitor='val_accuracy', patience=2)]\n",
    "                    )\n",
    "end_time = time.time()\n",
    "second_elapsed = round(end_time - start_time)\n",
    "\n",
    "print(f'Finished model training in {second_elapsed}s')"
   ]
  },
  {
   "cell_type": "code",
   "execution_count": 115,
   "metadata": {},
   "outputs": [
    {
     "name": "stdout",
     "output_type": "stream",
     "text": [
      "119/119 [==============================] - 14s 116ms/step - loss: 0.3250 - accuracy: 0.8876\n",
      "Test Loss: 0.3250415027141571\n",
      "Test Accuracy: 0.8876315951347351\n"
     ]
    }
   ],
   "source": [
    "test_loss_a3, test_acc_a3 = model_a3.evaluate(test_dataset)\n",
    "print('Test Loss: {}'.format(test_loss_a3))\n",
    "print('Test Accuracy: {}'.format(test_acc_a3))\n"
   ]
  },
  {
   "cell_type": "code",
   "execution_count": 116,
   "metadata": {
    "colab": {
     "base_uri": "https://localhost:8080/"
    },
    "id": "l5Wa2bx7Suny",
    "outputId": "2d185881-ccbe-4923-e445-33c197795bf8"
   },
   "outputs": [
    {
     "data": {
      "text/plain": [
       "dict_keys(['loss', 'accuracy', 'val_loss', 'val_accuracy'])"
      ]
     },
     "execution_count": 116,
     "metadata": {},
     "output_type": "execute_result"
    }
   ],
   "source": [
    "history_dict_a3 = history_a3.history\n",
    "history_dict_a3.keys()"
   ]
  },
  {
   "cell_type": "code",
   "execution_count": 117,
   "metadata": {
    "colab": {
     "base_uri": "https://localhost:8080/",
     "height": 206
    },
    "id": "cwzqjLbrSurM",
    "outputId": "92494400-336c-41d5-a5fb-056d55752b5c",
    "scrolled": true
   },
   "outputs": [
    {
     "data": {
      "text/html": [
       "<div>\n",
       "<style scoped>\n",
       "    .dataframe tbody tr th:only-of-type {\n",
       "        vertical-align: middle;\n",
       "    }\n",
       "\n",
       "    .dataframe tbody tr th {\n",
       "        vertical-align: top;\n",
       "    }\n",
       "\n",
       "    .dataframe thead th {\n",
       "        text-align: right;\n",
       "    }\n",
       "</style>\n",
       "<table border=\"1\" class=\"dataframe\">\n",
       "  <thead>\n",
       "    <tr style=\"text-align: right;\">\n",
       "      <th></th>\n",
       "      <th>loss</th>\n",
       "      <th>accuracy</th>\n",
       "      <th>val_loss</th>\n",
       "      <th>val_accuracy</th>\n",
       "    </tr>\n",
       "  </thead>\n",
       "  <tbody>\n",
       "    <tr>\n",
       "      <th>10</th>\n",
       "      <td>0.282</td>\n",
       "      <td>0.901</td>\n",
       "      <td>0.327</td>\n",
       "      <td>0.888</td>\n",
       "    </tr>\n",
       "    <tr>\n",
       "      <th>11</th>\n",
       "      <td>0.279</td>\n",
       "      <td>0.902</td>\n",
       "      <td>0.330</td>\n",
       "      <td>0.885</td>\n",
       "    </tr>\n",
       "    <tr>\n",
       "      <th>12</th>\n",
       "      <td>0.277</td>\n",
       "      <td>0.903</td>\n",
       "      <td>0.325</td>\n",
       "      <td>0.890</td>\n",
       "    </tr>\n",
       "    <tr>\n",
       "      <th>13</th>\n",
       "      <td>0.275</td>\n",
       "      <td>0.904</td>\n",
       "      <td>0.326</td>\n",
       "      <td>0.887</td>\n",
       "    </tr>\n",
       "    <tr>\n",
       "      <th>14</th>\n",
       "      <td>0.272</td>\n",
       "      <td>0.905</td>\n",
       "      <td>0.324</td>\n",
       "      <td>0.886</td>\n",
       "    </tr>\n",
       "  </tbody>\n",
       "</table>\n",
       "</div>"
      ],
      "text/plain": [
       "     loss  accuracy  val_loss  val_accuracy\n",
       "10  0.282     0.901     0.327         0.888\n",
       "11  0.279     0.902     0.330         0.885\n",
       "12  0.277     0.903     0.325         0.890\n",
       "13  0.275     0.904     0.326         0.887\n",
       "14  0.272     0.905     0.324         0.886"
      ]
     },
     "execution_count": 117,
     "metadata": {},
     "output_type": "execute_result"
    }
   ],
   "source": [
    "history_a3_df=pd.DataFrame(history_dict_a3)\n",
    "history_a3_df.tail().round(3)"
   ]
  },
  {
   "cell_type": "code",
   "execution_count": 118,
   "metadata": {
    "id": "NvA2u5do1JqA"
   },
   "outputs": [],
   "source": [
    "losses_a3 = history_a3.history['loss']\n",
    "accs_a3 = history_a3.history['accuracy']\n",
    "val_losses_a3 = history_a3.history['val_loss']\n",
    "val_accs_a3 = history_a3.history['val_accuracy']\n",
    "epochs_a3 = len(losses_a3)"
   ]
  },
  {
   "cell_type": "code",
   "execution_count": 119,
   "metadata": {
    "colab": {
     "base_uri": "https://localhost:8080/",
     "height": 265
    },
    "id": "JGoRjq2T1SUp",
    "outputId": "ba97450a-6af3-4584-8c9f-e31ad054da55",
    "scrolled": true
   },
   "outputs": [
    {
     "data": {
      "image/png": "[encoded data removed]",
      "text/plain": [
       "<Figure size 1152x288 with 2 Axes>"
      ]
     },
     "metadata": {
      "needs_background": "light"
     },
     "output_type": "display_data"
    }
   ],
   "source": [
    "plt.figure(figsize=(16, 4))\n",
    "for i, metrics in enumerate(zip([losses_a3, accs_a3], [val_losses_a3, val_accs_a3], ['Loss', 'Accuracy'])):\n",
    "    plt.subplot(1, 2, i + 1)\n",
    "    plt.plot(range(epochs_a3), metrics[0], label='Training {}'.format(metrics[2]))\n",
    "    plt.plot(range(epochs_a3), metrics[1], label='Validation {}'.format(metrics[2]))\n",
    "    plt.legend()\n",
    "plt.show()"
   ]
  },
  {
   "cell_type": "code",
   "execution_count": 120,
   "metadata": {
    "id": "TaRFsKvJyRRv"
   },
   "outputs": [],
   "source": [
    "preds_a3 = model_a3.predict(test_dataset)"
   ]
  },
  {
   "cell_type": "code",
   "execution_count": 121,
   "metadata": {
    "colab": {
     "base_uri": "https://localhost:8080/"
    },
    "id": "38sM3BdNyRRv",
    "outputId": "224571b1-e68e-44a9-c62a-8f8073010fa9"
   },
   "outputs": [
    {
     "data": {
      "text/plain": [
       "(7600, 4)"
      ]
     },
     "execution_count": 121,
     "metadata": {},
     "output_type": "execute_result"
    }
   ],
   "source": [
    "preds_a3.shape"
   ]
  },
  {
   "cell_type": "code",
   "execution_count": 122,
   "metadata": {
    "id": "HLEVza9CyRRw"
   },
   "outputs": [],
   "source": [
    "cm = sns.light_palette((260, 75, 60), input=\"husl\", as_cmap=True)"
   ]
  },
  {
   "cell_type": "code",
   "execution_count": 123,
   "metadata": {
    "colab": {
     "base_uri": "https://localhost:8080/",
     "height": 121
    },
    "id": "QJ4Zct-xyRRw",
    "outputId": "effd38ba-f989-4053-bee6-b5d96842e81d",
    "scrolled": false
   },
   "outputs": [
    {
     "data": {
      "text/html": [
       "<style type=\"text/css\">\n",
       "#T_348a4_row0_col0, #T_348a4_row0_col2, #T_348a4_row0_col5, #T_348a4_row0_col6, #T_348a4_row0_col11, #T_348a4_row1_col1, #T_348a4_row1_col2, #T_348a4_row1_col4, #T_348a4_row1_col5, #T_348a4_row1_col8, #T_348a4_row1_col9, #T_348a4_row1_col10, #T_348a4_row1_col11, #T_348a4_row1_col12, #T_348a4_row1_col14, #T_348a4_row2_col0, #T_348a4_row2_col1, #T_348a4_row2_col3, #T_348a4_row2_col4, #T_348a4_row2_col6, #T_348a4_row2_col7, #T_348a4_row2_col8, #T_348a4_row2_col10, #T_348a4_row2_col11, #T_348a4_row2_col13, #T_348a4_row2_col14, #T_348a4_row3_col0, #T_348a4_row3_col1, #T_348a4_row3_col3, #T_348a4_row3_col4, #T_348a4_row3_col7, #T_348a4_row3_col8, #T_348a4_row3_col10, #T_348a4_row3_col14 {\n",
       "  background-color: #f0f1f2;\n",
       "  color: #000000;\n",
       "}\n",
       "#T_348a4_row0_col1, #T_348a4_row0_col4, #T_348a4_row0_col8, #T_348a4_row0_col10, #T_348a4_row0_col13, #T_348a4_row0_col14, #T_348a4_row1_col0, #T_348a4_row1_col3, #T_348a4_row1_col6, #T_348a4_row1_col7, #T_348a4_row2_col9, #T_348a4_row2_col12, #T_348a4_row3_col2, #T_348a4_row3_col5, #T_348a4_row3_col11 {\n",
       "  background-color: #778ce4;\n",
       "  color: #f1f1f1;\n",
       "}\n",
       "#T_348a4_row0_col3, #T_348a4_row0_col9 {\n",
       "  background-color: #eeeff2;\n",
       "  color: #000000;\n",
       "}\n",
       "#T_348a4_row0_col7 {\n",
       "  background-color: #edeef2;\n",
       "  color: #000000;\n",
       "}\n",
       "#T_348a4_row0_col12, #T_348a4_row3_col6 {\n",
       "  background-color: #f0f0f2;\n",
       "  color: #000000;\n",
       "}\n",
       "#T_348a4_row1_col13, #T_348a4_row3_col9, #T_348a4_row3_col12 {\n",
       "  background-color: #eff0f2;\n",
       "  color: #000000;\n",
       "}\n",
       "#T_348a4_row2_col2 {\n",
       "  background-color: #ecedf2;\n",
       "  color: #000000;\n",
       "}\n",
       "#T_348a4_row2_col5 {\n",
       "  background-color: #e5e7f1;\n",
       "  color: #000000;\n",
       "}\n",
       "#T_348a4_row3_col13 {\n",
       "  background-color: #e8eaf1;\n",
       "  color: #000000;\n",
       "}\n",
       "</style>\n",
       "<table id=\"T_348a4_\">\n",
       "  <thead>\n",
       "    <tr>\n",
       "      <th class=\"blank level0\" >&nbsp;</th>\n",
       "      <th class=\"col_heading level0 col0\" >0</th>\n",
       "      <th class=\"col_heading level0 col1\" >1</th>\n",
       "      <th class=\"col_heading level0 col2\" >2</th>\n",
       "      <th class=\"col_heading level0 col3\" >3</th>\n",
       "      <th class=\"col_heading level0 col4\" >4</th>\n",
       "      <th class=\"col_heading level0 col5\" >5</th>\n",
       "      <th class=\"col_heading level0 col6\" >6</th>\n",
       "      <th class=\"col_heading level0 col7\" >7</th>\n",
       "      <th class=\"col_heading level0 col8\" >8</th>\n",
       "      <th class=\"col_heading level0 col9\" >9</th>\n",
       "      <th class=\"col_heading level0 col10\" >10</th>\n",
       "      <th class=\"col_heading level0 col11\" >11</th>\n",
       "      <th class=\"col_heading level0 col12\" >12</th>\n",
       "      <th class=\"col_heading level0 col13\" >13</th>\n",
       "      <th class=\"col_heading level0 col14\" >14</th>\n",
       "    </tr>\n",
       "  </thead>\n",
       "  <tbody>\n",
       "    <tr>\n",
       "      <th id=\"T_348a4_level0_row0\" class=\"row_heading level0 row0\" >World</th>\n",
       "      <td id=\"T_348a4_row0_col0\" class=\"data row0 col0\" >0.10%</td>\n",
       "      <td id=\"T_348a4_row0_col1\" class=\"data row0 col1\" >99.86%</td>\n",
       "      <td id=\"T_348a4_row0_col2\" class=\"data row0 col2\" >0.07%</td>\n",
       "      <td id=\"T_348a4_row0_col3\" class=\"data row0 col3\" >2.28%</td>\n",
       "      <td id=\"T_348a4_row0_col4\" class=\"data row0 col4\" >99.73%</td>\n",
       "      <td id=\"T_348a4_row0_col5\" class=\"data row0 col5\" >0.26%</td>\n",
       "      <td id=\"T_348a4_row0_col6\" class=\"data row0 col6\" >0.46%</td>\n",
       "      <td id=\"T_348a4_row0_col7\" class=\"data row0 col7\" >2.31%</td>\n",
       "      <td id=\"T_348a4_row0_col8\" class=\"data row0 col8\" >99.55%</td>\n",
       "      <td id=\"T_348a4_row0_col9\" class=\"data row0 col9\" >1.71%</td>\n",
       "      <td id=\"T_348a4_row0_col10\" class=\"data row0 col10\" >99.83%</td>\n",
       "      <td id=\"T_348a4_row0_col11\" class=\"data row0 col11\" >0.34%</td>\n",
       "      <td id=\"T_348a4_row0_col12\" class=\"data row0 col12\" >0.73%</td>\n",
       "      <td id=\"T_348a4_row0_col13\" class=\"data row0 col13\" >89.30%</td>\n",
       "      <td id=\"T_348a4_row0_col14\" class=\"data row0 col14\" >99.87%</td>\n",
       "    </tr>\n",
       "    <tr>\n",
       "      <th id=\"T_348a4_level0_row1\" class=\"row_heading level0 row1\" >Sports</th>\n",
       "      <td id=\"T_348a4_row1_col0\" class=\"data row1 col0\" >99.81%</td>\n",
       "      <td id=\"T_348a4_row1_col1\" class=\"data row1 col1\" >0.01%</td>\n",
       "      <td id=\"T_348a4_row1_col2\" class=\"data row1 col2\" >0.02%</td>\n",
       "      <td id=\"T_348a4_row1_col3\" class=\"data row1 col3\" >97.53%</td>\n",
       "      <td id=\"T_348a4_row1_col4\" class=\"data row1 col4\" >0.02%</td>\n",
       "      <td id=\"T_348a4_row1_col5\" class=\"data row1 col5\" >0.07%</td>\n",
       "      <td id=\"T_348a4_row1_col6\" class=\"data row1 col6\" >98.68%</td>\n",
       "      <td id=\"T_348a4_row1_col7\" class=\"data row1 col7\" >97.64%</td>\n",
       "      <td id=\"T_348a4_row1_col8\" class=\"data row1 col8\" >0.02%</td>\n",
       "      <td id=\"T_348a4_row1_col9\" class=\"data row1 col9\" >0.11%</td>\n",
       "      <td id=\"T_348a4_row1_col10\" class=\"data row1 col10\" >0.00%</td>\n",
       "      <td id=\"T_348a4_row1_col11\" class=\"data row1 col11\" >0.01%</td>\n",
       "      <td id=\"T_348a4_row1_col12\" class=\"data row1 col12\" >0.04%</td>\n",
       "      <td id=\"T_348a4_row1_col13\" class=\"data row1 col13\" >1.99%</td>\n",
       "      <td id=\"T_348a4_row1_col14\" class=\"data row1 col14\" >0.00%</td>\n",
       "    </tr>\n",
       "    <tr>\n",
       "      <th id=\"T_348a4_level0_row2\" class=\"row_heading level0 row2\" >Business</th>\n",
       "      <td id=\"T_348a4_row2_col0\" class=\"data row2 col0\" >0.04%</td>\n",
       "      <td id=\"T_348a4_row2_col1\" class=\"data row2 col1\" >0.13%</td>\n",
       "      <td id=\"T_348a4_row2_col2\" class=\"data row2 col2\" >3.53%</td>\n",
       "      <td id=\"T_348a4_row2_col3\" class=\"data row2 col3\" >0.10%</td>\n",
       "      <td id=\"T_348a4_row2_col4\" class=\"data row2 col4\" >0.10%</td>\n",
       "      <td id=\"T_348a4_row2_col5\" class=\"data row2 col5\" >8.85%</td>\n",
       "      <td id=\"T_348a4_row2_col6\" class=\"data row2 col6\" >0.16%</td>\n",
       "      <td id=\"T_348a4_row2_col7\" class=\"data row2 col7\" >0.01%</td>\n",
       "      <td id=\"T_348a4_row2_col8\" class=\"data row2 col8\" >0.18%</td>\n",
       "      <td id=\"T_348a4_row2_col9\" class=\"data row2 col9\" >97.19%</td>\n",
       "      <td id=\"T_348a4_row2_col10\" class=\"data row2 col10\" >0.16%</td>\n",
       "      <td id=\"T_348a4_row2_col11\" class=\"data row2 col11\" >0.28%</td>\n",
       "      <td id=\"T_348a4_row2_col12\" class=\"data row2 col12\" >98.25%</td>\n",
       "      <td id=\"T_348a4_row2_col13\" class=\"data row2 col13\" >1.30%</td>\n",
       "      <td id=\"T_348a4_row2_col14\" class=\"data row2 col14\" >0.08%</td>\n",
       "    </tr>\n",
       "    <tr>\n",
       "      <th id=\"T_348a4_level0_row3\" class=\"row_heading level0 row3\" >Sci/Tech</th>\n",
       "      <td id=\"T_348a4_row3_col0\" class=\"data row3 col0\" >0.05%</td>\n",
       "      <td id=\"T_348a4_row3_col1\" class=\"data row3 col1\" >0.01%</td>\n",
       "      <td id=\"T_348a4_row3_col2\" class=\"data row3 col2\" >96.39%</td>\n",
       "      <td id=\"T_348a4_row3_col3\" class=\"data row3 col3\" >0.09%</td>\n",
       "      <td id=\"T_348a4_row3_col4\" class=\"data row3 col4\" >0.16%</td>\n",
       "      <td id=\"T_348a4_row3_col5\" class=\"data row3 col5\" >90.81%</td>\n",
       "      <td id=\"T_348a4_row3_col6\" class=\"data row3 col6\" >0.70%</td>\n",
       "      <td id=\"T_348a4_row3_col7\" class=\"data row3 col7\" >0.04%</td>\n",
       "      <td id=\"T_348a4_row3_col8\" class=\"data row3 col8\" >0.25%</td>\n",
       "      <td id=\"T_348a4_row3_col9\" class=\"data row3 col9\" >0.99%</td>\n",
       "      <td id=\"T_348a4_row3_col10\" class=\"data row3 col10\" >0.01%</td>\n",
       "      <td id=\"T_348a4_row3_col11\" class=\"data row3 col11\" >99.38%</td>\n",
       "      <td id=\"T_348a4_row3_col12\" class=\"data row3 col12\" >0.99%</td>\n",
       "      <td id=\"T_348a4_row3_col13\" class=\"data row3 col13\" >7.42%</td>\n",
       "      <td id=\"T_348a4_row3_col14\" class=\"data row3 col14\" >0.04%</td>\n",
       "    </tr>\n",
       "  </tbody>\n",
       "</table>\n"
      ],
      "text/plain": [
       "<pandas.io.formats.style.Styler at 0x2ccadebcb48>"
      ]
     },
     "execution_count": 123,
     "metadata": {},
     "output_type": "execute_result"
    }
   ],
   "source": [
    "df = pd.DataFrame(preds_a3[0:15]\n",
    "                  ,columns = ['World','Sports','Business','Sci/Tech']).T\n",
    "df.style.format(\"{:.2%}\").background_gradient(cmap=cm)"
   ]
  },
  {
   "cell_type": "markdown",
   "metadata": {},
   "source": [
    "### Single Bidirectional GRU"
   ]
  },
  {
   "cell_type": "code",
   "execution_count": 124,
   "metadata": {},
   "outputs": [],
   "source": [
    "encoder_a3 = tf.keras.layers.experimental.preprocessing.TextVectorization(\n",
    "    max_tokens=VOCAB_SIZE)\n",
    "encoder_a3.adapt(train_dataset.map(lambda text, label: text))\n",
    "vocab_a3 = np.array(encoder_a3.get_vocabulary())\n"
   ]
  },
  {
   "cell_type": "code",
   "execution_count": 125,
   "metadata": {},
   "outputs": [
    {
     "name": "stdout",
     "output_type": "stream",
     "text": [
      "WARNING:tensorflow:Layer gru_3 will not use cuDNN kernel since it doesn't meet the cuDNN kernel criteria. It will use generic GPU kernel as fallback when running on GPU\n"
     ]
    },
    {
     "name": "stderr",
     "output_type": "stream",
     "text": [
      "WARNING:tensorflow:Layer gru_3 will not use cuDNN kernel since it doesn't meet the cuDNN kernel criteria. It will use generic GPU kernel as fallback when running on GPU\n"
     ]
    },
    {
     "name": "stdout",
     "output_type": "stream",
     "text": [
      "WARNING:tensorflow:Layer gru_3 will not use cuDNN kernel since it doesn't meet the cuDNN kernel criteria. It will use generic GPU kernel as fallback when running on GPU\n"
     ]
    },
    {
     "name": "stderr",
     "output_type": "stream",
     "text": [
      "WARNING:tensorflow:Layer gru_3 will not use cuDNN kernel since it doesn't meet the cuDNN kernel criteria. It will use generic GPU kernel as fallback when running on GPU\n"
     ]
    },
    {
     "name": "stdout",
     "output_type": "stream",
     "text": [
      "WARNING:tensorflow:Layer gru_3 will not use cuDNN kernel since it doesn't meet the cuDNN kernel criteria. It will use generic GPU kernel as fallback when running on GPU\n"
     ]
    },
    {
     "name": "stderr",
     "output_type": "stream",
     "text": [
      "WARNING:tensorflow:Layer gru_3 will not use cuDNN kernel since it doesn't meet the cuDNN kernel criteria. It will use generic GPU kernel as fallback when running on GPU\n"
     ]
    }
   ],
   "source": [
    "start_time = time.time()\n",
    "\n",
    "VOCAB_SIZE=3000\n",
    "encoder_a3 = tf.keras.layers.experimental.preprocessing.TextVectorization(\n",
    "    max_tokens=VOCAB_SIZE)\n",
    "encoder_a3.adapt(train_dataset.map(lambda text, label: text))\n",
    "vocab_a3 = np.array(encoder_a3.get_vocabulary())\n",
    "\n",
    "num_classes = 4\n",
    "\n",
    "model_a3 = tf.keras.Sequential([\n",
    "                              encoder_a3\n",
    "                              ,tf.keras.layers.Embedding(input_dim=len(encoder_a3.get_vocabulary())\n",
    "                              ,output_dim=64\n",
    "                                # Use masking to handle the variable sequence lengths\n",
    "                              ,mask_zero=True)\n",
    "                              ,tf.keras.layers.Bidirectional(tf.keras.layers.GRU(64, dropout=0.2, recurrent_dropout=0.2))\n",
    "                              ,tf.keras.layers.Dense(64, activation='relu')\n",
    "                              ,tf.keras.layers.Dense(num_classes,activation='softmax')   # num_classes = 4\n",
    "])\n",
    "model_a3.compile(optimizer=tf.keras.optimizers.Adam(1e-4)\n",
    "              ,loss=tf.keras.losses.SparseCategoricalCrossentropy() # if we set from_logits=True we don not have specify a softmax activation function in the last layer\n",
    "              ,metrics=['accuracy'])"
   ]
  },
  {
   "cell_type": "code",
   "execution_count": 126,
   "metadata": {},
   "outputs": [
    {
     "name": "stdout",
     "output_type": "stream",
     "text": [
      "Epoch 1/200\n",
      "1782/1782 [==============================] - 1664s 934ms/step - loss: 0.6861 - accuracy: 0.7339 - val_loss: 0.3839 - val_accuracy: 0.8715\n",
      "Epoch 2/200\n",
      "1782/1782 [==============================] - 3428s 2s/step - loss: 0.3732 - accuracy: 0.8718 - val_loss: 0.3547 - val_accuracy: 0.8787\n",
      "Epoch 3/200\n",
      "1782/1782 [==============================] - 1878s 1s/step - loss: 0.3423 - accuracy: 0.8817 - val_loss: 0.3377 - val_accuracy: 0.8833\n",
      "Epoch 4/200\n",
      "1782/1782 [==============================] - 1638s 919ms/step - loss: 0.3192 - accuracy: 0.8907 - val_loss: 0.3321 - val_accuracy: 0.8840\n",
      "Epoch 5/200\n",
      "1782/1782 [==============================] - 1633s 916ms/step - loss: 0.3045 - accuracy: 0.8941 - val_loss: 0.3212 - val_accuracy: 0.8907\n",
      "Epoch 6/200\n",
      "1782/1782 [==============================] - 1650s 926ms/step - loss: 0.2950 - accuracy: 0.8970 - val_loss: 0.3170 - val_accuracy: 0.8923\n",
      "Epoch 7/200\n",
      "1782/1782 [==============================] - 1682s 944ms/step - loss: 0.2876 - accuracy: 0.9000 - val_loss: 0.3155 - val_accuracy: 0.8938\n",
      "Epoch 8/200\n",
      "1782/1782 [==============================] - 1678s 942ms/step - loss: 0.2814 - accuracy: 0.9016 - val_loss: 0.3181 - val_accuracy: 0.8900\n",
      "Epoch 9/200\n",
      "1782/1782 [==============================] - 1644s 923ms/step - loss: 0.2758 - accuracy: 0.9032 - val_loss: 0.3176 - val_accuracy: 0.8913\n",
      "Finished model training in 16919s\n"
     ]
    }
   ],
   "source": [
    "history_a3 = model_a3.fit(train_dataset\n",
    "                    ,epochs = 200\n",
    "                    ,validation_data=validation_dataset\n",
    "                    ,callbacks=[tf.keras.callbacks.EarlyStopping(monitor='val_accuracy', patience=2)]\n",
    "                    )\n",
    "end_time = time.time()\n",
    "second_elapsed = round(end_time - start_time)\n",
    "\n",
    "print(f'Finished model training in {second_elapsed}s')"
   ]
  },
  {
   "cell_type": "code",
   "execution_count": 127,
   "metadata": {},
   "outputs": [
    {
     "name": "stdout",
     "output_type": "stream",
     "text": [
      "119/119 [==============================] - 14s 116ms/step - loss: 0.3225 - accuracy: 0.8870\n",
      "Test Loss: 0.32254284620285034\n",
      "Test Accuracy: 0.8869736790657043\n"
     ]
    }
   ],
   "source": [
    "test_loss_a3, test_acc_a3 = model_a3.evaluate(test_dataset)\n",
    "print('Test Loss: {}'.format(test_loss_a3))\n",
    "print('Test Accuracy: {}'.format(test_acc_a3))\n"
   ]
  },
  {
   "cell_type": "code",
   "execution_count": 128,
   "metadata": {
    "colab": {
     "base_uri": "https://localhost:8080/"
    },
    "id": "l5Wa2bx7Suny",
    "outputId": "2d185881-ccbe-4923-e445-33c197795bf8"
   },
   "outputs": [
    {
     "data": {
      "text/plain": [
       "dict_keys(['loss', 'accuracy', 'val_loss', 'val_accuracy'])"
      ]
     },
     "execution_count": 128,
     "metadata": {},
     "output_type": "execute_result"
    }
   ],
   "source": [
    "history_dict_a3 = history_a3.history\n",
    "history_dict_a3.keys()"
   ]
  },
  {
   "cell_type": "code",
   "execution_count": 129,
   "metadata": {
    "colab": {
     "base_uri": "https://localhost:8080/",
     "height": 206
    },
    "id": "cwzqjLbrSurM",
    "outputId": "92494400-336c-41d5-a5fb-056d55752b5c",
    "scrolled": true
   },
   "outputs": [
    {
     "data": {
      "text/html": [
       "<div>\n",
       "<style scoped>\n",
       "    .dataframe tbody tr th:only-of-type {\n",
       "        vertical-align: middle;\n",
       "    }\n",
       "\n",
       "    .dataframe tbody tr th {\n",
       "        vertical-align: top;\n",
       "    }\n",
       "\n",
       "    .dataframe thead th {\n",
       "        text-align: right;\n",
       "    }\n",
       "</style>\n",
       "<table border=\"1\" class=\"dataframe\">\n",
       "  <thead>\n",
       "    <tr style=\"text-align: right;\">\n",
       "      <th></th>\n",
       "      <th>loss</th>\n",
       "      <th>accuracy</th>\n",
       "      <th>val_loss</th>\n",
       "      <th>val_accuracy</th>\n",
       "    </tr>\n",
       "  </thead>\n",
       "  <tbody>\n",
       "    <tr>\n",
       "      <th>4</th>\n",
       "      <td>0.304</td>\n",
       "      <td>0.894</td>\n",
       "      <td>0.321</td>\n",
       "      <td>0.891</td>\n",
       "    </tr>\n",
       "    <tr>\n",
       "      <th>5</th>\n",
       "      <td>0.295</td>\n",
       "      <td>0.897</td>\n",
       "      <td>0.317</td>\n",
       "      <td>0.892</td>\n",
       "    </tr>\n",
       "    <tr>\n",
       "      <th>6</th>\n",
       "      <td>0.288</td>\n",
       "      <td>0.900</td>\n",
       "      <td>0.316</td>\n",
       "      <td>0.894</td>\n",
       "    </tr>\n",
       "    <tr>\n",
       "      <th>7</th>\n",
       "      <td>0.281</td>\n",
       "      <td>0.902</td>\n",
       "      <td>0.318</td>\n",
       "      <td>0.890</td>\n",
       "    </tr>\n",
       "    <tr>\n",
       "      <th>8</th>\n",
       "      <td>0.276</td>\n",
       "      <td>0.903</td>\n",
       "      <td>0.318</td>\n",
       "      <td>0.891</td>\n",
       "    </tr>\n",
       "  </tbody>\n",
       "</table>\n",
       "</div>"
      ],
      "text/plain": [
       "    loss  accuracy  val_loss  val_accuracy\n",
       "4  0.304     0.894     0.321         0.891\n",
       "5  0.295     0.897     0.317         0.892\n",
       "6  0.288     0.900     0.316         0.894\n",
       "7  0.281     0.902     0.318         0.890\n",
       "8  0.276     0.903     0.318         0.891"
      ]
     },
     "execution_count": 129,
     "metadata": {},
     "output_type": "execute_result"
    }
   ],
   "source": [
    "history_a3_df=pd.DataFrame(history_dict_a3)\n",
    "history_a3_df.tail().round(3)"
   ]
  },
  {
   "cell_type": "code",
   "execution_count": 130,
   "metadata": {
    "id": "NvA2u5do1JqA"
   },
   "outputs": [],
   "source": [
    "losses_a3 = history_a3.history['loss']\n",
    "accs_a3 = history_a3.history['accuracy']\n",
    "val_losses_a3 = history_a3.history['val_loss']\n",
    "val_accs_a3 = history_a3.history['val_accuracy']\n",
    "epochs_a3 = len(losses_a3)"
   ]
  },
  {
   "cell_type": "code",
   "execution_count": 131,
   "metadata": {
    "colab": {
     "base_uri": "https://localhost:8080/",
     "height": 265
    },
    "id": "JGoRjq2T1SUp",
    "outputId": "ba97450a-6af3-4584-8c9f-e31ad054da55",
    "scrolled": true
   },
   "outputs": [
    {
     "data": {
      "image/png": "[encoded data removed]",
      "text/plain": [
       "<Figure size 1152x288 with 2 Axes>"
      ]
     },
     "metadata": {
      "needs_background": "light"
     },
     "output_type": "display_data"
    }
   ],
   "source": [
    "plt.figure(figsize=(16, 4))\n",
    "for i, metrics in enumerate(zip([losses_a3, accs_a3], [val_losses_a3, val_accs_a3], ['Loss', 'Accuracy'])):\n",
    "    plt.subplot(1, 2, i + 1)\n",
    "    plt.plot(range(epochs_a3), metrics[0], label='Training {}'.format(metrics[2]))\n",
    "    plt.plot(range(epochs_a3), metrics[1], label='Validation {}'.format(metrics[2]))\n",
    "    plt.legend()\n",
    "plt.show()"
   ]
  },
  {
   "cell_type": "code",
   "execution_count": 132,
   "metadata": {
    "id": "TaRFsKvJyRRv"
   },
   "outputs": [],
   "source": [
    "preds_a3 = model_a3.predict(test_dataset)"
   ]
  },
  {
   "cell_type": "code",
   "execution_count": 133,
   "metadata": {
    "colab": {
     "base_uri": "https://localhost:8080/"
    },
    "id": "38sM3BdNyRRv",
    "outputId": "224571b1-e68e-44a9-c62a-8f8073010fa9"
   },
   "outputs": [
    {
     "data": {
      "text/plain": [
       "(7600, 4)"
      ]
     },
     "execution_count": 133,
     "metadata": {},
     "output_type": "execute_result"
    }
   ],
   "source": [
    "preds_a3.shape"
   ]
  },
  {
   "cell_type": "code",
   "execution_count": 134,
   "metadata": {
    "id": "HLEVza9CyRRw"
   },
   "outputs": [],
   "source": [
    "cm = sns.light_palette((260, 75, 60), input=\"husl\", as_cmap=True)"
   ]
  },
  {
   "cell_type": "code",
   "execution_count": 135,
   "metadata": {
    "colab": {
     "base_uri": "https://localhost:8080/",
     "height": 121
    },
    "id": "QJ4Zct-xyRRw",
    "outputId": "effd38ba-f989-4053-bee6-b5d96842e81d",
    "scrolled": false
   },
   "outputs": [
    {
     "data": {
      "text/html": [
       "<style type=\"text/css\">\n",
       "#T_7813f_row0_col0, #T_7813f_row0_col2, #T_7813f_row0_col5, #T_7813f_row1_col1, #T_7813f_row1_col2, #T_7813f_row1_col4, #T_7813f_row1_col5, #T_7813f_row1_col8, #T_7813f_row1_col9, #T_7813f_row1_col10, #T_7813f_row1_col11, #T_7813f_row1_col12, #T_7813f_row1_col14, #T_7813f_row2_col0, #T_7813f_row2_col1, #T_7813f_row2_col3, #T_7813f_row2_col4, #T_7813f_row2_col6, #T_7813f_row2_col7, #T_7813f_row2_col8, #T_7813f_row2_col10, #T_7813f_row2_col11, #T_7813f_row2_col13, #T_7813f_row2_col14, #T_7813f_row3_col0, #T_7813f_row3_col1, #T_7813f_row3_col3, #T_7813f_row3_col4, #T_7813f_row3_col6, #T_7813f_row3_col7, #T_7813f_row3_col10, #T_7813f_row3_col14 {\n",
       "  background-color: #f0f1f2;\n",
       "  color: #000000;\n",
       "}\n",
       "#T_7813f_row0_col1, #T_7813f_row0_col4, #T_7813f_row0_col8, #T_7813f_row0_col10, #T_7813f_row0_col14, #T_7813f_row1_col0, #T_7813f_row1_col3, #T_7813f_row1_col6, #T_7813f_row1_col7, #T_7813f_row1_col13, #T_7813f_row2_col9, #T_7813f_row2_col12, #T_7813f_row3_col2, #T_7813f_row3_col5, #T_7813f_row3_col11 {\n",
       "  background-color: #778ce4;\n",
       "  color: #f1f1f1;\n",
       "}\n",
       "#T_7813f_row0_col3, #T_7813f_row0_col7, #T_7813f_row0_col9, #T_7813f_row3_col9 {\n",
       "  background-color: #eff0f2;\n",
       "  color: #000000;\n",
       "}\n",
       "#T_7813f_row0_col6, #T_7813f_row0_col11, #T_7813f_row0_col12 {\n",
       "  background-color: #f0f0f2;\n",
       "  color: #000000;\n",
       "}\n",
       "#T_7813f_row0_col13 {\n",
       "  background-color: #aab6ea;\n",
       "  color: #000000;\n",
       "}\n",
       "#T_7813f_row2_col2 {\n",
       "  background-color: #ebecf2;\n",
       "  color: #000000;\n",
       "}\n",
       "#T_7813f_row2_col5 {\n",
       "  background-color: #e8e9f1;\n",
       "  color: #000000;\n",
       "}\n",
       "#T_7813f_row3_col8 {\n",
       "  background-color: #eeeff2;\n",
       "  color: #000000;\n",
       "}\n",
       "#T_7813f_row3_col12 {\n",
       "  background-color: #efeff2;\n",
       "  color: #000000;\n",
       "}\n",
       "#T_7813f_row3_col13 {\n",
       "  background-color: #e6e8f1;\n",
       "  color: #000000;\n",
       "}\n",
       "</style>\n",
       "<table id=\"T_7813f_\">\n",
       "  <thead>\n",
       "    <tr>\n",
       "      <th class=\"blank level0\" >&nbsp;</th>\n",
       "      <th class=\"col_heading level0 col0\" >0</th>\n",
       "      <th class=\"col_heading level0 col1\" >1</th>\n",
       "      <th class=\"col_heading level0 col2\" >2</th>\n",
       "      <th class=\"col_heading level0 col3\" >3</th>\n",
       "      <th class=\"col_heading level0 col4\" >4</th>\n",
       "      <th class=\"col_heading level0 col5\" >5</th>\n",
       "      <th class=\"col_heading level0 col6\" >6</th>\n",
       "      <th class=\"col_heading level0 col7\" >7</th>\n",
       "      <th class=\"col_heading level0 col8\" >8</th>\n",
       "      <th class=\"col_heading level0 col9\" >9</th>\n",
       "      <th class=\"col_heading level0 col10\" >10</th>\n",
       "      <th class=\"col_heading level0 col11\" >11</th>\n",
       "      <th class=\"col_heading level0 col12\" >12</th>\n",
       "      <th class=\"col_heading level0 col13\" >13</th>\n",
       "      <th class=\"col_heading level0 col14\" >14</th>\n",
       "    </tr>\n",
       "  </thead>\n",
       "  <tbody>\n",
       "    <tr>\n",
       "      <th id=\"T_7813f_level0_row0\" class=\"row_heading level0 row0\" >World</th>\n",
       "      <td id=\"T_7813f_row0_col0\" class=\"data row0 col0\" >0.03%</td>\n",
       "      <td id=\"T_7813f_row0_col1\" class=\"data row0 col1\" >99.97%</td>\n",
       "      <td id=\"T_7813f_row0_col2\" class=\"data row0 col2\" >0.34%</td>\n",
       "      <td id=\"T_7813f_row0_col3\" class=\"data row0 col3\" >1.16%</td>\n",
       "      <td id=\"T_7813f_row0_col4\" class=\"data row0 col4\" >99.72%</td>\n",
       "      <td id=\"T_7813f_row0_col5\" class=\"data row0 col5\" >0.37%</td>\n",
       "      <td id=\"T_7813f_row0_col6\" class=\"data row0 col6\" >0.75%</td>\n",
       "      <td id=\"T_7813f_row0_col7\" class=\"data row0 col7\" >0.89%</td>\n",
       "      <td id=\"T_7813f_row0_col8\" class=\"data row0 col8\" >98.20%</td>\n",
       "      <td id=\"T_7813f_row0_col9\" class=\"data row0 col9\" >0.84%</td>\n",
       "      <td id=\"T_7813f_row0_col10\" class=\"data row0 col10\" >99.99%</td>\n",
       "      <td id=\"T_7813f_row0_col11\" class=\"data row0 col11\" >0.46%</td>\n",
       "      <td id=\"T_7813f_row0_col12\" class=\"data row0 col12\" >0.44%</td>\n",
       "      <td id=\"T_7813f_row0_col13\" class=\"data row0 col13\" >33.87%</td>\n",
       "      <td id=\"T_7813f_row0_col14\" class=\"data row0 col14\" >99.91%</td>\n",
       "    </tr>\n",
       "    <tr>\n",
       "      <th id=\"T_7813f_level0_row1\" class=\"row_heading level0 row1\" >Sports</th>\n",
       "      <td id=\"T_7813f_row1_col0\" class=\"data row1 col0\" >99.96%</td>\n",
       "      <td id=\"T_7813f_row1_col1\" class=\"data row1 col1\" >0.00%</td>\n",
       "      <td id=\"T_7813f_row1_col2\" class=\"data row1 col2\" >0.01%</td>\n",
       "      <td id=\"T_7813f_row1_col3\" class=\"data row1 col3\" >98.75%</td>\n",
       "      <td id=\"T_7813f_row1_col4\" class=\"data row1 col4\" >0.01%</td>\n",
       "      <td id=\"T_7813f_row1_col5\" class=\"data row1 col5\" >0.10%</td>\n",
       "      <td id=\"T_7813f_row1_col6\" class=\"data row1 col6\" >98.84%</td>\n",
       "      <td id=\"T_7813f_row1_col7\" class=\"data row1 col7\" >99.07%</td>\n",
       "      <td id=\"T_7813f_row1_col8\" class=\"data row1 col8\" >0.04%</td>\n",
       "      <td id=\"T_7813f_row1_col9\" class=\"data row1 col9\" >0.06%</td>\n",
       "      <td id=\"T_7813f_row1_col10\" class=\"data row1 col10\" >0.00%</td>\n",
       "      <td id=\"T_7813f_row1_col11\" class=\"data row1 col11\" >0.01%</td>\n",
       "      <td id=\"T_7813f_row1_col12\" class=\"data row1 col12\" >0.02%</td>\n",
       "      <td id=\"T_7813f_row1_col13\" class=\"data row1 col13\" >56.87%</td>\n",
       "      <td id=\"T_7813f_row1_col14\" class=\"data row1 col14\" >0.00%</td>\n",
       "    </tr>\n",
       "    <tr>\n",
       "      <th id=\"T_7813f_level0_row2\" class=\"row_heading level0 row2\" >Business</th>\n",
       "      <td id=\"T_7813f_row2_col0\" class=\"data row2 col0\" >0.01%</td>\n",
       "      <td id=\"T_7813f_row2_col1\" class=\"data row2 col1\" >0.03%</td>\n",
       "      <td id=\"T_7813f_row2_col2\" class=\"data row2 col2\" >4.51%</td>\n",
       "      <td id=\"T_7813f_row2_col3\" class=\"data row2 col3\" >0.05%</td>\n",
       "      <td id=\"T_7813f_row2_col4\" class=\"data row2 col4\" >0.04%</td>\n",
       "      <td id=\"T_7813f_row2_col5\" class=\"data row2 col5\" >6.90%</td>\n",
       "      <td id=\"T_7813f_row2_col6\" class=\"data row2 col6\" >0.10%</td>\n",
       "      <td id=\"T_7813f_row2_col7\" class=\"data row2 col7\" >0.01%</td>\n",
       "      <td id=\"T_7813f_row2_col8\" class=\"data row2 col8\" >0.07%</td>\n",
       "      <td id=\"T_7813f_row2_col9\" class=\"data row2 col9\" >98.07%</td>\n",
       "      <td id=\"T_7813f_row2_col10\" class=\"data row2 col10\" >0.01%</td>\n",
       "      <td id=\"T_7813f_row2_col11\" class=\"data row2 col11\" >0.11%</td>\n",
       "      <td id=\"T_7813f_row2_col12\" class=\"data row2 col12\" >98.20%</td>\n",
       "      <td id=\"T_7813f_row2_col13\" class=\"data row2 col13\" >2.28%</td>\n",
       "      <td id=\"T_7813f_row2_col14\" class=\"data row2 col14\" >0.00%</td>\n",
       "    </tr>\n",
       "    <tr>\n",
       "      <th id=\"T_7813f_level0_row3\" class=\"row_heading level0 row3\" >Sci/Tech</th>\n",
       "      <td id=\"T_7813f_row3_col0\" class=\"data row3 col0\" >0.00%</td>\n",
       "      <td id=\"T_7813f_row3_col1\" class=\"data row3 col1\" >0.01%</td>\n",
       "      <td id=\"T_7813f_row3_col2\" class=\"data row3 col2\" >95.15%</td>\n",
       "      <td id=\"T_7813f_row3_col3\" class=\"data row3 col3\" >0.04%</td>\n",
       "      <td id=\"T_7813f_row3_col4\" class=\"data row3 col4\" >0.23%</td>\n",
       "      <td id=\"T_7813f_row3_col5\" class=\"data row3 col5\" >92.63%</td>\n",
       "      <td id=\"T_7813f_row3_col6\" class=\"data row3 col6\" >0.32%</td>\n",
       "      <td id=\"T_7813f_row3_col7\" class=\"data row3 col7\" >0.03%</td>\n",
       "      <td id=\"T_7813f_row3_col8\" class=\"data row3 col8\" >1.69%</td>\n",
       "      <td id=\"T_7813f_row3_col9\" class=\"data row3 col9\" >1.03%</td>\n",
       "      <td id=\"T_7813f_row3_col10\" class=\"data row3 col10\" >0.00%</td>\n",
       "      <td id=\"T_7813f_row3_col11\" class=\"data row3 col11\" >99.43%</td>\n",
       "      <td id=\"T_7813f_row3_col12\" class=\"data row3 col12\" >1.35%</td>\n",
       "      <td id=\"T_7813f_row3_col13\" class=\"data row3 col13\" >6.98%</td>\n",
       "      <td id=\"T_7813f_row3_col14\" class=\"data row3 col14\" >0.09%</td>\n",
       "    </tr>\n",
       "  </tbody>\n",
       "</table>\n"
      ],
      "text/plain": [
       "<pandas.io.formats.style.Styler at 0x2ccbb0c3708>"
      ]
     },
     "execution_count": 135,
     "metadata": {},
     "output_type": "execute_result"
    }
   ],
   "source": [
    "df = pd.DataFrame(preds_a3[0:15]\n",
    "                  ,columns = ['World','Sports','Business','Sci/Tech']).T\n",
    "df.style.format(\"{:.2%}\").background_gradient(cmap=cm)"
   ]
  },
  {
   "cell_type": "markdown",
   "metadata": {},
   "source": [
    "### Dual Bidirectional GRU"
   ]
  },
  {
   "cell_type": "code",
   "execution_count": 137,
   "metadata": {},
   "outputs": [],
   "source": [
    "encoder_a3 = tf.keras.layers.experimental.preprocessing.TextVectorization(\n",
    "    max_tokens=VOCAB_SIZE)\n",
    "encoder_a3.adapt(train_dataset.map(lambda text, label: text))\n",
    "vocab_a3 = np.array(encoder_a3.get_vocabulary())\n"
   ]
  },
  {
   "cell_type": "code",
   "execution_count": 138,
   "metadata": {},
   "outputs": [
    {
     "name": "stdout",
     "output_type": "stream",
     "text": [
      "WARNING:tensorflow:Layer gru_4 will not use cuDNN kernel since it doesn't meet the cuDNN kernel criteria. It will use generic GPU kernel as fallback when running on GPU\n"
     ]
    },
    {
     "name": "stderr",
     "output_type": "stream",
     "text": [
      "WARNING:tensorflow:Layer gru_4 will not use cuDNN kernel since it doesn't meet the cuDNN kernel criteria. It will use generic GPU kernel as fallback when running on GPU\n"
     ]
    },
    {
     "name": "stdout",
     "output_type": "stream",
     "text": [
      "WARNING:tensorflow:Layer gru_4 will not use cuDNN kernel since it doesn't meet the cuDNN kernel criteria. It will use generic GPU kernel as fallback when running on GPU\n"
     ]
    },
    {
     "name": "stderr",
     "output_type": "stream",
     "text": [
      "WARNING:tensorflow:Layer gru_4 will not use cuDNN kernel since it doesn't meet the cuDNN kernel criteria. It will use generic GPU kernel as fallback when running on GPU\n"
     ]
    },
    {
     "name": "stdout",
     "output_type": "stream",
     "text": [
      "WARNING:tensorflow:Layer gru_4 will not use cuDNN kernel since it doesn't meet the cuDNN kernel criteria. It will use generic GPU kernel as fallback when running on GPU\n"
     ]
    },
    {
     "name": "stderr",
     "output_type": "stream",
     "text": [
      "WARNING:tensorflow:Layer gru_4 will not use cuDNN kernel since it doesn't meet the cuDNN kernel criteria. It will use generic GPU kernel as fallback when running on GPU\n"
     ]
    },
    {
     "name": "stdout",
     "output_type": "stream",
     "text": [
      "WARNING:tensorflow:Layer gru_5 will not use cuDNN kernel since it doesn't meet the cuDNN kernel criteria. It will use generic GPU kernel as fallback when running on GPU\n"
     ]
    },
    {
     "name": "stderr",
     "output_type": "stream",
     "text": [
      "WARNING:tensorflow:Layer gru_5 will not use cuDNN kernel since it doesn't meet the cuDNN kernel criteria. It will use generic GPU kernel as fallback when running on GPU\n"
     ]
    },
    {
     "name": "stdout",
     "output_type": "stream",
     "text": [
      "WARNING:tensorflow:Layer gru_5 will not use cuDNN kernel since it doesn't meet the cuDNN kernel criteria. It will use generic GPU kernel as fallback when running on GPU\n"
     ]
    },
    {
     "name": "stderr",
     "output_type": "stream",
     "text": [
      "WARNING:tensorflow:Layer gru_5 will not use cuDNN kernel since it doesn't meet the cuDNN kernel criteria. It will use generic GPU kernel as fallback when running on GPU\n"
     ]
    },
    {
     "name": "stdout",
     "output_type": "stream",
     "text": [
      "WARNING:tensorflow:Layer gru_5 will not use cuDNN kernel since it doesn't meet the cuDNN kernel criteria. It will use generic GPU kernel as fallback when running on GPU\n"
     ]
    },
    {
     "name": "stderr",
     "output_type": "stream",
     "text": [
      "WARNING:tensorflow:Layer gru_5 will not use cuDNN kernel since it doesn't meet the cuDNN kernel criteria. It will use generic GPU kernel as fallback when running on GPU\n"
     ]
    }
   ],
   "source": [
    "start_time = time.time()\n",
    "\n",
    "VOCAB_SIZE=3000\n",
    "encoder_a3 = tf.keras.layers.experimental.preprocessing.TextVectorization(\n",
    "    max_tokens=VOCAB_SIZE)\n",
    "encoder_a3.adapt(train_dataset.map(lambda text, label: text))\n",
    "vocab_a3 = np.array(encoder_a3.get_vocabulary())\n",
    "\n",
    "num_classes = 4\n",
    "\n",
    "model_a3 = tf.keras.Sequential([\n",
    "                              encoder_a3\n",
    "                              ,tf.keras.layers.Embedding(input_dim=len(encoder_a3.get_vocabulary())\n",
    "                              ,output_dim=64\n",
    "                                # Use masking to handle the variable sequence lengths\n",
    "                              ,mask_zero=True)\n",
    "                              ,tf.keras.layers.Bidirectional(tf.keras.layers.GRU(64, return_sequences=True, dropout=0.2, recurrent_dropout=0.1))\n",
    "                              ,tf.keras.layers.Bidirectional(tf.keras.layers.GRU(64, dropout=0.2, recurrent_dropout=0.2))\n",
    "                              ,tf.keras.layers.Dense(64, activation='relu')\n",
    "                              ,tf.keras.layers.Dense(num_classes,activation='softmax')   # num_classes = 4\n",
    "])\n",
    "model_a3.compile(optimizer=tf.keras.optimizers.Adam(1e-4)\n",
    "              ,loss=tf.keras.losses.SparseCategoricalCrossentropy() # if we set from_logits=True we don not have specify a softmax activation function in the last layer\n",
    "              ,metrics=['accuracy'])"
   ]
  },
  {
   "cell_type": "code",
   "execution_count": 139,
   "metadata": {},
   "outputs": [
    {
     "name": "stdout",
     "output_type": "stream",
     "text": [
      "Epoch 1/200\n",
      "1782/1782 [==============================] - 3262s 2s/step - loss: 0.6401 - accuracy: 0.7476 - val_loss: 0.3733 - val_accuracy: 0.8742\n",
      "Epoch 2/200\n",
      "1782/1782 [==============================] - 3308s 2s/step - loss: 0.3669 - accuracy: 0.8720 - val_loss: 0.3495 - val_accuracy: 0.8832\n",
      "Epoch 3/200\n",
      "1782/1782 [==============================] - 6538s 4s/step - loss: 0.3329 - accuracy: 0.8843 - val_loss: 0.3304 - val_accuracy: 0.8893\n",
      "Epoch 4/200\n",
      "1782/1782 [==============================] - 3334s 2s/step - loss: 0.3121 - accuracy: 0.8913 - val_loss: 0.3210 - val_accuracy: 0.8908\n",
      "Epoch 5/200\n",
      "1782/1782 [==============================] - 4330s 2s/step - loss: 0.2980 - accuracy: 0.8962 - val_loss: 0.3263 - val_accuracy: 0.8888\n",
      "Epoch 6/200\n",
      "1782/1782 [==============================] - 11492s 6s/step - loss: 0.2893 - accuracy: 0.8989 - val_loss: 0.3158 - val_accuracy: 0.8895\n",
      "Finished model training in 32301s\n"
     ]
    }
   ],
   "source": [
    "history_a3 = model_a3.fit(train_dataset\n",
    "                    ,epochs = 200\n",
    "                    ,validation_data=validation_dataset\n",
    "                    ,callbacks=[tf.keras.callbacks.EarlyStopping(monitor='val_accuracy', patience=2)]\n",
    "                    )\n",
    "end_time = time.time()\n",
    "second_elapsed = round(end_time - start_time)\n",
    "\n",
    "print(f'Finished model training in {second_elapsed}s')"
   ]
  },
  {
   "cell_type": "code",
   "execution_count": 140,
   "metadata": {},
   "outputs": [
    {
     "name": "stdout",
     "output_type": "stream",
     "text": [
      "119/119 [==============================] - 103s 866ms/step - loss: 0.3251 - accuracy: 0.8884\n",
      "Test Loss: 0.32511481642723083\n",
      "Test Accuracy: 0.8884210586547852\n"
     ]
    }
   ],
   "source": [
    "test_loss_a3, test_acc_a3 = model_a3.evaluate(test_dataset)\n",
    "print('Test Loss: {}'.format(test_loss_a3))\n",
    "print('Test Accuracy: {}'.format(test_acc_a3))\n"
   ]
  },
  {
   "cell_type": "code",
   "execution_count": 141,
   "metadata": {
    "colab": {
     "base_uri": "https://localhost:8080/"
    },
    "id": "l5Wa2bx7Suny",
    "outputId": "2d185881-ccbe-4923-e445-33c197795bf8"
   },
   "outputs": [
    {
     "data": {
      "text/plain": [
       "dict_keys(['loss', 'accuracy', 'val_loss', 'val_accuracy'])"
      ]
     },
     "execution_count": 141,
     "metadata": {},
     "output_type": "execute_result"
    }
   ],
   "source": [
    "history_dict_a3 = history_a3.history\n",
    "history_dict_a3.keys()"
   ]
  },
  {
   "cell_type": "code",
   "execution_count": 142,
   "metadata": {
    "colab": {
     "base_uri": "https://localhost:8080/",
     "height": 206
    },
    "id": "cwzqjLbrSurM",
    "outputId": "92494400-336c-41d5-a5fb-056d55752b5c",
    "scrolled": true
   },
   "outputs": [
    {
     "data": {
      "text/html": [
       "<div>\n",
       "<style scoped>\n",
       "    .dataframe tbody tr th:only-of-type {\n",
       "        vertical-align: middle;\n",
       "    }\n",
       "\n",
       "    .dataframe tbody tr th {\n",
       "        vertical-align: top;\n",
       "    }\n",
       "\n",
       "    .dataframe thead th {\n",
       "        text-align: right;\n",
       "    }\n",
       "</style>\n",
       "<table border=\"1\" class=\"dataframe\">\n",
       "  <thead>\n",
       "    <tr style=\"text-align: right;\">\n",
       "      <th></th>\n",
       "      <th>loss</th>\n",
       "      <th>accuracy</th>\n",
       "      <th>val_loss</th>\n",
       "      <th>val_accuracy</th>\n",
       "    </tr>\n",
       "  </thead>\n",
       "  <tbody>\n",
       "    <tr>\n",
       "      <th>1</th>\n",
       "      <td>0.367</td>\n",
       "      <td>0.872</td>\n",
       "      <td>0.349</td>\n",
       "      <td>0.883</td>\n",
       "    </tr>\n",
       "    <tr>\n",
       "      <th>2</th>\n",
       "      <td>0.333</td>\n",
       "      <td>0.884</td>\n",
       "      <td>0.330</td>\n",
       "      <td>0.889</td>\n",
       "    </tr>\n",
       "    <tr>\n",
       "      <th>3</th>\n",
       "      <td>0.312</td>\n",
       "      <td>0.891</td>\n",
       "      <td>0.321</td>\n",
       "      <td>0.891</td>\n",
       "    </tr>\n",
       "    <tr>\n",
       "      <th>4</th>\n",
       "      <td>0.298</td>\n",
       "      <td>0.896</td>\n",
       "      <td>0.326</td>\n",
       "      <td>0.889</td>\n",
       "    </tr>\n",
       "    <tr>\n",
       "      <th>5</th>\n",
       "      <td>0.289</td>\n",
       "      <td>0.899</td>\n",
       "      <td>0.316</td>\n",
       "      <td>0.890</td>\n",
       "    </tr>\n",
       "  </tbody>\n",
       "</table>\n",
       "</div>"
      ],
      "text/plain": [
       "    loss  accuracy  val_loss  val_accuracy\n",
       "1  0.367     0.872     0.349         0.883\n",
       "2  0.333     0.884     0.330         0.889\n",
       "3  0.312     0.891     0.321         0.891\n",
       "4  0.298     0.896     0.326         0.889\n",
       "5  0.289     0.899     0.316         0.890"
      ]
     },
     "execution_count": 142,
     "metadata": {},
     "output_type": "execute_result"
    }
   ],
   "source": [
    "history_a3_df=pd.DataFrame(history_dict_a3)\n",
    "history_a3_df.tail().round(3)"
   ]
  },
  {
   "cell_type": "code",
   "execution_count": 143,
   "metadata": {
    "id": "NvA2u5do1JqA"
   },
   "outputs": [],
   "source": [
    "losses_a3 = history_a3.history['loss']\n",
    "accs_a3 = history_a3.history['accuracy']\n",
    "val_losses_a3 = history_a3.history['val_loss']\n",
    "val_accs_a3 = history_a3.history['val_accuracy']\n",
    "epochs_a3 = len(losses_a3)"
   ]
  },
  {
   "cell_type": "code",
   "execution_count": 144,
   "metadata": {
    "colab": {
     "base_uri": "https://localhost:8080/",
     "height": 265
    },
    "id": "JGoRjq2T1SUp",
    "outputId": "ba97450a-6af3-4584-8c9f-e31ad054da55",
    "scrolled": true
   },
   "outputs": [
    {
     "data": {
      "image/png": "[encoded data removed]",
      "text/plain": [
       "<Figure size 1152x288 with 2 Axes>"
      ]
     },
     "metadata": {
      "needs_background": "light"
     },
     "output_type": "display_data"
    }
   ],
   "source": [
    "plt.figure(figsize=(16, 4))\n",
    "for i, metrics in enumerate(zip([losses_a3, accs_a3], [val_losses_a3, val_accs_a3], ['Loss', 'Accuracy'])):\n",
    "    plt.subplot(1, 2, i + 1)\n",
    "    plt.plot(range(epochs_a3), metrics[0], label='Training {}'.format(metrics[2]))\n",
    "    plt.plot(range(epochs_a3), metrics[1], label='Validation {}'.format(metrics[2]))\n",
    "    plt.legend()\n",
    "plt.show()"
   ]
  },
  {
   "cell_type": "code",
   "execution_count": 145,
   "metadata": {
    "id": "TaRFsKvJyRRv"
   },
   "outputs": [],
   "source": [
    "preds_a3 = model_a3.predict(test_dataset)"
   ]
  },
  {
   "cell_type": "code",
   "execution_count": 146,
   "metadata": {
    "colab": {
     "base_uri": "https://localhost:8080/"
    },
    "id": "38sM3BdNyRRv",
    "outputId": "224571b1-e68e-44a9-c62a-8f8073010fa9"
   },
   "outputs": [
    {
     "data": {
      "text/plain": [
       "(7600, 4)"
      ]
     },
     "execution_count": 146,
     "metadata": {},
     "output_type": "execute_result"
    }
   ],
   "source": [
    "preds_a3.shape"
   ]
  },
  {
   "cell_type": "code",
   "execution_count": 147,
   "metadata": {
    "id": "HLEVza9CyRRw"
   },
   "outputs": [],
   "source": [
    "cm = sns.light_palette((260, 75, 60), input=\"husl\", as_cmap=True)"
   ]
  },
  {
   "cell_type": "code",
   "execution_count": 148,
   "metadata": {
    "colab": {
     "base_uri": "https://localhost:8080/",
     "height": 121
    },
    "id": "QJ4Zct-xyRRw",
    "outputId": "effd38ba-f989-4053-bee6-b5d96842e81d",
    "scrolled": false
   },
   "outputs": [
    {
     "data": {
      "text/html": [
       "<style type=\"text/css\">\n",
       "#T_0da11_row0_col0, #T_0da11_row0_col2, #T_0da11_row0_col5, #T_0da11_row0_col11, #T_0da11_row1_col1, #T_0da11_row1_col2, #T_0da11_row1_col4, #T_0da11_row1_col5, #T_0da11_row1_col8, #T_0da11_row1_col9, #T_0da11_row1_col10, #T_0da11_row1_col11, #T_0da11_row1_col12, #T_0da11_row1_col14, #T_0da11_row2_col0, #T_0da11_row2_col1, #T_0da11_row2_col3, #T_0da11_row2_col4, #T_0da11_row2_col6, #T_0da11_row2_col7, #T_0da11_row2_col8, #T_0da11_row2_col10, #T_0da11_row2_col11, #T_0da11_row2_col13, #T_0da11_row2_col14, #T_0da11_row3_col0, #T_0da11_row3_col1, #T_0da11_row3_col3, #T_0da11_row3_col4, #T_0da11_row3_col6, #T_0da11_row3_col7, #T_0da11_row3_col10, #T_0da11_row3_col14 {\n",
       "  background-color: #f0f1f2;\n",
       "  color: #000000;\n",
       "}\n",
       "#T_0da11_row0_col1, #T_0da11_row0_col4, #T_0da11_row0_col8, #T_0da11_row0_col10, #T_0da11_row0_col13, #T_0da11_row0_col14, #T_0da11_row1_col0, #T_0da11_row1_col3, #T_0da11_row1_col6, #T_0da11_row1_col7, #T_0da11_row2_col9, #T_0da11_row2_col12, #T_0da11_row3_col2, #T_0da11_row3_col5, #T_0da11_row3_col11 {\n",
       "  background-color: #778ce4;\n",
       "  color: #f1f1f1;\n",
       "}\n",
       "#T_0da11_row0_col3 {\n",
       "  background-color: #edeef2;\n",
       "  color: #000000;\n",
       "}\n",
       "#T_0da11_row0_col6, #T_0da11_row0_col9 {\n",
       "  background-color: #eff0f2;\n",
       "  color: #000000;\n",
       "}\n",
       "#T_0da11_row0_col7 {\n",
       "  background-color: #eeeff2;\n",
       "  color: #000000;\n",
       "}\n",
       "#T_0da11_row0_col12, #T_0da11_row3_col9 {\n",
       "  background-color: #f0f0f2;\n",
       "  color: #000000;\n",
       "}\n",
       "#T_0da11_row1_col13, #T_0da11_row3_col8, #T_0da11_row3_col12 {\n",
       "  background-color: #efeff2;\n",
       "  color: #000000;\n",
       "}\n",
       "#T_0da11_row2_col2 {\n",
       "  background-color: #ebecf2;\n",
       "  color: #000000;\n",
       "}\n",
       "#T_0da11_row2_col5 {\n",
       "  background-color: #e6e8f1;\n",
       "  color: #000000;\n",
       "}\n",
       "#T_0da11_row3_col13 {\n",
       "  background-color: #dbdff0;\n",
       "  color: #000000;\n",
       "}\n",
       "</style>\n",
       "<table id=\"T_0da11_\">\n",
       "  <thead>\n",
       "    <tr>\n",
       "      <th class=\"blank level0\" >&nbsp;</th>\n",
       "      <th class=\"col_heading level0 col0\" >0</th>\n",
       "      <th class=\"col_heading level0 col1\" >1</th>\n",
       "      <th class=\"col_heading level0 col2\" >2</th>\n",
       "      <th class=\"col_heading level0 col3\" >3</th>\n",
       "      <th class=\"col_heading level0 col4\" >4</th>\n",
       "      <th class=\"col_heading level0 col5\" >5</th>\n",
       "      <th class=\"col_heading level0 col6\" >6</th>\n",
       "      <th class=\"col_heading level0 col7\" >7</th>\n",
       "      <th class=\"col_heading level0 col8\" >8</th>\n",
       "      <th class=\"col_heading level0 col9\" >9</th>\n",
       "      <th class=\"col_heading level0 col10\" >10</th>\n",
       "      <th class=\"col_heading level0 col11\" >11</th>\n",
       "      <th class=\"col_heading level0 col12\" >12</th>\n",
       "      <th class=\"col_heading level0 col13\" >13</th>\n",
       "      <th class=\"col_heading level0 col14\" >14</th>\n",
       "    </tr>\n",
       "  </thead>\n",
       "  <tbody>\n",
       "    <tr>\n",
       "      <th id=\"T_0da11_level0_row0\" class=\"row_heading level0 row0\" >World</th>\n",
       "      <td id=\"T_0da11_row0_col0\" class=\"data row0 col0\" >0.23%</td>\n",
       "      <td id=\"T_0da11_row0_col1\" class=\"data row0 col1\" >99.96%</td>\n",
       "      <td id=\"T_0da11_row0_col2\" class=\"data row0 col2\" >0.27%</td>\n",
       "      <td id=\"T_0da11_row0_col3\" class=\"data row0 col3\" >3.02%</td>\n",
       "      <td id=\"T_0da11_row0_col4\" class=\"data row0 col4\" >99.66%</td>\n",
       "      <td id=\"T_0da11_row0_col5\" class=\"data row0 col5\" >0.42%</td>\n",
       "      <td id=\"T_0da11_row0_col6\" class=\"data row0 col6\" >1.05%</td>\n",
       "      <td id=\"T_0da11_row0_col7\" class=\"data row0 col7\" >1.77%</td>\n",
       "      <td id=\"T_0da11_row0_col8\" class=\"data row0 col8\" >98.52%</td>\n",
       "      <td id=\"T_0da11_row0_col9\" class=\"data row0 col9\" >1.21%</td>\n",
       "      <td id=\"T_0da11_row0_col10\" class=\"data row0 col10\" >99.98%</td>\n",
       "      <td id=\"T_0da11_row0_col11\" class=\"data row0 col11\" >0.18%</td>\n",
       "      <td id=\"T_0da11_row0_col12\" class=\"data row0 col12\" >0.64%</td>\n",
       "      <td id=\"T_0da11_row0_col13\" class=\"data row0 col13\" >79.07%</td>\n",
       "      <td id=\"T_0da11_row0_col14\" class=\"data row0 col14\" >99.93%</td>\n",
       "    </tr>\n",
       "    <tr>\n",
       "      <th id=\"T_0da11_level0_row1\" class=\"row_heading level0 row1\" >Sports</th>\n",
       "      <td id=\"T_0da11_row1_col0\" class=\"data row1 col0\" >99.73%</td>\n",
       "      <td id=\"T_0da11_row1_col1\" class=\"data row1 col1\" >0.00%</td>\n",
       "      <td id=\"T_0da11_row1_col2\" class=\"data row1 col2\" >0.03%</td>\n",
       "      <td id=\"T_0da11_row1_col3\" class=\"data row1 col3\" >96.79%</td>\n",
       "      <td id=\"T_0da11_row1_col4\" class=\"data row1 col4\" >0.00%</td>\n",
       "      <td id=\"T_0da11_row1_col5\" class=\"data row1 col5\" >0.10%</td>\n",
       "      <td id=\"T_0da11_row1_col6\" class=\"data row1 col6\" >98.38%</td>\n",
       "      <td id=\"T_0da11_row1_col7\" class=\"data row1 col7\" >98.14%</td>\n",
       "      <td id=\"T_0da11_row1_col8\" class=\"data row1 col8\" >0.03%</td>\n",
       "      <td id=\"T_0da11_row1_col9\" class=\"data row1 col9\" >0.19%</td>\n",
       "      <td id=\"T_0da11_row1_col10\" class=\"data row1 col10\" >0.00%</td>\n",
       "      <td id=\"T_0da11_row1_col11\" class=\"data row1 col11\" >0.02%</td>\n",
       "      <td id=\"T_0da11_row1_col12\" class=\"data row1 col12\" >0.14%</td>\n",
       "      <td id=\"T_0da11_row1_col13\" class=\"data row1 col13\" >3.16%</td>\n",
       "      <td id=\"T_0da11_row1_col14\" class=\"data row1 col14\" >0.00%</td>\n",
       "    </tr>\n",
       "    <tr>\n",
       "      <th id=\"T_0da11_level0_row2\" class=\"row_heading level0 row2\" >Business</th>\n",
       "      <td id=\"T_0da11_row2_col0\" class=\"data row2 col0\" >0.03%</td>\n",
       "      <td id=\"T_0da11_row2_col1\" class=\"data row2 col1\" >0.02%</td>\n",
       "      <td id=\"T_0da11_row2_col2\" class=\"data row2 col2\" >4.76%</td>\n",
       "      <td id=\"T_0da11_row2_col3\" class=\"data row2 col3\" >0.11%</td>\n",
       "      <td id=\"T_0da11_row2_col4\" class=\"data row2 col4\" >0.05%</td>\n",
       "      <td id=\"T_0da11_row2_col5\" class=\"data row2 col5\" >7.71%</td>\n",
       "      <td id=\"T_0da11_row2_col6\" class=\"data row2 col6\" >0.23%</td>\n",
       "      <td id=\"T_0da11_row2_col7\" class=\"data row2 col7\" >0.02%</td>\n",
       "      <td id=\"T_0da11_row2_col8\" class=\"data row2 col8\" >0.19%</td>\n",
       "      <td id=\"T_0da11_row2_col9\" class=\"data row2 col9\" >97.77%</td>\n",
       "      <td id=\"T_0da11_row2_col10\" class=\"data row2 col10\" >0.01%</td>\n",
       "      <td id=\"T_0da11_row2_col11\" class=\"data row2 col11\" >0.20%</td>\n",
       "      <td id=\"T_0da11_row2_col12\" class=\"data row2 col12\" >97.60%</td>\n",
       "      <td id=\"T_0da11_row2_col13\" class=\"data row2 col13\" >2.15%</td>\n",
       "      <td id=\"T_0da11_row2_col14\" class=\"data row2 col14\" >0.00%</td>\n",
       "    </tr>\n",
       "    <tr>\n",
       "      <th id=\"T_0da11_level0_row3\" class=\"row_heading level0 row3\" >Sci/Tech</th>\n",
       "      <td id=\"T_0da11_row3_col0\" class=\"data row3 col0\" >0.01%</td>\n",
       "      <td id=\"T_0da11_row3_col1\" class=\"data row3 col1\" >0.02%</td>\n",
       "      <td id=\"T_0da11_row3_col2\" class=\"data row3 col2\" >94.94%</td>\n",
       "      <td id=\"T_0da11_row3_col3\" class=\"data row3 col3\" >0.08%</td>\n",
       "      <td id=\"T_0da11_row3_col4\" class=\"data row3 col4\" >0.28%</td>\n",
       "      <td id=\"T_0da11_row3_col5\" class=\"data row3 col5\" >91.77%</td>\n",
       "      <td id=\"T_0da11_row3_col6\" class=\"data row3 col6\" >0.33%</td>\n",
       "      <td id=\"T_0da11_row3_col7\" class=\"data row3 col7\" >0.06%</td>\n",
       "      <td id=\"T_0da11_row3_col8\" class=\"data row3 col8\" >1.26%</td>\n",
       "      <td id=\"T_0da11_row3_col9\" class=\"data row3 col9\" >0.84%</td>\n",
       "      <td id=\"T_0da11_row3_col10\" class=\"data row3 col10\" >0.01%</td>\n",
       "      <td id=\"T_0da11_row3_col11\" class=\"data row3 col11\" >99.60%</td>\n",
       "      <td id=\"T_0da11_row3_col12\" class=\"data row3 col12\" >1.61%</td>\n",
       "      <td id=\"T_0da11_row3_col13\" class=\"data row3 col13\" >15.62%</td>\n",
       "      <td id=\"T_0da11_row3_col14\" class=\"data row3 col14\" >0.07%</td>\n",
       "    </tr>\n",
       "  </tbody>\n",
       "</table>\n"
      ],
      "text/plain": [
       "<pandas.io.formats.style.Styler at 0x2cc9c09fa88>"
      ]
     },
     "execution_count": 148,
     "metadata": {},
     "output_type": "execute_result"
    }
   ],
   "source": [
    "df = pd.DataFrame(preds_a3[0:15]\n",
    "                  ,columns = ['World','Sports','Business','Sci/Tech']).T\n",
    "df.style.format(\"{:.2%}\").background_gradient(cmap=cm)"
   ]
  }
 ],
 "metadata": {
  "accelerator": "GPU",
  "colab": {
   "collapsed_sections": [],
   "machine_shape": "hm",
   "name": "MSDS458_Assignment_03_20210619_DEV_v16.ipynb",
   "provenance": [],
   "toc_visible": true
  },
  "kernelspec": {
   "display_name": "Python 3 (ipykernel)",
   "language": "python",
   "name": "python3"
  },
  "language_info": {
   "codemirror_mode": {
    "name": "ipython",
    "version": 3
   },
   "file_extension": ".py",
   "mimetype": "text/x-python",
   "name": "python",
   "nbconvert_exporter": "python",
   "pygments_lexer": "ipython3",
   "version": "3.7.11"
  },
  "toc": {
   "base_numbering": 1,
   "nav_menu": {},
   "number_sections": false,
   "sideBar": true,
   "skip_h1_title": false,
   "title_cell": "Table of Contents",
   "title_sidebar": "Contents",
   "toc_cell": false,
   "toc_position": {},
   "toc_section_display": true,
   "toc_window_display": false
  }
 },
 "nbformat": 4,
 "nbformat_minor": 1
}
