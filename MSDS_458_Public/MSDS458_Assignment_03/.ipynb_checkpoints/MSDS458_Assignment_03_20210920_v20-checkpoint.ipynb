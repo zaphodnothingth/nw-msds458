{
 "cells": [
  {
   "cell_type": "markdown",
   "metadata": {
    "id": "Cfh9kVB-rpjo"
   },
   "source": [
    "<img src=\"https://github.com/djp840/MSDS_458_Public/blob/master/images/NorthwesternHeader.png?raw=1\">"
   ]
  },
  {
   "cell_type": "markdown",
   "metadata": {
    "id": "pRAx1f1ir1St"
   },
   "source": [
    "## MSDS458 Research Assignment 3"
   ]
  },
  {
   "cell_type": "markdown",
   "metadata": {
    "id": "jQnyR1_aFk-t"
   },
   "source": [
    "### Analyze AG_NEWS_SUBSET Data <br>\n",
    "\n",
    "AG is a collection of more than 1 million news articles. News articles have been gathered from more than 2000 news sources by ComeToMyHead in more than 1 year of activity. ComeToMyHead is an academic news search engine which has been running since July, 2004. The dataset is provided by the academic comunity for research purposes in data mining (clustering, classification, etc), information retrieval (ranking, search, etc), xml, data compression, data streaming, and any other non-commercial activity.<br> \n",
    "\n",
    "For more information, please refer to the link http://www.di.unipi.it/~gulli/AG_corpus_of_news_articles.html<br> \n",
    "\n",
    "\n",
    "The AG's news topic classification dataset is constructed by choosing 4 largest classes (**World**, **Sports**, **Business**, and **Sci/Tech**) from the original corpus. Each class contains 30,000 training samples and 1,900 testing samples. The total number of training samples is 120,000 and testing 7,600.<br>\n",
    "\n",
    "Homepage: https://arxiv.org/abs/1509.01626<br>\n",
    "\n",
    "Source code: tfds.text.AGNewsSubset\n",
    "\n",
    "Versions:\n",
    "\n",
    "1.0.0 (default): No release notes.\n",
    "Download size: 11.24 MiB\n",
    "\n",
    "Dataset size: 35.79 MiB"
   ]
  },
  {
   "cell_type": "markdown",
   "metadata": {
    "id": "oGBlk-2-NaCn"
   },
   "source": [
    "<div class=\"alert alert-block alert-success\">\n",
    "    <b>More Technical</b>: Throughout the notebook. This types of boxes provide more technical details and extra references about what you are seeing. They contain helpful tips, but you can safely skip them the first time you run through the code.\n",
    "</div>"
   ]
  },
  {
   "cell_type": "markdown",
   "metadata": {
    "id": "t-Jjr3rNr5PR"
   },
   "source": [
    "## Import packages "
   ]
  },
  {
   "cell_type": "code",
   "execution_count": 1,
   "metadata": {
    "id": "mbrX9qUZvfs1"
   },
   "outputs": [],
   "source": [
    "import datetime\n",
    "from packaging import version\n",
    "from collections import Counter\n",
    "import numpy as np\n",
    "import pandas as pd\n",
    "import time\n",
    "\n",
    "import matplotlib.pyplot as plt\n",
    "import matplotlib as mpl\n",
    "import seaborn as sns\n",
    "\n",
    "from sklearn.metrics import confusion_matrix, classification_report\n",
    "from sklearn.preprocessing import StandardScaler\n",
    "from sklearn.decomposition import PCA\n",
    "from sklearn.manifold import TSNE\n",
    "from sklearn.ensemble import RandomForestClassifier\n",
    "from sklearn.metrics import mean_squared_error as MSE\n",
    "from sklearn.metrics import accuracy_score\n",
    "\n",
    "import tensorflow as tf\n",
    "from tensorflow import keras\n",
    "import tensorflow_datasets as tfds"
   ]
  },
  {
   "cell_type": "code",
   "execution_count": 2,
   "metadata": {
    "id": "Rn-mj2I3yRRJ"
   },
   "outputs": [],
   "source": [
    "#tf.get_logger().setLevel('INFO')"
   ]
  },
  {
   "cell_type": "code",
   "execution_count": 3,
   "metadata": {
    "id": "q0H8HuzHrWwN"
   },
   "outputs": [],
   "source": [
    "%matplotlib inline\n",
    "np.set_printoptions(precision=3, suppress=True)"
   ]
  },
  {
   "cell_type": "markdown",
   "metadata": {
    "id": "iKucNfkrsqrP"
   },
   "source": [
    "### Verify TensorFlow Version and Keras Version"
   ]
  },
  {
   "cell_type": "code",
   "execution_count": 4,
   "metadata": {
    "colab": {
     "base_uri": "https://localhost:8080/"
    },
    "id": "g_BoGg9JrWzj",
    "outputId": "2370d763-86ee-4648-8d37-d631853ecf52"
   },
   "outputs": [
    {
     "name": "stdout",
     "output_type": "stream",
     "text": [
      "This notebook requires TensorFlow 2.0 or above\n",
      "TensorFlow version:  2.3.1\n"
     ]
    }
   ],
   "source": [
    "print(\"This notebook requires TensorFlow 2.0 or above\")\n",
    "print(\"TensorFlow version: \", tf.__version__)\n",
    "assert version.parse(tf.__version__).release[0] >=2"
   ]
  },
  {
   "cell_type": "code",
   "execution_count": 5,
   "metadata": {
    "colab": {
     "base_uri": "https://localhost:8080/"
    },
    "id": "U_bLWHP4rW3b",
    "outputId": "0c893013-01f5-44fe-fcb9-598cef6b8449"
   },
   "outputs": [
    {
     "name": "stdout",
     "output_type": "stream",
     "text": [
      "Keras version:  2.4.0\n"
     ]
    }
   ],
   "source": [
    "print(\"Keras version: \", keras.__version__)"
   ]
  },
  {
   "cell_type": "markdown",
   "metadata": {},
   "source": [
    "### Functions For Research Assignment "
   ]
  },
  {
   "cell_type": "code",
   "execution_count": 6,
   "metadata": {},
   "outputs": [],
   "source": [
    "def print_validation_report(test_labels, predictions):\n",
    "    print(\"Classification Report\")\n",
    "    print(classification_report(test_labels, predictions))\n",
    "    print('Accuracy Score: {}'.format(accuracy_score(test_labels, predictions)))\n",
    "    print('Root Mean Square Error: {}'.format(np.sqrt(MSE(test_labels, predictions)))) "
   ]
  },
  {
   "cell_type": "code",
   "execution_count": 7,
   "metadata": {},
   "outputs": [],
   "source": [
    "def plot_confusion_matrix(y_true, y_pred):\n",
    "    mtx = confusion_matrix(y_true, y_pred)\n",
    "    fig, ax = plt.subplots(figsize=(8,8))\n",
    "    sns.heatmap(mtx, annot=True, fmt='d', linewidths=.75,  cbar=False, ax=ax,cmap='Blues',linecolor='white')\n",
    "    #  square=True,\n",
    "    plt.ylabel('true label')\n",
    "    plt.xlabel('predicted label')"
   ]
  },
  {
   "cell_type": "code",
   "execution_count": 8,
   "metadata": {},
   "outputs": [],
   "source": [
    "def plot_graphs(history, metric):\n",
    "  plt.plot(history.history[metric])\n",
    "  plt.plot(history.history['val_'+metric], '')\n",
    "  plt.xlabel(\"Epochs\")\n",
    "  plt.ylabel(metric)\n",
    "  plt.legend([metric, 'val_'+metric])"
   ]
  },
  {
   "cell_type": "markdown",
   "metadata": {
    "id": "-mFyXjJmtJ3E"
   },
   "source": [
    "### Mount Google Drive to Colab Environment"
   ]
  },
  {
   "cell_type": "code",
   "execution_count": 9,
   "metadata": {
    "id": "CXm3H81YrW8-"
   },
   "outputs": [],
   "source": [
    "#from google.colab import drive\n",
    "#drive.mount('/content/gdrive')"
   ]
  },
  {
   "cell_type": "markdown",
   "metadata": {
    "id": "X6s4xhh5ysp6"
   },
   "source": [
    "###  TensorFlow Datasets Information<br>\n",
    "<div class=\"alert alert-block alert-info\">\n",
    "    <b> ag_news_subset</b><br>\n",
    "    See https://www.tensorflow.org/datasets/catalog/ag_news_subset\n",
    "    </div>"
   ]
  },
  {
   "cell_type": "markdown",
   "metadata": {
    "id": "cL3ewSkAF4yF"
   },
   "source": [
    "Get all the words in the documents (as well as the number of words in each document) by using the encoder to get the indices associated with each token and then translating the indices to tokens. But first we need to get the \"unpadded\" new articles so that we can get their length."
   ]
  },
  {
   "cell_type": "code",
   "execution_count": 10,
   "metadata": {
    "colab": {
     "base_uri": "https://localhost:8080/"
    },
    "id": "VNj2HSxNtTNS",
    "outputId": "ccb05e1b-1b3b-4a1a-89c3-a48ac934bbf3",
    "scrolled": true
   },
   "outputs": [
    {
     "name": "stderr",
     "output_type": "stream",
     "text": [
      "2022-02-19 02:16:03.298949: I tensorflow/stream_executor/platform/default/dso_loader.cc:48] Successfully opened dynamic library cudart64_101.dll\n",
      "W0219 02:16:06.370472 11668 download_and_prepare.py:43] ***`tfds build` should be used instead of `download_and_prepare`.***\n"
     ]
    },
    {
     "name": "stdout",
     "output_type": "stream",
     "text": [
      "INFO[build.py]: Loading dataset ag_news_subset from imports: tensorflow_datasets.text.ag_news_subset\n",
      "INFO[dataset_info.py]: Load dataset info from C:\\Users\\steve\\tensorflow_datasets\\ag_news_subset\\1.0.0\n",
      "INFO[build.py]: download_and_prepare for dataset ag_news_subset/1.0.0...\n",
      "INFO[dataset_builder.py]: Reusing dataset ag_news_subset (C:\\Users\\steve\\tensorflow_datasets\\ag_news_subset\\1.0.0)\n",
      "INFO[build.py]: Dataset generation complete...\n",
      "\n",
      "tfds.core.DatasetInfo(\n",
      "    name='ag_news_subset',\n",
      "    full_name='ag_news_subset/1.0.0',\n",
      "    description=\"\"\"\n",
      "    AG is a collection of more than 1 million news articles.\n",
      "    News articles have been gathered from more than 2000  news sources by ComeToMyHead in more than 1 year of activity.\n",
      "    ComeToMyHead is an academic news search engine which has been running since July, 2004.\n",
      "    The dataset is provided by the academic comunity for research purposes in data mining (clustering, classification, etc),\n",
      "    information retrieval (ranking, search, etc), xml, data compression, data streaming,\n",
      "    and any other non-commercial activity.\n",
      "    For more information, please refer to the link http://www.di.unipi.it/~gulli/AG_corpus_of_news_articles.html .\n",
      "    \n",
      "    The AG's news topic classification dataset is constructed by Xiang Zhang (xiang.zhang@nyu.edu) from the dataset above.\n",
      "    It is used as a text classification benchmark in the following paper:\n",
      "    Xiang Zhang, Junbo Zhao, Yann LeCun. Character-level Convolutional Networks for Text Classification. Advances in Neural Information Processing Systems 28 (NIPS 2015).\n",
      "    \n",
      "    The AG's news topic classification dataset is constructed by choosing 4 largest classes from the original corpus.\n",
      "    Each class contains 30,000 training samples and 1,900 testing samples.\n",
      "    The total number of training samples is 120,000 and testing 7,600.\n",
      "    \"\"\",\n",
      "    homepage='https://arxiv.org/abs/1509.01626',\n",
      "    data_path='C:\\\\Users\\\\steve\\\\tensorflow_datasets\\\\ag_news_subset\\\\1.0.0',\n",
      "    download_size=11.24 MiB,\n",
      "    dataset_size=35.79 MiB,\n",
      "    features=FeaturesDict({\n",
      "        'description': Text(shape=(), dtype=tf.string),\n",
      "        'label': ClassLabel(shape=(), dtype=tf.int64, num_classes=4),\n",
      "        'title': Text(shape=(), dtype=tf.string),\n",
      "    }),\n",
      "    supervised_keys=('description', 'label'),\n",
      "    disable_shuffling=False,\n",
      "    splits={\n",
      "        'test': <SplitInfo num_examples=7600, num_shards=1>,\n",
      "        'train': <SplitInfo num_examples=120000, num_shards=1>,\n",
      "    },\n",
      "    citation=\"\"\"@misc{zhang2015characterlevel,\n",
      "        title={Character-level Convolutional Networks for Text Classification},\n",
      "        author={Xiang Zhang and Junbo Zhao and Yann LeCun},\n",
      "        year={2015},\n",
      "        eprint={1509.01626},\n",
      "        archivePrefix={arXiv},\n",
      "        primaryClass={cs.LG}\n",
      "    }\"\"\",\n",
      ")\n",
      "\n"
     ]
    }
   ],
   "source": [
    "#register  ag_news_subset so that tfds.load doesn't generate a checksum (mismatch) error\n",
    "!python -m tensorflow_datasets.scripts.download_and_prepare --register_checksums --datasets=ag_news_subset\n",
    "\n",
    "# https://www.tensorflow.org/datasets/splits\n",
    "# The full `train` and `test` splits, interleaved together.\n",
    "ri = tfds.core.ReadInstruction('train') + tfds.core.ReadInstruction('test')\n",
    "dataset_all, info = tfds.load('ag_news_subset', with_info=True,  split=ri, as_supervised=True)"
   ]
  },
  {
   "cell_type": "markdown",
   "metadata": {
    "id": "Bzs2FWbQIf5m"
   },
   "source": [
    "###  Exploratory Analysis AG News Subset"
   ]
  },
  {
   "cell_type": "markdown",
   "metadata": {
    "id": "m7514-j4I4B-"
   },
   "source": [
    "**Get information about the ag_news_subset dataset. We combined the training and test data for a total of 127,600 news articles.**"
   ]
  },
  {
   "cell_type": "code",
   "execution_count": 11,
   "metadata": {
    "colab": {
     "base_uri": "https://localhost:8080/"
    },
    "id": "eJNcnZbRtTQ2",
    "outputId": "faea6f30-4e90-4b34-ccf3-720e38d962f9"
   },
   "outputs": [
    {
     "name": "stdout",
     "output_type": "stream",
     "text": [
      "tfds.core.DatasetInfo(\n",
      "    name='ag_news_subset',\n",
      "    full_name='ag_news_subset/1.0.0',\n",
      "    description=\"\"\"\n",
      "    AG is a collection of more than 1 million news articles.\n",
      "    News articles have been gathered from more than 2000  news sources by ComeToMyHead in more than 1 year of activity.\n",
      "    ComeToMyHead is an academic news search engine which has been running since July, 2004.\n",
      "    The dataset is provided by the academic comunity for research purposes in data mining (clustering, classification, etc),\n",
      "    information retrieval (ranking, search, etc), xml, data compression, data streaming,\n",
      "    and any other non-commercial activity.\n",
      "    For more information, please refer to the link http://www.di.unipi.it/~gulli/AG_corpus_of_news_articles.html .\n",
      "    \n",
      "    The AG's news topic classification dataset is constructed by Xiang Zhang (xiang.zhang@nyu.edu) from the dataset above.\n",
      "    It is used as a text classification benchmark in the following paper:\n",
      "    Xiang Zhang, Junbo Zhao, Yann LeCun. Character-level Convolutional Networks for Text Classification. Advances in Neural Information Processing Systems 28 (NIPS 2015).\n",
      "    \n",
      "    The AG's news topic classification dataset is constructed by choosing 4 largest classes from the original corpus.\n",
      "    Each class contains 30,000 training samples and 1,900 testing samples.\n",
      "    The total number of training samples is 120,000 and testing 7,600.\n",
      "    \"\"\",\n",
      "    homepage='https://arxiv.org/abs/1509.01626',\n",
      "    data_path='C:\\\\Users\\\\steve\\\\tensorflow_datasets\\\\ag_news_subset\\\\1.0.0',\n",
      "    download_size=11.24 MiB,\n",
      "    dataset_size=35.79 MiB,\n",
      "    features=FeaturesDict({\n",
      "        'description': Text(shape=(), dtype=tf.string),\n",
      "        'label': ClassLabel(shape=(), dtype=tf.int64, num_classes=4),\n",
      "        'title': Text(shape=(), dtype=tf.string),\n",
      "    }),\n",
      "    supervised_keys=('description', 'label'),\n",
      "    disable_shuffling=False,\n",
      "    splits={\n",
      "        'test': <SplitInfo num_examples=7600, num_shards=1>,\n",
      "        'train': <SplitInfo num_examples=120000, num_shards=1>,\n",
      "    },\n",
      "    citation=\"\"\"@misc{zhang2015characterlevel,\n",
      "        title={Character-level Convolutional Networks for Text Classification},\n",
      "        author={Xiang Zhang and Junbo Zhao and Yann LeCun},\n",
      "        year={2015},\n",
      "        eprint={1509.01626},\n",
      "        archivePrefix={arXiv},\n",
      "        primaryClass={cs.LG}\n",
      "    }\"\"\",\n",
      ")\n"
     ]
    }
   ],
   "source": [
    "print(info)"
   ]
  },
  {
   "cell_type": "code",
   "execution_count": 12,
   "metadata": {
    "colab": {
     "base_uri": "https://localhost:8080/",
     "height": 245
    },
    "id": "w6GaSzMRqrIR",
    "outputId": "eaefb16a-d90c-47f3-b9f6-43722ab51259"
   },
   "outputs": [
    {
     "data": {
      "text/html": [
       "<style type=\"text/css\">\n",
       "</style>\n",
       "<table id=\"T_90325_\">\n",
       "  <thead>\n",
       "    <tr>\n",
       "      <th class=\"blank level0\" >&nbsp;</th>\n",
       "      <th class=\"col_heading level0 col0\" >description</th>\n",
       "      <th class=\"col_heading level0 col1\" >label</th>\n",
       "    </tr>\n",
       "  </thead>\n",
       "  <tbody>\n",
       "    <tr>\n",
       "      <th id=\"T_90325_level0_row0\" class=\"row_heading level0 row0\" >0</th>\n",
       "      <td id=\"T_90325_row0_col0\" class=\"data row0 col0\" >AMD #39;s new dual-core Opteron chip is designed mainly for corporate computing applications, including databases, Web services, and financial transactions.</td>\n",
       "      <td id=\"T_90325_row0_col1\" class=\"data row0 col1\" >3 (Sci/Tech)</td>\n",
       "    </tr>\n",
       "    <tr>\n",
       "      <th id=\"T_90325_level0_row1\" class=\"row_heading level0 row1\" >1</th>\n",
       "      <td id=\"T_90325_row1_col0\" class=\"data row1 col0\" >Reuters - Major League Baseball\\Monday announced a decision on the appeal filed by Chicago Cubs\\pitcher Kerry Wood regarding a suspension stemming from an\\incident earlier this season.</td>\n",
       "      <td id=\"T_90325_row1_col1\" class=\"data row1 col1\" >1 (Sports)</td>\n",
       "    </tr>\n",
       "    <tr>\n",
       "      <th id=\"T_90325_level0_row2\" class=\"row_heading level0 row2\" >2</th>\n",
       "      <td id=\"T_90325_row2_col0\" class=\"data row2 col0\" >President Bush #39;s quot;revenue-neutral quot; tax reform needs losers to balance its winners, and people claiming the federal deduction for state and local taxes may be in administration planners #39; sights, news reports say.</td>\n",
       "      <td id=\"T_90325_row2_col1\" class=\"data row2 col1\" >2 (Business)</td>\n",
       "    </tr>\n",
       "    <tr>\n",
       "      <th id=\"T_90325_level0_row3\" class=\"row_heading level0 row3\" >3</th>\n",
       "      <td id=\"T_90325_row3_col0\" class=\"data row3 col0\" >Britain will run out of leading scientists unless science education is improved, says Professor Colin Pillinger.</td>\n",
       "      <td id=\"T_90325_row3_col1\" class=\"data row3 col1\" >3 (Sci/Tech)</td>\n",
       "    </tr>\n",
       "    <tr>\n",
       "      <th id=\"T_90325_level0_row4\" class=\"row_heading level0 row4\" >4</th>\n",
       "      <td id=\"T_90325_row4_col0\" class=\"data row4 col0\" >London, England (Sports Network) - England midfielder Steven Gerrard injured his groin late in Thursday #39;s training session, but is hopeful he will be ready for Saturday #39;s World Cup qualifier against Austria.</td>\n",
       "      <td id=\"T_90325_row4_col1\" class=\"data row4 col1\" >1 (Sports)</td>\n",
       "    </tr>\n",
       "    <tr>\n",
       "      <th id=\"T_90325_level0_row5\" class=\"row_heading level0 row5\" >5</th>\n",
       "      <td id=\"T_90325_row5_col0\" class=\"data row5 col0\" >TOKYO - Sony Corp. is banking on the \\$3 billion deal to acquire Hollywood studio Metro-Goldwyn-Mayer Inc...</td>\n",
       "      <td id=\"T_90325_row5_col1\" class=\"data row5 col1\" >0 (World)</td>\n",
       "    </tr>\n",
       "    <tr>\n",
       "      <th id=\"T_90325_level0_row6\" class=\"row_heading level0 row6\" >6</th>\n",
       "      <td id=\"T_90325_row6_col0\" class=\"data row6 col0\" >Giant pandas may well prefer bamboo to laptops, but wireless technology is helping researchers in China in their efforts to protect the engandered animals living in the remote Wolong Nature Reserve.</td>\n",
       "      <td id=\"T_90325_row6_col1\" class=\"data row6 col1\" >3 (Sci/Tech)</td>\n",
       "    </tr>\n",
       "    <tr>\n",
       "      <th id=\"T_90325_level0_row7\" class=\"row_heading level0 row7\" >7</th>\n",
       "      <td id=\"T_90325_row7_col0\" class=\"data row7 col0\" >VILNIUS, Lithuania - Lithuania #39;s main parties formed an alliance to try to keep a Russian-born tycoon and his populist promises out of the government in Sunday #39;s second round of parliamentary elections in this Baltic country.</td>\n",
       "      <td id=\"T_90325_row7_col1\" class=\"data row7 col1\" >0 (World)</td>\n",
       "    </tr>\n",
       "    <tr>\n",
       "      <th id=\"T_90325_level0_row8\" class=\"row_heading level0 row8\" >8</th>\n",
       "      <td id=\"T_90325_row8_col0\" class=\"data row8 col0\" >Witnesses in the trial of a US soldier charged with abusing prisoners at Abu Ghraib have told the court that the CIA sometimes directed abuse and orders were received from military command to toughen interrogations.</td>\n",
       "      <td id=\"T_90325_row8_col1\" class=\"data row8 col1\" >0 (World)</td>\n",
       "    </tr>\n",
       "    <tr>\n",
       "      <th id=\"T_90325_level0_row9\" class=\"row_heading level0 row9\" >9</th>\n",
       "      <td id=\"T_90325_row9_col0\" class=\"data row9 col0\" >Dan Olsen of Ponte Vedra Beach, Fla., shot a 7-under 65 Thursday to take a one-shot lead after two rounds of the PGA Tour qualifying tournament.</td>\n",
       "      <td id=\"T_90325_row9_col1\" class=\"data row9 col1\" >1 (Sports)</td>\n",
       "    </tr>\n",
       "  </tbody>\n",
       "</table>\n"
      ],
      "text/plain": [
       "                                         description  label\n",
       "0  b'AMD #39;s new dual-core Opteron chip is desi...      3\n",
       "1  b'Reuters - Major League Baseball\\\\Monday anno...      1\n",
       "2  b'President Bush #39;s  quot;revenue-neutral q...      2\n",
       "3  b'Britain will run out of leading scientists u...      3\n",
       "4  b'London, England (Sports Network) - England m...      1\n",
       "5  b'TOKYO - Sony Corp. is banking on the \\\\$3 bi...      0\n",
       "6  b'Giant pandas may well prefer bamboo to lapto...      3\n",
       "7  b'VILNIUS, Lithuania - Lithuania #39;s main pa...      0\n",
       "8  b'Witnesses in the trial of a US soldier charg...      0\n",
       "9  b'Dan Olsen of Ponte Vedra Beach, Fla., shot a...      1"
      ]
     },
     "execution_count": 12,
     "metadata": {},
     "output_type": "execute_result"
    }
   ],
   "source": [
    "tfds.as_dataframe(dataset_all.take(10),info)"
   ]
  },
  {
   "cell_type": "markdown",
   "metadata": {
    "id": "RoG_cOcMMKgC"
   },
   "source": [
    "### Review Labels (Categories) "
   ]
  },
  {
   "cell_type": "code",
   "execution_count": 13,
   "metadata": {
    "colab": {
     "base_uri": "https://localhost:8080/"
    },
    "id": "4uBCsL_8tTUU",
    "outputId": "81e1618c-5785-4e31-c761-85c00969eaf9"
   },
   "outputs": [
    {
     "name": "stdout",
     "output_type": "stream",
     "text": [
      "There are 4 classes in the dataset.\n",
      "The class names are ['World', 'Sports', 'Business', 'Sci/Tech']\n"
     ]
    }
   ],
   "source": [
    "print(f'There are {info.features[\"label\"].num_classes} classes in the dataset.')\n",
    "print(f'The class names are {info.features[\"label\"].names}')"
   ]
  },
  {
   "cell_type": "code",
   "execution_count": 14,
   "metadata": {
    "colab": {
     "base_uri": "https://localhost:8080/"
    },
    "id": "fRbULmnCtTXo",
    "outputId": "4bd2c2a9-b63b-49c0-80da-081818f5da54"
   },
   "outputs": [
    {
     "data": {
      "text/plain": [
       "{0: 'World', 1: 'Sports', 2: 'Business', 3: 'Sci/Tech'}"
      ]
     },
     "execution_count": 14,
     "metadata": {},
     "output_type": "execute_result"
    }
   ],
   "source": [
    "# classes dictionary\n",
    "categories =dict(enumerate(info.features[\"label\"].names))\n",
    "categories"
   ]
  },
  {
   "cell_type": "markdown",
   "metadata": {
    "id": "xXQzudk9MmOs"
   },
   "source": [
    "The 127,600 news articles are evenly distributed among the 4 categories"
   ]
  },
  {
   "cell_type": "code",
   "execution_count": 15,
   "metadata": {
    "colab": {
     "base_uri": "https://localhost:8080/"
    },
    "id": "PRtOaULstTbJ",
    "outputId": "0cb930ec-b3a5-4790-880f-94a2ac6d3169"
   },
   "outputs": [
    {
     "data": {
      "text/plain": [
       "[('Sci/Tech', 31900), ('Sports', 31900), ('Business', 31900), ('World', 31900)]"
      ]
     },
     "execution_count": 15,
     "metadata": {},
     "output_type": "execute_result"
    }
   ],
   "source": [
    "train_categories = [categories[label] for label in dataset_all.map(lambda text, label: label).as_numpy_iterator()]\n",
    "Counter(train_categories).most_common()"
   ]
  },
  {
   "cell_type": "markdown",
   "metadata": {
    "id": "k6-1-zvxdS8f"
   },
   "source": [
    "We will use the tf.keras.layers.experimental.preprocessing.TextVectorization layer to transform each news article into a \"list\" of non-negative integers representing the tokens in the news article.\n",
    "\n",
    "For the purpose of training our models each such \"encoding\" will have a fixed length corresponding to the news article(s) with the most tokens. Shorter articles will be right-padded with zeros in the encoding. Also to speed up the training process, we will set max_tokens = 1000 so that words not in the vabulary set of top 1000 most common tokes are encoded as 1. But first we set max_tokens = None (which is the default value) in order to get the vocabulary size of the corpus.\n"
   ]
  },
  {
   "cell_type": "code",
   "execution_count": 16,
   "metadata": {
    "colab": {
     "base_uri": "https://localhost:8080/"
    },
    "id": "WYY7P-aaeU4Z",
    "outputId": "437e85ef-860c-4001-a756-abb868157b29"
   },
   "outputs": [
    {
     "name": "stdout",
     "output_type": "stream",
     "text": [
      "WARNING:tensorflow:AutoGraph could not transform <function <lambda> at 0x000002160CAB8DC8> and will run it as-is.\n",
      "Please report this to the TensorFlow team. When filing the bug, set the verbosity to 10 (on Linux, `export AUTOGRAPH_VERBOSITY=10`) and attach the full output.\n",
      "Cause: Unable to locate the source code of <function <lambda> at 0x000002160CAB8DC8>. Note that functions defined in certain environments, like the interactive Python shell do not expose their source code. If that is the case, you should to define them in a .py source file. If you are certain the code is graph-compatible, wrap the call using @tf.autograph.do_not_convert. Original error: could not get source code\n",
      "To silence this warning, decorate the function with @tf.autograph.experimental.do_not_convert\n"
     ]
    },
    {
     "name": "stderr",
     "output_type": "stream",
     "text": [
      "WARNING:tensorflow:AutoGraph could not transform <function <lambda> at 0x000002160CAB8DC8> and will run it as-is.\n",
      "Please report this to the TensorFlow team. When filing the bug, set the verbosity to 10 (on Linux, `export AUTOGRAPH_VERBOSITY=10`) and attach the full output.\n",
      "Cause: Unable to locate the source code of <function <lambda> at 0x000002160CAB8DC8>. Note that functions defined in certain environments, like the interactive Python shell do not expose their source code. If that is the case, you should to define them in a .py source file. If you are certain the code is graph-compatible, wrap the call using @tf.autograph.do_not_convert. Original error: could not get source code\n",
      "To silence this warning, decorate the function with @tf.autograph.experimental.do_not_convert\n"
     ]
    },
    {
     "name": "stdout",
     "output_type": "stream",
     "text": [
      "WARNING: AutoGraph could not transform <function <lambda> at 0x000002160CAB8DC8> and will run it as-is.\n",
      "Please report this to the TensorFlow team. When filing the bug, set the verbosity to 10 (on Linux, `export AUTOGRAPH_VERBOSITY=10`) and attach the full output.\n",
      "Cause: Unable to locate the source code of <function <lambda> at 0x000002160CAB8DC8>. Note that functions defined in certain environments, like the interactive Python shell do not expose their source code. If that is the case, you should to define them in a .py source file. If you are certain the code is graph-compatible, wrap the call using @tf.autograph.do_not_convert. Original error: could not get source code\n",
      "To silence this warning, decorate the function with @tf.autograph.experimental.do_not_convert\n",
      "Wall time: 1min 13s\n"
     ]
    }
   ],
   "source": [
    "%%time\n",
    "encoder = tf.keras.layers.experimental.preprocessing.TextVectorization(max_tokens=None)\n",
    "encoder.adapt(dataset_all.map(lambda text, label: text))\n",
    "vocab = np.array(encoder.get_vocabulary())"
   ]
  },
  {
   "cell_type": "code",
   "execution_count": 17,
   "metadata": {
    "colab": {
     "base_uri": "https://localhost:8080/"
    },
    "id": "iKGVb8_Jeyig",
    "outputId": "bb8fe257-a4d3-4c8c-895d-4f9d340d7c8a"
   },
   "outputs": [
    {
     "name": "stdout",
     "output_type": "stream",
     "text": [
      "There are 95976 vocabulary words in the corpus.\n"
     ]
    }
   ],
   "source": [
    "print(f\"There are {len(vocab)} vocabulary words in the corpus.\")"
   ]
  },
  {
   "cell_type": "markdown",
   "metadata": {
    "id": "PlQ3s9QUe3CX"
   },
   "source": [
    "There are 95976 vocabulary words in the corpus.\n",
    "\n",
    "The .adapt method sets the layer's vocabulary. Here are the first 20 tokens. After the padding and unknown tokens they're sorted by frequency:"
   ]
  },
  {
   "cell_type": "code",
   "execution_count": 18,
   "metadata": {
    "colab": {
     "base_uri": "https://localhost:8080/"
    },
    "id": "_Z2Io_yoe8zW",
    "outputId": "67c28d90-8eee-4a8b-a719-fd577fca3dc7"
   },
   "outputs": [
    {
     "data": {
      "text/plain": [
       "array(['', '[UNK]', 'the', 'a', 'to', 'of', 'in', 'and', 'on', 'for',\n",
       "       'that', '39s', 'with', 'its', 'as', 'at', 'is', 'said', 'by', 'it'],\n",
       "      dtype='<U150')"
      ]
     },
     "execution_count": 18,
     "metadata": {},
     "output_type": "execute_result"
    }
   ],
   "source": [
    "vocab[:20]"
   ]
  },
  {
   "cell_type": "markdown",
   "metadata": {
    "id": "wJ0MQCTAfdCL"
   },
   "source": [
    "Let us get the total number of words in the corpus and the sizes of the news articles"
   ]
  },
  {
   "cell_type": "code",
   "execution_count": 19,
   "metadata": {
    "colab": {
     "base_uri": "https://localhost:8080/"
    },
    "id": "l3TlBRwMfXde",
    "outputId": "948bc932-a09f-46d3-cdf9-423e06c8a2e8"
   },
   "outputs": [
    {
     "name": "stdout",
     "output_type": "stream",
     "text": [
      "Wall time: 11min 40s\n"
     ]
    }
   ],
   "source": [
    "%%time\n",
    "doc_sizes = []\n",
    "corpus = []\n",
    "for example, _ in dataset_all.as_numpy_iterator():\n",
    "  enc_example = encoder(example)\n",
    "  doc_sizes.append(len(enc_example))\n",
    "  corpus+=list(enc_example.numpy())"
   ]
  },
  {
   "cell_type": "code",
   "execution_count": 20,
   "metadata": {
    "colab": {
     "base_uri": "https://localhost:8080/"
    },
    "id": "XEbVpRHyfXqU",
    "outputId": "cd672efa-6d77-4733-99d2-2859014975d6"
   },
   "outputs": [
    {
     "name": "stdout",
     "output_type": "stream",
     "text": [
      "There are 3909695 words in the corpus of 127600 news articles.\n",
      "Each news article has between 3 and 173 tokens in it.\n"
     ]
    }
   ],
   "source": [
    "print(f\"There are {len(corpus)} words in the corpus of {len(doc_sizes)} news articles.\")\n",
    "print(f\"Each news article has between {min(doc_sizes)} and {max(doc_sizes)} tokens in it.\")"
   ]
  },
  {
   "cell_type": "code",
   "execution_count": 21,
   "metadata": {
    "colab": {
     "base_uri": "https://localhost:8080/",
     "height": 550
    },
    "id": "mgtVVxL-i8Uo",
    "outputId": "a984b1c4-ad46-4ed3-ed1e-a64b5edf11af"
   },
   "outputs": [
    {
     "data": {
      "image/png": "[encoded data removed]",
      "text/plain": [
       "<Figure size 1080x648 with 1 Axes>"
      ]
     },
     "metadata": {
      "needs_background": "light"
     },
     "output_type": "display_data"
    }
   ],
   "source": [
    "plt.figure(figsize=(15,9))\n",
    "plt.hist(doc_sizes, bins=20,range = (0,120))\n",
    "plt.xlabel(\"Tokens Per Document\")\n",
    "plt.ylabel(\"Number of AG News Articles\");"
   ]
  },
  {
   "cell_type": "markdown",
   "metadata": {
    "id": "gu7roRaAjDYH"
   },
   "source": [
    "Encode the news articles using the top 1000 most common words in the corpus"
   ]
  },
  {
   "cell_type": "code",
   "execution_count": 22,
   "metadata": {
    "colab": {
     "base_uri": "https://localhost:8080/"
    },
    "id": "Z4fN-QeAjCFZ",
    "outputId": "d89d2c03-2813-4050-a2a1-d50804096cce"
   },
   "outputs": [
    {
     "name": "stdout",
     "output_type": "stream",
     "text": [
      "WARNING:tensorflow:AutoGraph could not transform <function <lambda> at 0x000002179F5B8D38> and will run it as-is.\n",
      "Please report this to the TensorFlow team. When filing the bug, set the verbosity to 10 (on Linux, `export AUTOGRAPH_VERBOSITY=10`) and attach the full output.\n",
      "Cause: Unable to locate the source code of <function <lambda> at 0x000002179F5B8D38>. Note that functions defined in certain environments, like the interactive Python shell do not expose their source code. If that is the case, you should to define them in a .py source file. If you are certain the code is graph-compatible, wrap the call using @tf.autograph.do_not_convert. Original error: could not get source code\n",
      "To silence this warning, decorate the function with @tf.autograph.experimental.do_not_convert\n"
     ]
    },
    {
     "name": "stderr",
     "output_type": "stream",
     "text": [
      "WARNING:tensorflow:AutoGraph could not transform <function <lambda> at 0x000002179F5B8D38> and will run it as-is.\n",
      "Please report this to the TensorFlow team. When filing the bug, set the verbosity to 10 (on Linux, `export AUTOGRAPH_VERBOSITY=10`) and attach the full output.\n",
      "Cause: Unable to locate the source code of <function <lambda> at 0x000002179F5B8D38>. Note that functions defined in certain environments, like the interactive Python shell do not expose their source code. If that is the case, you should to define them in a .py source file. If you are certain the code is graph-compatible, wrap the call using @tf.autograph.do_not_convert. Original error: could not get source code\n",
      "To silence this warning, decorate the function with @tf.autograph.experimental.do_not_convert\n"
     ]
    },
    {
     "name": "stdout",
     "output_type": "stream",
     "text": [
      "WARNING: AutoGraph could not transform <function <lambda> at 0x000002179F5B8D38> and will run it as-is.\n",
      "Please report this to the TensorFlow team. When filing the bug, set the verbosity to 10 (on Linux, `export AUTOGRAPH_VERBOSITY=10`) and attach the full output.\n",
      "Cause: Unable to locate the source code of <function <lambda> at 0x000002179F5B8D38>. Note that functions defined in certain environments, like the interactive Python shell do not expose their source code. If that is the case, you should to define them in a .py source file. If you are certain the code is graph-compatible, wrap the call using @tf.autograph.do_not_convert. Original error: could not get source code\n",
      "To silence this warning, decorate the function with @tf.autograph.experimental.do_not_convert\n",
      "Wall time: 1min 12s\n"
     ]
    }
   ],
   "source": [
    "%%time\n",
    "encoder_1000 = tf.keras.layers.experimental.preprocessing.TextVectorization(max_tokens=1000)\n",
    "encoder_1000.adapt(dataset_all.map(lambda text, label: text))\n",
    "vocab_1000 = np.array(encoder_1000.get_vocabulary());"
   ]
  },
  {
   "cell_type": "markdown",
   "metadata": {
    "id": "M65FlO5QjeFb"
   },
   "source": [
    "The .adapt method sets the layer's vocabulary. Here are the first 20 tokens. After the padding and unknown tokens they're sorted by frequency:"
   ]
  },
  {
   "cell_type": "code",
   "execution_count": 23,
   "metadata": {
    "colab": {
     "base_uri": "https://localhost:8080/"
    },
    "id": "BBTFJ-RUjcug",
    "outputId": "0366f0e9-ea89-477b-8028-e28b85f59db5",
    "scrolled": true
   },
   "outputs": [
    {
     "data": {
      "text/plain": [
       "array(['', '[UNK]', 'the', 'a', 'to', 'of', 'in', 'and', 'on', 'for',\n",
       "       'that', '39s', 'with', 'its', 'as', 'at', 'is', 'said', 'by', 'it'],\n",
       "      dtype='<U14')"
      ]
     },
     "execution_count": 23,
     "metadata": {},
     "output_type": "execute_result"
    }
   ],
   "source": [
    "vocab_1000[:20]"
   ]
  },
  {
   "cell_type": "markdown",
   "metadata": {
    "id": "pejvLRAMjlZJ"
   },
   "source": [
    "In particular, 0 is use for padding, 1 for the unknown words, 2 for the common word, i.e. 'the', etc. Let us look at the same example we encoded previously using the encoder for all the vocabulary words. Note that there are now five 1's denoting words that are not in the top 1000 in frequency.\n",
    "\n",
    "We encode the same example as before using the new encoder. Note that there are now 5 out of vocabulary words."
   ]
  },
  {
   "cell_type": "code",
   "execution_count": 24,
   "metadata": {
    "colab": {
     "base_uri": "https://localhost:8080/"
    },
    "id": "4Am3_fw5jqBV",
    "outputId": "c33b5e77-5635-42f7-8531-70ac73373f80"
   },
   "outputs": [
    {
     "data": {
      "text/plain": [
       "<tf.Tensor: shape=(16,), dtype=int64, numpy=\n",
       "array([  2,   1,   1,  29,   3, 232,   1,  14,  19,   1,  18,   2,   1,\n",
       "         8,   2, 999], dtype=int64)>"
      ]
     },
     "execution_count": 24,
     "metadata": {},
     "output_type": "execute_result"
    }
   ],
   "source": [
    "example = \"the dog ran after a red ball as it rolled by the hat on the ground.\"\n",
    "encoder_1000(example)"
   ]
  },
  {
   "cell_type": "code",
   "execution_count": 25,
   "metadata": {
    "colab": {
     "base_uri": "https://localhost:8080/"
    },
    "id": "J4OtDWMxjuos",
    "outputId": "a94a1c86-a273-463c-b616-bb16818f2894"
   },
   "outputs": [
    {
     "name": "stdout",
     "output_type": "stream",
     "text": [
      "\"the\" is in the vocabulary.\n",
      "\"dog\" is *not* in the vocabulary.\n",
      "\"ran\" is *not* in the vocabulary.\n",
      "\"after\" is in the vocabulary.\n",
      "\"a\" is in the vocabulary.\n",
      "\"red\" is in the vocabulary.\n",
      "\"ball\" is *not* in the vocabulary.\n",
      "\"as\" is in the vocabulary.\n",
      "\"it\" is in the vocabulary.\n",
      "\"rolled\" is *not* in the vocabulary.\n",
      "\"by\" is in the vocabulary.\n",
      "\"the\" is in the vocabulary.\n",
      "\"hat\" is *not* in the vocabulary.\n",
      "\"on\" is in the vocabulary.\n",
      "\"the\" is in the vocabulary.\n",
      "\"ground.\" is *not* in the vocabulary.\n"
     ]
    }
   ],
   "source": [
    "for word in example.split():\n",
    "  print(f'\"{word}\" is {\"*not* \" if word not in vocab_1000  else \"\"}in the vocabulary.')"
   ]
  },
  {
   "cell_type": "markdown",
   "metadata": {
    "id": "DbrBW9_zjzOA"
   },
   "source": [
    "We want to determine the number of non-vocabulary words in each news articles (denoted by 1s in the encoding)"
   ]
  },
  {
   "cell_type": "code",
   "execution_count": 26,
   "metadata": {
    "colab": {
     "base_uri": "https://localhost:8080/"
    },
    "id": "JoPf9hvsj5h0",
    "outputId": "ff7f5c77-3c4e-45bb-d525-9752aeacaff7"
   },
   "outputs": [
    {
     "name": "stdout",
     "output_type": "stream",
     "text": [
      "Wall time: 14min 13s\n"
     ]
    }
   ],
   "source": [
    "%%time\n",
    "doc1000_sizes = []\n",
    "corpus1000 = []\n",
    "count1000=0\n",
    "useless = 0\n",
    "# stop = 0\n",
    "percents = []\n",
    "for example, _ in dataset_all.as_numpy_iterator():\n",
    "  # stop+=1\n",
    "  # if stop > 5: break\n",
    "  enc_example = encoder_1000(example)\n",
    "  num_ones = tf.math.count_nonzero(enc_example==1).numpy()\n",
    "  percent_ones = round(num_ones*100/len(enc_example))\n",
    "  # print(f\"{percent_ones}%\")\n",
    "  percents.append(percent_ones)\n",
    "\n",
    "  s = set(list(enc_example.numpy()))\n",
    "  if s == {1}: useless+=1\n",
    "\n",
    "  doc1000_sizes.append(len(enc_example))\n",
    "  corpus1000+=list(enc_example.numpy())\n",
    "\n",
    "  count1000 += tf.math.count_nonzero(enc_example>1)"
   ]
  },
  {
   "cell_type": "code",
   "execution_count": 27,
   "metadata": {
    "colab": {
     "base_uri": "https://localhost:8080/"
    },
    "id": "2vy5wpoAkHCQ",
    "outputId": "d0002011-5690-402a-9888-291995ffa7f1"
   },
   "outputs": [
    {
     "name": "stdout",
     "output_type": "stream",
     "text": [
      "Each news article has between 3 and 173 tokens in it.\n"
     ]
    }
   ],
   "source": [
    "print(f\"Each news article has between {min(doc1000_sizes)} and {max(doc1000_sizes)} tokens in it.\")"
   ]
  },
  {
   "cell_type": "code",
   "execution_count": 28,
   "metadata": {
    "colab": {
     "base_uri": "https://localhost:8080/"
    },
    "id": "IZFeEWE0kXE5",
    "outputId": "70aa4440-21d1-471b-d639-3a36a9ba0f2c"
   },
   "outputs": [
    {
     "data": {
      "text/plain": [
       "(array([  0.,   3.,   4.,   5.,   6.,   7.,   8.,   9.,  10.,  11.,  12.,\n",
       "         13.,  14.,  15.,  16.,  17.,  18.,  19.,  20.,  21.,  22.,  23.,\n",
       "         24.,  25.,  26.,  27.,  28.,  29.,  30.,  31.,  32.,  33.,  34.,\n",
       "         35.,  36.,  37.,  38.,  39.,  40.,  41.,  42.,  43.,  44.,  45.,\n",
       "         46.,  47.,  48.,  49.,  50.,  51.,  52.,  53.,  54.,  55.,  56.,\n",
       "         57.,  58.,  59.,  60.,  61.,  62.,  63.,  64.,  65.,  66.,  67.,\n",
       "         68.,  69.,  70.,  71.,  72.,  73.,  74.,  75.,  76.,  77.,  78.,\n",
       "         79.,  80.,  81.,  82.,  83.,  84.,  85.,  86.,  87.,  88.,  89.,\n",
       "         90.,  91.,  92.,  93.,  95.,  97., 100.]),\n",
       " array([  12,    5,   20,   29,   49,   71,  120,  137,  172,  274,  486,\n",
       "         368,  682,  777,  828, 1346, 1376, 2123, 1610, 2863, 2687, 3018,\n",
       "        3957, 3315, 4605, 3934, 4148, 5737, 4954, 5072, 6123, 6165, 3255,\n",
       "        5095, 4596, 3438, 5880, 4205, 3109, 4063, 3555, 3030, 2904, 2294,\n",
       "        1967, 1716, 2174,  368, 2486,  234, 1246,  747,  573,  547,  520,\n",
       "         441,  348,  217,  250,  135,  234,   49,  131,  101,   11,  135,\n",
       "          40,   62,   33,   53,    8,   34,   10,   55,   10,    8,   15,\n",
       "           3,   27,    9,    5,   19,    1,    8,   12,    6,   16,   11,\n",
       "           5,    4,    2,    3,    1,    1,   22], dtype=int64))"
      ]
     },
     "execution_count": 28,
     "metadata": {},
     "output_type": "execute_result"
    }
   ],
   "source": [
    "Counter(percents).most_common(10)\n",
    "np.unique(percents, return_counts=True) "
   ]
  },
  {
   "cell_type": "code",
   "execution_count": 29,
   "metadata": {
    "colab": {
     "base_uri": "https://localhost:8080/",
     "height": 550
    },
    "id": "PPJDd74Hljwz",
    "outputId": "a2697f4e-5c21-4009-fe79-55d5489638c2"
   },
   "outputs": [
    {
     "data": {
      "image/png": "[encoded data removed]",
      "text/plain": [
       "<Figure size 1080x648 with 1 Axes>"
      ]
     },
     "metadata": {
      "needs_background": "light"
     },
     "output_type": "display_data"
    }
   ],
   "source": [
    "plt.figure(figsize=(15,9))\n",
    "plt.hist(percents, 20)\n",
    "plt.ylabel('Number of Documents')\n",
    "plt.xlabel('Percent of Non-Vocabulary Words in a Document');"
   ]
  },
  {
   "cell_type": "code",
   "execution_count": 30,
   "metadata": {
    "colab": {
     "base_uri": "https://localhost:8080/"
    },
    "id": "AXb2Q-gVlo08",
    "outputId": "895fd62f-6720-44ad-de37-09895c01acd3"
   },
   "outputs": [
    {
     "name": "stdout",
     "output_type": "stream",
     "text": [
      "There are 2602670 top 1000 vocabulary words in the corpus.\n"
     ]
    }
   ],
   "source": [
    "print(f\"There are {count1000} top {len(vocab_1000)} vocabulary words in the corpus.\")"
   ]
  },
  {
   "cell_type": "markdown",
   "metadata": {
    "id": "aEPOPb63RNjv"
   },
   "source": [
    "### Preprocessing Data Create Input Pipeline"
   ]
  },
  {
   "cell_type": "code",
   "execution_count": 31,
   "metadata": {
    "colab": {
     "base_uri": "https://localhost:8080/"
    },
    "id": "0_tU6cH0ncl0",
    "outputId": "d5481efe-d363-49c8-f7ee-66ed1f3dd85a",
    "scrolled": true
   },
   "outputs": [
    {
     "name": "stdout",
     "output_type": "stream",
     "text": [
      "INFO[build.py]: Loading dataset ag_news_subset from imports: tensorflow_datasets.text.ag_news_subset\n",
      "INFO[dataset_info.py]: Load dataset info from C:\\Users\\steve\\tensorflow_datasets\\ag_news_subset\\1.0.0\n",
      "INFO[build.py]: download_and_prepare for dataset ag_news_subset/1.0.0...\n",
      "INFO[dataset_builder.py]: Reusing dataset ag_news_subset (C:\\Users\\steve\\tensorflow_datasets\\ag_news_subset\\1.0.0)\n",
      "INFO[build.py]: Dataset generation complete...\n",
      "\n",
      "tfds.core.DatasetInfo(\n",
      "    name='ag_news_subset',\n",
      "    full_name='ag_news_subset/1.0.0',\n",
      "    description=\"\"\"\n",
      "    AG is a collection of more than 1 million news articles.\n",
      "    News articles have been gathered from more than 2000  news sources by ComeToMyHead in more than 1 year of activity.\n",
      "    ComeToMyHead is an academic news search engine which has been running since July, 2004.\n",
      "    The dataset is provided by the academic comunity for research purposes in data mining (clustering, classification, etc),\n",
      "    information retrieval (ranking, search, etc), xml, data compression, data streaming,\n",
      "    and any other non-commercial activity.\n",
      "    For more information, please refer to the link http://www.di.unipi.it/~gulli/AG_corpus_of_news_articles.html .\n",
      "    \n",
      "    The AG's news topic classification dataset is constructed by Xiang Zhang (xiang.zhang@nyu.edu) from the dataset above.\n",
      "    It is used as a text classification benchmark in the following paper:\n",
      "    Xiang Zhang, Junbo Zhao, Yann LeCun. Character-level Convolutional Networks for Text Classification. Advances in Neural Information Processing Systems 28 (NIPS 2015).\n",
      "    \n",
      "    The AG's news topic classification dataset is constructed by choosing 4 largest classes from the original corpus.\n",
      "    Each class contains 30,000 training samples and 1,900 testing samples.\n",
      "    The total number of training samples is 120,000 and testing 7,600.\n",
      "    \"\"\",\n",
      "    homepage='https://arxiv.org/abs/1509.01626',\n",
      "    data_path='C:\\\\Users\\\\steve\\\\tensorflow_datasets\\\\ag_news_subset\\\\1.0.0',\n",
      "    download_size=11.24 MiB,\n",
      "    dataset_size=35.79 MiB,\n",
      "    features=FeaturesDict({\n",
      "        'description': Text(shape=(), dtype=tf.string),\n",
      "        'label': ClassLabel(shape=(), dtype=tf.int64, num_classes=4),\n",
      "        'title': Text(shape=(), dtype=tf.string),\n",
      "    }),\n",
      "    supervised_keys=('description', 'label'),\n",
      "    disable_shuffling=False,\n",
      "    splits={\n",
      "        'test': <SplitInfo num_examples=7600, num_shards=1>,\n",
      "        'train': <SplitInfo num_examples=120000, num_shards=1>,\n",
      "    },\n",
      "    citation=\"\"\"@misc{zhang2015characterlevel,\n",
      "        title={Character-level Convolutional Networks for Text Classification},\n",
      "        author={Xiang Zhang and Junbo Zhao and Yann LeCun},\n",
      "        year={2015},\n",
      "        eprint={1509.01626},\n",
      "        archivePrefix={arXiv},\n",
      "        primaryClass={cs.LG}\n",
      "    }\"\"\",\n",
      ")\n",
      "\n"
     ]
    },
    {
     "name": "stderr",
     "output_type": "stream",
     "text": [
      "2022-02-19 02:44:47.896183: I tensorflow/stream_executor/platform/default/dso_loader.cc:48] Successfully opened dynamic library cudart64_101.dll\n",
      "W0219 02:44:51.352928 22296 download_and_prepare.py:43] ***`tfds build` should be used instead of `download_and_prepare`.***\n"
     ]
    }
   ],
   "source": [
    "# register  ag_news_subset so that tfds.load doesn't generate a checksum (mismatch) error\n",
    "!python -m tensorflow_datasets.scripts.download_and_prepare --register_checksums --datasets=ag_news_subset\n",
    "\n",
    "# Example Approaches to Split Data Set\n",
    "# dataset, info = tfds.load('ag_news_subset', with_info=True,  split=['train[:]','test[:1000]', 'test[1000:]'],\n",
    "dataset, info = tfds.load('ag_news_subset', with_info=True,  split=['train[:95%]','train[95%:]', 'test'],\n",
    "# dataset, info = tfds.load('ag_news_subset', with_info=True,  split=['train[:114000]','train[114000:]', 'test[:]'],\n",
    "                          as_supervised=True)\n",
    "train_dataset, validation_dataset, test_dataset = dataset\n",
    "# train_dataset, test_dataset = dataset['train'],dataset['test']"
   ]
  },
  {
   "cell_type": "code",
   "execution_count": 32,
   "metadata": {
    "id": "bRc-UUujdLD6"
   },
   "outputs": [],
   "source": [
    "####  Dataset Splits (Training, Test, Validation)\n",
    "#### .8934 Training, .0470 Test, .0596 Validation"
   ]
  },
  {
   "cell_type": "code",
   "execution_count": 33,
   "metadata": {
    "colab": {
     "base_uri": "https://localhost:8080/"
    },
    "id": "3TXXMh7Hdr47",
    "outputId": "8d70619b-443a-410c-f8cb-3c85c422a47f"
   },
   "outputs": [
    {
     "data": {
      "text/plain": [
       "(114000, 6000, 7600)"
      ]
     },
     "execution_count": 33,
     "metadata": {},
     "output_type": "execute_result"
    }
   ],
   "source": [
    "len(train_dataset),len(validation_dataset),len(test_dataset) \n",
    "# len(train_dataset),len(test_dataset) "
   ]
  },
  {
   "cell_type": "markdown",
   "metadata": {
    "id": "e3ISb8oinPnR"
   },
   "source": [
    "### Review Distribution of Categorical Labels for the 114000 training data (news articles)"
   ]
  },
  {
   "cell_type": "code",
   "execution_count": 34,
   "metadata": {
    "colab": {
     "base_uri": "https://localhost:8080/"
    },
    "id": "Itjr5Erroxv9",
    "outputId": "e428da54-6c6b-4c2f-cc4a-048e82a6c294"
   },
   "outputs": [
    {
     "data": {
      "text/plain": [
       "[('Business', 28531), ('Sports', 28495), ('World', 28491), ('Sci/Tech', 28483)]"
      ]
     },
     "execution_count": 34,
     "metadata": {},
     "output_type": "execute_result"
    }
   ],
   "source": [
    "from collections import Counter\n",
    "train_categories = [categories[label] for label in train_dataset.map(lambda text, label: label).as_numpy_iterator()]\n",
    "Counter(train_categories).most_common()"
   ]
  },
  {
   "cell_type": "markdown",
   "metadata": {
    "id": "nWA4c2ir7g6p"
   },
   "source": [
    "Review Example with Interger Label(text, label pairs):"
   ]
  },
  {
   "cell_type": "markdown",
   "metadata": {
    "id": "icCNaXSirCnm"
   },
   "source": [
    "Review Example with Interger Label Encoded Classification(text, label pairs):"
   ]
  },
  {
   "cell_type": "code",
   "execution_count": 35,
   "metadata": {
    "colab": {
     "base_uri": "https://localhost:8080/"
    },
    "id": "g469sP9PYbQT",
    "outputId": "b4641363-1885-42e2-b86f-d84c0c1b6fad"
   },
   "outputs": [
    {
     "name": "stdout",
     "output_type": "stream",
     "text": [
      "text:  b'AMD #39;s new dual-core Opteron chip is designed mainly for corporate computing applications, including databases, Web services, and financial transactions.'\n",
      "class:  Sci/Tech\n"
     ]
    }
   ],
   "source": [
    "for example, label in train_dataset.take(1):\n",
    "  print('text: ', example.numpy())\n",
    "  print('class: ', categories[label.numpy()])"
   ]
  },
  {
   "cell_type": "markdown",
   "metadata": {
    "id": "z2qVJzcEluH_"
   },
   "source": [
    "#### Preprocessing Shuffle Data for Training and Create Batches of `(text, label)` pairs:"
   ]
  },
  {
   "cell_type": "code",
   "execution_count": 36,
   "metadata": {
    "id": "dDsCaZCDYZgm"
   },
   "outputs": [],
   "source": [
    "BUFFER_SIZE = 10000\n",
    "BATCH_SIZE = 64"
   ]
  },
  {
   "cell_type": "code",
   "execution_count": 37,
   "metadata": {
    "id": "VznrltNOnUc5"
   },
   "outputs": [],
   "source": [
    "train_dataset = train_dataset.shuffle(BUFFER_SIZE).batch(BATCH_SIZE).prefetch(tf.data.experimental.AUTOTUNE)\n",
    "validation_dataset = validation_dataset.shuffle(BUFFER_SIZE).batch(BATCH_SIZE).prefetch(tf.data.experimental.AUTOTUNE)\n",
    "test_dataset = test_dataset.batch(BATCH_SIZE).prefetch(tf.data.experimental.AUTOTUNE)"
   ]
  },
  {
   "cell_type": "code",
   "execution_count": 38,
   "metadata": {
    "colab": {
     "base_uri": "https://localhost:8080/"
    },
    "id": "jqkvdcFv41wC",
    "outputId": "537540bc-925a-4938-9aff-0c4c37c60699"
   },
   "outputs": [
    {
     "name": "stdout",
     "output_type": "stream",
     "text": [
      "texts:  [b'Vivisimo #39;s co-founder and chief executive, Raul Valdes-Perez, was a protege of Herbert Simon, a Nobel laureate who was a pioneer in artificial intelligence research.'\n",
      " b\"AFP - Australia's opposition Labor Party tried to revitalise its election campaign, promising tax breaks for families and the lower paid as new opinion polls showed its lead had disappeared.\"\n",
      " b'The first criminal trial involving former Enron staff since the firm #39;s collapse is set to begin. Two employees of the failed US energy giant and four Merrill Lynch executives face criminal charges relating to an Enron transaction in Nigeria in 1999.']\n",
      "\n",
      "labels:  [3 0 2]\n",
      "texts:  [b'Robert Mondavi Corp. (MOND.O: Quote, Profile, Research) on Wednesday agreed to be acquired by Constellation Brands Inc. (STZ.N: Quote, Profile, Research) , the '\n",
      " b'AFP - The authors of the deadly suicide bombings in Taba, Egypt  quot;came from Sinai quot; an Israeli army general said at the Taba border passage between Israel and Egypt.'\n",
      " b'SYDNEY: Australian supermarket group Woolworths Ltd reported a better-than-expected 12 gain in second-half profit on cost savings, and forecast a rise of up to 15 in 2005 earnings despite increased competition.']\n",
      "\n",
      "labels:  [2 0 2]\n"
     ]
    }
   ],
   "source": [
    "for example, label in train_dataset.take(2):\n",
    "  print('texts: ', example.numpy()[:3])\n",
    "  print()\n",
    "  print('labels: ', label.numpy()[:3])"
   ]
  },
  {
   "cell_type": "code",
   "execution_count": 39,
   "metadata": {
    "colab": {
     "base_uri": "https://localhost:8080/"
    },
    "id": "HQ_8Srl7Yi2Y",
    "outputId": "86bb4bea-0386-49f7-c368-9a461dab4dd6"
   },
   "outputs": [
    {
     "name": "stdout",
     "output_type": "stream",
     "text": [
      "texts:  [b'Cuba and Panama agree to restore ties after having talks on the sidelines of the Ibero-American summit.'\n",
      " b\"Plenty of spouses would probably sometimes like to forget their nuptials, but a spate of South African single woman were recently in for the shock of their lives when they discovered that they were in fact married. This prompted the country's department of Home Affairs to launch a marital status awareness campaign, in order to clamp down on the illegal marriages.\"\n",
      " b'The US is rolling out a nine-country, \\\\$125 million military training program.']\n",
      "\n",
      "labels:  ['World', 'Sci/Tech', 'World']\n",
      "\n",
      "texts:  [b'Oracle, the world #39;s second largest software producer, has seen first quarter profits surge 16 on the back of strong sales of database products.'\n",
      " b'AP - Emmitt Smith ran his way to another NFL record and Neil Rackers booted himself into a share of one.'\n",
      " b'In a move to strengthen its position as a global provider of IT and networking services, BT Group PLC has agreed to buy U.S.-based Infonet Services Corp., the companies announced Monday.']\n",
      "\n",
      "labels:  ['Business', 'Sports', 'Sci/Tech']\n",
      "\n"
     ]
    }
   ],
   "source": [
    "for example, label in train_dataset.take(2):\n",
    "  print('texts: ', example.numpy()[:3])\n",
    "  print()\n",
    "  print('labels: ', [categories[n] for n in label.numpy()[:3]])\n",
    "  print()"
   ]
  },
  {
   "cell_type": "markdown",
   "metadata": {
    "id": "s5eWCo88voPY"
   },
   "source": [
    "## Create the Text Encoder"
   ]
  },
  {
   "cell_type": "markdown",
   "metadata": {
    "id": "TFevcItw15P_"
   },
   "source": [
    "The raw text loaded by `tfds` needs to be processed before it can be used in a model. The simplest way to process text for training is using the `experimental.preprocessing.TextVectorization` layer. This layer has many capabilities, but this tutorial sticks to the default behavior."
   ]
  },
  {
   "cell_type": "markdown",
   "metadata": {
    "id": "UalGMKAzyRRf"
   },
   "source": [
    "Create the layer, and pass the dataset's text to the layer's `.adapt` method:\n",
    "The processing of each sample contains the following steps:\n",
    "\n",
    "    standardize each sample (usually lowercasing + punctuation stripping)\n",
    "    split each sample into substrings (usually words)\n",
    "    recombine substrings into tokens (usually ngrams)\n",
    "    index tokens (associate a unique int value with each token)\n",
    "    transform each sample using this index, either into a vector of ints or a dense float vector.\n"
   ]
  },
  {
   "cell_type": "code",
   "execution_count": 40,
   "metadata": {
    "id": "uC25Lu1Yvuqy"
   },
   "outputs": [],
   "source": [
    "VOCAB_SIZE=1000\n",
    "encoder = tf.keras.layers.experimental.preprocessing.TextVectorization(\n",
    "    max_tokens=VOCAB_SIZE)\n",
    "encoder.adapt(train_dataset.map(lambda text, label: text))"
   ]
  },
  {
   "cell_type": "code",
   "execution_count": 41,
   "metadata": {
    "colab": {
     "base_uri": "https://localhost:8080/"
    },
    "id": "s5tP4VcSkTvY",
    "outputId": "cbd87b1e-9391-48eb-eb76-495eafa35cdc"
   },
   "outputs": [
    {
     "data": {
      "text/plain": [
       "1000"
      ]
     },
     "execution_count": 41,
     "metadata": {},
     "output_type": "execute_result"
    }
   ],
   "source": [
    "vocab = np.array(encoder.get_vocabulary())\n",
    "len(vocab)"
   ]
  },
  {
   "cell_type": "code",
   "execution_count": 42,
   "metadata": {
    "colab": {
     "base_uri": "https://localhost:8080/"
    },
    "id": "tBoyjjWg0Ac9",
    "outputId": "04059e88-b36c-4c53-8dc0-300e598a0473"
   },
   "outputs": [
    {
     "data": {
      "text/plain": [
       "array(['', '[UNK]', 'the', 'a', 'to', 'of', 'in', 'and', 'on', 'for',\n",
       "       'that', '39s', 'with', 'its', 'as', 'at', 'is', 'said', 'by', 'it'],\n",
       "      dtype='<U14')"
      ]
     },
     "execution_count": 42,
     "metadata": {},
     "output_type": "execute_result"
    }
   ],
   "source": [
    "vocab = np.array(encoder.get_vocabulary())\n",
    "vocab[:20]"
   ]
  },
  {
   "cell_type": "markdown",
   "metadata": {
    "id": "-rPfbSyoruu3"
   },
   "source": [
    "Here are the 20 least frequent words."
   ]
  },
  {
   "cell_type": "code",
   "execution_count": 43,
   "metadata": {
    "colab": {
     "base_uri": "https://localhost:8080/"
    },
    "id": "O6tWoBiwrzyX",
    "outputId": "c51cb668-4cb0-43b0-90ef-63172339474f"
   },
   "outputs": [
    {
     "data": {
      "text/plain": [
       "array(['black', 'turn', 'build', 'countrys', 'advanced', 'whose',\n",
       "       'crisis', 'create', '23', 'sources', 'body', 'militant', 'hope',\n",
       "       'event', 'started', 'ready', 'jones', 'lawsuit', 'focus',\n",
       "       'singapore'], dtype='<U14')"
      ]
     },
     "execution_count": 43,
     "metadata": {},
     "output_type": "execute_result"
    }
   ],
   "source": [
    "vocab[-20:]"
   ]
  },
  {
   "cell_type": "markdown",
   "metadata": {
    "id": "mjId5pua3jHQ"
   },
   "source": [
    "Once the vocabulary is set, the layer can encode text into indices. The tensors of indices are 0-padded to the longest sequence in the batch (unless you set a fixed `output_sequence_length`):<br>\n",
    "Default Batch Size = 32"
   ]
  },
  {
   "cell_type": "code",
   "execution_count": 44,
   "metadata": {
    "colab": {
     "base_uri": "https://localhost:8080/"
    },
    "id": "RGc7C9WiwRWs",
    "outputId": "1a4a3f8b-d861-4de6-ee89-53779ee3e0b2"
   },
   "outputs": [
    {
     "data": {
      "text/plain": [
       "array([[481,   2,  51,  11, 103, 166,  90,   1,  20, 868,  39, 221, 733,\n",
       "          1, 692,   8,   2, 116,   5, 356, 138,   5,   1, 392,   0,   0,\n",
       "          0,   0,   0,   0,   0,   0,   0,   0,   0,   0,   0,   0,   0,\n",
       "          0,   0,   0,   0,   0,   0,   0,   0,   0,   0,   0,   0,   0,\n",
       "          0,   0,   0,   0,   0,   0,   0,   0,   0,   0,   0,   0,   0,\n",
       "          0,   0],\n",
       "       [ 35,   1,   1,   1,  24, 224,   4, 185, 873, 149,   7,   1,   1,\n",
       "          1,   1,  62,   3, 373,   5,  50,   0,   0,   0,   0,   0,   0,\n",
       "          0,   0,   0,   0,   0,   0,   0,   0,   0,   0,   0,   0,   0,\n",
       "          0,   0,   0,   0,   0,   0,   0,   0,   0,   0,   0,   0,   0,\n",
       "          0,   0,   0,   0,   0,   0,   0,   0,   0,   0,   0,   0,   0,\n",
       "          0,   0],\n",
       "       [  6,   3, 276,   4,   1,  13,   1,  14,   3, 299,   1,   5,  19,\n",
       "          7,   1, 222,   1,  84,   1,  20, 218,   4, 349,   1,   1, 222,\n",
       "         71,   2, 168,  98,  42,   0,   0,   0,   0,   0,   0,   0,   0,\n",
       "          0,   0,   0,   0,   0,   0,   0,   0,   0,   0,   0,   0,   0,\n",
       "          0,   0,   0,   0,   0,   0,   0,   0,   0,   0,   0,   0,   0,\n",
       "          0,   0]], dtype=int64)"
      ]
     },
     "execution_count": 44,
     "metadata": {},
     "output_type": "execute_result"
    }
   ],
   "source": [
    "encoded_example = encoder(example)[:3].numpy()\n",
    "encoded_example"
   ]
  },
  {
   "cell_type": "markdown",
   "metadata": {
    "id": "F5cjz0bS39IN"
   },
   "source": [
    "With the default settings, the process is not completely reversible. There are three main reasons for that:\n",
    "\n",
    "1. The default value for `preprocessing.TextVectorization`'s `standardize` argument is `\"lower_and_strip_punctuation\"`.\n",
    "2. The limited vocabulary size and lack of character-based fallback results in some unknown tokens."
   ]
  },
  {
   "cell_type": "code",
   "execution_count": 45,
   "metadata": {
    "colab": {
     "base_uri": "https://localhost:8080/"
    },
    "id": "N_tD0QY5wXaK",
    "outputId": "f2de8ac2-3faf-4ad5-b556-8b9c5124dc26"
   },
   "outputs": [
    {
     "name": "stdout",
     "output_type": "stream",
     "text": [
      "Original:  b'Oracle, the world #39;s second largest software producer, has seen first quarter profits surge 16 on the back of strong sales of database products.'\n",
      "Round-trip:  oracle the world 39s second largest software [UNK] has seen first quarter profits [UNK] 16 on the back of strong sales of [UNK] products                                           \n",
      "\n",
      "Original:  b'AP - Emmitt Smith ran his way to another NFL record and Neil Rackers booted himself into a share of one.'\n",
      "Round-trip:  ap [UNK] [UNK] [UNK] his way to another nfl record and [UNK] [UNK] [UNK] [UNK] into a share of one                                               \n",
      "\n",
      "Original:  b'In a move to strengthen its position as a global provider of IT and networking services, BT Group PLC has agreed to buy U.S.-based Infonet Services Corp., the companies announced Monday.'\n",
      "Round-trip:  in a move to [UNK] its [UNK] as a global [UNK] of it and [UNK] services [UNK] group [UNK] has agreed to buy [UNK] [UNK] services corp the companies announced monday                                    \n",
      "\n"
     ]
    }
   ],
   "source": [
    "for n in range(3):\n",
    "  print(\"Original: \", example[n].numpy())\n",
    "  print(\"Round-trip: \", \" \".join(vocab[encoded_example[n]]))\n",
    "  print()"
   ]
  },
  {
   "cell_type": "markdown",
   "metadata": {
    "id": "bjUqGVBxGw-t"
   },
   "source": [
    "## Create the model - Single Bidirectional LSTM"
   ]
  },
  {
   "cell_type": "markdown",
   "metadata": {
    "id": "W7zsmInBOCPO"
   },
   "source": [
    "![A drawing of the information flow in the model](https://github.com/tensorflow/docs/blob/master/site/en/tutorials/text/images/bidirectional.png?raw=1)"
   ]
  },
  {
   "cell_type": "markdown",
   "metadata": {
    "id": "bgs6nnSTGw-t"
   },
   "source": [
    "Above is a diagram of the model. \n",
    "\n",
    "1. This model can be build as a `tf.keras.Sequential`.\n",
    "\n",
    "1. The first layer is the `encoder`, which converts the text to a sequence of token indices.\n",
    "\n",
    "2. After the encoder is an embedding layer. An embedding layer stores one vector per word. When called, it converts the sequences of word indices to sequences of vectors. These vectors are trainable. After training (on enough data), words with similar meanings often have similar vectors.\n",
    "\n",
    "  This index-lookup is much more efficient than the equivalent operation of passing a one-hot encoded vector through a `tf.keras.layers.Dense` layer.\n",
    "\n",
    "3. A recurrent neural network (RNN) processes sequence input by iterating through the elements. RNNs pass the outputs from one timestep to their input on the next timestep.\n",
    "\n",
    "  The `tf.keras.layers.Bidirectional` wrapper can also be used with an RNN layer. This propagates the input forward and backwards through the RNN layer and then concatenates the final output. \n",
    "\n",
    "  * The main advantage to a bidirectional RNN is that the signal from the beginning of the input doesn't need to be processed all the way through every timestep to affect the output.  \n",
    "\n",
    "  * The main disadvantage of a bidirectional RNN is that you can't efficiently stream predictions as words are being added to the end.\n",
    "\n",
    "1. After the RNN has converted the sequence to a single vector the two `layers.Dense` do some final processing, and convert from this vector representation to a single logit as the classification output. \n"
   ]
  },
  {
   "cell_type": "markdown",
   "metadata": {
    "id": "9EODAFUjNaDC"
   },
   "source": [
    "<div class=\"alert alert-block alert-info\">\n",
    "    <b>tf.keras.layers.Bidirectional</b><br>\n",
    "    https://www.tensorflow.org/api_docs/python/tf/keras/layers/Bidirectional\n",
    "    </div>"
   ]
  },
  {
   "cell_type": "markdown",
   "metadata": {
    "id": "-6Qzwsj5QH0S"
   },
   "source": [
    "<img src=\"https://github.com/djp840/MSDS_458_Public/blob/master/images/BidirectionalRNN.png?raw=1\">"
   ]
  },
  {
   "cell_type": "code",
   "execution_count": 46,
   "metadata": {
    "id": "LwfoBkmRYcP3"
   },
   "outputs": [],
   "source": [
    "num_classes = 4\n",
    "model = tf.keras.Sequential([\n",
    "                              encoder\n",
    "                              ,tf.keras.layers.Embedding(input_dim=len(encoder.get_vocabulary())\n",
    "                              ,output_dim=64\n",
    "                                # Use masking to handle the variable sequence lengths\n",
    "                              ,mask_zero=True)\n",
    "                              ,tf.keras.layers.Bidirectional(tf.keras.layers.LSTM(64))\n",
    "                              ,tf.keras.layers.Dense(64, activation='relu')\n",
    "                              ,tf.keras.layers.Dense(num_classes,activation='softmax')   # num_classes = 4\n",
    "])"
   ]
  },
  {
   "cell_type": "markdown",
   "metadata": {
    "id": "dfNGE58PNaDD"
   },
   "source": [
    "<div class=\"alert alert-block alert-success\"> \n",
    "Please note that we choose to Keras sequential model here since all the layers in the model only have single input and produce single output. </div>"
   ]
  },
  {
   "cell_type": "markdown",
   "metadata": {
    "id": "KTqE1NQXNaDD"
   },
   "source": [
    "<div class=\"alert alert-block alert-info\"> \n",
    "<b>tf.keras.Model</b><br>\n",
    "https://www.tensorflow.org/api_docs/python/tf/keras/Model\n",
    "</div>  "
   ]
  },
  {
   "cell_type": "markdown",
   "metadata": {
    "id": "RztlbCugEFaI"
   },
   "source": [
    "## Compile Model "
   ]
  },
  {
   "cell_type": "markdown",
   "metadata": {
    "id": "aNazQp3lEDv7"
   },
   "source": [
    "<div class=\"alert alert-block alert-info\">\n",
    "<b>tf.keras.losses.SparseCategoricalCrossentropy</b><br>\n",
    "https://www.tensorflow.org/api_docs/python/tf/keras/losses/SparseCategoricalCrossentropy</div>"
   ]
  },
  {
   "cell_type": "code",
   "execution_count": 47,
   "metadata": {
    "id": "ZmWbBazIDe_-"
   },
   "outputs": [],
   "source": [
    "model.compile(optimizer=tf.keras.optimizers.Adam(1e-4)\n",
    "              ,loss=tf.keras.losses.SparseCategoricalCrossentropy() # if we set from_logits=True we don not have specify a softmax activation function in the last layer\n",
    "              ,metrics=['accuracy'])"
   ]
  },
  {
   "cell_type": "markdown",
   "metadata": {
    "id": "QIGmIGkkouUb"
   },
   "source": [
    "Please note that Keras sequential model is used here since all the layers in the model only have single input and produce single output. In case you want to use stateful RNN layer, you might want to build your model with Keras functional API or model subclassing so that you can retrieve and reuse the RNN layer states. Please check [Keras RNN guide](https://www.tensorflow.org/guide/keras/rnn#rnn_state_reuse) for more details."
   ]
  },
  {
   "cell_type": "markdown",
   "metadata": {
    "id": "kF-PsCk1LwjY"
   },
   "source": [
    "The embedding layer [uses masking](../../guide/keras/masking_and_padding) to handle the varying sequence-lengths. All the layers after the `Embedding` support masking:"
   ]
  },
  {
   "cell_type": "code",
   "execution_count": 48,
   "metadata": {
    "colab": {
     "base_uri": "https://localhost:8080/"
    },
    "id": "87a8-CwfKebw",
    "outputId": "ea133252-0000-4686-c7c5-1b9d21e4e011"
   },
   "outputs": [
    {
     "name": "stdout",
     "output_type": "stream",
     "text": [
      "[False, True, True, True, True]\n"
     ]
    }
   ],
   "source": [
    "print([layer.supports_masking for layer in model.layers])"
   ]
  },
  {
   "cell_type": "markdown",
   "metadata": {
    "id": "zIwH3nto596k"
   },
   "source": [
    "## Train the model"
   ]
  },
  {
   "cell_type": "markdown",
   "metadata": {
    "id": "7oHB6X8i0u2H"
   },
   "source": [
    "<div class=\"alert alert-block alert-success\">\n",
    "    <b>Module: tf.keras.callbacks</b></div>"
   ]
  },
  {
   "cell_type": "markdown",
   "metadata": {
    "id": "th1k9Dha0vCl"
   },
   "source": [
    "<div class=\"alert alert-block alert-info\">\n",
    "<b>tf.keras.callbacks.EarlyStopping</b><br>\n",
    "https://www.tensorflow.org/api_docs/python/tf/keras/callbacks/EarlyStopping</div>\n",
    "\n",
    "<div class=\"alert alert-block alert-info\">\n",
    "<b>tf.keras.callbacks.ModelCheckpoint</b><br>\n",
    "https://www.tensorflow.org/api_docs/python/tf/keras/callbacks/ModelCheckpoint</div>"
   ]
  },
  {
   "cell_type": "code",
   "execution_count": 49,
   "metadata": {
    "colab": {
     "base_uri": "https://localhost:8080/"
    },
    "id": "hw86wWS4YgR2",
    "outputId": "ff206c6d-224d-45fa-cd65-b34113b4e45c"
   },
   "outputs": [
    {
     "name": "stdout",
     "output_type": "stream",
     "text": [
      "Epoch 1/200\n",
      "1782/1782 [==============================] - 79s 44ms/step - loss: 0.7067 - accuracy: 0.7355 - val_loss: 0.4795 - val_accuracy: 0.8373\n",
      "Epoch 2/200\n",
      "1782/1782 [==============================] - 68s 38ms/step - loss: 0.4648 - accuracy: 0.8348 - val_loss: 0.4641 - val_accuracy: 0.8390\n",
      "Epoch 3/200\n",
      "1782/1782 [==============================] - 68s 38ms/step - loss: 0.4431 - accuracy: 0.8412 - val_loss: 0.4410 - val_accuracy: 0.8452\n",
      "Epoch 4/200\n",
      "1782/1782 [==============================] - 69s 39ms/step - loss: 0.4305 - accuracy: 0.8444 - val_loss: 0.4275 - val_accuracy: 0.8497\n",
      "Epoch 5/200\n",
      "1782/1782 [==============================] - 70s 39ms/step - loss: 0.4156 - accuracy: 0.8492 - val_loss: 0.4122 - val_accuracy: 0.8513\n",
      "Epoch 6/200\n",
      "1782/1782 [==============================] - 69s 39ms/step - loss: 0.4016 - accuracy: 0.8544 - val_loss: 0.4071 - val_accuracy: 0.8512\n",
      "Epoch 7/200\n",
      "1782/1782 [==============================] - 68s 38ms/step - loss: 0.3893 - accuracy: 0.8581 - val_loss: 0.3922 - val_accuracy: 0.8572\n",
      "Epoch 8/200\n",
      "1782/1782 [==============================] - 68s 38ms/step - loss: 0.3821 - accuracy: 0.8607 - val_loss: 0.3954 - val_accuracy: 0.8572\n",
      "Epoch 9/200\n",
      "1782/1782 [==============================] - 70s 39ms/step - loss: 0.3760 - accuracy: 0.8632 - val_loss: 0.3927 - val_accuracy: 0.8595\n",
      "Epoch 10/200\n",
      "1782/1782 [==============================] - 69s 39ms/step - loss: 0.3712 - accuracy: 0.8645 - val_loss: 0.3832 - val_accuracy: 0.8637\n",
      "Epoch 11/200\n",
      "1782/1782 [==============================] - 69s 38ms/step - loss: 0.3667 - accuracy: 0.8658 - val_loss: 0.3891 - val_accuracy: 0.8588\n",
      "Epoch 12/200\n",
      "1782/1782 [==============================] - 68s 38ms/step - loss: 0.3633 - accuracy: 0.8670 - val_loss: 0.3782 - val_accuracy: 0.8660\n",
      "Epoch 13/200\n",
      "1782/1782 [==============================] - 69s 39ms/step - loss: 0.3602 - accuracy: 0.8677 - val_loss: 0.3823 - val_accuracy: 0.8628\n",
      "Epoch 14/200\n",
      "1782/1782 [==============================] - 70s 39ms/step - loss: 0.3569 - accuracy: 0.8689 - val_loss: 0.3724 - val_accuracy: 0.8672\n",
      "Epoch 15/200\n",
      "1782/1782 [==============================] - 68s 38ms/step - loss: 0.3541 - accuracy: 0.8699 - val_loss: 0.3746 - val_accuracy: 0.8655\n",
      "Epoch 16/200\n",
      "1782/1782 [==============================] - 84s 47ms/step - loss: 0.3522 - accuracy: 0.8705 - val_loss: 0.3820 - val_accuracy: 0.8635\n"
     ]
    }
   ],
   "source": [
    "history = model.fit(train_dataset\n",
    "                    ,epochs = 200\n",
    "                    ,validation_data=validation_dataset\n",
    "                    ,callbacks=[tf.keras.callbacks.EarlyStopping(monitor='val_accuracy', patience=2)]\n",
    "                    )"
   ]
  },
  {
   "cell_type": "code",
   "execution_count": 50,
   "metadata": {
    "colab": {
     "base_uri": "https://localhost:8080/"
    },
    "id": "BaNbXi43YgUT",
    "outputId": "c1c62b58-d132-4dd6-9d8e-20a1a5521151"
   },
   "outputs": [
    {
     "name": "stdout",
     "output_type": "stream",
     "text": [
      "\n",
      "Model performance with training set\n",
      "1782/1782 [==============================] - 33s 19ms/step - loss: 0.3479 - accuracy: 0.87220s\n",
      "\n",
      "Evaluating model performance with validation set\n",
      "94/94 [==============================] - 2s 19ms/step - loss: 0.3820 - accuracy: 0.8635\n",
      "\n",
      "Evaluating model performance with test set\n",
      "119/119 [==============================] - 2s 19ms/step - loss: 0.3986 - accuracy: 0.8558\n"
     ]
    },
    {
     "data": {
      "text/plain": [
       "[0.3986494243144989, 0.8557894825935364]"
      ]
     },
     "execution_count": 50,
     "metadata": {},
     "output_type": "execute_result"
    }
   ],
   "source": [
    "print('\\nModel performance with training set')\n",
    "model.evaluate(train_dataset)\n",
    "\n",
    "print('\\nEvaluating model performance with validation set')\n",
    "model.evaluate(validation_dataset)\n",
    "\n",
    "print('\\nEvaluating model performance with test set')\n",
    "model.evaluate(test_dataset)"
   ]
  },
  {
   "cell_type": "code",
   "execution_count": 55,
   "metadata": {
    "colab": {
     "base_uri": "https://localhost:8080/"
    },
    "id": "KVd7MMCoOjMp",
    "outputId": "0469b445-4f5b-42bf-eaaf-f5b589e695f9"
   },
   "outputs": [
    {
     "name": "stdout",
     "output_type": "stream",
     "text": [
      "Model: \"sequential\"\n",
      "_________________________________________________________________\n",
      "Layer (type)                 Output Shape              Param #   \n",
      "=================================================================\n",
      "text_vectorization_2 (TextVe (None, None)              0         \n",
      "_________________________________________________________________\n",
      "embedding (Embedding)        (None, None, 64)          64000     \n",
      "_________________________________________________________________\n",
      "bidirectional (Bidirectional (None, 128)               66048     \n",
      "_________________________________________________________________\n",
      "dense (Dense)                (None, 64)                8256      \n",
      "_________________________________________________________________\n",
      "dense_1 (Dense)              (None, 4)                 260       \n",
      "=================================================================\n",
      "Total params: 138,564\n",
      "Trainable params: 138,564\n",
      "Non-trainable params: 0\n",
      "_________________________________________________________________\n"
     ]
    }
   ],
   "source": [
    "model.summary()"
   ]
  },
  {
   "cell_type": "code",
   "execution_count": 51,
   "metadata": {
    "colab": {
     "base_uri": "https://localhost:8080/"
    },
    "id": "HzEOTxsc1JTJ",
    "outputId": "2be08095-1e09-4843-ddd0-6e489616cefd"
   },
   "outputs": [
    {
     "data": {
      "text/plain": [
       "dict_keys(['loss', 'accuracy', 'val_loss', 'val_accuracy'])"
      ]
     },
     "execution_count": 51,
     "metadata": {},
     "output_type": "execute_result"
    }
   ],
   "source": [
    "history_dict = history.history\n",
    "history_dict.keys()"
   ]
  },
  {
   "cell_type": "code",
   "execution_count": 52,
   "metadata": {
    "colab": {
     "base_uri": "https://localhost:8080/",
     "height": 206
    },
    "id": "2VV8VwoA1Je1",
    "outputId": "2ded4b6d-390e-4d12-c485-6c234cae6c2a"
   },
   "outputs": [
    {
     "data": {
      "text/html": [
       "<div>\n",
       "<style scoped>\n",
       "    .dataframe tbody tr th:only-of-type {\n",
       "        vertical-align: middle;\n",
       "    }\n",
       "\n",
       "    .dataframe tbody tr th {\n",
       "        vertical-align: top;\n",
       "    }\n",
       "\n",
       "    .dataframe thead th {\n",
       "        text-align: right;\n",
       "    }\n",
       "</style>\n",
       "<table border=\"1\" class=\"dataframe\">\n",
       "  <thead>\n",
       "    <tr style=\"text-align: right;\">\n",
       "      <th></th>\n",
       "      <th>loss</th>\n",
       "      <th>accuracy</th>\n",
       "      <th>val_loss</th>\n",
       "      <th>val_accuracy</th>\n",
       "    </tr>\n",
       "  </thead>\n",
       "  <tbody>\n",
       "    <tr>\n",
       "      <th>6</th>\n",
       "      <td>0.389</td>\n",
       "      <td>0.858</td>\n",
       "      <td>0.392</td>\n",
       "      <td>0.857</td>\n",
       "    </tr>\n",
       "    <tr>\n",
       "      <th>7</th>\n",
       "      <td>0.382</td>\n",
       "      <td>0.861</td>\n",
       "      <td>0.395</td>\n",
       "      <td>0.857</td>\n",
       "    </tr>\n",
       "    <tr>\n",
       "      <th>8</th>\n",
       "      <td>0.376</td>\n",
       "      <td>0.863</td>\n",
       "      <td>0.393</td>\n",
       "      <td>0.859</td>\n",
       "    </tr>\n",
       "    <tr>\n",
       "      <th>9</th>\n",
       "      <td>0.371</td>\n",
       "      <td>0.865</td>\n",
       "      <td>0.383</td>\n",
       "      <td>0.864</td>\n",
       "    </tr>\n",
       "    <tr>\n",
       "      <th>10</th>\n",
       "      <td>0.367</td>\n",
       "      <td>0.866</td>\n",
       "      <td>0.389</td>\n",
       "      <td>0.859</td>\n",
       "    </tr>\n",
       "    <tr>\n",
       "      <th>11</th>\n",
       "      <td>0.363</td>\n",
       "      <td>0.867</td>\n",
       "      <td>0.378</td>\n",
       "      <td>0.866</td>\n",
       "    </tr>\n",
       "    <tr>\n",
       "      <th>12</th>\n",
       "      <td>0.360</td>\n",
       "      <td>0.868</td>\n",
       "      <td>0.382</td>\n",
       "      <td>0.863</td>\n",
       "    </tr>\n",
       "    <tr>\n",
       "      <th>13</th>\n",
       "      <td>0.357</td>\n",
       "      <td>0.869</td>\n",
       "      <td>0.372</td>\n",
       "      <td>0.867</td>\n",
       "    </tr>\n",
       "    <tr>\n",
       "      <th>14</th>\n",
       "      <td>0.354</td>\n",
       "      <td>0.870</td>\n",
       "      <td>0.375</td>\n",
       "      <td>0.865</td>\n",
       "    </tr>\n",
       "    <tr>\n",
       "      <th>15</th>\n",
       "      <td>0.352</td>\n",
       "      <td>0.871</td>\n",
       "      <td>0.382</td>\n",
       "      <td>0.863</td>\n",
       "    </tr>\n",
       "  </tbody>\n",
       "</table>\n",
       "</div>"
      ],
      "text/plain": [
       "     loss  accuracy  val_loss  val_accuracy\n",
       "6   0.389     0.858     0.392         0.857\n",
       "7   0.382     0.861     0.395         0.857\n",
       "8   0.376     0.863     0.393         0.859\n",
       "9   0.371     0.865     0.383         0.864\n",
       "10  0.367     0.866     0.389         0.859\n",
       "11  0.363     0.867     0.378         0.866\n",
       "12  0.360     0.868     0.382         0.863\n",
       "13  0.357     0.869     0.372         0.867\n",
       "14  0.354     0.870     0.375         0.865\n",
       "15  0.352     0.871     0.382         0.863"
      ]
     },
     "execution_count": 52,
     "metadata": {},
     "output_type": "execute_result"
    }
   ],
   "source": [
    "history_df=pd.DataFrame(history_dict)\n",
    "history_df.tail(10).round(3)"
   ]
  },
  {
   "cell_type": "code",
   "execution_count": 53,
   "metadata": {
    "id": "NvA2u5do1JqA"
   },
   "outputs": [],
   "source": [
    "losses = history.history['loss']\n",
    "accs = history.history['accuracy']\n",
    "val_losses = history.history['val_loss']\n",
    "val_accs = history.history['val_accuracy']\n",
    "epochs = len(losses)"
   ]
  },
  {
   "cell_type": "code",
   "execution_count": 54,
   "metadata": {
    "colab": {
     "base_uri": "https://localhost:8080/",
     "height": 265
    },
    "id": "JGoRjq2T1SUp",
    "outputId": "ba97450a-6af3-4584-8c9f-e31ad054da55",
    "scrolled": true
   },
   "outputs": [
    {
     "data": {
      "image/png": "[encoded data removed]",
      "text/plain": [
       "<Figure size 1152x288 with 2 Axes>"
      ]
     },
     "metadata": {
      "needs_background": "light"
     },
     "output_type": "display_data"
    }
   ],
   "source": [
    "plt.figure(figsize=(16, 4))\n",
    "for i, metrics in enumerate(zip([losses, accs], [val_losses, val_accs], ['Loss', 'Accuracy'])):\n",
    "    plt.subplot(1, 2, i + 1)\n",
    "    plt.plot(range(epochs), metrics[0], label='Training {}'.format(metrics[2]))\n",
    "    plt.plot(range(epochs), metrics[1], label='Validation {}'.format(metrics[2]))\n",
    "    plt.legend()\n",
    "plt.show()"
   ]
  },
  {
   "cell_type": "code",
   "execution_count": 56,
   "metadata": {
    "colab": {
     "base_uri": "https://localhost:8080/",
     "height": 644
    },
    "id": "2o0oUFPAOjht",
    "outputId": "4cbffb95-d019-4bb2-c5b7-8c9fdd15e34f"
   },
   "outputs": [
    {
     "name": "stdout",
     "output_type": "stream",
     "text": [
      "('Failed to import pydot. You must `pip install pydot` and install graphviz (https://graphviz.gitlab.io/download/), ', 'for `pydotprint` to work.')\n"
     ]
    }
   ],
   "source": [
    "keras.utils.plot_model(model, \"BiDirectionalLSTM.png\", show_shapes=True)"
   ]
  },
  {
   "cell_type": "markdown",
   "metadata": {
    "id": "7g1evcaRpTKm"
   },
   "source": [
    "## Stack two or more LSTM layers - Dual bidirectional LSTM\n",
    "\n",
    "Keras recurrent layers have two available modes that are controlled by the `return_sequences` constructor argument:\n",
    "\n",
    "* If `False` it returns only the last output for each input sequence (a 2D tensor of shape (batch_size, output_features)). This is the default, used in the previous model.\n",
    "\n",
    "* If `True` the full sequences of successive outputs for each timestep is returned (a 3D tensor of shape `(batch_size, timesteps, output_features)`).\n",
    "\n",
    "Here is what the flow of information looks like with `return_sequences=True`:\n",
    "\n",
    "![layered_bidirectional]?raw=1\""
   ]
  },
  {
   "cell_type": "markdown",
   "metadata": {
    "id": "wbSClCrG1z8l"
   },
   "source": [
    "The interesting thing about using an `RNN` with `return_sequences=True` is that the output still has 3-axes, like the input, so it can be passed to another RNN layer, like this:"
   ]
  },
  {
   "cell_type": "markdown",
   "metadata": {
    "id": "TJTx1dsTRUtW"
   },
   "source": [
    "<img src=\"https://github.com/djp840/MSDS_458_Public/blob/master/images/multilayerBidirectionalLSTM.png?raw=1\">"
   ]
  },
  {
   "cell_type": "code",
   "execution_count": 57,
   "metadata": {
    "id": "jo1jjO3vn0jo"
   },
   "outputs": [],
   "source": [
    "model2 = tf.keras.Sequential([\n",
    "                              encoder\n",
    "                              ,tf.keras.layers.Embedding(len(encoder.get_vocabulary()), 64, mask_zero=True)\n",
    "                              ,tf.keras.layers.Bidirectional(tf.keras.layers.LSTM(64,  return_sequences=True))\n",
    "                              ,tf.keras.layers.Bidirectional(tf.keras.layers.LSTM(32))\n",
    "                              ,tf.keras.layers.Dense(64, activation='relu')\n",
    "                              ,tf.keras.layers.Dropout(0.5)\n",
    "                              ,tf.keras.layers.Dense(num_classes,activation='softmax')   # not binary since there are num_classes categories\n",
    "])"
   ]
  },
  {
   "cell_type": "markdown",
   "metadata": {
    "id": "iukhoA9vR7gx"
   },
   "source": [
    "<div class=\"alert alert-block alert-info\">\n",
    "<b>tf.keras.losses.SparseCategoricalCrossentropy</b><br>\n",
    "https://www.tensorflow.org/api_docs/python/tf/keras/losses/SparseCategoricalCrossentropy</div>"
   ]
  },
  {
   "cell_type": "code",
   "execution_count": 58,
   "metadata": {
    "id": "_zjWuJesR72x"
   },
   "outputs": [],
   "source": [
    "model2.compile(optimizer='adam'\n",
    "              ,loss=tf.keras.losses.SparseCategoricalCrossentropy() # if we set from_logits=True we do not have specify a softmax activation function in the last layer\n",
    "              ,metrics=['accuracy'])"
   ]
  },
  {
   "cell_type": "code",
   "execution_count": 59,
   "metadata": {
    "colab": {
     "base_uri": "https://localhost:8080/"
    },
    "id": "LeSE-YjdqAeN",
    "outputId": "065043bf-ceaf-4bad-c26a-77c41cb31bf1"
   },
   "outputs": [
    {
     "name": "stdout",
     "output_type": "stream",
     "text": [
      "Epoch 1/200\n",
      "1782/1782 [==============================] - 131s 74ms/step - loss: 0.5127 - accuracy: 0.8169 - val_loss: 0.3810 - val_accuracy: 0.8646\n",
      "Epoch 2/200\n",
      "1782/1782 [==============================] - 123s 69ms/step - loss: 0.4271 - accuracy: 0.8515 - val_loss: 0.3997 - val_accuracy: 0.8609\n",
      "Epoch 3/200\n",
      "1782/1782 [==============================] - 129s 73ms/step - loss: 0.4056 - accuracy: 0.8570 - val_loss: 0.3842 - val_accuracy: 0.8656\n",
      "Epoch 4/200\n",
      "1782/1782 [==============================] - 123s 69ms/step - loss: 0.3877 - accuracy: 0.8625 - val_loss: 0.3774 - val_accuracy: 0.8630\n",
      "Epoch 5/200\n",
      "1782/1782 [==============================] - 135s 76ms/step - loss: 0.3693 - accuracy: 0.8682 - val_loss: 0.3878 - val_accuracy: 0.8599\n"
     ]
    }
   ],
   "source": [
    "history2 = model2.fit(train_dataset\n",
    "                    ,epochs=200\n",
    "                    ,validation_data=validation_dataset\n",
    "                    ,validation_steps=30\n",
    "                    ,callbacks=[tf.keras.callbacks.EarlyStopping(monitor='val_accuracy', patience=2)]\n",
    "                    )"
   ]
  },
  {
   "cell_type": "code",
   "execution_count": 60,
   "metadata": {
    "colab": {
     "base_uri": "https://localhost:8080/"
    },
    "id": "_LdwilM1qPM3",
    "outputId": "11a6921f-8005-4429-d62e-09d4ca6a6512"
   },
   "outputs": [
    {
     "name": "stdout",
     "output_type": "stream",
     "text": [
      "\n",
      "Model performance with training set\n",
      "1782/1782 [==============================] - 55s 31ms/step - loss: 0.3209 - accuracy: 0.8813\n",
      "\n",
      "Evaluating model performance with validation set\n",
      "94/94 [==============================] - 3s 31ms/step - loss: 0.3712 - accuracy: 0.8667\n",
      "\n",
      "Evaluating model performance with test set\n",
      "119/119 [==============================] - 4s 31ms/step - loss: 0.3861 - accuracy: 0.8613\n"
     ]
    },
    {
     "data": {
      "text/plain": [
       "[0.38606536388397217, 0.8613157868385315]"
      ]
     },
     "execution_count": 60,
     "metadata": {},
     "output_type": "execute_result"
    }
   ],
   "source": [
    "print('\\nModel performance with training set')\n",
    "model2.evaluate(train_dataset)\n",
    "\n",
    "print('\\nEvaluating model performance with validation set')\n",
    "model2.evaluate(validation_dataset)\n",
    "\n",
    "print('\\nEvaluating model performance with test set')\n",
    "model2.evaluate(test_dataset)"
   ]
  },
  {
   "cell_type": "code",
   "execution_count": 61,
   "metadata": {
    "colab": {
     "base_uri": "https://localhost:8080/"
    },
    "id": "l5Wa2bx7Suny",
    "outputId": "2d185881-ccbe-4923-e445-33c197795bf8"
   },
   "outputs": [
    {
     "data": {
      "text/plain": [
       "dict_keys(['loss', 'accuracy', 'val_loss', 'val_accuracy'])"
      ]
     },
     "execution_count": 61,
     "metadata": {},
     "output_type": "execute_result"
    }
   ],
   "source": [
    "history_dict2 = history2.history\n",
    "history_dict2.keys()"
   ]
  },
  {
   "cell_type": "code",
   "execution_count": 62,
   "metadata": {
    "colab": {
     "base_uri": "https://localhost:8080/",
     "height": 206
    },
    "id": "cwzqjLbrSurM",
    "outputId": "92494400-336c-41d5-a5fb-056d55752b5c"
   },
   "outputs": [
    {
     "data": {
      "text/html": [
       "<div>\n",
       "<style scoped>\n",
       "    .dataframe tbody tr th:only-of-type {\n",
       "        vertical-align: middle;\n",
       "    }\n",
       "\n",
       "    .dataframe tbody tr th {\n",
       "        vertical-align: top;\n",
       "    }\n",
       "\n",
       "    .dataframe thead th {\n",
       "        text-align: right;\n",
       "    }\n",
       "</style>\n",
       "<table border=\"1\" class=\"dataframe\">\n",
       "  <thead>\n",
       "    <tr style=\"text-align: right;\">\n",
       "      <th></th>\n",
       "      <th>loss</th>\n",
       "      <th>accuracy</th>\n",
       "      <th>val_loss</th>\n",
       "      <th>val_accuracy</th>\n",
       "    </tr>\n",
       "  </thead>\n",
       "  <tbody>\n",
       "    <tr>\n",
       "      <th>0</th>\n",
       "      <td>0.513</td>\n",
       "      <td>0.817</td>\n",
       "      <td>0.381</td>\n",
       "      <td>0.865</td>\n",
       "    </tr>\n",
       "    <tr>\n",
       "      <th>1</th>\n",
       "      <td>0.427</td>\n",
       "      <td>0.851</td>\n",
       "      <td>0.400</td>\n",
       "      <td>0.861</td>\n",
       "    </tr>\n",
       "    <tr>\n",
       "      <th>2</th>\n",
       "      <td>0.406</td>\n",
       "      <td>0.857</td>\n",
       "      <td>0.384</td>\n",
       "      <td>0.866</td>\n",
       "    </tr>\n",
       "    <tr>\n",
       "      <th>3</th>\n",
       "      <td>0.388</td>\n",
       "      <td>0.862</td>\n",
       "      <td>0.377</td>\n",
       "      <td>0.863</td>\n",
       "    </tr>\n",
       "    <tr>\n",
       "      <th>4</th>\n",
       "      <td>0.369</td>\n",
       "      <td>0.868</td>\n",
       "      <td>0.388</td>\n",
       "      <td>0.860</td>\n",
       "    </tr>\n",
       "  </tbody>\n",
       "</table>\n",
       "</div>"
      ],
      "text/plain": [
       "    loss  accuracy  val_loss  val_accuracy\n",
       "0  0.513     0.817     0.381         0.865\n",
       "1  0.427     0.851     0.400         0.861\n",
       "2  0.406     0.857     0.384         0.866\n",
       "3  0.388     0.862     0.377         0.863\n",
       "4  0.369     0.868     0.388         0.860"
      ]
     },
     "execution_count": 62,
     "metadata": {},
     "output_type": "execute_result"
    }
   ],
   "source": [
    "history2_df=pd.DataFrame(history_dict2)\n",
    "history2_df.tail().round(3)"
   ]
  },
  {
   "cell_type": "code",
   "execution_count": 63,
   "metadata": {
    "id": "5CrnwjN7Suu5"
   },
   "outputs": [],
   "source": [
    "losses = history2.history['loss']\n",
    "accs = history2.history['accuracy']\n",
    "val_losses = history2.history['val_loss']\n",
    "val_accs = history2.history['val_accuracy']\n",
    "epochs = len(losses)"
   ]
  },
  {
   "cell_type": "code",
   "execution_count": 64,
   "metadata": {
    "colab": {
     "base_uri": "https://localhost:8080/",
     "height": 265
    },
    "id": "Uw20TBZxSuye",
    "outputId": "e1dc3026-a47f-4e3c-c311-b0e285caf89c"
   },
   "outputs": [
    {
     "data": {
      "image/png": "[encoded data removed]",
      "text/plain": [
       "<Figure size 1152x288 with 2 Axes>"
      ]
     },
     "metadata": {
      "needs_background": "light"
     },
     "output_type": "display_data"
    }
   ],
   "source": [
    "plt.figure(figsize=(16, 4))\n",
    "for i, metrics in enumerate(zip([losses, accs], [val_losses, val_accs], ['Loss', 'Accuracy'])):\n",
    "    plt.subplot(1, 2, i + 1)\n",
    "    plt.plot(range(epochs), metrics[0], label='Training {}'.format(metrics[2]))\n",
    "    plt.plot(range(epochs), metrics[1], label='Validation {}'.format(metrics[2]))\n",
    "    plt.legend()\n",
    "plt.show()"
   ]
  },
  {
   "cell_type": "markdown",
   "metadata": {
    "id": "WoWhNEnKyRRv"
   },
   "source": [
    "### Confusion Matrix"
   ]
  },
  {
   "cell_type": "code",
   "execution_count": 65,
   "metadata": {
    "id": "TaRFsKvJyRRv"
   },
   "outputs": [],
   "source": [
    "preds = model.predict(test_dataset)"
   ]
  },
  {
   "cell_type": "code",
   "execution_count": 66,
   "metadata": {
    "colab": {
     "base_uri": "https://localhost:8080/"
    },
    "id": "38sM3BdNyRRv",
    "outputId": "224571b1-e68e-44a9-c62a-8f8073010fa9"
   },
   "outputs": [
    {
     "data": {
      "text/plain": [
       "(7600, 4)"
      ]
     },
     "execution_count": 66,
     "metadata": {},
     "output_type": "execute_result"
    }
   ],
   "source": [
    "preds.shape"
   ]
  },
  {
   "cell_type": "code",
   "execution_count": 67,
   "metadata": {
    "id": "HLEVza9CyRRw"
   },
   "outputs": [],
   "source": [
    "cm = sns.light_palette((260, 75, 60), input=\"husl\", as_cmap=True)"
   ]
  },
  {
   "cell_type": "code",
   "execution_count": 68,
   "metadata": {
    "colab": {
     "base_uri": "https://localhost:8080/",
     "height": 121
    },
    "id": "QJ4Zct-xyRRw",
    "outputId": "effd38ba-f989-4053-bee6-b5d96842e81d"
   },
   "outputs": [
    {
     "data": {
      "text/html": [
       "<style type=\"text/css\">\n",
       "#T_fcdd3_row0_col0, #T_fcdd3_row0_col2, #T_fcdd3_row0_col11, #T_fcdd3_row1_col1, #T_fcdd3_row1_col2, #T_fcdd3_row1_col4, #T_fcdd3_row1_col5, #T_fcdd3_row1_col8, #T_fcdd3_row1_col9, #T_fcdd3_row1_col10, #T_fcdd3_row1_col12, #T_fcdd3_row1_col14, #T_fcdd3_row2_col0, #T_fcdd3_row2_col1, #T_fcdd3_row2_col3, #T_fcdd3_row2_col4, #T_fcdd3_row2_col6, #T_fcdd3_row2_col7, #T_fcdd3_row2_col8, #T_fcdd3_row2_col10, #T_fcdd3_row2_col11, #T_fcdd3_row2_col13, #T_fcdd3_row2_col14, #T_fcdd3_row3_col0, #T_fcdd3_row3_col1, #T_fcdd3_row3_col3, #T_fcdd3_row3_col4, #T_fcdd3_row3_col6, #T_fcdd3_row3_col10, #T_fcdd3_row3_col14 {\n",
       "  background-color: #f0f1f2;\n",
       "  color: #000000;\n",
       "}\n",
       "#T_fcdd3_row0_col1, #T_fcdd3_row0_col4, #T_fcdd3_row0_col8, #T_fcdd3_row0_col10, #T_fcdd3_row0_col13, #T_fcdd3_row0_col14, #T_fcdd3_row1_col0, #T_fcdd3_row1_col3, #T_fcdd3_row1_col6, #T_fcdd3_row1_col7, #T_fcdd3_row2_col9, #T_fcdd3_row2_col12, #T_fcdd3_row3_col2, #T_fcdd3_row3_col5, #T_fcdd3_row3_col11 {\n",
       "  background-color: #778ce4;\n",
       "  color: #f1f1f1;\n",
       "}\n",
       "#T_fcdd3_row0_col3, #T_fcdd3_row0_col6 {\n",
       "  background-color: #eff0f2;\n",
       "  color: #000000;\n",
       "}\n",
       "#T_fcdd3_row0_col5, #T_fcdd3_row0_col12, #T_fcdd3_row1_col11, #T_fcdd3_row3_col12 {\n",
       "  background-color: #f0f0f2;\n",
       "  color: #000000;\n",
       "}\n",
       "#T_fcdd3_row0_col7 {\n",
       "  background-color: #d2d7ef;\n",
       "  color: #000000;\n",
       "}\n",
       "#T_fcdd3_row0_col9, #T_fcdd3_row3_col13 {\n",
       "  background-color: #ecedf2;\n",
       "  color: #000000;\n",
       "}\n",
       "#T_fcdd3_row1_col13 {\n",
       "  background-color: #efeff2;\n",
       "  color: #000000;\n",
       "}\n",
       "#T_fcdd3_row2_col2 {\n",
       "  background-color: #e9ebf1;\n",
       "  color: #000000;\n",
       "}\n",
       "#T_fcdd3_row2_col5 {\n",
       "  background-color: #e2e5f0;\n",
       "  color: #000000;\n",
       "}\n",
       "#T_fcdd3_row3_col7 {\n",
       "  background-color: #eeeff2;\n",
       "  color: #000000;\n",
       "}\n",
       "#T_fcdd3_row3_col8 {\n",
       "  background-color: #edeef2;\n",
       "  color: #000000;\n",
       "}\n",
       "#T_fcdd3_row3_col9 {\n",
       "  background-color: #e1e4f0;\n",
       "  color: #000000;\n",
       "}\n",
       "</style>\n",
       "<table id=\"T_fcdd3_\">\n",
       "  <thead>\n",
       "    <tr>\n",
       "      <th class=\"blank level0\" >&nbsp;</th>\n",
       "      <th class=\"col_heading level0 col0\" >0</th>\n",
       "      <th class=\"col_heading level0 col1\" >1</th>\n",
       "      <th class=\"col_heading level0 col2\" >2</th>\n",
       "      <th class=\"col_heading level0 col3\" >3</th>\n",
       "      <th class=\"col_heading level0 col4\" >4</th>\n",
       "      <th class=\"col_heading level0 col5\" >5</th>\n",
       "      <th class=\"col_heading level0 col6\" >6</th>\n",
       "      <th class=\"col_heading level0 col7\" >7</th>\n",
       "      <th class=\"col_heading level0 col8\" >8</th>\n",
       "      <th class=\"col_heading level0 col9\" >9</th>\n",
       "      <th class=\"col_heading level0 col10\" >10</th>\n",
       "      <th class=\"col_heading level0 col11\" >11</th>\n",
       "      <th class=\"col_heading level0 col12\" >12</th>\n",
       "      <th class=\"col_heading level0 col13\" >13</th>\n",
       "      <th class=\"col_heading level0 col14\" >14</th>\n",
       "    </tr>\n",
       "  </thead>\n",
       "  <tbody>\n",
       "    <tr>\n",
       "      <th id=\"T_fcdd3_level0_row0\" class=\"row_heading level0 row0\" >World</th>\n",
       "      <td id=\"T_fcdd3_row0_col0\" class=\"data row0 col0\" >0.12%</td>\n",
       "      <td id=\"T_fcdd3_row0_col1\" class=\"data row0 col1\" >99.96%</td>\n",
       "      <td id=\"T_fcdd3_row0_col2\" class=\"data row0 col2\" >0.17%</td>\n",
       "      <td id=\"T_fcdd3_row0_col3\" class=\"data row0 col3\" >1.21%</td>\n",
       "      <td id=\"T_fcdd3_row0_col4\" class=\"data row0 col4\" >99.84%</td>\n",
       "      <td id=\"T_fcdd3_row0_col5\" class=\"data row0 col5\" >0.41%</td>\n",
       "      <td id=\"T_fcdd3_row0_col6\" class=\"data row0 col6\" >0.88%</td>\n",
       "      <td id=\"T_fcdd3_row0_col7\" class=\"data row0 col7\" >19.92%</td>\n",
       "      <td id=\"T_fcdd3_row0_col8\" class=\"data row0 col8\" >95.41%</td>\n",
       "      <td id=\"T_fcdd3_row0_col9\" class=\"data row0 col9\" >2.76%</td>\n",
       "      <td id=\"T_fcdd3_row0_col10\" class=\"data row0 col10\" >99.97%</td>\n",
       "      <td id=\"T_fcdd3_row0_col11\" class=\"data row0 col11\" >0.21%</td>\n",
       "      <td id=\"T_fcdd3_row0_col12\" class=\"data row0 col12\" >0.66%</td>\n",
       "      <td id=\"T_fcdd3_row0_col13\" class=\"data row0 col13\" >93.19%</td>\n",
       "      <td id=\"T_fcdd3_row0_col14\" class=\"data row0 col14\" >99.80%</td>\n",
       "    </tr>\n",
       "    <tr>\n",
       "      <th id=\"T_fcdd3_level0_row1\" class=\"row_heading level0 row1\" >Sports</th>\n",
       "      <td id=\"T_fcdd3_row1_col0\" class=\"data row1 col0\" >99.80%</td>\n",
       "      <td id=\"T_fcdd3_row1_col1\" class=\"data row1 col1\" >0.01%</td>\n",
       "      <td id=\"T_fcdd3_row1_col2\" class=\"data row1 col2\" >0.00%</td>\n",
       "      <td id=\"T_fcdd3_row1_col3\" class=\"data row1 col3\" >98.66%</td>\n",
       "      <td id=\"T_fcdd3_row1_col4\" class=\"data row1 col4\" >0.01%</td>\n",
       "      <td id=\"T_fcdd3_row1_col5\" class=\"data row1 col5\" >0.04%</td>\n",
       "      <td id=\"T_fcdd3_row1_col6\" class=\"data row1 col6\" >98.96%</td>\n",
       "      <td id=\"T_fcdd3_row1_col7\" class=\"data row1 col7\" >78.03%</td>\n",
       "      <td id=\"T_fcdd3_row1_col8\" class=\"data row1 col8\" >0.67%</td>\n",
       "      <td id=\"T_fcdd3_row1_col9\" class=\"data row1 col9\" >0.02%</td>\n",
       "      <td id=\"T_fcdd3_row1_col10\" class=\"data row1 col10\" >0.00%</td>\n",
       "      <td id=\"T_fcdd3_row1_col11\" class=\"data row1 col11\" >0.92%</td>\n",
       "      <td id=\"T_fcdd3_row1_col12\" class=\"data row1 col12\" >0.01%</td>\n",
       "      <td id=\"T_fcdd3_row1_col13\" class=\"data row1 col13\" >2.07%</td>\n",
       "      <td id=\"T_fcdd3_row1_col14\" class=\"data row1 col14\" >0.00%</td>\n",
       "    </tr>\n",
       "    <tr>\n",
       "      <th id=\"T_fcdd3_level0_row2\" class=\"row_heading level0 row2\" >Business</th>\n",
       "      <td id=\"T_fcdd3_row2_col0\" class=\"data row2 col0\" >0.04%</td>\n",
       "      <td id=\"T_fcdd3_row2_col1\" class=\"data row2 col1\" >0.03%</td>\n",
       "      <td id=\"T_fcdd3_row2_col2\" class=\"data row2 col2\" >5.74%</td>\n",
       "      <td id=\"T_fcdd3_row2_col3\" class=\"data row2 col3\" >0.06%</td>\n",
       "      <td id=\"T_fcdd3_row2_col4\" class=\"data row2 col4\" >0.06%</td>\n",
       "      <td id=\"T_fcdd3_row2_col5\" class=\"data row2 col5\" >10.74%</td>\n",
       "      <td id=\"T_fcdd3_row2_col6\" class=\"data row2 col6\" >0.04%</td>\n",
       "      <td id=\"T_fcdd3_row2_col7\" class=\"data row2 col7\" >0.16%</td>\n",
       "      <td id=\"T_fcdd3_row2_col8\" class=\"data row2 col8\" >0.85%</td>\n",
       "      <td id=\"T_fcdd3_row2_col9\" class=\"data row2 col9\" >86.43%</td>\n",
       "      <td id=\"T_fcdd3_row2_col10\" class=\"data row2 col10\" >0.02%</td>\n",
       "      <td id=\"T_fcdd3_row2_col11\" class=\"data row2 col11\" >0.45%</td>\n",
       "      <td id=\"T_fcdd3_row2_col12\" class=\"data row2 col12\" >98.90%</td>\n",
       "      <td id=\"T_fcdd3_row2_col13\" class=\"data row2 col13\" >0.64%</td>\n",
       "      <td id=\"T_fcdd3_row2_col14\" class=\"data row2 col14\" >0.11%</td>\n",
       "    </tr>\n",
       "    <tr>\n",
       "      <th id=\"T_fcdd3_level0_row3\" class=\"row_heading level0 row3\" >Sci/Tech</th>\n",
       "      <td id=\"T_fcdd3_row3_col0\" class=\"data row3 col0\" >0.04%</td>\n",
       "      <td id=\"T_fcdd3_row3_col1\" class=\"data row3 col1\" >0.01%</td>\n",
       "      <td id=\"T_fcdd3_row3_col2\" class=\"data row3 col2\" >94.09%</td>\n",
       "      <td id=\"T_fcdd3_row3_col3\" class=\"data row3 col3\" >0.07%</td>\n",
       "      <td id=\"T_fcdd3_row3_col4\" class=\"data row3 col4\" >0.08%</td>\n",
       "      <td id=\"T_fcdd3_row3_col5\" class=\"data row3 col5\" >88.80%</td>\n",
       "      <td id=\"T_fcdd3_row3_col6\" class=\"data row3 col6\" >0.12%</td>\n",
       "      <td id=\"T_fcdd3_row3_col7\" class=\"data row3 col7\" >1.89%</td>\n",
       "      <td id=\"T_fcdd3_row3_col8\" class=\"data row3 col8\" >3.06%</td>\n",
       "      <td id=\"T_fcdd3_row3_col9\" class=\"data row3 col9\" >10.79%</td>\n",
       "      <td id=\"T_fcdd3_row3_col10\" class=\"data row3 col10\" >0.01%</td>\n",
       "      <td id=\"T_fcdd3_row3_col11\" class=\"data row3 col11\" >98.43%</td>\n",
       "      <td id=\"T_fcdd3_row3_col12\" class=\"data row3 col12\" >0.43%</td>\n",
       "      <td id=\"T_fcdd3_row3_col13\" class=\"data row3 col13\" >4.10%</td>\n",
       "      <td id=\"T_fcdd3_row3_col14\" class=\"data row3 col14\" >0.09%</td>\n",
       "    </tr>\n",
       "  </tbody>\n",
       "</table>\n"
      ],
      "text/plain": [
       "<pandas.io.formats.style.Styler at 0x2184dd39888>"
      ]
     },
     "execution_count": 68,
     "metadata": {},
     "output_type": "execute_result"
    }
   ],
   "source": [
    "df = pd.DataFrame(preds[0:15]\n",
    "                  ,columns = ['World','Sports','Business','Sci/Tech']).T\n",
    "df.style.format(\"{:.2%}\").background_gradient(cmap=cm)"
   ]
  },
  {
   "cell_type": "markdown",
   "metadata": {
    "id": "A3RlxHyPTCrD"
   },
   "source": [
    "#### Model Architecture Summary Dual Layer Bidirectional RNN"
   ]
  },
  {
   "cell_type": "code",
   "execution_count": 69,
   "metadata": {
    "colab": {
     "base_uri": "https://localhost:8080/"
    },
    "id": "idRIHfoySu12",
    "outputId": "ed31f258-94ab-4e62-c17f-8c0f42d2ca25"
   },
   "outputs": [
    {
     "name": "stdout",
     "output_type": "stream",
     "text": [
      "Model: \"sequential_1\"\n",
      "_________________________________________________________________\n",
      "Layer (type)                 Output Shape              Param #   \n",
      "=================================================================\n",
      "text_vectorization_2 (TextVe (None, None)              0         \n",
      "_________________________________________________________________\n",
      "embedding_1 (Embedding)      (None, None, 64)          64000     \n",
      "_________________________________________________________________\n",
      "bidirectional_1 (Bidirection (None, None, 128)         66048     \n",
      "_________________________________________________________________\n",
      "bidirectional_2 (Bidirection (None, 64)                41216     \n",
      "_________________________________________________________________\n",
      "dense_2 (Dense)              (None, 64)                4160      \n",
      "_________________________________________________________________\n",
      "dropout (Dropout)            (None, 64)                0         \n",
      "_________________________________________________________________\n",
      "dense_3 (Dense)              (None, 4)                 260       \n",
      "=================================================================\n",
      "Total params: 175,684\n",
      "Trainable params: 175,684\n",
      "Non-trainable params: 0\n",
      "_________________________________________________________________\n"
     ]
    }
   ],
   "source": [
    "model2.summary()"
   ]
  },
  {
   "cell_type": "code",
   "execution_count": 70,
   "metadata": {
    "colab": {
     "base_uri": "https://localhost:8080/",
     "height": 865
    },
    "id": "o01y6ZMVTF8J",
    "outputId": "83fec439-e4ff-4392-95ed-7a217076c9fe",
    "scrolled": false
   },
   "outputs": [
    {
     "name": "stdout",
     "output_type": "stream",
     "text": [
      "('Failed to import pydot. You must `pip install pydot` and install graphviz (https://graphviz.gitlab.io/download/), ', 'for `pydotprint` to work.')\n"
     ]
    }
   ],
   "source": [
    "keras.utils.plot_model(model2, \"2Layer_BiDirectionalLSTM.png\", show_shapes=True)"
   ]
  },
  {
   "cell_type": "markdown",
   "metadata": {
    "id": "9xvpE3BaGw_V"
   },
   "source": [
    "Check out other existing recurrent layers such as [GRU layers](https://www.tensorflow.org/api_docs/python/tf/keras/layers/GRU).\n",
    "\n",
    "If you're interestied in building custom RNNs, see the [Keras RNN Guide](../../guide/keras/rnn.ipynb).\n"
   ]
  },
  {
   "cell_type": "code",
   "execution_count": null,
   "metadata": {},
   "outputs": [],
   "source": []
  },
  {
   "cell_type": "code",
   "execution_count": null,
   "metadata": {},
   "outputs": [],
   "source": []
  },
  {
   "cell_type": "markdown",
   "metadata": {},
   "source": [
    "### Experiment A (a) - vocab sizes"
   ]
  },
  {
   "cell_type": "code",
   "execution_count": 71,
   "metadata": {},
   "outputs": [],
   "source": [
    "start_time = time.time()\n",
    "\n",
    "VOCAB_SIZE=2000\n",
    "encoder_a2 = tf.keras.layers.experimental.preprocessing.TextVectorization(\n",
    "    max_tokens=VOCAB_SIZE)\n",
    "encoder_a2.adapt(train_dataset.map(lambda text, label: text))\n",
    "vocab_a2 = np.array(encoder_a2.get_vocabulary())\n",
    "\n",
    "num_classes = 4\n",
    "\n",
    "model_a2 = tf.keras.Sequential([\n",
    "                              encoder_a2\n",
    "                              ,tf.keras.layers.Embedding(input_dim=len(encoder_a2.get_vocabulary())\n",
    "                              ,output_dim=64\n",
    "                                # Use masking to handle the variable sequence lengths\n",
    "                              ,mask_zero=True)\n",
    "                              ,tf.keras.layers.Bidirectional(tf.keras.layers.LSTM(64))\n",
    "                              ,tf.keras.layers.Dense(64, activation='relu')\n",
    "                              ,tf.keras.layers.Dense(num_classes,activation='softmax')   # num_classes = 4\n",
    "])\n",
    "model_a2.compile(optimizer=tf.keras.optimizers.Adam(1e-4)\n",
    "              ,loss=tf.keras.losses.SparseCategoricalCrossentropy() # if we set from_logits=True we don not have specify a softmax activation function in the last layer\n",
    "              ,metrics=['accuracy'])"
   ]
  },
  {
   "cell_type": "code",
   "execution_count": 72,
   "metadata": {},
   "outputs": [
    {
     "name": "stdout",
     "output_type": "stream",
     "text": [
      "Epoch 1/200\n",
      "1782/1782 [==============================] - 72s 40ms/step - loss: 0.6765 - accuracy: 0.7442 - val_loss: 0.4255 - val_accuracy: 0.8607\n",
      "Epoch 2/200\n",
      "1782/1782 [==============================] - 70s 39ms/step - loss: 0.4017 - accuracy: 0.8621 - val_loss: 0.3990 - val_accuracy: 0.8637\n",
      "Epoch 3/200\n",
      "1782/1782 [==============================] - 71s 40ms/step - loss: 0.3688 - accuracy: 0.8714 - val_loss: 0.3728 - val_accuracy: 0.8705\n",
      "Epoch 4/200\n",
      "1782/1782 [==============================] - 66s 37ms/step - loss: 0.3493 - accuracy: 0.8779 - val_loss: 0.4948 - val_accuracy: 0.8155\n",
      "Epoch 5/200\n",
      "1782/1782 [==============================] - 66s 37ms/step - loss: 0.3366 - accuracy: 0.8820 - val_loss: 0.3571 - val_accuracy: 0.8730\n",
      "Epoch 6/200\n",
      "1782/1782 [==============================] - 67s 38ms/step - loss: 0.3229 - accuracy: 0.8865 - val_loss: 0.3483 - val_accuracy: 0.8762\n",
      "Epoch 7/200\n",
      "1782/1782 [==============================] - 66s 37ms/step - loss: 0.3141 - accuracy: 0.8889 - val_loss: 0.3442 - val_accuracy: 0.8747\n",
      "Epoch 8/200\n",
      "1782/1782 [==============================] - 67s 37ms/step - loss: 0.3071 - accuracy: 0.8910 - val_loss: 0.3419 - val_accuracy: 0.8778\n",
      "Epoch 9/200\n",
      "1782/1782 [==============================] - 67s 37ms/step - loss: 0.3013 - accuracy: 0.8922 - val_loss: 0.3401 - val_accuracy: 0.8782\n",
      "Epoch 10/200\n",
      "1782/1782 [==============================] - 66s 37ms/step - loss: 0.2966 - accuracy: 0.8938 - val_loss: 0.3390 - val_accuracy: 0.8807\n",
      "Epoch 11/200\n",
      "1782/1782 [==============================] - 66s 37ms/step - loss: 0.2921 - accuracy: 0.8950 - val_loss: 0.3373 - val_accuracy: 0.8783\n",
      "Epoch 12/200\n",
      "1782/1782 [==============================] - 67s 37ms/step - loss: 0.2878 - accuracy: 0.8976 - val_loss: 0.3361 - val_accuracy: 0.8835\n",
      "Epoch 13/200\n",
      "1782/1782 [==============================] - 67s 38ms/step - loss: 0.2840 - accuracy: 0.8991 - val_loss: 0.3404 - val_accuracy: 0.8785\n",
      "Epoch 14/200\n",
      "1782/1782 [==============================] - 66s 37ms/step - loss: 0.2802 - accuracy: 0.9002 - val_loss: 0.3398 - val_accuracy: 0.8813\n",
      "Finished model training in 961s\n"
     ]
    }
   ],
   "source": [
    "history_a2 = model_a2.fit(train_dataset\n",
    "                    ,epochs = 200\n",
    "                    ,validation_data=validation_dataset\n",
    "                    ,callbacks=[tf.keras.callbacks.EarlyStopping(monitor='val_accuracy', patience=2)]\n",
    "                    )\n",
    "\n",
    "end_time = time.time()\n",
    "second_elapsed = round(end_time - start_time)\n",
    "\n",
    "print(f'Finished model training in {second_elapsed}s')"
   ]
  },
  {
   "cell_type": "code",
   "execution_count": 73,
   "metadata": {},
   "outputs": [
    {
     "name": "stdout",
     "output_type": "stream",
     "text": [
      "\n",
      "Model performance with training set\n",
      "1782/1782 [==============================] - 32s 18ms/step - loss: 0.2639 - accuracy: 0.9066\n",
      "\n",
      "Evaluating model performance with validation set\n",
      "94/94 [==============================] - 2s 18ms/step - loss: 0.3398 - accuracy: 0.8813\n",
      "\n",
      "Evaluating model performance with test set\n",
      "119/119 [==============================] - 2s 18ms/step - loss: 0.3418 - accuracy: 0.8793\n"
     ]
    },
    {
     "data": {
      "text/plain": [
       "[0.34179702401161194, 0.8793420791625977]"
      ]
     },
     "execution_count": 73,
     "metadata": {},
     "output_type": "execute_result"
    }
   ],
   "source": [
    "print('\\nModel performance with training set')\n",
    "model_a2.evaluate(train_dataset)\n",
    "\n",
    "print('\\nEvaluating model performance with validation set')\n",
    "model_a2.evaluate(validation_dataset)\n",
    "\n",
    "print('\\nEvaluating model performance with test set')\n",
    "model_a2.evaluate(test_dataset)"
   ]
  },
  {
   "cell_type": "code",
   "execution_count": 74,
   "metadata": {
    "colab": {
     "base_uri": "https://localhost:8080/"
    },
    "id": "l5Wa2bx7Suny",
    "outputId": "2d185881-ccbe-4923-e445-33c197795bf8"
   },
   "outputs": [
    {
     "data": {
      "text/plain": [
       "dict_keys(['loss', 'accuracy', 'val_loss', 'val_accuracy'])"
      ]
     },
     "execution_count": 74,
     "metadata": {},
     "output_type": "execute_result"
    }
   ],
   "source": [
    "history_dict_a2 = history_a2.history\n",
    "history_dict_a2.keys()"
   ]
  },
  {
   "cell_type": "code",
   "execution_count": 75,
   "metadata": {
    "colab": {
     "base_uri": "https://localhost:8080/",
     "height": 206
    },
    "id": "cwzqjLbrSurM",
    "outputId": "92494400-336c-41d5-a5fb-056d55752b5c",
    "scrolled": true
   },
   "outputs": [
    {
     "data": {
      "text/html": [
       "<div>\n",
       "<style scoped>\n",
       "    .dataframe tbody tr th:only-of-type {\n",
       "        vertical-align: middle;\n",
       "    }\n",
       "\n",
       "    .dataframe tbody tr th {\n",
       "        vertical-align: top;\n",
       "    }\n",
       "\n",
       "    .dataframe thead th {\n",
       "        text-align: right;\n",
       "    }\n",
       "</style>\n",
       "<table border=\"1\" class=\"dataframe\">\n",
       "  <thead>\n",
       "    <tr style=\"text-align: right;\">\n",
       "      <th></th>\n",
       "      <th>loss</th>\n",
       "      <th>accuracy</th>\n",
       "      <th>val_loss</th>\n",
       "      <th>val_accuracy</th>\n",
       "    </tr>\n",
       "  </thead>\n",
       "  <tbody>\n",
       "    <tr>\n",
       "      <th>9</th>\n",
       "      <td>0.297</td>\n",
       "      <td>0.894</td>\n",
       "      <td>0.339</td>\n",
       "      <td>0.881</td>\n",
       "    </tr>\n",
       "    <tr>\n",
       "      <th>10</th>\n",
       "      <td>0.292</td>\n",
       "      <td>0.895</td>\n",
       "      <td>0.337</td>\n",
       "      <td>0.878</td>\n",
       "    </tr>\n",
       "    <tr>\n",
       "      <th>11</th>\n",
       "      <td>0.288</td>\n",
       "      <td>0.898</td>\n",
       "      <td>0.336</td>\n",
       "      <td>0.883</td>\n",
       "    </tr>\n",
       "    <tr>\n",
       "      <th>12</th>\n",
       "      <td>0.284</td>\n",
       "      <td>0.899</td>\n",
       "      <td>0.340</td>\n",
       "      <td>0.878</td>\n",
       "    </tr>\n",
       "    <tr>\n",
       "      <th>13</th>\n",
       "      <td>0.280</td>\n",
       "      <td>0.900</td>\n",
       "      <td>0.340</td>\n",
       "      <td>0.881</td>\n",
       "    </tr>\n",
       "  </tbody>\n",
       "</table>\n",
       "</div>"
      ],
      "text/plain": [
       "     loss  accuracy  val_loss  val_accuracy\n",
       "9   0.297     0.894     0.339         0.881\n",
       "10  0.292     0.895     0.337         0.878\n",
       "11  0.288     0.898     0.336         0.883\n",
       "12  0.284     0.899     0.340         0.878\n",
       "13  0.280     0.900     0.340         0.881"
      ]
     },
     "execution_count": 75,
     "metadata": {},
     "output_type": "execute_result"
    }
   ],
   "source": [
    "history_a2_df=pd.DataFrame(history_dict_a2)\n",
    "history_a2_df.tail().round(3)"
   ]
  },
  {
   "cell_type": "code",
   "execution_count": 76,
   "metadata": {
    "id": "NvA2u5do1JqA"
   },
   "outputs": [],
   "source": [
    "losses_a2 = history_a2.history['loss']\n",
    "accs_a2 = history_a2.history['accuracy']\n",
    "val_losses_a2 = history_a2.history['val_loss']\n",
    "val_accs_a2 = history_a2.history['val_accuracy']\n",
    "epochs_a2 = len(losses_a2)"
   ]
  },
  {
   "cell_type": "code",
   "execution_count": 77,
   "metadata": {
    "colab": {
     "base_uri": "https://localhost:8080/",
     "height": 265
    },
    "id": "JGoRjq2T1SUp",
    "outputId": "ba97450a-6af3-4584-8c9f-e31ad054da55",
    "scrolled": true
   },
   "outputs": [
    {
     "data": {
      "image/png": "[encoded data removed]",
      "text/plain": [
       "<Figure size 1152x288 with 2 Axes>"
      ]
     },
     "metadata": {
      "needs_background": "light"
     },
     "output_type": "display_data"
    }
   ],
   "source": [
    "plt.figure(figsize=(16, 4))\n",
    "for i, metrics in enumerate(zip([losses_a2, accs_a2], [val_losses_a2, val_accs_a2], ['Loss', 'Accuracy'])):\n",
    "    plt.subplot(1, 2, i + 1)\n",
    "    plt.plot(range(epochs_a2), metrics[0], label='Training {}'.format(metrics[2]))\n",
    "    plt.plot(range(epochs_a2), metrics[1], label='Validation {}'.format(metrics[2]))\n",
    "    plt.legend()\n",
    "plt.show()"
   ]
  },
  {
   "cell_type": "markdown",
   "metadata": {
    "id": "WoWhNEnKyRRv"
   },
   "source": [
    "### Confusion Matrix"
   ]
  },
  {
   "cell_type": "code",
   "execution_count": 78,
   "metadata": {
    "id": "TaRFsKvJyRRv"
   },
   "outputs": [],
   "source": [
    "preds_a2 = model_a2.predict(test_dataset)"
   ]
  },
  {
   "cell_type": "code",
   "execution_count": 79,
   "metadata": {
    "colab": {
     "base_uri": "https://localhost:8080/"
    },
    "id": "38sM3BdNyRRv",
    "outputId": "224571b1-e68e-44a9-c62a-8f8073010fa9"
   },
   "outputs": [
    {
     "data": {
      "text/plain": [
       "(7600, 4)"
      ]
     },
     "execution_count": 79,
     "metadata": {},
     "output_type": "execute_result"
    }
   ],
   "source": [
    "preds_a2.shape"
   ]
  },
  {
   "cell_type": "code",
   "execution_count": 80,
   "metadata": {
    "id": "HLEVza9CyRRw"
   },
   "outputs": [],
   "source": [
    "cm = sns.light_palette((260, 75, 60), input=\"husl\", as_cmap=True)"
   ]
  },
  {
   "cell_type": "code",
   "execution_count": 81,
   "metadata": {
    "colab": {
     "base_uri": "https://localhost:8080/",
     "height": 121
    },
    "id": "QJ4Zct-xyRRw",
    "outputId": "effd38ba-f989-4053-bee6-b5d96842e81d",
    "scrolled": true
   },
   "outputs": [
    {
     "data": {
      "text/html": [
       "<style type=\"text/css\">\n",
       "#T_1d7eb_row0_col0, #T_1d7eb_row0_col2, #T_1d7eb_row0_col5, #T_1d7eb_row0_col9, #T_1d7eb_row0_col11, #T_1d7eb_row1_col1, #T_1d7eb_row1_col2, #T_1d7eb_row1_col4, #T_1d7eb_row1_col5, #T_1d7eb_row1_col8, #T_1d7eb_row1_col9, #T_1d7eb_row1_col10, #T_1d7eb_row1_col11, #T_1d7eb_row1_col12, #T_1d7eb_row1_col14, #T_1d7eb_row2_col0, #T_1d7eb_row2_col1, #T_1d7eb_row2_col3, #T_1d7eb_row2_col4, #T_1d7eb_row2_col6, #T_1d7eb_row2_col7, #T_1d7eb_row2_col10, #T_1d7eb_row2_col13, #T_1d7eb_row2_col14, #T_1d7eb_row3_col0, #T_1d7eb_row3_col1, #T_1d7eb_row3_col3, #T_1d7eb_row3_col4, #T_1d7eb_row3_col6, #T_1d7eb_row3_col10, #T_1d7eb_row3_col14 {\n",
       "  background-color: #f0f1f2;\n",
       "  color: #000000;\n",
       "}\n",
       "#T_1d7eb_row0_col1, #T_1d7eb_row0_col4, #T_1d7eb_row0_col8, #T_1d7eb_row0_col10, #T_1d7eb_row0_col13, #T_1d7eb_row0_col14, #T_1d7eb_row1_col0, #T_1d7eb_row1_col3, #T_1d7eb_row1_col6, #T_1d7eb_row1_col7, #T_1d7eb_row2_col9, #T_1d7eb_row2_col12, #T_1d7eb_row3_col2, #T_1d7eb_row3_col5, #T_1d7eb_row3_col11 {\n",
       "  background-color: #778ce4;\n",
       "  color: #f1f1f1;\n",
       "}\n",
       "#T_1d7eb_row0_col3, #T_1d7eb_row0_col6, #T_1d7eb_row0_col12, #T_1d7eb_row3_col7, #T_1d7eb_row3_col12 {\n",
       "  background-color: #f0f0f2;\n",
       "  color: #000000;\n",
       "}\n",
       "#T_1d7eb_row0_col7, #T_1d7eb_row2_col2, #T_1d7eb_row2_col5 {\n",
       "  background-color: #ecedf2;\n",
       "  color: #000000;\n",
       "}\n",
       "#T_1d7eb_row1_col13 {\n",
       "  background-color: #efeff2;\n",
       "  color: #000000;\n",
       "}\n",
       "#T_1d7eb_row2_col8 {\n",
       "  background-color: #ebecf2;\n",
       "  color: #000000;\n",
       "}\n",
       "#T_1d7eb_row2_col11, #T_1d7eb_row3_col9 {\n",
       "  background-color: #eff0f2;\n",
       "  color: #000000;\n",
       "}\n",
       "#T_1d7eb_row3_col8 {\n",
       "  background-color: #e8e9f1;\n",
       "  color: #000000;\n",
       "}\n",
       "#T_1d7eb_row3_col13 {\n",
       "  background-color: #dfe2f0;\n",
       "  color: #000000;\n",
       "}\n",
       "</style>\n",
       "<table id=\"T_1d7eb_\">\n",
       "  <thead>\n",
       "    <tr>\n",
       "      <th class=\"blank level0\" >&nbsp;</th>\n",
       "      <th class=\"col_heading level0 col0\" >0</th>\n",
       "      <th class=\"col_heading level0 col1\" >1</th>\n",
       "      <th class=\"col_heading level0 col2\" >2</th>\n",
       "      <th class=\"col_heading level0 col3\" >3</th>\n",
       "      <th class=\"col_heading level0 col4\" >4</th>\n",
       "      <th class=\"col_heading level0 col5\" >5</th>\n",
       "      <th class=\"col_heading level0 col6\" >6</th>\n",
       "      <th class=\"col_heading level0 col7\" >7</th>\n",
       "      <th class=\"col_heading level0 col8\" >8</th>\n",
       "      <th class=\"col_heading level0 col9\" >9</th>\n",
       "      <th class=\"col_heading level0 col10\" >10</th>\n",
       "      <th class=\"col_heading level0 col11\" >11</th>\n",
       "      <th class=\"col_heading level0 col12\" >12</th>\n",
       "      <th class=\"col_heading level0 col13\" >13</th>\n",
       "      <th class=\"col_heading level0 col14\" >14</th>\n",
       "    </tr>\n",
       "  </thead>\n",
       "  <tbody>\n",
       "    <tr>\n",
       "      <th id=\"T_1d7eb_level0_row0\" class=\"row_heading level0 row0\" >World</th>\n",
       "      <td id=\"T_1d7eb_row0_col0\" class=\"data row0 col0\" >0.10%</td>\n",
       "      <td id=\"T_1d7eb_row0_col1\" class=\"data row0 col1\" >99.98%</td>\n",
       "      <td id=\"T_1d7eb_row0_col2\" class=\"data row0 col2\" >0.04%</td>\n",
       "      <td id=\"T_1d7eb_row0_col3\" class=\"data row0 col3\" >0.77%</td>\n",
       "      <td id=\"T_1d7eb_row0_col4\" class=\"data row0 col4\" >99.98%</td>\n",
       "      <td id=\"T_1d7eb_row0_col5\" class=\"data row0 col5\" >0.07%</td>\n",
       "      <td id=\"T_1d7eb_row0_col6\" class=\"data row0 col6\" >0.54%</td>\n",
       "      <td id=\"T_1d7eb_row0_col7\" class=\"data row0 col7\" >3.05%</td>\n",
       "      <td id=\"T_1d7eb_row0_col8\" class=\"data row0 col8\" >89.10%</td>\n",
       "      <td id=\"T_1d7eb_row0_col9\" class=\"data row0 col9\" >0.40%</td>\n",
       "      <td id=\"T_1d7eb_row0_col10\" class=\"data row0 col10\" >100.00%</td>\n",
       "      <td id=\"T_1d7eb_row0_col11\" class=\"data row0 col11\" >0.26%</td>\n",
       "      <td id=\"T_1d7eb_row0_col12\" class=\"data row0 col12\" >0.66%</td>\n",
       "      <td id=\"T_1d7eb_row0_col13\" class=\"data row0 col13\" >84.26%</td>\n",
       "      <td id=\"T_1d7eb_row0_col14\" class=\"data row0 col14\" >99.88%</td>\n",
       "    </tr>\n",
       "    <tr>\n",
       "      <th id=\"T_1d7eb_level0_row1\" class=\"row_heading level0 row1\" >Sports</th>\n",
       "      <td id=\"T_1d7eb_row1_col0\" class=\"data row1 col0\" >99.76%</td>\n",
       "      <td id=\"T_1d7eb_row1_col1\" class=\"data row1 col1\" >0.00%</td>\n",
       "      <td id=\"T_1d7eb_row1_col2\" class=\"data row1 col2\" >0.00%</td>\n",
       "      <td id=\"T_1d7eb_row1_col3\" class=\"data row1 col3\" >99.08%</td>\n",
       "      <td id=\"T_1d7eb_row1_col4\" class=\"data row1 col4\" >0.00%</td>\n",
       "      <td id=\"T_1d7eb_row1_col5\" class=\"data row1 col5\" >0.00%</td>\n",
       "      <td id=\"T_1d7eb_row1_col6\" class=\"data row1 col6\" >99.19%</td>\n",
       "      <td id=\"T_1d7eb_row1_col7\" class=\"data row1 col7\" >96.44%</td>\n",
       "      <td id=\"T_1d7eb_row1_col8\" class=\"data row1 col8\" >0.04%</td>\n",
       "      <td id=\"T_1d7eb_row1_col9\" class=\"data row1 col9\" >0.02%</td>\n",
       "      <td id=\"T_1d7eb_row1_col10\" class=\"data row1 col10\" >0.00%</td>\n",
       "      <td id=\"T_1d7eb_row1_col11\" class=\"data row1 col11\" >0.28%</td>\n",
       "      <td id=\"T_1d7eb_row1_col12\" class=\"data row1 col12\" >0.01%</td>\n",
       "      <td id=\"T_1d7eb_row1_col13\" class=\"data row1 col13\" >1.93%</td>\n",
       "      <td id=\"T_1d7eb_row1_col14\" class=\"data row1 col14\" >0.00%</td>\n",
       "    </tr>\n",
       "    <tr>\n",
       "      <th id=\"T_1d7eb_level0_row2\" class=\"row_heading level0 row2\" >Business</th>\n",
       "      <td id=\"T_1d7eb_row2_col0\" class=\"data row2 col0\" >0.08%</td>\n",
       "      <td id=\"T_1d7eb_row2_col1\" class=\"data row2 col1\" >0.01%</td>\n",
       "      <td id=\"T_1d7eb_row2_col2\" class=\"data row2 col2\" >3.42%</td>\n",
       "      <td id=\"T_1d7eb_row2_col3\" class=\"data row2 col3\" >0.10%</td>\n",
       "      <td id=\"T_1d7eb_row2_col4\" class=\"data row2 col4\" >0.00%</td>\n",
       "      <td id=\"T_1d7eb_row2_col5\" class=\"data row2 col5\" >3.49%</td>\n",
       "      <td id=\"T_1d7eb_row2_col6\" class=\"data row2 col6\" >0.10%</td>\n",
       "      <td id=\"T_1d7eb_row2_col7\" class=\"data row2 col7\" >0.03%</td>\n",
       "      <td id=\"T_1d7eb_row2_col8\" class=\"data row2 col8\" >4.28%</td>\n",
       "      <td id=\"T_1d7eb_row2_col9\" class=\"data row2 col9\" >98.47%</td>\n",
       "      <td id=\"T_1d7eb_row2_col10\" class=\"data row2 col10\" >0.00%</td>\n",
       "      <td id=\"T_1d7eb_row2_col11\" class=\"data row2 col11\" >1.38%</td>\n",
       "      <td id=\"T_1d7eb_row2_col12\" class=\"data row2 col12\" >98.74%</td>\n",
       "      <td id=\"T_1d7eb_row2_col13\" class=\"data row2 col13\" >0.72%</td>\n",
       "      <td id=\"T_1d7eb_row2_col14\" class=\"data row2 col14\" >0.00%</td>\n",
       "    </tr>\n",
       "    <tr>\n",
       "      <th id=\"T_1d7eb_level0_row3\" class=\"row_heading level0 row3\" >Sci/Tech</th>\n",
       "      <td id=\"T_1d7eb_row3_col0\" class=\"data row3 col0\" >0.05%</td>\n",
       "      <td id=\"T_1d7eb_row3_col1\" class=\"data row3 col1\" >0.01%</td>\n",
       "      <td id=\"T_1d7eb_row3_col2\" class=\"data row3 col2\" >96.54%</td>\n",
       "      <td id=\"T_1d7eb_row3_col3\" class=\"data row3 col3\" >0.05%</td>\n",
       "      <td id=\"T_1d7eb_row3_col4\" class=\"data row3 col4\" >0.01%</td>\n",
       "      <td id=\"T_1d7eb_row3_col5\" class=\"data row3 col5\" >96.44%</td>\n",
       "      <td id=\"T_1d7eb_row3_col6\" class=\"data row3 col6\" >0.17%</td>\n",
       "      <td id=\"T_1d7eb_row3_col7\" class=\"data row3 col7\" >0.49%</td>\n",
       "      <td id=\"T_1d7eb_row3_col8\" class=\"data row3 col8\" >6.58%</td>\n",
       "      <td id=\"T_1d7eb_row3_col9\" class=\"data row3 col9\" >1.11%</td>\n",
       "      <td id=\"T_1d7eb_row3_col10\" class=\"data row3 col10\" >0.00%</td>\n",
       "      <td id=\"T_1d7eb_row3_col11\" class=\"data row3 col11\" >98.07%</td>\n",
       "      <td id=\"T_1d7eb_row3_col12\" class=\"data row3 col12\" >0.58%</td>\n",
       "      <td id=\"T_1d7eb_row3_col13\" class=\"data row3 col13\" >13.08%</td>\n",
       "      <td id=\"T_1d7eb_row3_col14\" class=\"data row3 col14\" >0.12%</td>\n",
       "    </tr>\n",
       "  </tbody>\n",
       "</table>\n"
      ],
      "text/plain": [
       "<pandas.io.formats.style.Styler at 0x2186db27708>"
      ]
     },
     "execution_count": 81,
     "metadata": {},
     "output_type": "execute_result"
    }
   ],
   "source": [
    "df = pd.DataFrame(preds_a2[0:15]\n",
    "                  ,columns = ['World','Sports','Business','Sci/Tech']).T\n",
    "df.style.format(\"{:.2%}\").background_gradient(cmap=cm)"
   ]
  },
  {
   "cell_type": "markdown",
   "metadata": {},
   "source": [
    "##### experiment a (a) 3"
   ]
  },
  {
   "cell_type": "code",
   "execution_count": 82,
   "metadata": {},
   "outputs": [],
   "source": [
    "encoder_a3 = tf.keras.layers.experimental.preprocessing.TextVectorization(\n",
    "    max_tokens=VOCAB_SIZE)\n",
    "encoder_a3.adapt(train_dataset.map(lambda text, label: text))\n",
    "vocab_a3 = np.array(encoder_a3.get_vocabulary())\n"
   ]
  },
  {
   "cell_type": "code",
   "execution_count": 83,
   "metadata": {},
   "outputs": [],
   "source": [
    "start_time = time.time()\n",
    "\n",
    "VOCAB_SIZE=3000\n",
    "encoder_a3 = tf.keras.layers.experimental.preprocessing.TextVectorization(\n",
    "    max_tokens=VOCAB_SIZE)\n",
    "encoder_a3.adapt(train_dataset.map(lambda text, label: text))\n",
    "vocab_a3 = np.array(encoder_a3.get_vocabulary())\n",
    "\n",
    "num_classes = 4\n",
    "\n",
    "model_a3 = tf.keras.Sequential([\n",
    "                              encoder_a3\n",
    "                              ,tf.keras.layers.Embedding(input_dim=len(encoder_a3.get_vocabulary())\n",
    "                              ,output_dim=64\n",
    "                                # Use masking to handle the variable sequence lengths\n",
    "                              ,mask_zero=True)\n",
    "                              ,tf.keras.layers.Bidirectional(tf.keras.layers.LSTM(64))\n",
    "                              ,tf.keras.layers.Dense(64, activation='relu')\n",
    "                              ,tf.keras.layers.Dense(num_classes,activation='softmax')   # num_classes = 4\n",
    "])\n",
    "model_a3.compile(optimizer=tf.keras.optimizers.Adam(1e-4)\n",
    "              ,loss=tf.keras.losses.SparseCategoricalCrossentropy() # if we set from_logits=True we don not have specify a softmax activation function in the last layer\n",
    "              ,metrics=['accuracy'])"
   ]
  },
  {
   "cell_type": "code",
   "execution_count": 84,
   "metadata": {},
   "outputs": [
    {
     "name": "stdout",
     "output_type": "stream",
     "text": [
      "Epoch 1/200\n",
      "1782/1782 [==============================] - 68s 38ms/step - loss: 0.6342 - accuracy: 0.7686 - val_loss: 0.3750 - val_accuracy: 0.8757\n",
      "Epoch 2/200\n",
      "1782/1782 [==============================] - 66s 37ms/step - loss: 0.3380 - accuracy: 0.8846 - val_loss: 0.3289 - val_accuracy: 0.8895\n",
      "Epoch 3/200\n",
      "1782/1782 [==============================] - 68s 38ms/step - loss: 0.3024 - accuracy: 0.8949 - val_loss: 0.3227 - val_accuracy: 0.8902\n",
      "Epoch 4/200\n",
      "1782/1782 [==============================] - 69s 39ms/step - loss: 0.2871 - accuracy: 0.8994 - val_loss: 0.3166 - val_accuracy: 0.8893\n",
      "Epoch 5/200\n",
      "1782/1782 [==============================] - 67s 37ms/step - loss: 0.2777 - accuracy: 0.9023 - val_loss: 0.3127 - val_accuracy: 0.8903\n",
      "Epoch 6/200\n",
      "1782/1782 [==============================] - 66s 37ms/step - loss: 0.2705 - accuracy: 0.9047 - val_loss: 0.3134 - val_accuracy: 0.8920\n",
      "Epoch 7/200\n",
      "1782/1782 [==============================] - 66s 37ms/step - loss: 0.2668 - accuracy: 0.9057 - val_loss: 0.3154 - val_accuracy: 0.8895\n",
      "Epoch 8/200\n",
      "1782/1782 [==============================] - 66s 37ms/step - loss: 0.2608 - accuracy: 0.9077 - val_loss: 0.3186 - val_accuracy: 0.8900\n",
      "Finished model training in 552s\n"
     ]
    }
   ],
   "source": [
    "history_a3 = model_a3.fit(train_dataset\n",
    "                    ,epochs = 200\n",
    "                    ,validation_data=validation_dataset\n",
    "                    ,callbacks=[tf.keras.callbacks.EarlyStopping(monitor='val_accuracy', patience=2)]\n",
    "                    )\n",
    "end_time = time.time()\n",
    "second_elapsed = round(end_time - start_time)\n",
    "\n",
    "print(f'Finished model training in {second_elapsed}s')"
   ]
  },
  {
   "cell_type": "code",
   "execution_count": 85,
   "metadata": {},
   "outputs": [
    {
     "name": "stdout",
     "output_type": "stream",
     "text": [
      "\n",
      "Model performance with training set\n",
      "1782/1782 [==============================] - 33s 18ms/step - loss: 0.2443 - accuracy: 0.9143\n",
      "\n",
      "Evaluating model performance with validation set\n",
      "94/94 [==============================] - 2s 19ms/step - loss: 0.3186 - accuracy: 0.8900\n",
      "\n",
      "Evaluating model performance with test set\n",
      "119/119 [==============================] - 2s 19ms/step - loss: 0.3223 - accuracy: 0.8851\n"
     ]
    },
    {
     "data": {
      "text/plain": [
       "[0.32227185368537903, 0.8851315975189209]"
      ]
     },
     "execution_count": 85,
     "metadata": {},
     "output_type": "execute_result"
    }
   ],
   "source": [
    "print('\\nModel performance with training set')\n",
    "model_a3.evaluate(train_dataset)\n",
    "\n",
    "print('\\nEvaluating model performance with validation set')\n",
    "model_a3.evaluate(validation_dataset)\n",
    "\n",
    "print('\\nEvaluating model performance with test set')\n",
    "model_a3.evaluate(test_dataset)"
   ]
  },
  {
   "cell_type": "code",
   "execution_count": 86,
   "metadata": {
    "colab": {
     "base_uri": "https://localhost:8080/"
    },
    "id": "l5Wa2bx7Suny",
    "outputId": "2d185881-ccbe-4923-e445-33c197795bf8"
   },
   "outputs": [
    {
     "data": {
      "text/plain": [
       "dict_keys(['loss', 'accuracy', 'val_loss', 'val_accuracy'])"
      ]
     },
     "execution_count": 86,
     "metadata": {},
     "output_type": "execute_result"
    }
   ],
   "source": [
    "history_dict_a3 = history_a3.history\n",
    "history_dict_a3.keys()"
   ]
  },
  {
   "cell_type": "code",
   "execution_count": 87,
   "metadata": {
    "colab": {
     "base_uri": "https://localhost:8080/",
     "height": 206
    },
    "id": "cwzqjLbrSurM",
    "outputId": "92494400-336c-41d5-a5fb-056d55752b5c",
    "scrolled": true
   },
   "outputs": [
    {
     "data": {
      "text/html": [
       "<div>\n",
       "<style scoped>\n",
       "    .dataframe tbody tr th:only-of-type {\n",
       "        vertical-align: middle;\n",
       "    }\n",
       "\n",
       "    .dataframe tbody tr th {\n",
       "        vertical-align: top;\n",
       "    }\n",
       "\n",
       "    .dataframe thead th {\n",
       "        text-align: right;\n",
       "    }\n",
       "</style>\n",
       "<table border=\"1\" class=\"dataframe\">\n",
       "  <thead>\n",
       "    <tr style=\"text-align: right;\">\n",
       "      <th></th>\n",
       "      <th>loss</th>\n",
       "      <th>accuracy</th>\n",
       "      <th>val_loss</th>\n",
       "      <th>val_accuracy</th>\n",
       "    </tr>\n",
       "  </thead>\n",
       "  <tbody>\n",
       "    <tr>\n",
       "      <th>3</th>\n",
       "      <td>0.287</td>\n",
       "      <td>0.899</td>\n",
       "      <td>0.317</td>\n",
       "      <td>0.889</td>\n",
       "    </tr>\n",
       "    <tr>\n",
       "      <th>4</th>\n",
       "      <td>0.278</td>\n",
       "      <td>0.902</td>\n",
       "      <td>0.313</td>\n",
       "      <td>0.890</td>\n",
       "    </tr>\n",
       "    <tr>\n",
       "      <th>5</th>\n",
       "      <td>0.271</td>\n",
       "      <td>0.905</td>\n",
       "      <td>0.313</td>\n",
       "      <td>0.892</td>\n",
       "    </tr>\n",
       "    <tr>\n",
       "      <th>6</th>\n",
       "      <td>0.267</td>\n",
       "      <td>0.906</td>\n",
       "      <td>0.315</td>\n",
       "      <td>0.890</td>\n",
       "    </tr>\n",
       "    <tr>\n",
       "      <th>7</th>\n",
       "      <td>0.261</td>\n",
       "      <td>0.908</td>\n",
       "      <td>0.319</td>\n",
       "      <td>0.890</td>\n",
       "    </tr>\n",
       "  </tbody>\n",
       "</table>\n",
       "</div>"
      ],
      "text/plain": [
       "    loss  accuracy  val_loss  val_accuracy\n",
       "3  0.287     0.899     0.317         0.889\n",
       "4  0.278     0.902     0.313         0.890\n",
       "5  0.271     0.905     0.313         0.892\n",
       "6  0.267     0.906     0.315         0.890\n",
       "7  0.261     0.908     0.319         0.890"
      ]
     },
     "execution_count": 87,
     "metadata": {},
     "output_type": "execute_result"
    }
   ],
   "source": [
    "history_a3_df=pd.DataFrame(history_dict_a3)\n",
    "history_a3_df.tail().round(3)"
   ]
  },
  {
   "cell_type": "code",
   "execution_count": 88,
   "metadata": {
    "id": "NvA2u5do1JqA"
   },
   "outputs": [],
   "source": [
    "losses_a3 = history_a3.history['loss']\n",
    "accs_a3 = history_a3.history['accuracy']\n",
    "val_losses_a3 = history_a3.history['val_loss']\n",
    "val_accs_a3 = history_a3.history['val_accuracy']\n",
    "epochs_a3 = len(losses_a3)"
   ]
  },
  {
   "cell_type": "code",
   "execution_count": 89,
   "metadata": {
    "colab": {
     "base_uri": "https://localhost:8080/",
     "height": 265
    },
    "id": "JGoRjq2T1SUp",
    "outputId": "ba97450a-6af3-4584-8c9f-e31ad054da55",
    "scrolled": true
   },
   "outputs": [
    {
     "data": {
      "image/png": "[encoded data removed]",
      "text/plain": [
       "<Figure size 1152x288 with 2 Axes>"
      ]
     },
     "metadata": {
      "needs_background": "light"
     },
     "output_type": "display_data"
    }
   ],
   "source": [
    "plt.figure(figsize=(16, 4))\n",
    "for i, metrics in enumerate(zip([losses_a3, accs_a3], [val_losses_a3, val_accs_a3], ['Loss', 'Accuracy'])):\n",
    "    plt.subplot(1, 2, i + 1)\n",
    "    plt.plot(range(epochs_a3), metrics[0], label='Training {}'.format(metrics[2]))\n",
    "    plt.plot(range(epochs_a3), metrics[1], label='Validation {}'.format(metrics[2]))\n",
    "    plt.legend()\n",
    "plt.show()"
   ]
  },
  {
   "cell_type": "markdown",
   "metadata": {
    "id": "WoWhNEnKyRRv"
   },
   "source": [
    "### Confusion Matrix"
   ]
  },
  {
   "cell_type": "code",
   "execution_count": 90,
   "metadata": {
    "id": "TaRFsKvJyRRv"
   },
   "outputs": [],
   "source": [
    "preds_a3 = model_a3.predict(test_dataset)"
   ]
  },
  {
   "cell_type": "code",
   "execution_count": 91,
   "metadata": {
    "colab": {
     "base_uri": "https://localhost:8080/"
    },
    "id": "38sM3BdNyRRv",
    "outputId": "224571b1-e68e-44a9-c62a-8f8073010fa9"
   },
   "outputs": [
    {
     "data": {
      "text/plain": [
       "(7600, 4)"
      ]
     },
     "execution_count": 91,
     "metadata": {},
     "output_type": "execute_result"
    }
   ],
   "source": [
    "preds_a3.shape"
   ]
  },
  {
   "cell_type": "code",
   "execution_count": 92,
   "metadata": {
    "id": "HLEVza9CyRRw"
   },
   "outputs": [],
   "source": [
    "cm = sns.light_palette((260, 75, 60), input=\"husl\", as_cmap=True)"
   ]
  },
  {
   "cell_type": "code",
   "execution_count": 93,
   "metadata": {
    "colab": {
     "base_uri": "https://localhost:8080/",
     "height": 121
    },
    "id": "QJ4Zct-xyRRw",
    "outputId": "effd38ba-f989-4053-bee6-b5d96842e81d",
    "scrolled": false
   },
   "outputs": [
    {
     "data": {
      "text/html": [
       "<style type=\"text/css\">\n",
       "#T_20d87_row0_col0, #T_20d87_row0_col2, #T_20d87_row0_col5, #T_20d87_row0_col11, #T_20d87_row0_col12, #T_20d87_row1_col1, #T_20d87_row1_col2, #T_20d87_row1_col4, #T_20d87_row1_col5, #T_20d87_row1_col8, #T_20d87_row1_col9, #T_20d87_row1_col10, #T_20d87_row1_col11, #T_20d87_row1_col12, #T_20d87_row1_col14, #T_20d87_row2_col0, #T_20d87_row2_col1, #T_20d87_row2_col3, #T_20d87_row2_col4, #T_20d87_row2_col6, #T_20d87_row2_col7, #T_20d87_row2_col8, #T_20d87_row2_col10, #T_20d87_row2_col11, #T_20d87_row2_col13, #T_20d87_row2_col14, #T_20d87_row3_col0, #T_20d87_row3_col1, #T_20d87_row3_col3, #T_20d87_row3_col4, #T_20d87_row3_col6, #T_20d87_row3_col7, #T_20d87_row3_col10, #T_20d87_row3_col14 {\n",
       "  background-color: #f0f1f2;\n",
       "  color: #000000;\n",
       "}\n",
       "#T_20d87_row0_col1, #T_20d87_row0_col4, #T_20d87_row0_col8, #T_20d87_row0_col10, #T_20d87_row0_col13, #T_20d87_row0_col14, #T_20d87_row1_col0, #T_20d87_row1_col3, #T_20d87_row1_col6, #T_20d87_row1_col7, #T_20d87_row2_col9, #T_20d87_row2_col12, #T_20d87_row3_col2, #T_20d87_row3_col5, #T_20d87_row3_col11 {\n",
       "  background-color: #778ce4;\n",
       "  color: #f1f1f1;\n",
       "}\n",
       "#T_20d87_row0_col3, #T_20d87_row0_col9 {\n",
       "  background-color: #eff0f2;\n",
       "  color: #000000;\n",
       "}\n",
       "#T_20d87_row0_col6, #T_20d87_row3_col8, #T_20d87_row3_col9, #T_20d87_row3_col12 {\n",
       "  background-color: #f0f0f2;\n",
       "  color: #000000;\n",
       "}\n",
       "#T_20d87_row0_col7 {\n",
       "  background-color: #eeeff2;\n",
       "  color: #000000;\n",
       "}\n",
       "#T_20d87_row1_col13 {\n",
       "  background-color: #b4bfeb;\n",
       "  color: #000000;\n",
       "}\n",
       "#T_20d87_row2_col2 {\n",
       "  background-color: #eaebf1;\n",
       "  color: #000000;\n",
       "}\n",
       "#T_20d87_row2_col5 {\n",
       "  background-color: #e9eaf1;\n",
       "  color: #000000;\n",
       "}\n",
       "#T_20d87_row3_col13 {\n",
       "  background-color: #dde1f0;\n",
       "  color: #000000;\n",
       "}\n",
       "</style>\n",
       "<table id=\"T_20d87_\">\n",
       "  <thead>\n",
       "    <tr>\n",
       "      <th class=\"blank level0\" >&nbsp;</th>\n",
       "      <th class=\"col_heading level0 col0\" >0</th>\n",
       "      <th class=\"col_heading level0 col1\" >1</th>\n",
       "      <th class=\"col_heading level0 col2\" >2</th>\n",
       "      <th class=\"col_heading level0 col3\" >3</th>\n",
       "      <th class=\"col_heading level0 col4\" >4</th>\n",
       "      <th class=\"col_heading level0 col5\" >5</th>\n",
       "      <th class=\"col_heading level0 col6\" >6</th>\n",
       "      <th class=\"col_heading level0 col7\" >7</th>\n",
       "      <th class=\"col_heading level0 col8\" >8</th>\n",
       "      <th class=\"col_heading level0 col9\" >9</th>\n",
       "      <th class=\"col_heading level0 col10\" >10</th>\n",
       "      <th class=\"col_heading level0 col11\" >11</th>\n",
       "      <th class=\"col_heading level0 col12\" >12</th>\n",
       "      <th class=\"col_heading level0 col13\" >13</th>\n",
       "      <th class=\"col_heading level0 col14\" >14</th>\n",
       "    </tr>\n",
       "  </thead>\n",
       "  <tbody>\n",
       "    <tr>\n",
       "      <th id=\"T_20d87_level0_row0\" class=\"row_heading level0 row0\" >World</th>\n",
       "      <td id=\"T_20d87_row0_col0\" class=\"data row0 col0\" >0.09%</td>\n",
       "      <td id=\"T_20d87_row0_col1\" class=\"data row0 col1\" >99.99%</td>\n",
       "      <td id=\"T_20d87_row0_col2\" class=\"data row0 col2\" >0.19%</td>\n",
       "      <td id=\"T_20d87_row0_col3\" class=\"data row0 col3\" >0.98%</td>\n",
       "      <td id=\"T_20d87_row0_col4\" class=\"data row0 col4\" >99.84%</td>\n",
       "      <td id=\"T_20d87_row0_col5\" class=\"data row0 col5\" >0.14%</td>\n",
       "      <td id=\"T_20d87_row0_col6\" class=\"data row0 col6\" >0.64%</td>\n",
       "      <td id=\"T_20d87_row0_col7\" class=\"data row0 col7\" >1.96%</td>\n",
       "      <td id=\"T_20d87_row0_col8\" class=\"data row0 col8\" >98.99%</td>\n",
       "      <td id=\"T_20d87_row0_col9\" class=\"data row0 col9\" >1.14%</td>\n",
       "      <td id=\"T_20d87_row0_col10\" class=\"data row0 col10\" >100.00%</td>\n",
       "      <td id=\"T_20d87_row0_col11\" class=\"data row0 col11\" >0.25%</td>\n",
       "      <td id=\"T_20d87_row0_col12\" class=\"data row0 col12\" >0.32%</td>\n",
       "      <td id=\"T_20d87_row0_col13\" class=\"data row0 col13\" >58.30%</td>\n",
       "      <td id=\"T_20d87_row0_col14\" class=\"data row0 col14\" >99.97%</td>\n",
       "    </tr>\n",
       "    <tr>\n",
       "      <th id=\"T_20d87_level0_row1\" class=\"row_heading level0 row1\" >Sports</th>\n",
       "      <td id=\"T_20d87_row1_col0\" class=\"data row1 col0\" >99.87%</td>\n",
       "      <td id=\"T_20d87_row1_col1\" class=\"data row1 col1\" >0.00%</td>\n",
       "      <td id=\"T_20d87_row1_col2\" class=\"data row1 col2\" >0.00%</td>\n",
       "      <td id=\"T_20d87_row1_col3\" class=\"data row1 col3\" >98.95%</td>\n",
       "      <td id=\"T_20d87_row1_col4\" class=\"data row1 col4\" >0.00%</td>\n",
       "      <td id=\"T_20d87_row1_col5\" class=\"data row1 col5\" >0.06%</td>\n",
       "      <td id=\"T_20d87_row1_col6\" class=\"data row1 col6\" >99.20%</td>\n",
       "      <td id=\"T_20d87_row1_col7\" class=\"data row1 col7\" >98.01%</td>\n",
       "      <td id=\"T_20d87_row1_col8\" class=\"data row1 col8\" >0.00%</td>\n",
       "      <td id=\"T_20d87_row1_col9\" class=\"data row1 col9\" >0.02%</td>\n",
       "      <td id=\"T_20d87_row1_col10\" class=\"data row1 col10\" >0.00%</td>\n",
       "      <td id=\"T_20d87_row1_col11\" class=\"data row1 col11\" >0.00%</td>\n",
       "      <td id=\"T_20d87_row1_col12\" class=\"data row1 col12\" >0.01%</td>\n",
       "      <td id=\"T_20d87_row1_col13\" class=\"data row1 col13\" >29.63%</td>\n",
       "      <td id=\"T_20d87_row1_col14\" class=\"data row1 col14\" >0.00%</td>\n",
       "    </tr>\n",
       "    <tr>\n",
       "      <th id=\"T_20d87_level0_row2\" class=\"row_heading level0 row2\" >Business</th>\n",
       "      <td id=\"T_20d87_row2_col0\" class=\"data row2 col0\" >0.02%</td>\n",
       "      <td id=\"T_20d87_row2_col1\" class=\"data row2 col1\" >0.01%</td>\n",
       "      <td id=\"T_20d87_row2_col2\" class=\"data row2 col2\" >4.97%</td>\n",
       "      <td id=\"T_20d87_row2_col3\" class=\"data row2 col3\" >0.06%</td>\n",
       "      <td id=\"T_20d87_row2_col4\" class=\"data row2 col4\" >0.04%</td>\n",
       "      <td id=\"T_20d87_row2_col5\" class=\"data row2 col5\" >5.93%</td>\n",
       "      <td id=\"T_20d87_row2_col6\" class=\"data row2 col6\" >0.03%</td>\n",
       "      <td id=\"T_20d87_row2_col7\" class=\"data row2 col7\" >0.00%</td>\n",
       "      <td id=\"T_20d87_row2_col8\" class=\"data row2 col8\" >0.27%</td>\n",
       "      <td id=\"T_20d87_row2_col9\" class=\"data row2 col9\" >98.31%</td>\n",
       "      <td id=\"T_20d87_row2_col10\" class=\"data row2 col10\" >0.00%</td>\n",
       "      <td id=\"T_20d87_row2_col11\" class=\"data row2 col11\" >0.20%</td>\n",
       "      <td id=\"T_20d87_row2_col12\" class=\"data row2 col12\" >99.12%</td>\n",
       "      <td id=\"T_20d87_row2_col13\" class=\"data row2 col13\" >1.53%</td>\n",
       "      <td id=\"T_20d87_row2_col14\" class=\"data row2 col14\" >0.01%</td>\n",
       "    </tr>\n",
       "    <tr>\n",
       "      <th id=\"T_20d87_level0_row3\" class=\"row_heading level0 row3\" >Sci/Tech</th>\n",
       "      <td id=\"T_20d87_row3_col0\" class=\"data row3 col0\" >0.02%</td>\n",
       "      <td id=\"T_20d87_row3_col1\" class=\"data row3 col1\" >0.00%</td>\n",
       "      <td id=\"T_20d87_row3_col2\" class=\"data row3 col2\" >94.84%</td>\n",
       "      <td id=\"T_20d87_row3_col3\" class=\"data row3 col3\" >0.01%</td>\n",
       "      <td id=\"T_20d87_row3_col4\" class=\"data row3 col4\" >0.12%</td>\n",
       "      <td id=\"T_20d87_row3_col5\" class=\"data row3 col5\" >93.87%</td>\n",
       "      <td id=\"T_20d87_row3_col6\" class=\"data row3 col6\" >0.13%</td>\n",
       "      <td id=\"T_20d87_row3_col7\" class=\"data row3 col7\" >0.03%</td>\n",
       "      <td id=\"T_20d87_row3_col8\" class=\"data row3 col8\" >0.74%</td>\n",
       "      <td id=\"T_20d87_row3_col9\" class=\"data row3 col9\" >0.53%</td>\n",
       "      <td id=\"T_20d87_row3_col10\" class=\"data row3 col10\" >0.00%</td>\n",
       "      <td id=\"T_20d87_row3_col11\" class=\"data row3 col11\" >99.54%</td>\n",
       "      <td id=\"T_20d87_row3_col12\" class=\"data row3 col12\" >0.55%</td>\n",
       "      <td id=\"T_20d87_row3_col13\" class=\"data row3 col13\" >10.55%</td>\n",
       "      <td id=\"T_20d87_row3_col14\" class=\"data row3 col14\" >0.03%</td>\n",
       "    </tr>\n",
       "  </tbody>\n",
       "</table>\n"
      ],
      "text/plain": [
       "<pandas.io.formats.style.Styler at 0x21889ff5cc8>"
      ]
     },
     "execution_count": 93,
     "metadata": {},
     "output_type": "execute_result"
    }
   ],
   "source": [
    "df = pd.DataFrame(preds_a3[0:15]\n",
    "                  ,columns = ['World','Sports','Business','Sci/Tech']).T\n",
    "df.style.format(\"{:.2%}\").background_gradient(cmap=cm)"
   ]
  },
  {
   "cell_type": "markdown",
   "metadata": {},
   "source": [
    "### Experiment A (b) - removal of frequent words"
   ]
  },
  {
   "cell_type": "code",
   "execution_count": 95,
   "metadata": {},
   "outputs": [
    {
     "name": "stdout",
     "output_type": "stream",
     "text": [
      "[(0, ''), (1, '[UNK]'), (2, 'the'), (3, 'a'), (4, 'to'), (5, 'of'), (6, 'in'), (7, 'and'), (8, 'on'), (9, 'for'), (10, 'that'), (11, '39s'), (12, 'with'), (13, 'its'), (14, 'as'), (15, 'at'), (16, 'is'), (17, 'said'), (18, 'by'), (19, 'it'), (20, 'has'), (21, 'new'), (22, 'an'), (23, 'from'), (24, 'his'), (25, 'us'), (26, 'will'), (27, 'was'), (28, 'reuters'), (29, 'after'), (30, 'have'), (31, 'be'), (32, 'their'), (33, 'are'), (34, 'over'), (35, 'ap'), (36, 'he'), (37, 'but'), (38, 'two'), (39, 'first'), (40, 'this'), (41, 'more'), (42, 'monday'), (43, 'wednesday'), (44, 'tuesday'), (45, 'thursday'), (46, 'company'), (47, 'up'), (48, 'friday'), (49, 'inc'), (50, 'one'), (51, 'world'), (52, 'yesterday'), (53, 'they'), (54, 'last'), (55, 'york'), (56, 'against'), (57, 'than'), (58, 'about'), (59, 'who'), (60, 'not'), (61, 'were'), (62, 'into'), (63, 'year'), (64, 'been'), (65, 'out'), (66, 'president'), (67, 'had'), (68, 'when'), (69, 'million'), (70, 'oil'), (71, 'corp'), (72, 'united'), (73, 'sunday'), (74, 'would'), (75, 'which'), (76, 'week'), (77, 'years'), (78, 'today'), (79, 'three'), (80, 'people'), (81, 'government'), (82, 'could'), (83, 'quot'), (84, 'group'), (85, 'no'), (86, 'time'), (87, 'game'), (88, 'percent'), (89, 'saturday'), (90, 'software'), (91, 'night'), (92, 'or'), (93, 'iraq'), (94, 'prices'), (95, 'next'), (96, 'security'), (97, 'minister'), (98, 'announced'), (99, 'some')]\n"
     ]
    }
   ],
   "source": [
    "print([i for i in enumerate(vocab_a3[:100])])"
   ]
  },
  {
   "cell_type": "markdown",
   "metadata": {},
   "source": [
    "we will remove the first 66 words since the words seem to get more topic specific after"
   ]
  },
  {
   "cell_type": "code",
   "execution_count": 96,
   "metadata": {},
   "outputs": [
    {
     "data": {
      "text/plain": [
       "2934"
      ]
     },
     "execution_count": 96,
     "metadata": {},
     "output_type": "execute_result"
    }
   ],
   "source": [
    "vocab_a3b = np.delete(vocab_a3, range(66))\n",
    "len(vocab_a3b)"
   ]
  },
  {
   "cell_type": "code",
   "execution_count": 97,
   "metadata": {},
   "outputs": [],
   "source": [
    "start_time = time.time()\n",
    "\n",
    "encoder_a3b = tf.keras.layers.experimental.preprocessing.TextVectorization()\n",
    "encoder_a3b.set_vocabulary(vocab_a3b)\n",
    "\n",
    "num_classes = 4\n",
    "\n",
    "model_a3b = tf.keras.Sequential([\n",
    "                              encoder_a3b\n",
    "                              ,tf.keras.layers.Embedding(input_dim=len(encoder_a3b.get_vocabulary())\n",
    "                              ,output_dim=64\n",
    "                                # Use masking to handle the variable sequence lengths\n",
    "                              ,mask_zero=True)\n",
    "                              ,tf.keras.layers.Bidirectional(tf.keras.layers.LSTM(64))\n",
    "                              ,tf.keras.layers.Dense(64, activation='relu')\n",
    "                              ,tf.keras.layers.Dense(num_classes,activation='softmax')   # num_classes = 4\n",
    "])\n",
    "model_a3b.compile(optimizer=tf.keras.optimizers.Adam(1e-4)\n",
    "              ,loss=tf.keras.losses.SparseCategoricalCrossentropy() # if we set from_logits=True we don not have specify a softmax activation function in the last layer\n",
    "              ,metrics=['accuracy'])"
   ]
  },
  {
   "cell_type": "code",
   "execution_count": 98,
   "metadata": {},
   "outputs": [
    {
     "name": "stdout",
     "output_type": "stream",
     "text": [
      "Epoch 1/200\n",
      "1782/1782 [==============================] - 72s 40ms/step - loss: 0.7883 - accuracy: 0.6826 - val_loss: 0.4900 - val_accuracy: 0.8342\n",
      "Epoch 2/200\n",
      "1782/1782 [==============================] - 68s 38ms/step - loss: 0.4217 - accuracy: 0.8565 - val_loss: 0.4072 - val_accuracy: 0.8587\n",
      "Epoch 3/200\n",
      "1782/1782 [==============================] - 66s 37ms/step - loss: 0.3708 - accuracy: 0.8724 - val_loss: 0.3772 - val_accuracy: 0.8710\n",
      "Epoch 4/200\n",
      "1782/1782 [==============================] - 84s 47ms/step - loss: 0.3481 - accuracy: 0.8797 - val_loss: 0.3628 - val_accuracy: 0.8725\n",
      "Epoch 5/200\n",
      "1782/1782 [==============================] - 71s 40ms/step - loss: 0.3282 - accuracy: 0.8865 - val_loss: 0.3563 - val_accuracy: 0.8762\n",
      "Epoch 6/200\n",
      "1782/1782 [==============================] - 71s 40ms/step - loss: 0.3130 - accuracy: 0.8921 - val_loss: 0.3453 - val_accuracy: 0.8798\n",
      "Epoch 7/200\n",
      "1782/1782 [==============================] - 79s 44ms/step - loss: 0.3008 - accuracy: 0.8951 - val_loss: 0.3466 - val_accuracy: 0.8778\n",
      "Epoch 8/200\n",
      "1782/1782 [==============================] - 69s 39ms/step - loss: 0.2918 - accuracy: 0.8989 - val_loss: 0.3430 - val_accuracy: 0.8783\n",
      "Finished model training in 591s\n"
     ]
    }
   ],
   "source": [
    "history_a3b = model_a3b.fit(train_dataset\n",
    "                    ,epochs = 200\n",
    "                    ,validation_data=validation_dataset\n",
    "                    ,callbacks=[tf.keras.callbacks.EarlyStopping(monitor='val_accuracy', patience=2)]\n",
    "                    )\n",
    "\n",
    "end_time = time.time()\n",
    "second_elapsed = round(end_time - start_time)\n",
    "\n",
    "print(f'Finished model training in {second_elapsed}s')"
   ]
  },
  {
   "cell_type": "code",
   "execution_count": 99,
   "metadata": {},
   "outputs": [
    {
     "name": "stdout",
     "output_type": "stream",
     "text": [
      "\n",
      "Model performance with training set\n",
      "1782/1782 [==============================] - 33s 19ms/step - loss: 0.2839 - accuracy: 0.9004\n",
      "\n",
      "Evaluating model performance with validation set\n",
      "94/94 [==============================] - 2s 19ms/step - loss: 0.3430 - accuracy: 0.8783\n",
      "\n",
      "Evaluating model performance with test set\n",
      "119/119 [==============================] - 2s 19ms/step - loss: 0.3526 - accuracy: 0.8751\n"
     ]
    },
    {
     "data": {
      "text/plain": [
       "[0.3525688648223877, 0.8751316070556641]"
      ]
     },
     "execution_count": 99,
     "metadata": {},
     "output_type": "execute_result"
    }
   ],
   "source": [
    "print('\\nModel performance with training set')\n",
    "model_a3b.evaluate(train_dataset)\n",
    "\n",
    "print('\\nEvaluating model performance with validation set')\n",
    "model_a3b.evaluate(validation_dataset)\n",
    "\n",
    "print('\\nEvaluating model performance with test set')\n",
    "model_a3b.evaluate(test_dataset)"
   ]
  },
  {
   "cell_type": "code",
   "execution_count": 100,
   "metadata": {
    "colab": {
     "base_uri": "https://localhost:8080/"
    },
    "id": "l5Wa2bx7Suny",
    "outputId": "2d185881-ccbe-4923-e445-33c197795bf8"
   },
   "outputs": [
    {
     "data": {
      "text/plain": [
       "dict_keys(['loss', 'accuracy', 'val_loss', 'val_accuracy'])"
      ]
     },
     "execution_count": 100,
     "metadata": {},
     "output_type": "execute_result"
    }
   ],
   "source": [
    "history_dict_a3b = history_a3b.history\n",
    "history_dict_a3b.keys()"
   ]
  },
  {
   "cell_type": "code",
   "execution_count": 101,
   "metadata": {
    "colab": {
     "base_uri": "https://localhost:8080/",
     "height": 206
    },
    "id": "cwzqjLbrSurM",
    "outputId": "92494400-336c-41d5-a5fb-056d55752b5c",
    "scrolled": true
   },
   "outputs": [
    {
     "data": {
      "text/html": [
       "<div>\n",
       "<style scoped>\n",
       "    .dataframe tbody tr th:only-of-type {\n",
       "        vertical-align: middle;\n",
       "    }\n",
       "\n",
       "    .dataframe tbody tr th {\n",
       "        vertical-align: top;\n",
       "    }\n",
       "\n",
       "    .dataframe thead th {\n",
       "        text-align: right;\n",
       "    }\n",
       "</style>\n",
       "<table border=\"1\" class=\"dataframe\">\n",
       "  <thead>\n",
       "    <tr style=\"text-align: right;\">\n",
       "      <th></th>\n",
       "      <th>loss</th>\n",
       "      <th>accuracy</th>\n",
       "      <th>val_loss</th>\n",
       "      <th>val_accuracy</th>\n",
       "    </tr>\n",
       "  </thead>\n",
       "  <tbody>\n",
       "    <tr>\n",
       "      <th>3</th>\n",
       "      <td>0.348</td>\n",
       "      <td>0.880</td>\n",
       "      <td>0.363</td>\n",
       "      <td>0.873</td>\n",
       "    </tr>\n",
       "    <tr>\n",
       "      <th>4</th>\n",
       "      <td>0.328</td>\n",
       "      <td>0.887</td>\n",
       "      <td>0.356</td>\n",
       "      <td>0.876</td>\n",
       "    </tr>\n",
       "    <tr>\n",
       "      <th>5</th>\n",
       "      <td>0.313</td>\n",
       "      <td>0.892</td>\n",
       "      <td>0.345</td>\n",
       "      <td>0.880</td>\n",
       "    </tr>\n",
       "    <tr>\n",
       "      <th>6</th>\n",
       "      <td>0.301</td>\n",
       "      <td>0.895</td>\n",
       "      <td>0.347</td>\n",
       "      <td>0.878</td>\n",
       "    </tr>\n",
       "    <tr>\n",
       "      <th>7</th>\n",
       "      <td>0.292</td>\n",
       "      <td>0.899</td>\n",
       "      <td>0.343</td>\n",
       "      <td>0.878</td>\n",
       "    </tr>\n",
       "  </tbody>\n",
       "</table>\n",
       "</div>"
      ],
      "text/plain": [
       "    loss  accuracy  val_loss  val_accuracy\n",
       "3  0.348     0.880     0.363         0.873\n",
       "4  0.328     0.887     0.356         0.876\n",
       "5  0.313     0.892     0.345         0.880\n",
       "6  0.301     0.895     0.347         0.878\n",
       "7  0.292     0.899     0.343         0.878"
      ]
     },
     "execution_count": 101,
     "metadata": {},
     "output_type": "execute_result"
    }
   ],
   "source": [
    "history_a3b_df=pd.DataFrame(history_dict_a3b)\n",
    "history_a3b_df.tail().round(3)"
   ]
  },
  {
   "cell_type": "code",
   "execution_count": 102,
   "metadata": {
    "id": "NvA2u5do1JqA"
   },
   "outputs": [],
   "source": [
    "losses_a3b = history_a3b.history['loss']\n",
    "accs_a3b = history_a3b.history['accuracy']\n",
    "val_losses_a3b = history_a3b.history['val_loss']\n",
    "val_accs_a3b = history_a3b.history['val_accuracy']\n",
    "epochs_a3b = len(losses_a3b)"
   ]
  },
  {
   "cell_type": "code",
   "execution_count": 103,
   "metadata": {
    "colab": {
     "base_uri": "https://localhost:8080/",
     "height": 265
    },
    "id": "JGoRjq2T1SUp",
    "outputId": "ba97450a-6af3-4584-8c9f-e31ad054da55",
    "scrolled": true
   },
   "outputs": [
    {
     "data": {
      "image/png": "[encoded data removed]",
      "text/plain": [
       "<Figure size 1152x288 with 2 Axes>"
      ]
     },
     "metadata": {
      "needs_background": "light"
     },
     "output_type": "display_data"
    }
   ],
   "source": [
    "plt.figure(figsize=(16, 4))\n",
    "for i, metrics in enumerate(zip([losses_a3b, accs_a3b], [val_losses_a3b, val_accs_a3b], ['Loss', 'Accuracy'])):\n",
    "    plt.subplot(1, 2, i + 1)\n",
    "    plt.plot(range(epochs_a3b), metrics[0], label='Training {}'.format(metrics[2]))\n",
    "    plt.plot(range(epochs_a3b), metrics[1], label='Validation {}'.format(metrics[2]))\n",
    "    plt.legend()\n",
    "plt.show()"
   ]
  },
  {
   "cell_type": "code",
   "execution_count": 104,
   "metadata": {
    "id": "TaRFsKvJyRRv"
   },
   "outputs": [],
   "source": [
    "preds_a3b = model_a3b.predict(test_dataset)"
   ]
  },
  {
   "cell_type": "code",
   "execution_count": 105,
   "metadata": {
    "id": "HLEVza9CyRRw"
   },
   "outputs": [],
   "source": [
    "cm = sns.light_palette((260, 75, 60), input=\"husl\", as_cmap=True)"
   ]
  },
  {
   "cell_type": "code",
   "execution_count": 106,
   "metadata": {
    "colab": {
     "base_uri": "https://localhost:8080/",
     "height": 121
    },
    "id": "QJ4Zct-xyRRw",
    "outputId": "effd38ba-f989-4053-bee6-b5d96842e81d",
    "scrolled": false
   },
   "outputs": [
    {
     "data": {
      "text/html": [
       "<style type=\"text/css\">\n",
       "#T_6c42a_row0_col0, #T_6c42a_row0_col3 {\n",
       "  background-color: #efeff2;\n",
       "  color: #000000;\n",
       "}\n",
       "#T_6c42a_row0_col1, #T_6c42a_row0_col4, #T_6c42a_row0_col8, #T_6c42a_row0_col10, #T_6c42a_row0_col13, #T_6c42a_row0_col14, #T_6c42a_row1_col0, #T_6c42a_row1_col3, #T_6c42a_row1_col6, #T_6c42a_row1_col7, #T_6c42a_row2_col9, #T_6c42a_row2_col12, #T_6c42a_row3_col2, #T_6c42a_row3_col5, #T_6c42a_row3_col11 {\n",
       "  background-color: #778ce4;\n",
       "  color: #f1f1f1;\n",
       "}\n",
       "#T_6c42a_row0_col2, #T_6c42a_row3_col12 {\n",
       "  background-color: #eff0f2;\n",
       "  color: #000000;\n",
       "}\n",
       "#T_6c42a_row0_col5, #T_6c42a_row0_col6, #T_6c42a_row0_col12, #T_6c42a_row2_col13 {\n",
       "  background-color: #f0f0f2;\n",
       "  color: #000000;\n",
       "}\n",
       "#T_6c42a_row0_col7 {\n",
       "  background-color: #e7e9f1;\n",
       "  color: #000000;\n",
       "}\n",
       "#T_6c42a_row0_col9, #T_6c42a_row2_col11 {\n",
       "  background-color: #eeeff2;\n",
       "  color: #000000;\n",
       "}\n",
       "#T_6c42a_row0_col11, #T_6c42a_row1_col1, #T_6c42a_row1_col2, #T_6c42a_row1_col4, #T_6c42a_row1_col5, #T_6c42a_row1_col8, #T_6c42a_row1_col9, #T_6c42a_row1_col10, #T_6c42a_row1_col11, #T_6c42a_row1_col12, #T_6c42a_row1_col13, #T_6c42a_row1_col14, #T_6c42a_row2_col0, #T_6c42a_row2_col1, #T_6c42a_row2_col3, #T_6c42a_row2_col4, #T_6c42a_row2_col6, #T_6c42a_row2_col7, #T_6c42a_row2_col8, #T_6c42a_row2_col10, #T_6c42a_row2_col14, #T_6c42a_row3_col0, #T_6c42a_row3_col1, #T_6c42a_row3_col3, #T_6c42a_row3_col4, #T_6c42a_row3_col6, #T_6c42a_row3_col7, #T_6c42a_row3_col8, #T_6c42a_row3_col10, #T_6c42a_row3_col14 {\n",
       "  background-color: #f0f1f2;\n",
       "  color: #000000;\n",
       "}\n",
       "#T_6c42a_row2_col2 {\n",
       "  background-color: #e6e8f1;\n",
       "  color: #000000;\n",
       "}\n",
       "#T_6c42a_row2_col5 {\n",
       "  background-color: #e8eaf1;\n",
       "  color: #000000;\n",
       "}\n",
       "#T_6c42a_row3_col9 {\n",
       "  background-color: #ecedf2;\n",
       "  color: #000000;\n",
       "}\n",
       "#T_6c42a_row3_col13 {\n",
       "  background-color: #ebecf2;\n",
       "  color: #000000;\n",
       "}\n",
       "</style>\n",
       "<table id=\"T_6c42a_\">\n",
       "  <thead>\n",
       "    <tr>\n",
       "      <th class=\"blank level0\" >&nbsp;</th>\n",
       "      <th class=\"col_heading level0 col0\" >0</th>\n",
       "      <th class=\"col_heading level0 col1\" >1</th>\n",
       "      <th class=\"col_heading level0 col2\" >2</th>\n",
       "      <th class=\"col_heading level0 col3\" >3</th>\n",
       "      <th class=\"col_heading level0 col4\" >4</th>\n",
       "      <th class=\"col_heading level0 col5\" >5</th>\n",
       "      <th class=\"col_heading level0 col6\" >6</th>\n",
       "      <th class=\"col_heading level0 col7\" >7</th>\n",
       "      <th class=\"col_heading level0 col8\" >8</th>\n",
       "      <th class=\"col_heading level0 col9\" >9</th>\n",
       "      <th class=\"col_heading level0 col10\" >10</th>\n",
       "      <th class=\"col_heading level0 col11\" >11</th>\n",
       "      <th class=\"col_heading level0 col12\" >12</th>\n",
       "      <th class=\"col_heading level0 col13\" >13</th>\n",
       "      <th class=\"col_heading level0 col14\" >14</th>\n",
       "    </tr>\n",
       "  </thead>\n",
       "  <tbody>\n",
       "    <tr>\n",
       "      <th id=\"T_6c42a_level0_row0\" class=\"row_heading level0 row0\" >World</th>\n",
       "      <td id=\"T_6c42a_row0_col0\" class=\"data row0 col0\" >1.47%</td>\n",
       "      <td id=\"T_6c42a_row0_col1\" class=\"data row0 col1\" >99.99%</td>\n",
       "      <td id=\"T_6c42a_row0_col2\" class=\"data row0 col2\" >0.75%</td>\n",
       "      <td id=\"T_6c42a_row0_col3\" class=\"data row0 col3\" >1.37%</td>\n",
       "      <td id=\"T_6c42a_row0_col4\" class=\"data row0 col4\" >99.83%</td>\n",
       "      <td id=\"T_6c42a_row0_col5\" class=\"data row0 col5\" >0.50%</td>\n",
       "      <td id=\"T_6c42a_row0_col6\" class=\"data row0 col6\" >0.51%</td>\n",
       "      <td id=\"T_6c42a_row0_col7\" class=\"data row0 col7\" >7.56%</td>\n",
       "      <td id=\"T_6c42a_row0_col8\" class=\"data row0 col8\" >99.81%</td>\n",
       "      <td id=\"T_6c42a_row0_col9\" class=\"data row0 col9\" >1.92%</td>\n",
       "      <td id=\"T_6c42a_row0_col10\" class=\"data row0 col10\" >99.99%</td>\n",
       "      <td id=\"T_6c42a_row0_col11\" class=\"data row0 col11\" >0.20%</td>\n",
       "      <td id=\"T_6c42a_row0_col12\" class=\"data row0 col12\" >0.71%</td>\n",
       "      <td id=\"T_6c42a_row0_col13\" class=\"data row0 col13\" >93.86%</td>\n",
       "      <td id=\"T_6c42a_row0_col14\" class=\"data row0 col14\" >99.99%</td>\n",
       "    </tr>\n",
       "    <tr>\n",
       "      <th id=\"T_6c42a_level0_row1\" class=\"row_heading level0 row1\" >Sports</th>\n",
       "      <td id=\"T_6c42a_row1_col0\" class=\"data row1 col0\" >98.12%</td>\n",
       "      <td id=\"T_6c42a_row1_col1\" class=\"data row1 col1\" >0.00%</td>\n",
       "      <td id=\"T_6c42a_row1_col2\" class=\"data row1 col2\" >0.02%</td>\n",
       "      <td id=\"T_6c42a_row1_col3\" class=\"data row1 col3\" >98.58%</td>\n",
       "      <td id=\"T_6c42a_row1_col4\" class=\"data row1 col4\" >0.01%</td>\n",
       "      <td id=\"T_6c42a_row1_col5\" class=\"data row1 col5\" >0.04%</td>\n",
       "      <td id=\"T_6c42a_row1_col6\" class=\"data row1 col6\" >99.33%</td>\n",
       "      <td id=\"T_6c42a_row1_col7\" class=\"data row1 col7\" >92.27%</td>\n",
       "      <td id=\"T_6c42a_row1_col8\" class=\"data row1 col8\" >0.03%</td>\n",
       "      <td id=\"T_6c42a_row1_col9\" class=\"data row1 col9\" >0.01%</td>\n",
       "      <td id=\"T_6c42a_row1_col10\" class=\"data row1 col10\" >0.00%</td>\n",
       "      <td id=\"T_6c42a_row1_col11\" class=\"data row1 col11\" >0.01%</td>\n",
       "      <td id=\"T_6c42a_row1_col12\" class=\"data row1 col12\" >0.00%</td>\n",
       "      <td id=\"T_6c42a_row1_col13\" class=\"data row1 col13\" >0.45%</td>\n",
       "      <td id=\"T_6c42a_row1_col14\" class=\"data row1 col14\" >0.00%</td>\n",
       "    </tr>\n",
       "    <tr>\n",
       "      <th id=\"T_6c42a_level0_row2\" class=\"row_heading level0 row2\" >Business</th>\n",
       "      <td id=\"T_6c42a_row2_col0\" class=\"data row2 col0\" >0.20%</td>\n",
       "      <td id=\"T_6c42a_row2_col1\" class=\"data row2 col1\" >0.00%</td>\n",
       "      <td id=\"T_6c42a_row2_col2\" class=\"data row2 col2\" >7.90%</td>\n",
       "      <td id=\"T_6c42a_row2_col3\" class=\"data row2 col3\" >0.03%</td>\n",
       "      <td id=\"T_6c42a_row2_col4\" class=\"data row2 col4\" >0.07%</td>\n",
       "      <td id=\"T_6c42a_row2_col5\" class=\"data row2 col5\" >6.45%</td>\n",
       "      <td id=\"T_6c42a_row2_col6\" class=\"data row2 col6\" >0.05%</td>\n",
       "      <td id=\"T_6c42a_row2_col7\" class=\"data row2 col7\" >0.07%</td>\n",
       "      <td id=\"T_6c42a_row2_col8\" class=\"data row2 col8\" >0.05%</td>\n",
       "      <td id=\"T_6c42a_row2_col9\" class=\"data row2 col9\" >95.04%</td>\n",
       "      <td id=\"T_6c42a_row2_col10\" class=\"data row2 col10\" >0.01%</td>\n",
       "      <td id=\"T_6c42a_row2_col11\" class=\"data row2 col11\" >1.65%</td>\n",
       "      <td id=\"T_6c42a_row2_col12\" class=\"data row2 col12\" >98.43%</td>\n",
       "      <td id=\"T_6c42a_row2_col13\" class=\"data row2 col13\" >0.93%</td>\n",
       "      <td id=\"T_6c42a_row2_col14\" class=\"data row2 col14\" >0.00%</td>\n",
       "    </tr>\n",
       "    <tr>\n",
       "      <th id=\"T_6c42a_level0_row3\" class=\"row_heading level0 row3\" >Sci/Tech</th>\n",
       "      <td id=\"T_6c42a_row3_col0\" class=\"data row3 col0\" >0.21%</td>\n",
       "      <td id=\"T_6c42a_row3_col1\" class=\"data row3 col1\" >0.00%</td>\n",
       "      <td id=\"T_6c42a_row3_col2\" class=\"data row3 col2\" >91.33%</td>\n",
       "      <td id=\"T_6c42a_row3_col3\" class=\"data row3 col3\" >0.02%</td>\n",
       "      <td id=\"T_6c42a_row3_col4\" class=\"data row3 col4\" >0.09%</td>\n",
       "      <td id=\"T_6c42a_row3_col5\" class=\"data row3 col5\" >93.02%</td>\n",
       "      <td id=\"T_6c42a_row3_col6\" class=\"data row3 col6\" >0.12%</td>\n",
       "      <td id=\"T_6c42a_row3_col7\" class=\"data row3 col7\" >0.10%</td>\n",
       "      <td id=\"T_6c42a_row3_col8\" class=\"data row3 col8\" >0.12%</td>\n",
       "      <td id=\"T_6c42a_row3_col9\" class=\"data row3 col9\" >3.03%</td>\n",
       "      <td id=\"T_6c42a_row3_col10\" class=\"data row3 col10\" >0.00%</td>\n",
       "      <td id=\"T_6c42a_row3_col11\" class=\"data row3 col11\" >98.15%</td>\n",
       "      <td id=\"T_6c42a_row3_col12\" class=\"data row3 col12\" >0.85%</td>\n",
       "      <td id=\"T_6c42a_row3_col13\" class=\"data row3 col13\" >4.76%</td>\n",
       "      <td id=\"T_6c42a_row3_col14\" class=\"data row3 col14\" >0.00%</td>\n",
       "    </tr>\n",
       "  </tbody>\n",
       "</table>\n"
      ],
      "text/plain": [
       "<pandas.io.formats.style.Styler at 0x218a6a17bc8>"
      ]
     },
     "execution_count": 106,
     "metadata": {},
     "output_type": "execute_result"
    }
   ],
   "source": [
    "df = pd.DataFrame(preds_a3b[0:15]\n",
    "                  ,columns = ['World','Sports','Business','Sci/Tech']).T\n",
    "df.style.format(\"{:.2%}\").background_gradient(cmap=cm)"
   ]
  },
  {
   "cell_type": "markdown",
   "metadata": {},
   "source": [
    "#### retest with stopwords"
   ]
  },
  {
   "cell_type": "code",
   "execution_count": 107,
   "metadata": {},
   "outputs": [],
   "source": [
    "import nltk\n",
    "from nltk.corpus import stopwords\n",
    "\n",
    "stop_words = set(stopwords.words('english'))"
   ]
  },
  {
   "cell_type": "code",
   "execution_count": 108,
   "metadata": {},
   "outputs": [
    {
     "data": {
      "text/plain": [
       "2878"
      ]
     },
     "execution_count": 108,
     "metadata": {},
     "output_type": "execute_result"
    }
   ],
   "source": [
    "vocab_a3c = [word for word in vocab_a3 if word not in stop_words]\n",
    "len(vocab_a3c)"
   ]
  },
  {
   "cell_type": "code",
   "execution_count": 109,
   "metadata": {},
   "outputs": [],
   "source": [
    "encoder_a3c = tf.keras.layers.experimental.preprocessing.TextVectorization()\n",
    "encoder_a3c.set_vocabulary(vocab_a3c)\n"
   ]
  },
  {
   "cell_type": "code",
   "execution_count": 110,
   "metadata": {},
   "outputs": [
    {
     "name": "stdout",
     "output_type": "stream",
     "text": [
      "Epoch 1/200\n",
      "1782/1782 [==============================] - 76s 43ms/step - loss: 0.6995 - accuracy: 0.7298 - val_loss: 0.4696 - val_accuracy: 0.8327\n",
      "Epoch 2/200\n",
      "1782/1782 [==============================] - 72s 40ms/step - loss: 0.4027 - accuracy: 0.8600 - val_loss: 0.3925 - val_accuracy: 0.8610\n",
      "Epoch 3/200\n",
      "1782/1782 [==============================] - 69s 39ms/step - loss: 0.3576 - accuracy: 0.8746 - val_loss: 0.3637 - val_accuracy: 0.8688\n",
      "Epoch 4/200\n",
      "1782/1782 [==============================] - 71s 40ms/step - loss: 0.3339 - accuracy: 0.8826 - val_loss: 0.3799 - val_accuracy: 0.8627\n",
      "Epoch 5/200\n",
      "1782/1782 [==============================] - 85s 48ms/step - loss: 0.3148 - accuracy: 0.8897 - val_loss: 0.3385 - val_accuracy: 0.8773\n",
      "Epoch 6/200\n",
      "1782/1782 [==============================] - 70s 39ms/step - loss: 0.2962 - accuracy: 0.8963 - val_loss: 0.3302 - val_accuracy: 0.8810\n",
      "Epoch 7/200\n",
      "1782/1782 [==============================] - 72s 40ms/step - loss: 0.2869 - accuracy: 0.8986 - val_loss: 0.3436 - val_accuracy: 0.8772\n",
      "Epoch 8/200\n",
      "1782/1782 [==============================] - 71s 40ms/step - loss: 0.2781 - accuracy: 0.9015 - val_loss: 0.3194 - val_accuracy: 0.8832\n",
      "Epoch 9/200\n",
      "1782/1782 [==============================] - 70s 39ms/step - loss: 0.2716 - accuracy: 0.9040 - val_loss: 0.3185 - val_accuracy: 0.8853\n",
      "Epoch 10/200\n",
      "1782/1782 [==============================] - 70s 39ms/step - loss: 0.2658 - accuracy: 0.9061 - val_loss: 0.3177 - val_accuracy: 0.8853\n",
      "Epoch 11/200\n",
      "1782/1782 [==============================] - 72s 40ms/step - loss: 0.2607 - accuracy: 0.9078 - val_loss: 0.3199 - val_accuracy: 0.8845\n",
      "Finished model training in 811s\n"
     ]
    }
   ],
   "source": [
    "start_time = time.time()\n",
    "num_classes = 4\n",
    "\n",
    "model_a3c = tf.keras.Sequential([\n",
    "                              encoder_a3c\n",
    "                              ,tf.keras.layers.Embedding(input_dim=len(encoder_a3c.get_vocabulary())+188\n",
    "                              ,output_dim=64\n",
    "                                # Use masking to handle the variable sequence lengths\n",
    "                              ,mask_zero=True)\n",
    "                              ,tf.keras.layers.Bidirectional(tf.keras.layers.LSTM(64))\n",
    "                              ,tf.keras.layers.Dense(64, activation='relu')\n",
    "                              ,tf.keras.layers.Dense(num_classes,activation='softmax')   # num_classes = 4\n",
    "])\n",
    "\n",
    "model_a3c.compile(optimizer=tf.keras.optimizers.Adam(1e-4)\n",
    "              ,loss=tf.keras.losses.SparseCategoricalCrossentropy() # if we set from_logits=True we don not have specify a softmax activation function in the last layer\n",
    "              ,metrics=['accuracy'])\n",
    "\n",
    "history_a3c = model_a3c.fit(train_dataset\n",
    "                    ,epochs = 200\n",
    "                    ,validation_data=validation_dataset\n",
    "                    ,callbacks=[tf.keras.callbacks.EarlyStopping(monitor='val_accuracy', patience=2)]\n",
    "                    )\n",
    "\n",
    "end_time = time.time()\n",
    "second_elapsed = round(end_time - start_time)\n",
    "print(f'Finished model training in {second_elapsed}s')\n"
   ]
  },
  {
   "cell_type": "code",
   "execution_count": 111,
   "metadata": {},
   "outputs": [
    {
     "name": "stdout",
     "output_type": "stream",
     "text": [
      "\n",
      "Model performance with training set\n",
      "1782/1782 [==============================] - 40s 22ms/step - loss: 0.2503 - accuracy: 0.9118\n",
      "\n",
      "Evaluating model performance with validation set\n",
      "94/94 [==============================] - 2s 21ms/step - loss: 0.3199 - accuracy: 0.8845\n",
      "\n",
      "Evaluating model performance with test set\n",
      "119/119 [==============================] - 2s 20ms/step - loss: 0.3221 - accuracy: 0.8859\n"
     ]
    },
    {
     "data": {
      "text/plain": [
       "[0.3220656216144562, 0.885921061038971]"
      ]
     },
     "execution_count": 111,
     "metadata": {},
     "output_type": "execute_result"
    }
   ],
   "source": [
    "print('\\nModel performance with training set')\n",
    "model_a3c.evaluate(train_dataset)\n",
    "\n",
    "print('\\nEvaluating model performance with validation set')\n",
    "model_a3c.evaluate(validation_dataset)\n",
    "\n",
    "print('\\nEvaluating model performance with test set')\n",
    "model_a3c.evaluate(test_dataset)"
   ]
  },
  {
   "cell_type": "markdown",
   "metadata": {},
   "source": [
    "### Experiment A (c) -  output sequence length"
   ]
  },
  {
   "cell_type": "markdown",
   "metadata": {},
   "source": [
    "#### small output sequence length"
   ]
  },
  {
   "cell_type": "code",
   "execution_count": 115,
   "metadata": {},
   "outputs": [],
   "source": [
    "start_time = time.time()\n",
    "\n",
    "VOCAB_SIZE=2000\n",
    "encoder_b = tf.keras.layers.experimental.preprocessing.TextVectorization(\n",
    "    max_tokens=VOCAB_SIZE, output_sequence_length=50)\n",
    "encoder_b.adapt(train_dataset.map(lambda text, label: text))\n",
    "vocab_b = np.array(encoder_b.get_vocabulary())\n",
    "\n",
    "num_classes = 4\n",
    "\n",
    "model_b = tf.keras.Sequential([\n",
    "                              encoder_b\n",
    "                              ,tf.keras.layers.Embedding(input_dim=len(encoder_b.get_vocabulary())\n",
    "                              ,output_dim=64\n",
    "                                # Use masking to handle the variable sequence lengths\n",
    "                              ,mask_zero=True)\n",
    "                              ,tf.keras.layers.Bidirectional(tf.keras.layers.LSTM(64))\n",
    "                              ,tf.keras.layers.Dense(64, activation='relu')\n",
    "                              ,tf.keras.layers.Dense(num_classes,activation='softmax')   # num_classes = 4\n",
    "])\n",
    "model_b.compile(optimizer=tf.keras.optimizers.Adam(1e-4)\n",
    "              ,loss=tf.keras.losses.SparseCategoricalCrossentropy() # if we set from_logits=True we don not have specify a softmax activation function in the last layer\n",
    "              ,metrics=['accuracy'])"
   ]
  },
  {
   "cell_type": "code",
   "execution_count": 116,
   "metadata": {},
   "outputs": [
    {
     "name": "stdout",
     "output_type": "stream",
     "text": [
      "Epoch 1/200\n",
      "1782/1782 [==============================] - 61s 34ms/step - loss: 0.6326 - accuracy: 0.7674 - val_loss: 0.4217 - val_accuracy: 0.8573\n",
      "Epoch 2/200\n",
      "1782/1782 [==============================] - 58s 33ms/step - loss: 0.3959 - accuracy: 0.8619 - val_loss: 0.3949 - val_accuracy: 0.8630\n",
      "Epoch 3/200\n",
      "1782/1782 [==============================] - 57s 32ms/step - loss: 0.3695 - accuracy: 0.8705 - val_loss: 0.3968 - val_accuracy: 0.8603\n",
      "Epoch 4/200\n",
      "1782/1782 [==============================] - 57s 32ms/step - loss: 0.3508 - accuracy: 0.8764 - val_loss: 0.3650 - val_accuracy: 0.8737\n",
      "Epoch 5/200\n",
      "1782/1782 [==============================] - 58s 33ms/step - loss: 0.3346 - accuracy: 0.8819 - val_loss: 0.3528 - val_accuracy: 0.8752\n",
      "Epoch 6/200\n",
      "1782/1782 [==============================] - 59s 33ms/step - loss: 0.3213 - accuracy: 0.8869 - val_loss: 0.3541 - val_accuracy: 0.8742\n",
      "Epoch 7/200\n",
      "1782/1782 [==============================] - 59s 33ms/step - loss: 0.3128 - accuracy: 0.8893 - val_loss: 0.3481 - val_accuracy: 0.8780\n",
      "Epoch 8/200\n",
      "1782/1782 [==============================] - 58s 33ms/step - loss: 0.3057 - accuracy: 0.8915 - val_loss: 0.3386 - val_accuracy: 0.8788\n",
      "Epoch 9/200\n",
      "1782/1782 [==============================] - 58s 32ms/step - loss: 0.3005 - accuracy: 0.8929 - val_loss: 0.3428 - val_accuracy: 0.8780\n",
      "Epoch 10/200\n",
      "1782/1782 [==============================] - 69s 39ms/step - loss: 0.2962 - accuracy: 0.8944 - val_loss: 0.3353 - val_accuracy: 0.8810\n",
      "Epoch 11/200\n",
      "1782/1782 [==============================] - 63s 35ms/step - loss: 0.2919 - accuracy: 0.8962 - val_loss: 0.3410 - val_accuracy: 0.8772\n",
      "Epoch 12/200\n",
      "1782/1782 [==============================] - 61s 34ms/step - loss: 0.2883 - accuracy: 0.8973 - val_loss: 0.3379 - val_accuracy: 0.8795\n",
      "Finished model training in 736s\n"
     ]
    }
   ],
   "source": [
    "history_b = model_b.fit(train_dataset\n",
    "                    ,epochs = 200\n",
    "                    ,validation_data=validation_dataset\n",
    "                    ,callbacks=[tf.keras.callbacks.EarlyStopping(monitor='val_accuracy', patience=2)]\n",
    "                    )\n",
    "\n",
    "end_time = time.time()\n",
    "second_elapsed = round(end_time - start_time)\n",
    "\n",
    "print(f'Finished model training in {second_elapsed}s')"
   ]
  },
  {
   "cell_type": "code",
   "execution_count": 117,
   "metadata": {},
   "outputs": [
    {
     "name": "stdout",
     "output_type": "stream",
     "text": [
      "\n",
      "Model performance with training set\n",
      "1782/1782 [==============================] - 30s 17ms/step - loss: 0.2762 - accuracy: 0.9021\n",
      "\n",
      "Evaluating model performance with validation set\n",
      "94/94 [==============================] - 2s 16ms/step - loss: 0.3379 - accuracy: 0.8795\n",
      "\n",
      "Evaluating model performance with test set\n",
      "119/119 [==============================] - 2s 17ms/step - loss: 0.3425 - accuracy: 0.8783\n"
     ]
    },
    {
     "data": {
      "text/plain": [
       "[0.34254318475723267, 0.8782894611358643]"
      ]
     },
     "execution_count": 117,
     "metadata": {},
     "output_type": "execute_result"
    }
   ],
   "source": [
    "print('\\nModel performance with training set')\n",
    "model_b.evaluate(train_dataset)\n",
    "\n",
    "print('\\nEvaluating model performance with validation set')\n",
    "model_b.evaluate(validation_dataset)\n",
    "\n",
    "print('\\nEvaluating model performance with test set')\n",
    "model_b.evaluate(test_dataset)"
   ]
  },
  {
   "cell_type": "code",
   "execution_count": 118,
   "metadata": {
    "colab": {
     "base_uri": "https://localhost:8080/"
    },
    "id": "l5Wa2bx7Suny",
    "outputId": "2d185881-ccbe-4923-e445-33c197795bf8"
   },
   "outputs": [
    {
     "data": {
      "text/plain": [
       "dict_keys(['loss', 'accuracy', 'val_loss', 'val_accuracy'])"
      ]
     },
     "execution_count": 118,
     "metadata": {},
     "output_type": "execute_result"
    }
   ],
   "source": [
    "history_dict_b = history_b.history\n",
    "history_dict_b.keys()"
   ]
  },
  {
   "cell_type": "code",
   "execution_count": 119,
   "metadata": {
    "colab": {
     "base_uri": "https://localhost:8080/",
     "height": 206
    },
    "id": "cwzqjLbrSurM",
    "outputId": "92494400-336c-41d5-a5fb-056d55752b5c",
    "scrolled": true
   },
   "outputs": [
    {
     "data": {
      "text/html": [
       "<div>\n",
       "<style scoped>\n",
       "    .dataframe tbody tr th:only-of-type {\n",
       "        vertical-align: middle;\n",
       "    }\n",
       "\n",
       "    .dataframe tbody tr th {\n",
       "        vertical-align: top;\n",
       "    }\n",
       "\n",
       "    .dataframe thead th {\n",
       "        text-align: right;\n",
       "    }\n",
       "</style>\n",
       "<table border=\"1\" class=\"dataframe\">\n",
       "  <thead>\n",
       "    <tr style=\"text-align: right;\">\n",
       "      <th></th>\n",
       "      <th>loss</th>\n",
       "      <th>accuracy</th>\n",
       "      <th>val_loss</th>\n",
       "      <th>val_accuracy</th>\n",
       "    </tr>\n",
       "  </thead>\n",
       "  <tbody>\n",
       "    <tr>\n",
       "      <th>9</th>\n",
       "      <td>0.297</td>\n",
       "      <td>0.894</td>\n",
       "      <td>0.339</td>\n",
       "      <td>0.881</td>\n",
       "    </tr>\n",
       "    <tr>\n",
       "      <th>10</th>\n",
       "      <td>0.292</td>\n",
       "      <td>0.895</td>\n",
       "      <td>0.337</td>\n",
       "      <td>0.878</td>\n",
       "    </tr>\n",
       "    <tr>\n",
       "      <th>11</th>\n",
       "      <td>0.288</td>\n",
       "      <td>0.898</td>\n",
       "      <td>0.336</td>\n",
       "      <td>0.883</td>\n",
       "    </tr>\n",
       "    <tr>\n",
       "      <th>12</th>\n",
       "      <td>0.284</td>\n",
       "      <td>0.899</td>\n",
       "      <td>0.340</td>\n",
       "      <td>0.878</td>\n",
       "    </tr>\n",
       "    <tr>\n",
       "      <th>13</th>\n",
       "      <td>0.280</td>\n",
       "      <td>0.900</td>\n",
       "      <td>0.340</td>\n",
       "      <td>0.881</td>\n",
       "    </tr>\n",
       "  </tbody>\n",
       "</table>\n",
       "</div>"
      ],
      "text/plain": [
       "     loss  accuracy  val_loss  val_accuracy\n",
       "9   0.297     0.894     0.339         0.881\n",
       "10  0.292     0.895     0.337         0.878\n",
       "11  0.288     0.898     0.336         0.883\n",
       "12  0.284     0.899     0.340         0.878\n",
       "13  0.280     0.900     0.340         0.881"
      ]
     },
     "execution_count": 119,
     "metadata": {},
     "output_type": "execute_result"
    }
   ],
   "source": [
    "history_b_df=pd.DataFrame(history_dict_a2)\n",
    "history_b_df.tail().round(3)"
   ]
  },
  {
   "cell_type": "code",
   "execution_count": 122,
   "metadata": {
    "id": "NvA2u5do1JqA"
   },
   "outputs": [],
   "source": [
    "losses_b = history_b.history['loss']\n",
    "accs_b = history_b.history['accuracy']\n",
    "val_losses_b = history_b.history['val_loss']\n",
    "val_accs_b = history_b.history['val_accuracy']\n",
    "epochs_b = len(losses_b)"
   ]
  },
  {
   "cell_type": "code",
   "execution_count": 125,
   "metadata": {
    "colab": {
     "base_uri": "https://localhost:8080/",
     "height": 265
    },
    "id": "JGoRjq2T1SUp",
    "outputId": "ba97450a-6af3-4584-8c9f-e31ad054da55",
    "scrolled": true
   },
   "outputs": [
    {
     "data": {
      "image/png": "[encoded data removed]",
      "text/plain": [
       "<Figure size 1152x288 with 2 Axes>"
      ]
     },
     "metadata": {
      "needs_background": "light"
     },
     "output_type": "display_data"
    }
   ],
   "source": [
    "plt.figure(figsize=(16, 4))\n",
    "for i, metrics in enumerate(zip([losses_b, accs_b], [val_losses_b, val_accs_b], ['Loss', 'Accuracy'])):\n",
    "    plt.subplot(1, 2, i + 1)\n",
    "    plt.plot(range(epochs_b), metrics[0], label='Training {}'.format(metrics[2]))\n",
    "    plt.plot(range(epochs_b), metrics[1], label='Validation {}'.format(metrics[2]))\n",
    "    plt.legend()\n",
    "plt.show()"
   ]
  },
  {
   "cell_type": "code",
   "execution_count": 126,
   "metadata": {
    "id": "TaRFsKvJyRRv"
   },
   "outputs": [],
   "source": [
    "preds_b = model_b.predict(test_dataset)"
   ]
  },
  {
   "cell_type": "code",
   "execution_count": 127,
   "metadata": {
    "id": "HLEVza9CyRRw"
   },
   "outputs": [],
   "source": [
    "cm = sns.light_palette((260, 75, 60), input=\"husl\", as_cmap=True)"
   ]
  },
  {
   "cell_type": "code",
   "execution_count": 128,
   "metadata": {
    "colab": {
     "base_uri": "https://localhost:8080/",
     "height": 121
    },
    "id": "QJ4Zct-xyRRw",
    "outputId": "effd38ba-f989-4053-bee6-b5d96842e81d",
    "scrolled": true
   },
   "outputs": [
    {
     "data": {
      "text/html": [
       "<style type=\"text/css\">\n",
       "#T_cd119_row0_col0, #T_cd119_row0_col2, #T_cd119_row0_col5, #T_cd119_row0_col11, #T_cd119_row1_col1, #T_cd119_row1_col2, #T_cd119_row1_col4, #T_cd119_row1_col5, #T_cd119_row1_col8, #T_cd119_row1_col9, #T_cd119_row1_col10, #T_cd119_row1_col11, #T_cd119_row1_col12, #T_cd119_row1_col14, #T_cd119_row2_col0, #T_cd119_row2_col1, #T_cd119_row2_col3, #T_cd119_row2_col4, #T_cd119_row2_col6, #T_cd119_row2_col7, #T_cd119_row2_col8, #T_cd119_row2_col10, #T_cd119_row2_col11, #T_cd119_row2_col13, #T_cd119_row2_col14, #T_cd119_row3_col0, #T_cd119_row3_col1, #T_cd119_row3_col3, #T_cd119_row3_col4, #T_cd119_row3_col6, #T_cd119_row3_col7, #T_cd119_row3_col10, #T_cd119_row3_col14 {\n",
       "  background-color: #f0f1f2;\n",
       "  color: #000000;\n",
       "}\n",
       "#T_cd119_row0_col1, #T_cd119_row0_col4, #T_cd119_row0_col8, #T_cd119_row0_col10, #T_cd119_row0_col13, #T_cd119_row0_col14, #T_cd119_row1_col0, #T_cd119_row1_col3, #T_cd119_row1_col6, #T_cd119_row1_col7, #T_cd119_row2_col9, #T_cd119_row2_col12, #T_cd119_row3_col2, #T_cd119_row3_col5, #T_cd119_row3_col11 {\n",
       "  background-color: #778ce4;\n",
       "  color: #f1f1f1;\n",
       "}\n",
       "#T_cd119_row0_col3, #T_cd119_row0_col6, #T_cd119_row3_col12 {\n",
       "  background-color: #eff0f2;\n",
       "  color: #000000;\n",
       "}\n",
       "#T_cd119_row0_col7 {\n",
       "  background-color: #eeeff2;\n",
       "  color: #000000;\n",
       "}\n",
       "#T_cd119_row0_col9, #T_cd119_row0_col12, #T_cd119_row3_col9 {\n",
       "  background-color: #efeff2;\n",
       "  color: #000000;\n",
       "}\n",
       "#T_cd119_row1_col13 {\n",
       "  background-color: #eaebf1;\n",
       "  color: #000000;\n",
       "}\n",
       "#T_cd119_row2_col2 {\n",
       "  background-color: #ecedf2;\n",
       "  color: #000000;\n",
       "}\n",
       "#T_cd119_row2_col5 {\n",
       "  background-color: #e8eaf1;\n",
       "  color: #000000;\n",
       "}\n",
       "#T_cd119_row3_col8 {\n",
       "  background-color: #ebedf2;\n",
       "  color: #000000;\n",
       "}\n",
       "#T_cd119_row3_col13 {\n",
       "  background-color: #e4e6f1;\n",
       "  color: #000000;\n",
       "}\n",
       "</style>\n",
       "<table id=\"T_cd119_\">\n",
       "  <thead>\n",
       "    <tr>\n",
       "      <th class=\"blank level0\" >&nbsp;</th>\n",
       "      <th class=\"col_heading level0 col0\" >0</th>\n",
       "      <th class=\"col_heading level0 col1\" >1</th>\n",
       "      <th class=\"col_heading level0 col2\" >2</th>\n",
       "      <th class=\"col_heading level0 col3\" >3</th>\n",
       "      <th class=\"col_heading level0 col4\" >4</th>\n",
       "      <th class=\"col_heading level0 col5\" >5</th>\n",
       "      <th class=\"col_heading level0 col6\" >6</th>\n",
       "      <th class=\"col_heading level0 col7\" >7</th>\n",
       "      <th class=\"col_heading level0 col8\" >8</th>\n",
       "      <th class=\"col_heading level0 col9\" >9</th>\n",
       "      <th class=\"col_heading level0 col10\" >10</th>\n",
       "      <th class=\"col_heading level0 col11\" >11</th>\n",
       "      <th class=\"col_heading level0 col12\" >12</th>\n",
       "      <th class=\"col_heading level0 col13\" >13</th>\n",
       "      <th class=\"col_heading level0 col14\" >14</th>\n",
       "    </tr>\n",
       "  </thead>\n",
       "  <tbody>\n",
       "    <tr>\n",
       "      <th id=\"T_cd119_level0_row0\" class=\"row_heading level0 row0\" >World</th>\n",
       "      <td id=\"T_cd119_row0_col0\" class=\"data row0 col0\" >0.07%</td>\n",
       "      <td id=\"T_cd119_row0_col1\" class=\"data row0 col1\" >99.97%</td>\n",
       "      <td id=\"T_cd119_row0_col2\" class=\"data row0 col2\" >0.14%</td>\n",
       "      <td id=\"T_cd119_row0_col3\" class=\"data row0 col3\" >1.04%</td>\n",
       "      <td id=\"T_cd119_row0_col4\" class=\"data row0 col4\" >99.96%</td>\n",
       "      <td id=\"T_cd119_row0_col5\" class=\"data row0 col5\" >0.19%</td>\n",
       "      <td id=\"T_cd119_row0_col6\" class=\"data row0 col6\" >1.11%</td>\n",
       "      <td id=\"T_cd119_row0_col7\" class=\"data row0 col7\" >2.13%</td>\n",
       "      <td id=\"T_cd119_row0_col8\" class=\"data row0 col8\" >95.77%</td>\n",
       "      <td id=\"T_cd119_row0_col9\" class=\"data row0 col9\" >1.27%</td>\n",
       "      <td id=\"T_cd119_row0_col10\" class=\"data row0 col10\" >99.99%</td>\n",
       "      <td id=\"T_cd119_row0_col11\" class=\"data row0 col11\" >0.41%</td>\n",
       "      <td id=\"T_cd119_row0_col12\" class=\"data row0 col12\" >1.21%</td>\n",
       "      <td id=\"T_cd119_row0_col13\" class=\"data row0 col13\" >84.33%</td>\n",
       "      <td id=\"T_cd119_row0_col14\" class=\"data row0 col14\" >99.97%</td>\n",
       "    </tr>\n",
       "    <tr>\n",
       "      <th id=\"T_cd119_level0_row1\" class=\"row_heading level0 row1\" >Sports</th>\n",
       "      <td id=\"T_cd119_row1_col0\" class=\"data row1 col0\" >99.88%</td>\n",
       "      <td id=\"T_cd119_row1_col1\" class=\"data row1 col1\" >0.00%</td>\n",
       "      <td id=\"T_cd119_row1_col2\" class=\"data row1 col2\" >0.00%</td>\n",
       "      <td id=\"T_cd119_row1_col3\" class=\"data row1 col3\" >98.80%</td>\n",
       "      <td id=\"T_cd119_row1_col4\" class=\"data row1 col4\" >0.00%</td>\n",
       "      <td id=\"T_cd119_row1_col5\" class=\"data row1 col5\" >0.01%</td>\n",
       "      <td id=\"T_cd119_row1_col6\" class=\"data row1 col6\" >98.59%</td>\n",
       "      <td id=\"T_cd119_row1_col7\" class=\"data row1 col7\" >97.48%</td>\n",
       "      <td id=\"T_cd119_row1_col8\" class=\"data row1 col8\" >0.06%</td>\n",
       "      <td id=\"T_cd119_row1_col9\" class=\"data row1 col9\" >0.01%</td>\n",
       "      <td id=\"T_cd119_row1_col10\" class=\"data row1 col10\" >0.00%</td>\n",
       "      <td id=\"T_cd119_row1_col11\" class=\"data row1 col11\" >0.09%</td>\n",
       "      <td id=\"T_cd119_row1_col12\" class=\"data row1 col12\" >0.01%</td>\n",
       "      <td id=\"T_cd119_row1_col13\" class=\"data row1 col13\" >5.29%</td>\n",
       "      <td id=\"T_cd119_row1_col14\" class=\"data row1 col14\" >0.00%</td>\n",
       "    </tr>\n",
       "    <tr>\n",
       "      <th id=\"T_cd119_level0_row2\" class=\"row_heading level0 row2\" >Business</th>\n",
       "      <td id=\"T_cd119_row2_col0\" class=\"data row2 col0\" >0.04%</td>\n",
       "      <td id=\"T_cd119_row2_col1\" class=\"data row2 col1\" >0.01%</td>\n",
       "      <td id=\"T_cd119_row2_col2\" class=\"data row2 col2\" >3.22%</td>\n",
       "      <td id=\"T_cd119_row2_col3\" class=\"data row2 col3\" >0.11%</td>\n",
       "      <td id=\"T_cd119_row2_col4\" class=\"data row2 col4\" >0.00%</td>\n",
       "      <td id=\"T_cd119_row2_col5\" class=\"data row2 col5\" >6.27%</td>\n",
       "      <td id=\"T_cd119_row2_col6\" class=\"data row2 col6\" >0.08%</td>\n",
       "      <td id=\"T_cd119_row2_col7\" class=\"data row2 col7\" >0.02%</td>\n",
       "      <td id=\"T_cd119_row2_col8\" class=\"data row2 col8\" >0.33%</td>\n",
       "      <td id=\"T_cd119_row2_col9\" class=\"data row2 col9\" >97.45%</td>\n",
       "      <td id=\"T_cd119_row2_col10\" class=\"data row2 col10\" >0.00%</td>\n",
       "      <td id=\"T_cd119_row2_col11\" class=\"data row2 col11\" >0.34%</td>\n",
       "      <td id=\"T_cd119_row2_col12\" class=\"data row2 col12\" >97.94%</td>\n",
       "      <td id=\"T_cd119_row2_col13\" class=\"data row2 col13\" >0.80%</td>\n",
       "      <td id=\"T_cd119_row2_col14\" class=\"data row2 col14\" >0.00%</td>\n",
       "    </tr>\n",
       "    <tr>\n",
       "      <th id=\"T_cd119_level0_row3\" class=\"row_heading level0 row3\" >Sci/Tech</th>\n",
       "      <td id=\"T_cd119_row3_col0\" class=\"data row3 col0\" >0.01%</td>\n",
       "      <td id=\"T_cd119_row3_col1\" class=\"data row3 col1\" >0.02%</td>\n",
       "      <td id=\"T_cd119_row3_col2\" class=\"data row3 col2\" >96.64%</td>\n",
       "      <td id=\"T_cd119_row3_col3\" class=\"data row3 col3\" >0.05%</td>\n",
       "      <td id=\"T_cd119_row3_col4\" class=\"data row3 col4\" >0.03%</td>\n",
       "      <td id=\"T_cd119_row3_col5\" class=\"data row3 col5\" >93.53%</td>\n",
       "      <td id=\"T_cd119_row3_col6\" class=\"data row3 col6\" >0.22%</td>\n",
       "      <td id=\"T_cd119_row3_col7\" class=\"data row3 col7\" >0.36%</td>\n",
       "      <td id=\"T_cd119_row3_col8\" class=\"data row3 col8\" >3.84%</td>\n",
       "      <td id=\"T_cd119_row3_col9\" class=\"data row3 col9\" >1.27%</td>\n",
       "      <td id=\"T_cd119_row3_col10\" class=\"data row3 col10\" >0.00%</td>\n",
       "      <td id=\"T_cd119_row3_col11\" class=\"data row3 col11\" >99.15%</td>\n",
       "      <td id=\"T_cd119_row3_col12\" class=\"data row3 col12\" >0.84%</td>\n",
       "      <td id=\"T_cd119_row3_col13\" class=\"data row3 col13\" >9.58%</td>\n",
       "      <td id=\"T_cd119_row3_col14\" class=\"data row3 col14\" >0.03%</td>\n",
       "    </tr>\n",
       "  </tbody>\n",
       "</table>\n"
      ],
      "text/plain": [
       "<pandas.io.formats.style.Styler at 0x218dca2c648>"
      ]
     },
     "execution_count": 128,
     "metadata": {},
     "output_type": "execute_result"
    }
   ],
   "source": [
    "df = pd.DataFrame(preds_b[0:15]\n",
    "                  ,columns = ['World','Sports','Business','Sci/Tech']).T\n",
    "df.style.format(\"{:.2%}\").background_gradient(cmap=cm)"
   ]
  },
  {
   "cell_type": "markdown",
   "metadata": {},
   "source": [
    "#### larger output sequence length"
   ]
  },
  {
   "cell_type": "code",
   "execution_count": 129,
   "metadata": {},
   "outputs": [],
   "source": [
    "start_time = time.time()\n",
    "\n",
    "VOCAB_SIZE=2000\n",
    "encoder_a2 = tf.keras.layers.experimental.preprocessing.TextVectorization(\n",
    "    max_tokens=VOCAB_SIZE, output_sequence_length=1000)\n",
    "encoder_a2.adapt(train_dataset.map(lambda text, label: text))\n",
    "vocab_a2 = np.array(encoder_a2.get_vocabulary())\n",
    "\n",
    "num_classes = 4\n",
    "\n",
    "model_a2 = tf.keras.Sequential([\n",
    "                              encoder_a2\n",
    "                              ,tf.keras.layers.Embedding(input_dim=len(encoder_a2.get_vocabulary())\n",
    "                              ,output_dim=64\n",
    "                                # Use masking to handle the variable sequence lengths\n",
    "                              ,mask_zero=True)\n",
    "                              ,tf.keras.layers.Bidirectional(tf.keras.layers.LSTM(64))\n",
    "                              ,tf.keras.layers.Dense(64, activation='relu')\n",
    "                              ,tf.keras.layers.Dense(num_classes,activation='softmax')   # num_classes = 4\n",
    "])\n",
    "model_a2.compile(optimizer=tf.keras.optimizers.Adam(1e-4)\n",
    "              ,loss=tf.keras.losses.SparseCategoricalCrossentropy() # if we set from_logits=True we don not have specify a softmax activation function in the last layer\n",
    "              ,metrics=['accuracy'])"
   ]
  },
  {
   "cell_type": "code",
   "execution_count": 130,
   "metadata": {},
   "outputs": [
    {
     "name": "stdout",
     "output_type": "stream",
     "text": [
      "Epoch 1/200\n",
      "1782/1782 [==============================] - 150s 84ms/step - loss: 0.7298 - accuracy: 0.7207 - val_loss: 0.4601 - val_accuracy: 0.8465\n",
      "Epoch 2/200\n",
      "1782/1782 [==============================] - 148s 83ms/step - loss: 0.4310 - accuracy: 0.8521 - val_loss: 0.4074 - val_accuracy: 0.8635\n",
      "Epoch 3/200\n",
      "1782/1782 [==============================] - 147s 83ms/step - loss: 0.3767 - accuracy: 0.8693 - val_loss: 0.3806 - val_accuracy: 0.8698\n",
      "Epoch 4/200\n",
      "1782/1782 [==============================] - 145s 81ms/step - loss: 0.3518 - accuracy: 0.8776 - val_loss: 0.3685 - val_accuracy: 0.8718\n",
      "Epoch 5/200\n",
      "1782/1782 [==============================] - 143s 80ms/step - loss: 0.3346 - accuracy: 0.8826 - val_loss: 0.3537 - val_accuracy: 0.8763\n",
      "Epoch 6/200\n",
      "1782/1782 [==============================] - 145s 81ms/step - loss: 0.3216 - accuracy: 0.8865 - val_loss: 0.3481 - val_accuracy: 0.8787\n",
      "Epoch 7/200\n",
      "1782/1782 [==============================] - 146s 82ms/step - loss: 0.3117 - accuracy: 0.8895 - val_loss: 0.3432 - val_accuracy: 0.8780\n",
      "Epoch 8/200\n",
      "1782/1782 [==============================] - 146s 82ms/step - loss: 0.3038 - accuracy: 0.8915 - val_loss: 0.3374 - val_accuracy: 0.8810\n",
      "Epoch 9/200\n",
      "1782/1782 [==============================] - 147s 83ms/step - loss: 0.2983 - accuracy: 0.8935 - val_loss: 0.3347 - val_accuracy: 0.8807\n",
      "Epoch 10/200\n",
      "1782/1782 [==============================] - 146s 82ms/step - loss: 0.2932 - accuracy: 0.8956 - val_loss: 0.3380 - val_accuracy: 0.8817\n",
      "Epoch 11/200\n",
      "1782/1782 [==============================] - 146s 82ms/step - loss: 0.2893 - accuracy: 0.8968 - val_loss: 0.3361 - val_accuracy: 0.8802\n",
      "Epoch 12/200\n",
      "1782/1782 [==============================] - 146s 82ms/step - loss: 0.2847 - accuracy: 0.8983 - val_loss: 0.3355 - val_accuracy: 0.8812\n",
      "Finished model training in 1772s\n"
     ]
    }
   ],
   "source": [
    "history_a2 = model_a2.fit(train_dataset\n",
    "                    ,epochs = 200\n",
    "                    ,validation_data=validation_dataset\n",
    "                    ,callbacks=[tf.keras.callbacks.EarlyStopping(monitor='val_accuracy', patience=2)]\n",
    "                    )\n",
    "end_time = time.time()\n",
    "second_elapsed = round(end_time - start_time)\n",
    "\n",
    "print(f'Finished model training in {second_elapsed}s')"
   ]
  },
  {
   "cell_type": "code",
   "execution_count": 131,
   "metadata": {},
   "outputs": [
    {
     "name": "stdout",
     "output_type": "stream",
     "text": [
      "\n",
      "Model performance with training set\n",
      "1782/1782 [==============================] - 53s 30ms/step - loss: 0.2727 - accuracy: 0.9032\n",
      "\n",
      "Evaluating model performance with validation set\n",
      "94/94 [==============================] - 3s 29ms/step - loss: 0.3355 - accuracy: 0.8812\n",
      "\n",
      "Evaluating model performance with test set\n",
      "119/119 [==============================] - 4s 30ms/step - loss: 0.3405 - accuracy: 0.8788\n"
     ]
    },
    {
     "data": {
      "text/plain": [
       "[0.3404524326324463, 0.878815770149231]"
      ]
     },
     "execution_count": 131,
     "metadata": {},
     "output_type": "execute_result"
    }
   ],
   "source": [
    "print('\\nModel performance with training set')\n",
    "model_a2.evaluate(train_dataset)\n",
    "\n",
    "print('\\nEvaluating model performance with validation set')\n",
    "model_a2.evaluate(validation_dataset)\n",
    "\n",
    "print('\\nEvaluating model performance with test set')\n",
    "model_a2.evaluate(test_dataset)"
   ]
  },
  {
   "cell_type": "code",
   "execution_count": 132,
   "metadata": {
    "colab": {
     "base_uri": "https://localhost:8080/"
    },
    "id": "l5Wa2bx7Suny",
    "outputId": "2d185881-ccbe-4923-e445-33c197795bf8"
   },
   "outputs": [
    {
     "data": {
      "text/plain": [
       "dict_keys(['loss', 'accuracy', 'val_loss', 'val_accuracy'])"
      ]
     },
     "execution_count": 132,
     "metadata": {},
     "output_type": "execute_result"
    }
   ],
   "source": [
    "history_dict_a2 = history_a2.history\n",
    "history_dict_a2.keys()"
   ]
  },
  {
   "cell_type": "code",
   "execution_count": 133,
   "metadata": {
    "colab": {
     "base_uri": "https://localhost:8080/",
     "height": 206
    },
    "id": "cwzqjLbrSurM",
    "outputId": "92494400-336c-41d5-a5fb-056d55752b5c",
    "scrolled": true
   },
   "outputs": [
    {
     "data": {
      "text/html": [
       "<div>\n",
       "<style scoped>\n",
       "    .dataframe tbody tr th:only-of-type {\n",
       "        vertical-align: middle;\n",
       "    }\n",
       "\n",
       "    .dataframe tbody tr th {\n",
       "        vertical-align: top;\n",
       "    }\n",
       "\n",
       "    .dataframe thead th {\n",
       "        text-align: right;\n",
       "    }\n",
       "</style>\n",
       "<table border=\"1\" class=\"dataframe\">\n",
       "  <thead>\n",
       "    <tr style=\"text-align: right;\">\n",
       "      <th></th>\n",
       "      <th>loss</th>\n",
       "      <th>accuracy</th>\n",
       "      <th>val_loss</th>\n",
       "      <th>val_accuracy</th>\n",
       "    </tr>\n",
       "  </thead>\n",
       "  <tbody>\n",
       "    <tr>\n",
       "      <th>7</th>\n",
       "      <td>0.304</td>\n",
       "      <td>0.892</td>\n",
       "      <td>0.337</td>\n",
       "      <td>0.881</td>\n",
       "    </tr>\n",
       "    <tr>\n",
       "      <th>8</th>\n",
       "      <td>0.298</td>\n",
       "      <td>0.893</td>\n",
       "      <td>0.335</td>\n",
       "      <td>0.881</td>\n",
       "    </tr>\n",
       "    <tr>\n",
       "      <th>9</th>\n",
       "      <td>0.293</td>\n",
       "      <td>0.896</td>\n",
       "      <td>0.338</td>\n",
       "      <td>0.882</td>\n",
       "    </tr>\n",
       "    <tr>\n",
       "      <th>10</th>\n",
       "      <td>0.289</td>\n",
       "      <td>0.897</td>\n",
       "      <td>0.336</td>\n",
       "      <td>0.880</td>\n",
       "    </tr>\n",
       "    <tr>\n",
       "      <th>11</th>\n",
       "      <td>0.285</td>\n",
       "      <td>0.898</td>\n",
       "      <td>0.335</td>\n",
       "      <td>0.881</td>\n",
       "    </tr>\n",
       "  </tbody>\n",
       "</table>\n",
       "</div>"
      ],
      "text/plain": [
       "     loss  accuracy  val_loss  val_accuracy\n",
       "7   0.304     0.892     0.337         0.881\n",
       "8   0.298     0.893     0.335         0.881\n",
       "9   0.293     0.896     0.338         0.882\n",
       "10  0.289     0.897     0.336         0.880\n",
       "11  0.285     0.898     0.335         0.881"
      ]
     },
     "execution_count": 133,
     "metadata": {},
     "output_type": "execute_result"
    }
   ],
   "source": [
    "history_a2_df=pd.DataFrame(history_dict_a2)\n",
    "history_a2_df.tail().round(3)"
   ]
  },
  {
   "cell_type": "code",
   "execution_count": 134,
   "metadata": {
    "id": "NvA2u5do1JqA"
   },
   "outputs": [],
   "source": [
    "losses_a2 = history_a2.history['loss']\n",
    "accs_a2 = history_a2.history['accuracy']\n",
    "val_losses_a2 = history_a2.history['val_loss']\n",
    "val_accs_a2 = history_a2.history['val_accuracy']\n",
    "epochs_a2 = len(losses_a2)"
   ]
  },
  {
   "cell_type": "code",
   "execution_count": 135,
   "metadata": {
    "colab": {
     "base_uri": "https://localhost:8080/",
     "height": 265
    },
    "id": "JGoRjq2T1SUp",
    "outputId": "ba97450a-6af3-4584-8c9f-e31ad054da55",
    "scrolled": true
   },
   "outputs": [
    {
     "data": {
      "image/png": "[encoded data removed]",
      "text/plain": [
       "<Figure size 1152x288 with 2 Axes>"
      ]
     },
     "metadata": {
      "needs_background": "light"
     },
     "output_type": "display_data"
    }
   ],
   "source": [
    "plt.figure(figsize=(16, 4))\n",
    "for i, metrics in enumerate(zip([losses_a2, accs_a2], [val_losses_a2, val_accs_a2], ['Loss', 'Accuracy'])):\n",
    "    plt.subplot(1, 2, i + 1)\n",
    "    plt.plot(range(epochs_a2), metrics[0], label='Training {}'.format(metrics[2]))\n",
    "    plt.plot(range(epochs_a2), metrics[1], label='Validation {}'.format(metrics[2]))\n",
    "    plt.legend()\n",
    "plt.show()"
   ]
  },
  {
   "cell_type": "code",
   "execution_count": 136,
   "metadata": {
    "id": "TaRFsKvJyRRv"
   },
   "outputs": [],
   "source": [
    "preds_a2 = model_a2.predict(test_dataset)"
   ]
  },
  {
   "cell_type": "code",
   "execution_count": 137,
   "metadata": {
    "id": "HLEVza9CyRRw"
   },
   "outputs": [],
   "source": [
    "cm = sns.light_palette((260, 75, 60), input=\"husl\", as_cmap=True)"
   ]
  },
  {
   "cell_type": "code",
   "execution_count": 138,
   "metadata": {
    "colab": {
     "base_uri": "https://localhost:8080/",
     "height": 121
    },
    "id": "QJ4Zct-xyRRw",
    "outputId": "effd38ba-f989-4053-bee6-b5d96842e81d",
    "scrolled": true
   },
   "outputs": [
    {
     "data": {
      "text/html": [
       "<style type=\"text/css\">\n",
       "#T_3067f_row0_col0, #T_3067f_row0_col2, #T_3067f_row0_col5, #T_3067f_row1_col1, #T_3067f_row1_col2, #T_3067f_row1_col4, #T_3067f_row1_col5, #T_3067f_row1_col8, #T_3067f_row1_col9, #T_3067f_row1_col10, #T_3067f_row1_col11, #T_3067f_row1_col12, #T_3067f_row1_col14, #T_3067f_row2_col0, #T_3067f_row2_col1, #T_3067f_row2_col3, #T_3067f_row2_col4, #T_3067f_row2_col6, #T_3067f_row2_col7, #T_3067f_row2_col10, #T_3067f_row2_col13, #T_3067f_row2_col14, #T_3067f_row3_col0, #T_3067f_row3_col1, #T_3067f_row3_col3, #T_3067f_row3_col4, #T_3067f_row3_col6, #T_3067f_row3_col7, #T_3067f_row3_col10, #T_3067f_row3_col12, #T_3067f_row3_col14 {\n",
       "  background-color: #f0f1f2;\n",
       "  color: #000000;\n",
       "}\n",
       "#T_3067f_row0_col1, #T_3067f_row0_col4, #T_3067f_row0_col8, #T_3067f_row0_col10, #T_3067f_row0_col13, #T_3067f_row0_col14, #T_3067f_row1_col0, #T_3067f_row1_col3, #T_3067f_row1_col6, #T_3067f_row1_col7, #T_3067f_row2_col9, #T_3067f_row2_col12, #T_3067f_row3_col2, #T_3067f_row3_col5, #T_3067f_row3_col11 {\n",
       "  background-color: #778ce4;\n",
       "  color: #f1f1f1;\n",
       "}\n",
       "#T_3067f_row0_col3 {\n",
       "  background-color: #eeeff2;\n",
       "  color: #000000;\n",
       "}\n",
       "#T_3067f_row0_col6, #T_3067f_row0_col12, #T_3067f_row2_col8 {\n",
       "  background-color: #f0f0f2;\n",
       "  color: #000000;\n",
       "}\n",
       "#T_3067f_row0_col7 {\n",
       "  background-color: #ecedf2;\n",
       "  color: #000000;\n",
       "}\n",
       "#T_3067f_row0_col9, #T_3067f_row0_col11 {\n",
       "  background-color: #eff0f2;\n",
       "  color: #000000;\n",
       "}\n",
       "#T_3067f_row1_col13, #T_3067f_row2_col5 {\n",
       "  background-color: #ebecf2;\n",
       "  color: #000000;\n",
       "}\n",
       "#T_3067f_row2_col2 {\n",
       "  background-color: #e8e9f1;\n",
       "  color: #000000;\n",
       "}\n",
       "#T_3067f_row2_col11, #T_3067f_row3_col8, #T_3067f_row3_col9 {\n",
       "  background-color: #efeff2;\n",
       "  color: #000000;\n",
       "}\n",
       "#T_3067f_row3_col13 {\n",
       "  background-color: #e5e7f1;\n",
       "  color: #000000;\n",
       "}\n",
       "</style>\n",
       "<table id=\"T_3067f_\">\n",
       "  <thead>\n",
       "    <tr>\n",
       "      <th class=\"blank level0\" >&nbsp;</th>\n",
       "      <th class=\"col_heading level0 col0\" >0</th>\n",
       "      <th class=\"col_heading level0 col1\" >1</th>\n",
       "      <th class=\"col_heading level0 col2\" >2</th>\n",
       "      <th class=\"col_heading level0 col3\" >3</th>\n",
       "      <th class=\"col_heading level0 col4\" >4</th>\n",
       "      <th class=\"col_heading level0 col5\" >5</th>\n",
       "      <th class=\"col_heading level0 col6\" >6</th>\n",
       "      <th class=\"col_heading level0 col7\" >7</th>\n",
       "      <th class=\"col_heading level0 col8\" >8</th>\n",
       "      <th class=\"col_heading level0 col9\" >9</th>\n",
       "      <th class=\"col_heading level0 col10\" >10</th>\n",
       "      <th class=\"col_heading level0 col11\" >11</th>\n",
       "      <th class=\"col_heading level0 col12\" >12</th>\n",
       "      <th class=\"col_heading level0 col13\" >13</th>\n",
       "      <th class=\"col_heading level0 col14\" >14</th>\n",
       "    </tr>\n",
       "  </thead>\n",
       "  <tbody>\n",
       "    <tr>\n",
       "      <th id=\"T_3067f_level0_row0\" class=\"row_heading level0 row0\" >World</th>\n",
       "      <td id=\"T_3067f_row0_col0\" class=\"data row0 col0\" >0.11%</td>\n",
       "      <td id=\"T_3067f_row0_col1\" class=\"data row0 col1\" >99.94%</td>\n",
       "      <td id=\"T_3067f_row0_col2\" class=\"data row0 col2\" >0.13%</td>\n",
       "      <td id=\"T_3067f_row0_col3\" class=\"data row0 col3\" >2.16%</td>\n",
       "      <td id=\"T_3067f_row0_col4\" class=\"data row0 col4\" >99.91%</td>\n",
       "      <td id=\"T_3067f_row0_col5\" class=\"data row0 col5\" >0.16%</td>\n",
       "      <td id=\"T_3067f_row0_col6\" class=\"data row0 col6\" >0.77%</td>\n",
       "      <td id=\"T_3067f_row0_col7\" class=\"data row0 col7\" >3.79%</td>\n",
       "      <td id=\"T_3067f_row0_col8\" class=\"data row0 col8\" >98.15%</td>\n",
       "      <td id=\"T_3067f_row0_col9\" class=\"data row0 col9\" >1.07%</td>\n",
       "      <td id=\"T_3067f_row0_col10\" class=\"data row0 col10\" >100.00%</td>\n",
       "      <td id=\"T_3067f_row0_col11\" class=\"data row0 col11\" >0.93%</td>\n",
       "      <td id=\"T_3067f_row0_col12\" class=\"data row0 col12\" >0.57%</td>\n",
       "      <td id=\"T_3067f_row0_col13\" class=\"data row0 col13\" >84.34%</td>\n",
       "      <td id=\"T_3067f_row0_col14\" class=\"data row0 col14\" >99.95%</td>\n",
       "    </tr>\n",
       "    <tr>\n",
       "      <th id=\"T_3067f_level0_row1\" class=\"row_heading level0 row1\" >Sports</th>\n",
       "      <td id=\"T_3067f_row1_col0\" class=\"data row1 col0\" >99.76%</td>\n",
       "      <td id=\"T_3067f_row1_col1\" class=\"data row1 col1\" >0.00%</td>\n",
       "      <td id=\"T_3067f_row1_col2\" class=\"data row1 col2\" >0.00%</td>\n",
       "      <td id=\"T_3067f_row1_col3\" class=\"data row1 col3\" >97.47%</td>\n",
       "      <td id=\"T_3067f_row1_col4\" class=\"data row1 col4\" >0.00%</td>\n",
       "      <td id=\"T_3067f_row1_col5\" class=\"data row1 col5\" >0.02%</td>\n",
       "      <td id=\"T_3067f_row1_col6\" class=\"data row1 col6\" >98.96%</td>\n",
       "      <td id=\"T_3067f_row1_col7\" class=\"data row1 col7\" >95.90%</td>\n",
       "      <td id=\"T_3067f_row1_col8\" class=\"data row1 col8\" >0.03%</td>\n",
       "      <td id=\"T_3067f_row1_col9\" class=\"data row1 col9\" >0.01%</td>\n",
       "      <td id=\"T_3067f_row1_col10\" class=\"data row1 col10\" >0.00%</td>\n",
       "      <td id=\"T_3067f_row1_col11\" class=\"data row1 col11\" >0.06%</td>\n",
       "      <td id=\"T_3067f_row1_col12\" class=\"data row1 col12\" >0.01%</td>\n",
       "      <td id=\"T_3067f_row1_col13\" class=\"data row1 col13\" >5.31%</td>\n",
       "      <td id=\"T_3067f_row1_col14\" class=\"data row1 col14\" >0.00%</td>\n",
       "    </tr>\n",
       "    <tr>\n",
       "      <th id=\"T_3067f_level0_row2\" class=\"row_heading level0 row2\" >Business</th>\n",
       "      <td id=\"T_3067f_row2_col0\" class=\"data row2 col0\" >0.07%</td>\n",
       "      <td id=\"T_3067f_row2_col1\" class=\"data row2 col1\" >0.05%</td>\n",
       "      <td id=\"T_3067f_row2_col2\" class=\"data row2 col2\" >6.61%</td>\n",
       "      <td id=\"T_3067f_row2_col3\" class=\"data row2 col3\" >0.23%</td>\n",
       "      <td id=\"T_3067f_row2_col4\" class=\"data row2 col4\" >0.05%</td>\n",
       "      <td id=\"T_3067f_row2_col5\" class=\"data row2 col5\" >4.48%</td>\n",
       "      <td id=\"T_3067f_row2_col6\" class=\"data row2 col6\" >0.10%</td>\n",
       "      <td id=\"T_3067f_row2_col7\" class=\"data row2 col7\" >0.07%</td>\n",
       "      <td id=\"T_3067f_row2_col8\" class=\"data row2 col8\" >0.47%</td>\n",
       "      <td id=\"T_3067f_row2_col9\" class=\"data row2 col9\" >97.71%</td>\n",
       "      <td id=\"T_3067f_row2_col10\" class=\"data row2 col10\" >0.00%</td>\n",
       "      <td id=\"T_3067f_row2_col11\" class=\"data row2 col11\" >1.27%</td>\n",
       "      <td id=\"T_3067f_row2_col12\" class=\"data row2 col12\" >99.06%</td>\n",
       "      <td id=\"T_3067f_row2_col13\" class=\"data row2 col13\" >1.13%</td>\n",
       "      <td id=\"T_3067f_row2_col14\" class=\"data row2 col14\" >0.01%</td>\n",
       "    </tr>\n",
       "    <tr>\n",
       "      <th id=\"T_3067f_level0_row3\" class=\"row_heading level0 row3\" >Sci/Tech</th>\n",
       "      <td id=\"T_3067f_row3_col0\" class=\"data row3 col0\" >0.06%</td>\n",
       "      <td id=\"T_3067f_row3_col1\" class=\"data row3 col1\" >0.01%</td>\n",
       "      <td id=\"T_3067f_row3_col2\" class=\"data row3 col2\" >93.26%</td>\n",
       "      <td id=\"T_3067f_row3_col3\" class=\"data row3 col3\" >0.14%</td>\n",
       "      <td id=\"T_3067f_row3_col4\" class=\"data row3 col4\" >0.04%</td>\n",
       "      <td id=\"T_3067f_row3_col5\" class=\"data row3 col5\" >95.34%</td>\n",
       "      <td id=\"T_3067f_row3_col6\" class=\"data row3 col6\" >0.18%</td>\n",
       "      <td id=\"T_3067f_row3_col7\" class=\"data row3 col7\" >0.24%</td>\n",
       "      <td id=\"T_3067f_row3_col8\" class=\"data row3 col8\" >1.35%</td>\n",
       "      <td id=\"T_3067f_row3_col9\" class=\"data row3 col9\" >1.21%</td>\n",
       "      <td id=\"T_3067f_row3_col10\" class=\"data row3 col10\" >0.00%</td>\n",
       "      <td id=\"T_3067f_row3_col11\" class=\"data row3 col11\" >97.74%</td>\n",
       "      <td id=\"T_3067f_row3_col12\" class=\"data row3 col12\" >0.36%</td>\n",
       "      <td id=\"T_3067f_row3_col13\" class=\"data row3 col13\" >9.21%</td>\n",
       "      <td id=\"T_3067f_row3_col14\" class=\"data row3 col14\" >0.04%</td>\n",
       "    </tr>\n",
       "  </tbody>\n",
       "</table>\n"
      ],
      "text/plain": [
       "<pandas.io.formats.style.Styler at 0x218f9184188>"
      ]
     },
     "execution_count": 138,
     "metadata": {},
     "output_type": "execute_result"
    }
   ],
   "source": [
    "df = pd.DataFrame(preds_a2[0:15]\n",
    "                  ,columns = ['World','Sports','Business','Sci/Tech']).T\n",
    "df.style.format(\"{:.2%}\").background_gradient(cmap=cm)"
   ]
  },
  {
   "cell_type": "code",
   "execution_count": null,
   "metadata": {},
   "outputs": [],
   "source": []
  },
  {
   "cell_type": "markdown",
   "metadata": {
    "id": "WoWhNEnKyRRv"
   },
   "source": [
    "### masking=1"
   ]
  },
  {
   "cell_type": "code",
   "execution_count": 149,
   "metadata": {},
   "outputs": [],
   "source": [
    "start_time = time.time()\n",
    "\n",
    "VOCAB_SIZE=2000\n",
    "encoder_a2 = tf.keras.layers.experimental.preprocessing.TextVectorization(\n",
    "    max_tokens=VOCAB_SIZE)\n",
    "encoder_a2.adapt(train_dataset.map(lambda text, label: text))\n",
    "vocab_a2 = np.array(encoder_a2.get_vocabulary())\n",
    "\n",
    "num_classes = 4\n",
    "\n",
    "model_a2 = tf.keras.Sequential([\n",
    "                              encoder_a2\n",
    "                              ,tf.keras.layers.Embedding(input_dim=len(encoder_a2.get_vocabulary())\n",
    "                              ,output_dim=64\n",
    "                                # Use masking to handle the variable sequence lengths\n",
    "                              ,mask_zero=True)\n",
    "                              ,tf.keras.layers.Masking(mask_value=1)\n",
    "                              ,tf.keras.layers.Bidirectional(tf.keras.layers.LSTM(64))\n",
    "                              ,tf.keras.layers.Dense(64, activation='relu')\n",
    "                              ,tf.keras.layers.Dense(num_classes,activation='softmax')   # num_classes = 4\n",
    "])\n",
    "model_a2.compile(optimizer=tf.keras.optimizers.Adam(1e-4)\n",
    "              ,loss=tf.keras.losses.SparseCategoricalCrossentropy() # if we set from_logits=True we don not have specify a softmax activation function in the last layer\n",
    "              ,metrics=['accuracy'])"
   ]
  },
  {
   "cell_type": "code",
   "execution_count": 150,
   "metadata": {},
   "outputs": [
    {
     "name": "stdout",
     "output_type": "stream",
     "text": [
      "Epoch 1/200\n",
      "1782/1782 [==============================] - 280s 157ms/step - loss: 0.7004 - accuracy: 0.7293 - val_loss: 0.4527 - val_accuracy: 0.8450\n",
      "Epoch 2/200\n",
      "1782/1782 [==============================] - 282s 158ms/step - loss: 0.4058 - accuracy: 0.8579 - val_loss: 0.3987 - val_accuracy: 0.8620\n",
      "Epoch 3/200\n",
      "1782/1782 [==============================] - 284s 159ms/step - loss: 0.3781 - accuracy: 0.8670 - val_loss: 0.3862 - val_accuracy: 0.8655\n",
      "Epoch 4/200\n",
      "1782/1782 [==============================] - 279s 156ms/step - loss: 0.3598 - accuracy: 0.8737 - val_loss: 0.3755 - val_accuracy: 0.8687\n",
      "Epoch 5/200\n",
      "1782/1782 [==============================] - 285s 160ms/step - loss: 0.3411 - accuracy: 0.8789 - val_loss: 0.3565 - val_accuracy: 0.8767\n",
      "Epoch 6/200\n",
      "1782/1782 [==============================] - 277s 155ms/step - loss: 0.3251 - accuracy: 0.8844 - val_loss: 0.3511 - val_accuracy: 0.8747\n",
      "Epoch 7/200\n",
      "1782/1782 [==============================] - 284s 160ms/step - loss: 0.3157 - accuracy: 0.8870 - val_loss: 0.3429 - val_accuracy: 0.8805\n",
      "Epoch 8/200\n",
      "1782/1782 [==============================] - 278s 156ms/step - loss: 0.3082 - accuracy: 0.8891 - val_loss: 0.3455 - val_accuracy: 0.8758\n",
      "Epoch 9/200\n",
      "1782/1782 [==============================] - 271s 152ms/step - loss: 0.3036 - accuracy: 0.8915 - val_loss: 0.3403 - val_accuracy: 0.8767\n",
      "Finished model training in 2553s\n"
     ]
    }
   ],
   "source": [
    "history_a2 = model_a2.fit(train_dataset\n",
    "                    ,epochs = 200\n",
    "                    ,validation_data=validation_dataset\n",
    "                    ,callbacks=[tf.keras.callbacks.EarlyStopping(monitor='val_accuracy', patience=2)]\n",
    "                    )\n",
    "end_time = time.time()\n",
    "second_elapsed = round(end_time - start_time)\n",
    "\n",
    "print(f'Finished model training in {second_elapsed}s')"
   ]
  },
  {
   "cell_type": "code",
   "execution_count": 151,
   "metadata": {},
   "outputs": [
    {
     "name": "stdout",
     "output_type": "stream",
     "text": [
      "\n",
      "Model performance with training set\n",
      "1782/1782 [==============================] - 125s 70ms/step - loss: 0.2896 - accuracy: 0.8969\n",
      "\n",
      "Evaluating model performance with validation set\n",
      "94/94 [==============================] - 7s 76ms/step - loss: 0.3406 - accuracy: 0.8767\n",
      "\n",
      "Evaluating model performance with test set\n",
      "119/119 [==============================] - 7s 63ms/step - loss: 0.3389 - accuracy: 0.8814\n"
     ]
    },
    {
     "data": {
      "text/plain": [
       "[0.33886298537254333, 0.8814473748207092]"
      ]
     },
     "execution_count": 151,
     "metadata": {},
     "output_type": "execute_result"
    }
   ],
   "source": [
    "print('\\nModel performance with training set')\n",
    "model_a2.evaluate(train_dataset)\n",
    "\n",
    "print('\\nEvaluating model performance with validation set')\n",
    "model_a2.evaluate(validation_dataset)\n",
    "\n",
    "print('\\nEvaluating model performance with test set')\n",
    "model_a2.evaluate(test_dataset) # .8801"
   ]
  },
  {
   "cell_type": "code",
   "execution_count": 152,
   "metadata": {
    "colab": {
     "base_uri": "https://localhost:8080/"
    },
    "id": "l5Wa2bx7Suny",
    "outputId": "2d185881-ccbe-4923-e445-33c197795bf8"
   },
   "outputs": [
    {
     "data": {
      "text/plain": [
       "dict_keys(['loss', 'accuracy', 'val_loss', 'val_accuracy'])"
      ]
     },
     "execution_count": 152,
     "metadata": {},
     "output_type": "execute_result"
    }
   ],
   "source": [
    "history_dict_a2 = history_a2.history\n",
    "history_dict_a2.keys()"
   ]
  },
  {
   "cell_type": "code",
   "execution_count": 153,
   "metadata": {
    "colab": {
     "base_uri": "https://localhost:8080/",
     "height": 206
    },
    "id": "cwzqjLbrSurM",
    "outputId": "92494400-336c-41d5-a5fb-056d55752b5c",
    "scrolled": true
   },
   "outputs": [
    {
     "data": {
      "text/html": [
       "<div>\n",
       "<style scoped>\n",
       "    .dataframe tbody tr th:only-of-type {\n",
       "        vertical-align: middle;\n",
       "    }\n",
       "\n",
       "    .dataframe tbody tr th {\n",
       "        vertical-align: top;\n",
       "    }\n",
       "\n",
       "    .dataframe thead th {\n",
       "        text-align: right;\n",
       "    }\n",
       "</style>\n",
       "<table border=\"1\" class=\"dataframe\">\n",
       "  <thead>\n",
       "    <tr style=\"text-align: right;\">\n",
       "      <th></th>\n",
       "      <th>loss</th>\n",
       "      <th>accuracy</th>\n",
       "      <th>val_loss</th>\n",
       "      <th>val_accuracy</th>\n",
       "    </tr>\n",
       "  </thead>\n",
       "  <tbody>\n",
       "    <tr>\n",
       "      <th>4</th>\n",
       "      <td>0.341</td>\n",
       "      <td>0.879</td>\n",
       "      <td>0.357</td>\n",
       "      <td>0.877</td>\n",
       "    </tr>\n",
       "    <tr>\n",
       "      <th>5</th>\n",
       "      <td>0.325</td>\n",
       "      <td>0.884</td>\n",
       "      <td>0.351</td>\n",
       "      <td>0.875</td>\n",
       "    </tr>\n",
       "    <tr>\n",
       "      <th>6</th>\n",
       "      <td>0.316</td>\n",
       "      <td>0.887</td>\n",
       "      <td>0.343</td>\n",
       "      <td>0.881</td>\n",
       "    </tr>\n",
       "    <tr>\n",
       "      <th>7</th>\n",
       "      <td>0.308</td>\n",
       "      <td>0.889</td>\n",
       "      <td>0.345</td>\n",
       "      <td>0.876</td>\n",
       "    </tr>\n",
       "    <tr>\n",
       "      <th>8</th>\n",
       "      <td>0.304</td>\n",
       "      <td>0.891</td>\n",
       "      <td>0.340</td>\n",
       "      <td>0.877</td>\n",
       "    </tr>\n",
       "  </tbody>\n",
       "</table>\n",
       "</div>"
      ],
      "text/plain": [
       "    loss  accuracy  val_loss  val_accuracy\n",
       "4  0.341     0.879     0.357         0.877\n",
       "5  0.325     0.884     0.351         0.875\n",
       "6  0.316     0.887     0.343         0.881\n",
       "7  0.308     0.889     0.345         0.876\n",
       "8  0.304     0.891     0.340         0.877"
      ]
     },
     "execution_count": 153,
     "metadata": {},
     "output_type": "execute_result"
    }
   ],
   "source": [
    "history_a2_df=pd.DataFrame(history_dict_a2)\n",
    "history_a2_df.tail().round(3)"
   ]
  },
  {
   "cell_type": "code",
   "execution_count": 154,
   "metadata": {
    "id": "NvA2u5do1JqA"
   },
   "outputs": [],
   "source": [
    "losses_a2 = history_a2.history['loss']\n",
    "accs_a2 = history_a2.history['accuracy']\n",
    "val_losses_a2 = history_a2.history['val_loss']\n",
    "val_accs_a2 = history_a2.history['val_accuracy']\n",
    "epochs_a2 = len(losses_a2)"
   ]
  },
  {
   "cell_type": "code",
   "execution_count": 155,
   "metadata": {
    "colab": {
     "base_uri": "https://localhost:8080/",
     "height": 265
    },
    "id": "JGoRjq2T1SUp",
    "outputId": "ba97450a-6af3-4584-8c9f-e31ad054da55",
    "scrolled": true
   },
   "outputs": [
    {
     "data": {
      "image/png": "[encoded data removed]",
      "text/plain": [
       "<Figure size 1152x288 with 2 Axes>"
      ]
     },
     "metadata": {
      "needs_background": "light"
     },
     "output_type": "display_data"
    }
   ],
   "source": [
    "plt.figure(figsize=(16, 4))\n",
    "for i, metrics in enumerate(zip([losses_a2, accs_a2], [val_losses_a2, val_accs_a2], ['Loss', 'Accuracy'])):\n",
    "    plt.subplot(1, 2, i + 1)\n",
    "    plt.plot(range(epochs_a2), metrics[0], label='Training {}'.format(metrics[2]))\n",
    "    plt.plot(range(epochs_a2), metrics[1], label='Validation {}'.format(metrics[2]))\n",
    "    plt.legend()\n",
    "plt.show()"
   ]
  },
  {
   "cell_type": "code",
   "execution_count": 156,
   "metadata": {
    "id": "TaRFsKvJyRRv"
   },
   "outputs": [],
   "source": [
    "preds_a2 = model_a2.predict(test_dataset)"
   ]
  },
  {
   "cell_type": "code",
   "execution_count": 157,
   "metadata": {
    "id": "HLEVza9CyRRw"
   },
   "outputs": [],
   "source": [
    "cm = sns.light_palette((260, 75, 60), input=\"husl\", as_cmap=True)"
   ]
  },
  {
   "cell_type": "code",
   "execution_count": 158,
   "metadata": {
    "colab": {
     "base_uri": "https://localhost:8080/",
     "height": 121
    },
    "id": "QJ4Zct-xyRRw",
    "outputId": "effd38ba-f989-4053-bee6-b5d96842e81d",
    "scrolled": true
   },
   "outputs": [
    {
     "data": {
      "text/html": [
       "<style type=\"text/css\">\n",
       "#T_0e463_row0_col0, #T_0e463_row0_col2, #T_0e463_row0_col5, #T_0e463_row1_col1, #T_0e463_row1_col2, #T_0e463_row1_col4, #T_0e463_row1_col5, #T_0e463_row1_col8, #T_0e463_row1_col9, #T_0e463_row1_col10, #T_0e463_row1_col11, #T_0e463_row1_col12, #T_0e463_row1_col14, #T_0e463_row2_col0, #T_0e463_row2_col1, #T_0e463_row2_col3, #T_0e463_row2_col4, #T_0e463_row2_col6, #T_0e463_row2_col7, #T_0e463_row2_col10, #T_0e463_row2_col11, #T_0e463_row2_col13, #T_0e463_row2_col14, #T_0e463_row3_col0, #T_0e463_row3_col1, #T_0e463_row3_col3, #T_0e463_row3_col4, #T_0e463_row3_col6, #T_0e463_row3_col10, #T_0e463_row3_col14 {\n",
       "  background-color: #f0f1f2;\n",
       "  color: #000000;\n",
       "}\n",
       "#T_0e463_row0_col1, #T_0e463_row0_col4, #T_0e463_row0_col8, #T_0e463_row0_col10, #T_0e463_row0_col13, #T_0e463_row0_col14, #T_0e463_row1_col0, #T_0e463_row1_col3, #T_0e463_row1_col6, #T_0e463_row1_col7, #T_0e463_row2_col9, #T_0e463_row2_col12, #T_0e463_row3_col2, #T_0e463_row3_col5, #T_0e463_row3_col11 {\n",
       "  background-color: #778ce4;\n",
       "  color: #f1f1f1;\n",
       "}\n",
       "#T_0e463_row0_col3 {\n",
       "  background-color: #efeff2;\n",
       "  color: #000000;\n",
       "}\n",
       "#T_0e463_row0_col6, #T_0e463_row0_col9, #T_0e463_row3_col7 {\n",
       "  background-color: #f0f0f2;\n",
       "  color: #000000;\n",
       "}\n",
       "#T_0e463_row0_col7, #T_0e463_row3_col13 {\n",
       "  background-color: #edeef2;\n",
       "  color: #000000;\n",
       "}\n",
       "#T_0e463_row0_col11, #T_0e463_row0_col12, #T_0e463_row3_col9, #T_0e463_row3_col12 {\n",
       "  background-color: #eff0f2;\n",
       "  color: #000000;\n",
       "}\n",
       "#T_0e463_row1_col13, #T_0e463_row2_col5 {\n",
       "  background-color: #ebecf2;\n",
       "  color: #000000;\n",
       "}\n",
       "#T_0e463_row2_col2 {\n",
       "  background-color: #eaebf1;\n",
       "  color: #000000;\n",
       "}\n",
       "#T_0e463_row2_col8 {\n",
       "  background-color: #ecedf2;\n",
       "  color: #000000;\n",
       "}\n",
       "#T_0e463_row3_col8 {\n",
       "  background-color: #e9eaf1;\n",
       "  color: #000000;\n",
       "}\n",
       "</style>\n",
       "<table id=\"T_0e463_\">\n",
       "  <thead>\n",
       "    <tr>\n",
       "      <th class=\"blank level0\" >&nbsp;</th>\n",
       "      <th class=\"col_heading level0 col0\" >0</th>\n",
       "      <th class=\"col_heading level0 col1\" >1</th>\n",
       "      <th class=\"col_heading level0 col2\" >2</th>\n",
       "      <th class=\"col_heading level0 col3\" >3</th>\n",
       "      <th class=\"col_heading level0 col4\" >4</th>\n",
       "      <th class=\"col_heading level0 col5\" >5</th>\n",
       "      <th class=\"col_heading level0 col6\" >6</th>\n",
       "      <th class=\"col_heading level0 col7\" >7</th>\n",
       "      <th class=\"col_heading level0 col8\" >8</th>\n",
       "      <th class=\"col_heading level0 col9\" >9</th>\n",
       "      <th class=\"col_heading level0 col10\" >10</th>\n",
       "      <th class=\"col_heading level0 col11\" >11</th>\n",
       "      <th class=\"col_heading level0 col12\" >12</th>\n",
       "      <th class=\"col_heading level0 col13\" >13</th>\n",
       "      <th class=\"col_heading level0 col14\" >14</th>\n",
       "    </tr>\n",
       "  </thead>\n",
       "  <tbody>\n",
       "    <tr>\n",
       "      <th id=\"T_0e463_level0_row0\" class=\"row_heading level0 row0\" >World</th>\n",
       "      <td id=\"T_0e463_row0_col0\" class=\"data row0 col0\" >0.17%</td>\n",
       "      <td id=\"T_0e463_row0_col1\" class=\"data row0 col1\" >99.80%</td>\n",
       "      <td id=\"T_0e463_row0_col2\" class=\"data row0 col2\" >0.37%</td>\n",
       "      <td id=\"T_0e463_row0_col3\" class=\"data row0 col3\" >1.50%</td>\n",
       "      <td id=\"T_0e463_row0_col4\" class=\"data row0 col4\" >99.75%</td>\n",
       "      <td id=\"T_0e463_row0_col5\" class=\"data row0 col5\" >0.17%</td>\n",
       "      <td id=\"T_0e463_row0_col6\" class=\"data row0 col6\" >0.84%</td>\n",
       "      <td id=\"T_0e463_row0_col7\" class=\"data row0 col7\" >2.50%</td>\n",
       "      <td id=\"T_0e463_row0_col8\" class=\"data row0 col8\" >90.44%</td>\n",
       "      <td id=\"T_0e463_row0_col9\" class=\"data row0 col9\" >0.69%</td>\n",
       "      <td id=\"T_0e463_row0_col10\" class=\"data row0 col10\" >99.99%</td>\n",
       "      <td id=\"T_0e463_row0_col11\" class=\"data row0 col11\" >1.07%</td>\n",
       "      <td id=\"T_0e463_row0_col12\" class=\"data row0 col12\" >0.97%</td>\n",
       "      <td id=\"T_0e463_row0_col13\" class=\"data row0 col13\" >89.14%</td>\n",
       "      <td id=\"T_0e463_row0_col14\" class=\"data row0 col14\" >99.85%</td>\n",
       "    </tr>\n",
       "    <tr>\n",
       "      <th id=\"T_0e463_level0_row1\" class=\"row_heading level0 row1\" >Sports</th>\n",
       "      <td id=\"T_0e463_row1_col0\" class=\"data row1 col0\" >99.72%</td>\n",
       "      <td id=\"T_0e463_row1_col1\" class=\"data row1 col1\" >0.01%</td>\n",
       "      <td id=\"T_0e463_row1_col2\" class=\"data row1 col2\" >0.02%</td>\n",
       "      <td id=\"T_0e463_row1_col3\" class=\"data row1 col3\" >98.31%</td>\n",
       "      <td id=\"T_0e463_row1_col4\" class=\"data row1 col4\" >0.02%</td>\n",
       "      <td id=\"T_0e463_row1_col5\" class=\"data row1 col5\" >0.09%</td>\n",
       "      <td id=\"T_0e463_row1_col6\" class=\"data row1 col6\" >98.89%</td>\n",
       "      <td id=\"T_0e463_row1_col7\" class=\"data row1 col7\" >96.91%</td>\n",
       "      <td id=\"T_0e463_row1_col8\" class=\"data row1 col8\" >0.27%</td>\n",
       "      <td id=\"T_0e463_row1_col9\" class=\"data row1 col9\" >0.07%</td>\n",
       "      <td id=\"T_0e463_row1_col10\" class=\"data row1 col10\" >0.00%</td>\n",
       "      <td id=\"T_0e463_row1_col11\" class=\"data row1 col11\" >0.16%</td>\n",
       "      <td id=\"T_0e463_row1_col12\" class=\"data row1 col12\" >0.01%</td>\n",
       "      <td id=\"T_0e463_row1_col13\" class=\"data row1 col13\" >5.75%</td>\n",
       "      <td id=\"T_0e463_row1_col14\" class=\"data row1 col14\" >0.01%</td>\n",
       "    </tr>\n",
       "    <tr>\n",
       "      <th id=\"T_0e463_level0_row2\" class=\"row_heading level0 row2\" >Business</th>\n",
       "      <td id=\"T_0e463_row2_col0\" class=\"data row2 col0\" >0.02%</td>\n",
       "      <td id=\"T_0e463_row2_col1\" class=\"data row2 col1\" >0.09%</td>\n",
       "      <td id=\"T_0e463_row2_col2\" class=\"data row2 col2\" >5.25%</td>\n",
       "      <td id=\"T_0e463_row2_col3\" class=\"data row2 col3\" >0.10%</td>\n",
       "      <td id=\"T_0e463_row2_col4\" class=\"data row2 col4\" >0.12%</td>\n",
       "      <td id=\"T_0e463_row2_col5\" class=\"data row2 col5\" >4.68%</td>\n",
       "      <td id=\"T_0e463_row2_col6\" class=\"data row2 col6\" >0.08%</td>\n",
       "      <td id=\"T_0e463_row2_col7\" class=\"data row2 col7\" >0.01%</td>\n",
       "      <td id=\"T_0e463_row2_col8\" class=\"data row2 col8\" >3.19%</td>\n",
       "      <td id=\"T_0e463_row2_col9\" class=\"data row2 col9\" >98.31%</td>\n",
       "      <td id=\"T_0e463_row2_col10\" class=\"data row2 col10\" >0.01%</td>\n",
       "      <td id=\"T_0e463_row2_col11\" class=\"data row2 col11\" >0.38%</td>\n",
       "      <td id=\"T_0e463_row2_col12\" class=\"data row2 col12\" >98.05%</td>\n",
       "      <td id=\"T_0e463_row2_col13\" class=\"data row2 col13\" >1.36%</td>\n",
       "      <td id=\"T_0e463_row2_col14\" class=\"data row2 col14\" >0.03%</td>\n",
       "    </tr>\n",
       "    <tr>\n",
       "      <th id=\"T_0e463_level0_row3\" class=\"row_heading level0 row3\" >Sci/Tech</th>\n",
       "      <td id=\"T_0e463_row3_col0\" class=\"data row3 col0\" >0.09%</td>\n",
       "      <td id=\"T_0e463_row3_col1\" class=\"data row3 col1\" >0.10%</td>\n",
       "      <td id=\"T_0e463_row3_col2\" class=\"data row3 col2\" >94.36%</td>\n",
       "      <td id=\"T_0e463_row3_col3\" class=\"data row3 col3\" >0.09%</td>\n",
       "      <td id=\"T_0e463_row3_col4\" class=\"data row3 col4\" >0.11%</td>\n",
       "      <td id=\"T_0e463_row3_col5\" class=\"data row3 col5\" >95.06%</td>\n",
       "      <td id=\"T_0e463_row3_col6\" class=\"data row3 col6\" >0.19%</td>\n",
       "      <td id=\"T_0e463_row3_col7\" class=\"data row3 col7\" >0.58%</td>\n",
       "      <td id=\"T_0e463_row3_col8\" class=\"data row3 col8\" >6.09%</td>\n",
       "      <td id=\"T_0e463_row3_col9\" class=\"data row3 col9\" >0.94%</td>\n",
       "      <td id=\"T_0e463_row3_col10\" class=\"data row3 col10\" >0.00%</td>\n",
       "      <td id=\"T_0e463_row3_col11\" class=\"data row3 col11\" >98.39%</td>\n",
       "      <td id=\"T_0e463_row3_col12\" class=\"data row3 col12\" >0.96%</td>\n",
       "      <td id=\"T_0e463_row3_col13\" class=\"data row3 col13\" >3.75%</td>\n",
       "      <td id=\"T_0e463_row3_col14\" class=\"data row3 col14\" >0.10%</td>\n",
       "    </tr>\n",
       "  </tbody>\n",
       "</table>\n"
      ],
      "text/plain": [
       "<pandas.io.formats.style.Styler at 0x21919e72c08>"
      ]
     },
     "execution_count": 158,
     "metadata": {},
     "output_type": "execute_result"
    }
   ],
   "source": [
    "df = pd.DataFrame(preds_a2[0:15]\n",
    "                  ,columns = ['World','Sports','Business','Sci/Tech']).T\n",
    "df.style.format(\"{:.2%}\").background_gradient(cmap=cm)"
   ]
  },
  {
   "cell_type": "markdown",
   "metadata": {
    "id": "WoWhNEnKyRRv"
   },
   "source": [
    "### best structure & all masking"
   ]
  },
  {
   "cell_type": "code",
   "execution_count": 164,
   "metadata": {},
   "outputs": [],
   "source": [
    "start_time = time.time()\n",
    "\n",
    "VOCAB_SIZE=3000\n",
    "encoder_a2 = tf.keras.layers.experimental.preprocessing.TextVectorization(\n",
    "    max_tokens=VOCAB_SIZE)\n",
    "encoder_a2.adapt(train_dataset.map(lambda text, label: text))\n",
    "vocab_a2 = np.array(encoder_a2.get_vocabulary())\n",
    "\n",
    "num_classes = 4\n",
    "\n",
    "model_a2 = tf.keras.Sequential([\n",
    "                              encoder_a2\n",
    "                              ,tf.keras.layers.Embedding(input_dim=len(encoder_a2.get_vocabulary())\n",
    "                              ,output_dim=64\n",
    "                                # Use masking to handle the variable sequence lengths\n",
    "                              ,mask_zero=True)\n",
    "                              ,tf.keras.layers.Masking(mask_value=-1)\n",
    "                              ,tf.keras.layers.Masking(mask_value=0)\n",
    "                              ,tf.keras.layers.Masking(mask_value=1)\n",
    "                              ,tf.keras.layers.Masking(mask_value=2)\n",
    "                              ,tf.keras.layers.Bidirectional(tf.keras.layers.LSTM(64,  return_sequences=True))\n",
    "                              ,tf.keras.layers.Bidirectional(tf.keras.layers.LSTM(32))\n",
    "                              ,tf.keras.layers.Dense(64, activation='relu')\n",
    "                              ,tf.keras.layers.Dense(num_classes,activation='softmax')   # num_classes = 4\n",
    "])\n",
    "model_a2.compile(optimizer=tf.keras.optimizers.Adam(1e-4)\n",
    "              ,loss=tf.keras.losses.SparseCategoricalCrossentropy() # if we set from_logits=True we don not have specify a softmax activation function in the last layer\n",
    "              ,metrics=['accuracy'])"
   ]
  },
  {
   "cell_type": "code",
   "execution_count": 165,
   "metadata": {},
   "outputs": [
    {
     "name": "stdout",
     "output_type": "stream",
     "text": [
      "Epoch 1/200\n",
      "1782/1782 [==============================] - 514s 289ms/step - loss: 0.6986 - accuracy: 0.7100 - val_loss: 0.4164 - val_accuracy: 0.8567\n",
      "Epoch 2/200\n",
      "1782/1782 [==============================] - 503s 283ms/step - loss: 0.3807 - accuracy: 0.8676 - val_loss: 0.3675 - val_accuracy: 0.8743\n",
      "Epoch 3/200\n",
      "1782/1782 [==============================] - 503s 282ms/step - loss: 0.3408 - accuracy: 0.8832 - val_loss: 0.3463 - val_accuracy: 0.8790\n",
      "Epoch 4/200\n",
      "1782/1782 [==============================] - 507s 284ms/step - loss: 0.3183 - accuracy: 0.8907 - val_loss: 0.3318 - val_accuracy: 0.8862\n",
      "Epoch 5/200\n",
      "1782/1782 [==============================] - 501s 281ms/step - loss: 0.3012 - accuracy: 0.8962 - val_loss: 0.3321 - val_accuracy: 0.8830\n",
      "Epoch 6/200\n",
      "1782/1782 [==============================] - 516s 289ms/step - loss: 0.2890 - accuracy: 0.9003 - val_loss: 0.3239 - val_accuracy: 0.8885\n",
      "Epoch 7/200\n",
      "1782/1782 [==============================] - 512s 287ms/step - loss: 0.2790 - accuracy: 0.9031 - val_loss: 0.3242 - val_accuracy: 0.8843\n",
      "Epoch 8/200\n",
      "1782/1782 [==============================] - 514s 288ms/step - loss: 0.2706 - accuracy: 0.9055 - val_loss: 0.3283 - val_accuracy: 0.8858\n",
      "Finished model training in 4115s\n"
     ]
    }
   ],
   "source": [
    "history_a2 = model_a2.fit(train_dataset\n",
    "                    ,epochs = 200\n",
    "                    ,validation_data=validation_dataset\n",
    "                    ,callbacks=[tf.keras.callbacks.EarlyStopping(monitor='val_accuracy', patience=2)]\n",
    "                    )\n",
    "end_time = time.time()\n",
    "second_elapsed = round(end_time - start_time)\n",
    "\n",
    "print(f'Finished model training in {second_elapsed}s')"
   ]
  },
  {
   "cell_type": "code",
   "execution_count": 166,
   "metadata": {},
   "outputs": [
    {
     "name": "stdout",
     "output_type": "stream",
     "text": [
      "\n",
      "Model performance with training set\n",
      "1782/1782 [==============================] - 228s 128ms/step - loss: 0.2524 - accuracy: 0.9134\n",
      "\n",
      "Evaluating model performance with validation set\n",
      "94/94 [==============================] - 11s 121ms/step - loss: 0.3255 - accuracy: 0.8867\n",
      "\n",
      "Evaluating model performance with test set\n",
      "119/119 [==============================] - 17s 147ms/step - loss: 0.3242 - accuracy: 0.8871\n"
     ]
    },
    {
     "data": {
      "text/plain": [
       "[0.3242066204547882, 0.8871052861213684]"
      ]
     },
     "execution_count": 166,
     "metadata": {},
     "output_type": "execute_result"
    }
   ],
   "source": [
    "print('\\nModel performance with training set')\n",
    "model_a2.evaluate(train_dataset)\n",
    "\n",
    "print('\\nEvaluating model performance with validation set')\n",
    "model_a2.evaluate(validation_dataset)\n",
    "\n",
    "print('\\nEvaluating model performance with test set')\n",
    "model_a2.evaluate(test_dataset) # .8801"
   ]
  },
  {
   "cell_type": "code",
   "execution_count": 167,
   "metadata": {
    "colab": {
     "base_uri": "https://localhost:8080/"
    },
    "id": "l5Wa2bx7Suny",
    "outputId": "2d185881-ccbe-4923-e445-33c197795bf8"
   },
   "outputs": [
    {
     "data": {
      "text/plain": [
       "dict_keys(['loss', 'accuracy', 'val_loss', 'val_accuracy'])"
      ]
     },
     "execution_count": 167,
     "metadata": {},
     "output_type": "execute_result"
    }
   ],
   "source": [
    "history_dict_a2 = history_a2.history\n",
    "history_dict_a2.keys()"
   ]
  },
  {
   "cell_type": "code",
   "execution_count": 168,
   "metadata": {
    "colab": {
     "base_uri": "https://localhost:8080/",
     "height": 206
    },
    "id": "cwzqjLbrSurM",
    "outputId": "92494400-336c-41d5-a5fb-056d55752b5c",
    "scrolled": true
   },
   "outputs": [
    {
     "data": {
      "text/html": [
       "<div>\n",
       "<style scoped>\n",
       "    .dataframe tbody tr th:only-of-type {\n",
       "        vertical-align: middle;\n",
       "    }\n",
       "\n",
       "    .dataframe tbody tr th {\n",
       "        vertical-align: top;\n",
       "    }\n",
       "\n",
       "    .dataframe thead th {\n",
       "        text-align: right;\n",
       "    }\n",
       "</style>\n",
       "<table border=\"1\" class=\"dataframe\">\n",
       "  <thead>\n",
       "    <tr style=\"text-align: right;\">\n",
       "      <th></th>\n",
       "      <th>loss</th>\n",
       "      <th>accuracy</th>\n",
       "      <th>val_loss</th>\n",
       "      <th>val_accuracy</th>\n",
       "    </tr>\n",
       "  </thead>\n",
       "  <tbody>\n",
       "    <tr>\n",
       "      <th>3</th>\n",
       "      <td>0.318</td>\n",
       "      <td>0.891</td>\n",
       "      <td>0.332</td>\n",
       "      <td>0.886</td>\n",
       "    </tr>\n",
       "    <tr>\n",
       "      <th>4</th>\n",
       "      <td>0.301</td>\n",
       "      <td>0.896</td>\n",
       "      <td>0.332</td>\n",
       "      <td>0.883</td>\n",
       "    </tr>\n",
       "    <tr>\n",
       "      <th>5</th>\n",
       "      <td>0.289</td>\n",
       "      <td>0.900</td>\n",
       "      <td>0.324</td>\n",
       "      <td>0.888</td>\n",
       "    </tr>\n",
       "    <tr>\n",
       "      <th>6</th>\n",
       "      <td>0.279</td>\n",
       "      <td>0.903</td>\n",
       "      <td>0.324</td>\n",
       "      <td>0.884</td>\n",
       "    </tr>\n",
       "    <tr>\n",
       "      <th>7</th>\n",
       "      <td>0.271</td>\n",
       "      <td>0.905</td>\n",
       "      <td>0.328</td>\n",
       "      <td>0.886</td>\n",
       "    </tr>\n",
       "  </tbody>\n",
       "</table>\n",
       "</div>"
      ],
      "text/plain": [
       "    loss  accuracy  val_loss  val_accuracy\n",
       "3  0.318     0.891     0.332         0.886\n",
       "4  0.301     0.896     0.332         0.883\n",
       "5  0.289     0.900     0.324         0.888\n",
       "6  0.279     0.903     0.324         0.884\n",
       "7  0.271     0.905     0.328         0.886"
      ]
     },
     "execution_count": 168,
     "metadata": {},
     "output_type": "execute_result"
    }
   ],
   "source": [
    "history_a2_df=pd.DataFrame(history_dict_a2)\n",
    "history_a2_df.tail().round(3)"
   ]
  },
  {
   "cell_type": "code",
   "execution_count": 169,
   "metadata": {
    "id": "NvA2u5do1JqA"
   },
   "outputs": [],
   "source": [
    "losses_a2 = history_a2.history['loss']\n",
    "accs_a2 = history_a2.history['accuracy']\n",
    "val_losses_a2 = history_a2.history['val_loss']\n",
    "val_accs_a2 = history_a2.history['val_accuracy']\n",
    "epochs_a2 = len(losses_a2)"
   ]
  },
  {
   "cell_type": "code",
   "execution_count": 170,
   "metadata": {
    "colab": {
     "base_uri": "https://localhost:8080/",
     "height": 265
    },
    "id": "JGoRjq2T1SUp",
    "outputId": "ba97450a-6af3-4584-8c9f-e31ad054da55",
    "scrolled": true
   },
   "outputs": [
    {
     "data": {
      "image/png": "[encoded data removed]",
      "text/plain": [
       "<Figure size 1152x288 with 2 Axes>"
      ]
     },
     "metadata": {
      "needs_background": "light"
     },
     "output_type": "display_data"
    }
   ],
   "source": [
    "plt.figure(figsize=(16, 4))\n",
    "for i, metrics in enumerate(zip([losses_a2, accs_a2], [val_losses_a2, val_accs_a2], ['Loss', 'Accuracy'])):\n",
    "    plt.subplot(1, 2, i + 1)\n",
    "    plt.plot(range(epochs_a2), metrics[0], label='Training {}'.format(metrics[2]))\n",
    "    plt.plot(range(epochs_a2), metrics[1], label='Validation {}'.format(metrics[2]))\n",
    "    plt.legend()\n",
    "plt.show()"
   ]
  },
  {
   "cell_type": "code",
   "execution_count": 171,
   "metadata": {
    "id": "TaRFsKvJyRRv"
   },
   "outputs": [],
   "source": [
    "preds_a2 = model_a2.predict(test_dataset)"
   ]
  },
  {
   "cell_type": "code",
   "execution_count": 172,
   "metadata": {
    "id": "HLEVza9CyRRw"
   },
   "outputs": [],
   "source": [
    "cm = sns.light_palette((260, 75, 60), input=\"husl\", as_cmap=True)"
   ]
  },
  {
   "cell_type": "code",
   "execution_count": 173,
   "metadata": {
    "colab": {
     "base_uri": "https://localhost:8080/",
     "height": 121
    },
    "id": "QJ4Zct-xyRRw",
    "outputId": "effd38ba-f989-4053-bee6-b5d96842e81d",
    "scrolled": true
   },
   "outputs": [
    {
     "data": {
      "text/html": [
       "<style type=\"text/css\">\n",
       "#T_b82c8_row0_col0, #T_b82c8_row0_col2, #T_b82c8_row0_col5, #T_b82c8_row0_col11, #T_b82c8_row1_col1, #T_b82c8_row1_col2, #T_b82c8_row1_col4, #T_b82c8_row1_col5, #T_b82c8_row1_col8, #T_b82c8_row1_col9, #T_b82c8_row1_col10, #T_b82c8_row1_col11, #T_b82c8_row1_col12, #T_b82c8_row1_col13, #T_b82c8_row1_col14, #T_b82c8_row2_col0, #T_b82c8_row2_col1, #T_b82c8_row2_col3, #T_b82c8_row2_col4, #T_b82c8_row2_col6, #T_b82c8_row2_col7, #T_b82c8_row2_col8, #T_b82c8_row2_col10, #T_b82c8_row2_col14, #T_b82c8_row3_col0, #T_b82c8_row3_col1, #T_b82c8_row3_col3, #T_b82c8_row3_col4, #T_b82c8_row3_col6, #T_b82c8_row3_col7, #T_b82c8_row3_col10, #T_b82c8_row3_col14 {\n",
       "  background-color: #f0f1f2;\n",
       "  color: #000000;\n",
       "}\n",
       "#T_b82c8_row0_col1, #T_b82c8_row0_col4, #T_b82c8_row0_col8, #T_b82c8_row0_col10, #T_b82c8_row0_col13, #T_b82c8_row0_col14, #T_b82c8_row1_col0, #T_b82c8_row1_col3, #T_b82c8_row1_col6, #T_b82c8_row1_col7, #T_b82c8_row2_col9, #T_b82c8_row2_col12, #T_b82c8_row3_col2, #T_b82c8_row3_col5, #T_b82c8_row3_col11 {\n",
       "  background-color: #778ce4;\n",
       "  color: #f1f1f1;\n",
       "}\n",
       "#T_b82c8_row0_col3, #T_b82c8_row0_col6, #T_b82c8_row2_col11, #T_b82c8_row3_col8 {\n",
       "  background-color: #f0f0f2;\n",
       "  color: #000000;\n",
       "}\n",
       "#T_b82c8_row0_col7 {\n",
       "  background-color: #e6e8f1;\n",
       "  color: #000000;\n",
       "}\n",
       "#T_b82c8_row0_col9 {\n",
       "  background-color: #efeff2;\n",
       "  color: #000000;\n",
       "}\n",
       "#T_b82c8_row0_col12, #T_b82c8_row3_col9 {\n",
       "  background-color: #eff0f2;\n",
       "  color: #000000;\n",
       "}\n",
       "#T_b82c8_row2_col2, #T_b82c8_row2_col13 {\n",
       "  background-color: #eaebf1;\n",
       "  color: #000000;\n",
       "}\n",
       "#T_b82c8_row2_col5 {\n",
       "  background-color: #ebedf2;\n",
       "  color: #000000;\n",
       "}\n",
       "#T_b82c8_row3_col12 {\n",
       "  background-color: #eeeff2;\n",
       "  color: #000000;\n",
       "}\n",
       "#T_b82c8_row3_col13 {\n",
       "  background-color: #e4e6f1;\n",
       "  color: #000000;\n",
       "}\n",
       "</style>\n",
       "<table id=\"T_b82c8_\">\n",
       "  <thead>\n",
       "    <tr>\n",
       "      <th class=\"blank level0\" >&nbsp;</th>\n",
       "      <th class=\"col_heading level0 col0\" >0</th>\n",
       "      <th class=\"col_heading level0 col1\" >1</th>\n",
       "      <th class=\"col_heading level0 col2\" >2</th>\n",
       "      <th class=\"col_heading level0 col3\" >3</th>\n",
       "      <th class=\"col_heading level0 col4\" >4</th>\n",
       "      <th class=\"col_heading level0 col5\" >5</th>\n",
       "      <th class=\"col_heading level0 col6\" >6</th>\n",
       "      <th class=\"col_heading level0 col7\" >7</th>\n",
       "      <th class=\"col_heading level0 col8\" >8</th>\n",
       "      <th class=\"col_heading level0 col9\" >9</th>\n",
       "      <th class=\"col_heading level0 col10\" >10</th>\n",
       "      <th class=\"col_heading level0 col11\" >11</th>\n",
       "      <th class=\"col_heading level0 col12\" >12</th>\n",
       "      <th class=\"col_heading level0 col13\" >13</th>\n",
       "      <th class=\"col_heading level0 col14\" >14</th>\n",
       "    </tr>\n",
       "  </thead>\n",
       "  <tbody>\n",
       "    <tr>\n",
       "      <th id=\"T_b82c8_level0_row0\" class=\"row_heading level0 row0\" >World</th>\n",
       "      <td id=\"T_b82c8_row0_col0\" class=\"data row0 col0\" >0.18%</td>\n",
       "      <td id=\"T_b82c8_row0_col1\" class=\"data row0 col1\" >99.77%</td>\n",
       "      <td id=\"T_b82c8_row0_col2\" class=\"data row0 col2\" >0.08%</td>\n",
       "      <td id=\"T_b82c8_row0_col3\" class=\"data row0 col3\" >0.82%</td>\n",
       "      <td id=\"T_b82c8_row0_col4\" class=\"data row0 col4\" >99.28%</td>\n",
       "      <td id=\"T_b82c8_row0_col5\" class=\"data row0 col5\" >0.24%</td>\n",
       "      <td id=\"T_b82c8_row0_col6\" class=\"data row0 col6\" >0.59%</td>\n",
       "      <td id=\"T_b82c8_row0_col7\" class=\"data row0 col7\" >7.92%</td>\n",
       "      <td id=\"T_b82c8_row0_col8\" class=\"data row0 col8\" >98.86%</td>\n",
       "      <td id=\"T_b82c8_row0_col9\" class=\"data row0 col9\" >1.38%</td>\n",
       "      <td id=\"T_b82c8_row0_col10\" class=\"data row0 col10\" >99.85%</td>\n",
       "      <td id=\"T_b82c8_row0_col11\" class=\"data row0 col11\" >0.12%</td>\n",
       "      <td id=\"T_b82c8_row0_col12\" class=\"data row0 col12\" >0.87%</td>\n",
       "      <td id=\"T_b82c8_row0_col13\" class=\"data row0 col13\" >79.87%</td>\n",
       "      <td id=\"T_b82c8_row0_col14\" class=\"data row0 col14\" >99.62%</td>\n",
       "    </tr>\n",
       "    <tr>\n",
       "      <th id=\"T_b82c8_level0_row1\" class=\"row_heading level0 row1\" >Sports</th>\n",
       "      <td id=\"T_b82c8_row1_col0\" class=\"data row1 col0\" >99.67%</td>\n",
       "      <td id=\"T_b82c8_row1_col1\" class=\"data row1 col1\" >0.05%</td>\n",
       "      <td id=\"T_b82c8_row1_col2\" class=\"data row1 col2\" >0.01%</td>\n",
       "      <td id=\"T_b82c8_row1_col3\" class=\"data row1 col3\" >99.00%</td>\n",
       "      <td id=\"T_b82c8_row1_col4\" class=\"data row1 col4\" >0.08%</td>\n",
       "      <td id=\"T_b82c8_row1_col5\" class=\"data row1 col5\" >0.02%</td>\n",
       "      <td id=\"T_b82c8_row1_col6\" class=\"data row1 col6\" >98.98%</td>\n",
       "      <td id=\"T_b82c8_row1_col7\" class=\"data row1 col7\" >91.87%</td>\n",
       "      <td id=\"T_b82c8_row1_col8\" class=\"data row1 col8\" >0.10%</td>\n",
       "      <td id=\"T_b82c8_row1_col9\" class=\"data row1 col9\" >0.11%</td>\n",
       "      <td id=\"T_b82c8_row1_col10\" class=\"data row1 col10\" >0.04%</td>\n",
       "      <td id=\"T_b82c8_row1_col11\" class=\"data row1 col11\" >0.00%</td>\n",
       "      <td id=\"T_b82c8_row1_col12\" class=\"data row1 col12\" >0.07%</td>\n",
       "      <td id=\"T_b82c8_row1_col13\" class=\"data row1 col13\" >2.64%</td>\n",
       "      <td id=\"T_b82c8_row1_col14\" class=\"data row1 col14\" >0.06%</td>\n",
       "    </tr>\n",
       "    <tr>\n",
       "      <th id=\"T_b82c8_level0_row2\" class=\"row_heading level0 row2\" >Business</th>\n",
       "      <td id=\"T_b82c8_row2_col0\" class=\"data row2 col0\" >0.09%</td>\n",
       "      <td id=\"T_b82c8_row2_col1\" class=\"data row2 col1\" >0.11%</td>\n",
       "      <td id=\"T_b82c8_row2_col2\" class=\"data row2 col2\" >5.14%</td>\n",
       "      <td id=\"T_b82c8_row2_col3\" class=\"data row2 col3\" >0.12%</td>\n",
       "      <td id=\"T_b82c8_row2_col4\" class=\"data row2 col4\" >0.29%</td>\n",
       "      <td id=\"T_b82c8_row2_col5\" class=\"data row2 col5\" >4.12%</td>\n",
       "      <td id=\"T_b82c8_row2_col6\" class=\"data row2 col6\" >0.07%</td>\n",
       "      <td id=\"T_b82c8_row2_col7\" class=\"data row2 col7\" >0.03%</td>\n",
       "      <td id=\"T_b82c8_row2_col8\" class=\"data row2 col8\" >0.47%</td>\n",
       "      <td id=\"T_b82c8_row2_col9\" class=\"data row2 col9\" >97.47%</td>\n",
       "      <td id=\"T_b82c8_row2_col10\" class=\"data row2 col10\" >0.07%</td>\n",
       "      <td id=\"T_b82c8_row2_col11\" class=\"data row2 col11\" >0.72%</td>\n",
       "      <td id=\"T_b82c8_row2_col12\" class=\"data row2 col12\" >97.17%</td>\n",
       "      <td id=\"T_b82c8_row2_col13\" class=\"data row2 col13\" >6.83%</td>\n",
       "      <td id=\"T_b82c8_row2_col14\" class=\"data row2 col14\" >0.17%</td>\n",
       "    </tr>\n",
       "    <tr>\n",
       "      <th id=\"T_b82c8_level0_row3\" class=\"row_heading level0 row3\" >Sci/Tech</th>\n",
       "      <td id=\"T_b82c8_row3_col0\" class=\"data row3 col0\" >0.07%</td>\n",
       "      <td id=\"T_b82c8_row3_col1\" class=\"data row3 col1\" >0.08%</td>\n",
       "      <td id=\"T_b82c8_row3_col2\" class=\"data row3 col2\" >94.77%</td>\n",
       "      <td id=\"T_b82c8_row3_col3\" class=\"data row3 col3\" >0.06%</td>\n",
       "      <td id=\"T_b82c8_row3_col4\" class=\"data row3 col4\" >0.36%</td>\n",
       "      <td id=\"T_b82c8_row3_col5\" class=\"data row3 col5\" >95.61%</td>\n",
       "      <td id=\"T_b82c8_row3_col6\" class=\"data row3 col6\" >0.37%</td>\n",
       "      <td id=\"T_b82c8_row3_col7\" class=\"data row3 col7\" >0.18%</td>\n",
       "      <td id=\"T_b82c8_row3_col8\" class=\"data row3 col8\" >0.57%</td>\n",
       "      <td id=\"T_b82c8_row3_col9\" class=\"data row3 col9\" >1.04%</td>\n",
       "      <td id=\"T_b82c8_row3_col10\" class=\"data row3 col10\" >0.04%</td>\n",
       "      <td id=\"T_b82c8_row3_col11\" class=\"data row3 col11\" >99.15%</td>\n",
       "      <td id=\"T_b82c8_row3_col12\" class=\"data row3 col12\" >1.89%</td>\n",
       "      <td id=\"T_b82c8_row3_col13\" class=\"data row3 col13\" >10.65%</td>\n",
       "      <td id=\"T_b82c8_row3_col14\" class=\"data row3 col14\" >0.15%</td>\n",
       "    </tr>\n",
       "  </tbody>\n",
       "</table>\n"
      ],
      "text/plain": [
       "<pandas.io.formats.style.Styler at 0x219182f9ec8>"
      ]
     },
     "execution_count": 173,
     "metadata": {},
     "output_type": "execute_result"
    }
   ],
   "source": [
    "df = pd.DataFrame(preds_a2[0:15]\n",
    "                  ,columns = ['World','Sports','Business','Sci/Tech']).T\n",
    "df.style.format(\"{:.2%}\").background_gradient(cmap=cm)"
   ]
  }
 ],
 "metadata": {
  "accelerator": "GPU",
  "colab": {
   "collapsed_sections": [],
   "machine_shape": "hm",
   "name": "MSDS458_Assignment_03_20210619_DEV_v16.ipynb",
   "provenance": [],
   "toc_visible": true
  },
  "kernelspec": {
   "display_name": "Python 3 (ipykernel)",
   "language": "python",
   "name": "python3"
  },
  "language_info": {
   "codemirror_mode": {
    "name": "ipython",
    "version": 3
   },
   "file_extension": ".py",
   "mimetype": "text/x-python",
   "name": "python",
   "nbconvert_exporter": "python",
   "pygments_lexer": "ipython3",
   "version": "3.7.11"
  },
  "toc": {
   "base_numbering": 1,
   "nav_menu": {},
   "number_sections": false,
   "sideBar": true,
   "skip_h1_title": false,
   "title_cell": "Table of Contents",
   "title_sidebar": "Contents",
   "toc_cell": false,
   "toc_position": {},
   "toc_section_display": true,
   "toc_window_display": false
  }
 },
 "nbformat": 4,
 "nbformat_minor": 1
}
