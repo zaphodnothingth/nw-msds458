{
 "cells": [
  {
   "cell_type": "markdown",
   "metadata": {
    "id": "Cfh9kVB-rpjo"
   },
   "source": [
    "<img src=\"https://github.com/djp840/MSDS_458_Public/blob/master/images/NorthwesternHeader.png?raw=1\">"
   ]
  },
  {
   "cell_type": "markdown",
   "metadata": {
    "id": "pRAx1f1ir1St"
   },
   "source": [
    "## MSDS458 Research Assignment 3"
   ]
  },
  {
   "cell_type": "markdown",
   "metadata": {
    "id": "t-Jjr3rNr5PR"
   },
   "source": [
    "## Import packages "
   ]
  },
  {
   "cell_type": "code",
   "execution_count": 3,
   "metadata": {
    "id": "mbrX9qUZvfs1"
   },
   "outputs": [],
   "source": [
    "import datetime\n",
    "from packaging import version\n",
    "from collections import Counter\n",
    "import numpy as np\n",
    "import pandas as pd\n",
    "import time\n",
    "\n",
    "import matplotlib.pyplot as plt\n",
    "import matplotlib as mpl\n",
    "import seaborn as sns\n",
    "\n",
    "from sklearn.metrics import confusion_matrix, classification_report\n",
    "from sklearn.preprocessing import StandardScaler\n",
    "from sklearn.decomposition import PCA\n",
    "from sklearn.manifold import TSNE\n",
    "from sklearn.ensemble import RandomForestClassifier\n",
    "from sklearn.metrics import mean_squared_error as MSE\n",
    "from sklearn.metrics import accuracy_score\n",
    "\n",
    "import tensorflow as tf\n",
    "from tensorflow import keras\n",
    "import tensorflow_datasets as tfds"
   ]
  },
  {
   "cell_type": "code",
   "execution_count": 4,
   "metadata": {
    "id": "Rn-mj2I3yRRJ"
   },
   "outputs": [],
   "source": [
    "#tf.get_logger().setLevel('INFO')"
   ]
  },
  {
   "cell_type": "code",
   "execution_count": 5,
   "metadata": {
    "id": "q0H8HuzHrWwN"
   },
   "outputs": [],
   "source": [
    "%matplotlib inline\n",
    "np.set_printoptions(precision=3, suppress=True)"
   ]
  },
  {
   "cell_type": "markdown",
   "metadata": {
    "id": "iKucNfkrsqrP"
   },
   "source": [
    "### Verify TensorFlow Version and Keras Version"
   ]
  },
  {
   "cell_type": "code",
   "execution_count": 6,
   "metadata": {
    "colab": {
     "base_uri": "https://localhost:8080/"
    },
    "id": "g_BoGg9JrWzj",
    "outputId": "2370d763-86ee-4648-8d37-d631853ecf52"
   },
   "outputs": [
    {
     "name": "stdout",
     "output_type": "stream",
     "text": [
      "This notebook requires TensorFlow 2.0 or above\n",
      "TensorFlow version:  2.3.1\n"
     ]
    }
   ],
   "source": [
    "print(\"This notebook requires TensorFlow 2.0 or above\")\n",
    "print(\"TensorFlow version: \", tf.__version__)\n",
    "assert version.parse(tf.__version__).release[0] >=2"
   ]
  },
  {
   "cell_type": "code",
   "execution_count": 7,
   "metadata": {
    "colab": {
     "base_uri": "https://localhost:8080/"
    },
    "id": "U_bLWHP4rW3b",
    "outputId": "0c893013-01f5-44fe-fcb9-598cef6b8449"
   },
   "outputs": [
    {
     "name": "stdout",
     "output_type": "stream",
     "text": [
      "Keras version:  2.4.0\n"
     ]
    }
   ],
   "source": [
    "print(\"Keras version: \", keras.__version__)"
   ]
  },
  {
   "cell_type": "markdown",
   "metadata": {},
   "source": [
    "### Functions For Research Assignment "
   ]
  },
  {
   "cell_type": "code",
   "execution_count": 8,
   "metadata": {},
   "outputs": [],
   "source": [
    "def print_validation_report(test_labels, predictions):\n",
    "    print(\"Classification Report\")\n",
    "    print(classification_report(test_labels, predictions))\n",
    "    print('Accuracy Score: {}'.format(accuracy_score(test_labels, predictions)))\n",
    "    print('Root Mean Square Error: {}'.format(np.sqrt(MSE(test_labels, predictions)))) "
   ]
  },
  {
   "cell_type": "code",
   "execution_count": 9,
   "metadata": {},
   "outputs": [],
   "source": [
    "def plot_confusion_matrix(y_true, y_pred):\n",
    "    mtx = confusion_matrix(y_true, y_pred)\n",
    "    fig, ax = plt.subplots(figsize=(8,8))\n",
    "    sns.heatmap(mtx, annot=True, fmt='d', linewidths=.75,  cbar=False, ax=ax,cmap='Blues',linecolor='white')\n",
    "    #  square=True,\n",
    "    plt.ylabel('true label')\n",
    "    plt.xlabel('predicted label')"
   ]
  },
  {
   "cell_type": "code",
   "execution_count": 10,
   "metadata": {},
   "outputs": [],
   "source": [
    "def plot_graphs(history, metric):\n",
    "  plt.plot(history.history[metric])\n",
    "  plt.plot(history.history['val_'+metric], '')\n",
    "  plt.xlabel(\"Epochs\")\n",
    "  plt.ylabel(metric)\n",
    "  plt.legend([metric, 'val_'+metric])"
   ]
  },
  {
   "cell_type": "code",
   "execution_count": 11,
   "metadata": {
    "colab": {
     "base_uri": "https://localhost:8080/"
    },
    "id": "VNj2HSxNtTNS",
    "outputId": "ccb05e1b-1b3b-4a1a-89c3-a48ac934bbf3",
    "scrolled": true
   },
   "outputs": [
    {
     "name": "stderr",
     "output_type": "stream",
     "text": [
      "2022-02-20 16:59:54.539497: I tensorflow/stream_executor/platform/default/dso_loader.cc:48] Successfully opened dynamic library cudart64_101.dll\n",
      "W0220 16:59:59.043544 15160 download_and_prepare.py:43] ***`tfds build` should be used instead of `download_and_prepare`.***\n"
     ]
    },
    {
     "name": "stdout",
     "output_type": "stream",
     "text": [
      "INFO[build.py]: Loading dataset ag_news_subset from imports: tensorflow_datasets.text.ag_news_subset\n",
      "INFO[dataset_info.py]: Load dataset info from C:\\Users\\steve\\tensorflow_datasets\\ag_news_subset\\1.0.0\n",
      "INFO[build.py]: download_and_prepare for dataset ag_news_subset/1.0.0...\n",
      "INFO[dataset_builder.py]: Reusing dataset ag_news_subset (C:\\Users\\steve\\tensorflow_datasets\\ag_news_subset\\1.0.0)\n",
      "INFO[build.py]: Dataset generation complete...\n",
      "\n",
      "tfds.core.DatasetInfo(\n",
      "    name='ag_news_subset',\n",
      "    full_name='ag_news_subset/1.0.0',\n",
      "    description=\"\"\"\n",
      "    AG is a collection of more than 1 million news articles.\n",
      "    News articles have been gathered from more than 2000  news sources by ComeToMyHead in more than 1 year of activity.\n",
      "    ComeToMyHead is an academic news search engine which has been running since July, 2004.\n",
      "    The dataset is provided by the academic comunity for research purposes in data mining (clustering, classification, etc),\n",
      "    information retrieval (ranking, search, etc), xml, data compression, data streaming,\n",
      "    and any other non-commercial activity.\n",
      "    For more information, please refer to the link http://www.di.unipi.it/~gulli/AG_corpus_of_news_articles.html .\n",
      "    \n",
      "    The AG's news topic classification dataset is constructed by Xiang Zhang (xiang.zhang@nyu.edu) from the dataset above.\n",
      "    It is used as a text classification benchmark in the following paper:\n",
      "    Xiang Zhang, Junbo Zhao, Yann LeCun. Character-level Convolutional Networks for Text Classification. Advances in Neural Information Processing Systems 28 (NIPS 2015).\n",
      "    \n",
      "    The AG's news topic classification dataset is constructed by choosing 4 largest classes from the original corpus.\n",
      "    Each class contains 30,000 training samples and 1,900 testing samples.\n",
      "    The total number of training samples is 120,000 and testing 7,600.\n",
      "    \"\"\",\n",
      "    homepage='https://arxiv.org/abs/1509.01626',\n",
      "    data_path='C:\\\\Users\\\\steve\\\\tensorflow_datasets\\\\ag_news_subset\\\\1.0.0',\n",
      "    download_size=11.24 MiB,\n",
      "    dataset_size=35.79 MiB,\n",
      "    features=FeaturesDict({\n",
      "        'description': Text(shape=(), dtype=tf.string),\n",
      "        'label': ClassLabel(shape=(), dtype=tf.int64, num_classes=4),\n",
      "        'title': Text(shape=(), dtype=tf.string),\n",
      "    }),\n",
      "    supervised_keys=('description', 'label'),\n",
      "    disable_shuffling=False,\n",
      "    splits={\n",
      "        'test': <SplitInfo num_examples=7600, num_shards=1>,\n",
      "        'train': <SplitInfo num_examples=120000, num_shards=1>,\n",
      "    },\n",
      "    citation=\"\"\"@misc{zhang2015characterlevel,\n",
      "        title={Character-level Convolutional Networks for Text Classification},\n",
      "        author={Xiang Zhang and Junbo Zhao and Yann LeCun},\n",
      "        year={2015},\n",
      "        eprint={1509.01626},\n",
      "        archivePrefix={arXiv},\n",
      "        primaryClass={cs.LG}\n",
      "    }\"\"\",\n",
      ")\n",
      "\n"
     ]
    }
   ],
   "source": [
    "#register  ag_news_subset so that tfds.load doesn't generate a checksum (mismatch) error\n",
    "!python -m tensorflow_datasets.scripts.download_and_prepare --register_checksums --datasets=ag_news_subset\n",
    "\n",
    "# https://www.tensorflow.org/datasets/splits\n",
    "# The full `train` and `test` splits, interleaved together.\n",
    "ri = tfds.core.ReadInstruction('train') + tfds.core.ReadInstruction('test')\n",
    "dataset_all, info = tfds.load('ag_news_subset', with_info=True,  split=ri, as_supervised=True)"
   ]
  },
  {
   "cell_type": "code",
   "execution_count": 12,
   "metadata": {
    "colab": {
     "base_uri": "https://localhost:8080/"
    },
    "id": "fRbULmnCtTXo",
    "outputId": "4bd2c2a9-b63b-49c0-80da-081818f5da54"
   },
   "outputs": [
    {
     "data": {
      "text/plain": [
       "{0: 'World', 1: 'Sports', 2: 'Business', 3: 'Sci/Tech'}"
      ]
     },
     "execution_count": 12,
     "metadata": {},
     "output_type": "execute_result"
    }
   ],
   "source": [
    "# classes dictionary\n",
    "categories =dict(enumerate(info.features[\"label\"].names))\n",
    "categories"
   ]
  },
  {
   "cell_type": "markdown",
   "metadata": {
    "id": "xXQzudk9MmOs"
   },
   "source": [
    "The 127,600 news articles are evenly distributed among the 4 categories"
   ]
  },
  {
   "cell_type": "code",
   "execution_count": 13,
   "metadata": {
    "colab": {
     "base_uri": "https://localhost:8080/"
    },
    "id": "PRtOaULstTbJ",
    "outputId": "0cb930ec-b3a5-4790-880f-94a2ac6d3169"
   },
   "outputs": [
    {
     "data": {
      "text/plain": [
       "[('Sci/Tech', 31900), ('Sports', 31900), ('Business', 31900), ('World', 31900)]"
      ]
     },
     "execution_count": 13,
     "metadata": {},
     "output_type": "execute_result"
    }
   ],
   "source": [
    "train_categories = [categories[label] for label in dataset_all.map(lambda text, label: label).as_numpy_iterator()]\n",
    "Counter(train_categories).most_common()"
   ]
  },
  {
   "cell_type": "markdown",
   "metadata": {
    "id": "k6-1-zvxdS8f"
   },
   "source": [
    "We will use the tf.keras.layers.experimental.preprocessing.TextVectorization layer to transform each news article into a \"list\" of non-negative integers representing the tokens in the news article.\n",
    "\n",
    "For the purpose of training our models each such \"encoding\" will have a fixed length corresponding to the news article(s) with the most tokens. Shorter articles will be right-padded with zeros in the encoding. Also to speed up the training process, we will set max_tokens = 1000 so that words not in the vabulary set of top 1000 most common tokes are encoded as 1. But first we set max_tokens = None (which is the default value) in order to get the vocabulary size of the corpus.\n"
   ]
  },
  {
   "cell_type": "markdown",
   "metadata": {
    "id": "aEPOPb63RNjv"
   },
   "source": [
    "### Preprocessing Data Create Input Pipeline"
   ]
  },
  {
   "cell_type": "code",
   "execution_count": 21,
   "metadata": {
    "colab": {
     "base_uri": "https://localhost:8080/"
    },
    "id": "0_tU6cH0ncl0",
    "outputId": "d5481efe-d363-49c8-f7ee-66ed1f3dd85a",
    "scrolled": true
   },
   "outputs": [
    {
     "name": "stdout",
     "output_type": "stream",
     "text": [
      "INFO[build.py]: Loading dataset ag_news_subset from imports: tensorflow_datasets.text.ag_news_subset\n",
      "INFO[dataset_info.py]: Load dataset info from C:\\Users\\steve\\tensorflow_datasets\\ag_news_subset\\1.0.0\n",
      "INFO[build.py]: download_and_prepare for dataset ag_news_subset/1.0.0...\n",
      "INFO[dataset_builder.py]: Reusing dataset ag_news_subset (C:\\Users\\steve\\tensorflow_datasets\\ag_news_subset\\1.0.0)\n",
      "INFO[build.py]: Dataset generation complete...\n",
      "\n",
      "tfds.core.DatasetInfo(\n",
      "    name='ag_news_subset',\n",
      "    full_name='ag_news_subset/1.0.0',\n",
      "    description=\"\"\"\n",
      "    AG is a collection of more than 1 million news articles.\n",
      "    News articles have been gathered from more than 2000  news sources by ComeToMyHead in more than 1 year of activity.\n",
      "    ComeToMyHead is an academic news search engine which has been running since July, 2004.\n",
      "    The dataset is provided by the academic comunity for research purposes in data mining (clustering, classification, etc),\n",
      "    information retrieval (ranking, search, etc), xml, data compression, data streaming,\n",
      "    and any other non-commercial activity.\n",
      "    For more information, please refer to the link http://www.di.unipi.it/~gulli/AG_corpus_of_news_articles.html .\n",
      "    \n",
      "    The AG's news topic classification dataset is constructed by Xiang Zhang (xiang.zhang@nyu.edu) from the dataset above.\n",
      "    It is used as a text classification benchmark in the following paper:\n",
      "    Xiang Zhang, Junbo Zhao, Yann LeCun. Character-level Convolutional Networks for Text Classification. Advances in Neural Information Processing Systems 28 (NIPS 2015).\n",
      "    \n",
      "    The AG's news topic classification dataset is constructed by choosing 4 largest classes from the original corpus.\n",
      "    Each class contains 30,000 training samples and 1,900 testing samples.\n",
      "    The total number of training samples is 120,000 and testing 7,600.\n",
      "    \"\"\",\n",
      "    homepage='https://arxiv.org/abs/1509.01626',\n",
      "    data_path='C:\\\\Users\\\\steve\\\\tensorflow_datasets\\\\ag_news_subset\\\\1.0.0',\n",
      "    download_size=11.24 MiB,\n",
      "    dataset_size=35.79 MiB,\n",
      "    features=FeaturesDict({\n",
      "        'description': Text(shape=(), dtype=tf.string),\n",
      "        'label': ClassLabel(shape=(), dtype=tf.int64, num_classes=4),\n",
      "        'title': Text(shape=(), dtype=tf.string),\n",
      "    }),\n",
      "    supervised_keys=('description', 'label'),\n",
      "    disable_shuffling=False,\n",
      "    splits={\n",
      "        'test': <SplitInfo num_examples=7600, num_shards=1>,\n",
      "        'train': <SplitInfo num_examples=120000, num_shards=1>,\n",
      "    },\n",
      "    citation=\"\"\"@misc{zhang2015characterlevel,\n",
      "        title={Character-level Convolutional Networks for Text Classification},\n",
      "        author={Xiang Zhang and Junbo Zhao and Yann LeCun},\n",
      "        year={2015},\n",
      "        eprint={1509.01626},\n",
      "        archivePrefix={arXiv},\n",
      "        primaryClass={cs.LG}\n",
      "    }\"\"\",\n",
      ")\n",
      "\n"
     ]
    },
    {
     "name": "stderr",
     "output_type": "stream",
     "text": [
      "2022-02-20 17:08:00.644268: I tensorflow/stream_executor/platform/default/dso_loader.cc:48] Successfully opened dynamic library cudart64_101.dll\n",
      "W0220 17:08:05.174122 27208 download_and_prepare.py:43] ***`tfds build` should be used instead of `download_and_prepare`.***\n"
     ]
    }
   ],
   "source": [
    "# register  ag_news_subset so that tfds.load doesn't generate a checksum (mismatch) error\n",
    "!python -m tensorflow_datasets.scripts.download_and_prepare --register_checksums --datasets=ag_news_subset\n",
    "\n",
    "# Example Approaches to Split Data Set\n",
    "# dataset, info = tfds.load('ag_news_subset', with_info=True,  split=['train[:]','test[:1000]', 'test[1000:]'],\n",
    "dataset, info = tfds.load('ag_news_subset', with_info=True,  split=['train[:95%]','train[95%:]', 'test'],\n",
    "# dataset, info = tfds.load('ag_news_subset', with_info=True,  split=['train[:114000]','train[114000:]', 'test[:]'],\n",
    "                          as_supervised=True)\n",
    "train_dataset, validation_dataset, test_dataset = dataset\n",
    "# train_dataset, test_dataset = dataset['train'],dataset['test']"
   ]
  },
  {
   "cell_type": "code",
   "execution_count": 22,
   "metadata": {
    "id": "bRc-UUujdLD6"
   },
   "outputs": [],
   "source": [
    "####  Dataset Splits (Training, Test, Validation)\n",
    "#### .8934 Training, .0470 Test, .0596 Validation"
   ]
  },
  {
   "cell_type": "code",
   "execution_count": 23,
   "metadata": {
    "colab": {
     "base_uri": "https://localhost:8080/"
    },
    "id": "3TXXMh7Hdr47",
    "outputId": "8d70619b-443a-410c-f8cb-3c85c422a47f"
   },
   "outputs": [
    {
     "data": {
      "text/plain": [
       "(114000, 6000, 7600)"
      ]
     },
     "execution_count": 23,
     "metadata": {},
     "output_type": "execute_result"
    }
   ],
   "source": [
    "len(train_dataset),len(validation_dataset),len(test_dataset) \n",
    "# len(train_dataset),len(test_dataset) "
   ]
  },
  {
   "cell_type": "markdown",
   "metadata": {
    "id": "e3ISb8oinPnR"
   },
   "source": [
    "### Review Distribution of Categorical Labels for the 114000 training data (news articles)"
   ]
  },
  {
   "cell_type": "code",
   "execution_count": 24,
   "metadata": {
    "colab": {
     "base_uri": "https://localhost:8080/"
    },
    "id": "Itjr5Erroxv9",
    "outputId": "e428da54-6c6b-4c2f-cc4a-048e82a6c294"
   },
   "outputs": [
    {
     "data": {
      "text/plain": [
       "[('Business', 28531), ('Sports', 28495), ('World', 28491), ('Sci/Tech', 28483)]"
      ]
     },
     "execution_count": 24,
     "metadata": {},
     "output_type": "execute_result"
    }
   ],
   "source": [
    "from collections import Counter\n",
    "train_categories = [categories[label] for label in train_dataset.map(lambda text, label: label).as_numpy_iterator()]\n",
    "Counter(train_categories).most_common()"
   ]
  },
  {
   "cell_type": "markdown",
   "metadata": {
    "id": "z2qVJzcEluH_"
   },
   "source": [
    "#### Preprocessing Shuffle Data for Training and Create Batches of `(text, label)` pairs:"
   ]
  },
  {
   "cell_type": "code",
   "execution_count": 25,
   "metadata": {
    "id": "dDsCaZCDYZgm"
   },
   "outputs": [],
   "source": [
    "BUFFER_SIZE = 10000\n",
    "BATCH_SIZE = 64"
   ]
  },
  {
   "cell_type": "code",
   "execution_count": 26,
   "metadata": {
    "id": "VznrltNOnUc5"
   },
   "outputs": [],
   "source": [
    "train_dataset = train_dataset.shuffle(BUFFER_SIZE).batch(BATCH_SIZE).prefetch(tf.data.experimental.AUTOTUNE)\n",
    "validation_dataset = validation_dataset.shuffle(BUFFER_SIZE).batch(BATCH_SIZE).prefetch(tf.data.experimental.AUTOTUNE)\n",
    "test_dataset = test_dataset.batch(BATCH_SIZE).prefetch(tf.data.experimental.AUTOTUNE)"
   ]
  },
  {
   "cell_type": "code",
   "execution_count": 27,
   "metadata": {
    "id": "uC25Lu1Yvuqy"
   },
   "outputs": [],
   "source": [
    "VOCAB_SIZE=1000\n",
    "encoder = tf.keras.layers.experimental.preprocessing.TextVectorization(\n",
    "    max_tokens=VOCAB_SIZE)\n",
    "encoder.adapt(train_dataset.map(lambda text, label: text))"
   ]
  },
  {
   "cell_type": "code",
   "execution_count": 28,
   "metadata": {
    "colab": {
     "base_uri": "https://localhost:8080/"
    },
    "id": "s5tP4VcSkTvY",
    "outputId": "cbd87b1e-9391-48eb-eb76-495eafa35cdc"
   },
   "outputs": [
    {
     "data": {
      "text/plain": [
       "1000"
      ]
     },
     "execution_count": 28,
     "metadata": {},
     "output_type": "execute_result"
    }
   ],
   "source": [
    "vocab = np.array(encoder.get_vocabulary())\n",
    "len(vocab)"
   ]
  },
  {
   "cell_type": "code",
   "execution_count": 29,
   "metadata": {
    "colab": {
     "base_uri": "https://localhost:8080/"
    },
    "id": "tBoyjjWg0Ac9",
    "outputId": "04059e88-b36c-4c53-8dc0-300e598a0473"
   },
   "outputs": [
    {
     "data": {
      "text/plain": [
       "array(['', '[UNK]', 'the', 'a', 'to', 'of', 'in', 'and', 'on', 'for',\n",
       "       'that', '39s', 'with', 'its', 'as', 'at', 'is', 'said', 'by', 'it'],\n",
       "      dtype='<U14')"
      ]
     },
     "execution_count": 29,
     "metadata": {},
     "output_type": "execute_result"
    }
   ],
   "source": [
    "vocab = np.array(encoder.get_vocabulary())\n",
    "vocab[:20]"
   ]
  },
  {
   "cell_type": "markdown",
   "metadata": {
    "id": "-rPfbSyoruu3"
   },
   "source": [
    "Here are the 20 least frequent words."
   ]
  },
  {
   "cell_type": "markdown",
   "metadata": {
    "id": "bjUqGVBxGw-t"
   },
   "source": [
    "### Single Unidirectional RNN"
   ]
  },
  {
   "cell_type": "code",
   "execution_count": 30,
   "metadata": {
    "id": "LwfoBkmRYcP3"
   },
   "outputs": [],
   "source": [
    "num_classes = 4\n",
    "model = tf.keras.Sequential([\n",
    "                              encoder\n",
    "                              ,tf.keras.layers.Embedding(input_dim=len(encoder.get_vocabulary())\n",
    "                              ,output_dim=64\n",
    "                                # Use masking to handle the variable sequence lengths\n",
    "                              ,mask_zero=True)\n",
    "                              ,tf.keras.layers.SimpleRNN(64)\n",
    "                              ,tf.keras.layers.Dense(64, activation='relu')\n",
    "                              ,tf.keras.layers.Dense(num_classes,activation='softmax')   # num_classes = 4\n",
    "])"
   ]
  },
  {
   "cell_type": "code",
   "execution_count": 31,
   "metadata": {
    "id": "ZmWbBazIDe_-"
   },
   "outputs": [],
   "source": [
    "model.compile(optimizer=tf.keras.optimizers.Adam(1e-4)\n",
    "              ,loss=tf.keras.losses.SparseCategoricalCrossentropy() # if we set from_logits=True we don not have specify a softmax activation function in the last layer\n",
    "              ,metrics=['accuracy'])"
   ]
  },
  {
   "cell_type": "code",
   "execution_count": 32,
   "metadata": {
    "colab": {
     "base_uri": "https://localhost:8080/"
    },
    "id": "87a8-CwfKebw",
    "outputId": "ea133252-0000-4686-c7c5-1b9d21e4e011"
   },
   "outputs": [
    {
     "name": "stdout",
     "output_type": "stream",
     "text": [
      "[False, True, True, True, True]\n"
     ]
    }
   ],
   "source": [
    "print([layer.supports_masking for layer in model.layers])"
   ]
  },
  {
   "cell_type": "code",
   "execution_count": 33,
   "metadata": {
    "colab": {
     "base_uri": "https://localhost:8080/"
    },
    "id": "hw86wWS4YgR2",
    "outputId": "ff206c6d-224d-45fa-cd65-b34113b4e45c"
   },
   "outputs": [
    {
     "name": "stdout",
     "output_type": "stream",
     "text": [
      "Epoch 1/200\n",
      "1782/1782 [==============================] - 889s 499ms/step - loss: 0.9093 - accuracy: 0.5808 - val_loss: 0.5289 - val_accuracy: 0.8083\n",
      "Epoch 2/200\n",
      "1782/1782 [==============================] - 880s 494ms/step - loss: 0.4682 - accuracy: 0.8323 - val_loss: 0.4325 - val_accuracy: 0.8473\n",
      "Epoch 3/200\n",
      "1782/1782 [==============================] - 893s 501ms/step - loss: 0.4216 - accuracy: 0.8500 - val_loss: 0.4201 - val_accuracy: 0.8500\n",
      "Epoch 4/200\n",
      "1782/1782 [==============================] - 884s 496ms/step - loss: 0.4055 - accuracy: 0.8548 - val_loss: 0.4020 - val_accuracy: 0.8583\n",
      "Epoch 5/200\n",
      "1782/1782 [==============================] - 893s 501ms/step - loss: 0.3976 - accuracy: 0.8578 - val_loss: 0.4016 - val_accuracy: 0.8582\n",
      "Epoch 6/200\n",
      "1782/1782 [==============================] - 885s 497ms/step - loss: 0.3922 - accuracy: 0.8598 - val_loss: 0.4102 - val_accuracy: 0.8548\n"
     ]
    }
   ],
   "source": [
    "history = model.fit(train_dataset\n",
    "                    ,epochs = 200\n",
    "                    ,validation_data=validation_dataset\n",
    "                    ,callbacks=[tf.keras.callbacks.EarlyStopping(monitor='val_accuracy', patience=2)]\n",
    "                    )"
   ]
  },
  {
   "cell_type": "code",
   "execution_count": 34,
   "metadata": {
    "colab": {
     "base_uri": "https://localhost:8080/"
    },
    "id": "BaNbXi43YgUT",
    "outputId": "c1c62b58-d132-4dd6-9d8e-20a1a5521151"
   },
   "outputs": [
    {
     "name": "stdout",
     "output_type": "stream",
     "text": [
      "\n",
      "Model performance with training set\n",
      "1782/1782 [==============================] - 187s 105ms/step - loss: 0.3844 - accuracy: 0.8641\n",
      "\n",
      "Evaluating model performance with validation set\n",
      "94/94 [==============================] - 10s 107ms/step - loss: 0.4102 - accuracy: 0.8548\n",
      "\n",
      "Evaluating model performance with test set\n",
      "119/119 [==============================] - 13s 113ms/step - loss: 0.4292 - accuracy: 0.8472\n"
     ]
    },
    {
     "data": {
      "text/plain": [
       "[0.4292408227920532, 0.8472368717193604]"
      ]
     },
     "execution_count": 34,
     "metadata": {},
     "output_type": "execute_result"
    }
   ],
   "source": [
    "print('\\nModel performance with training set')\n",
    "model.evaluate(train_dataset)\n",
    "\n",
    "print('\\nEvaluating model performance with validation set')\n",
    "model.evaluate(validation_dataset)\n",
    "\n",
    "print('\\nEvaluating model performance with test set')\n",
    "model.evaluate(test_dataset)"
   ]
  },
  {
   "cell_type": "code",
   "execution_count": 35,
   "metadata": {
    "colab": {
     "base_uri": "https://localhost:8080/"
    },
    "id": "KVd7MMCoOjMp",
    "outputId": "0469b445-4f5b-42bf-eaaf-f5b589e695f9"
   },
   "outputs": [
    {
     "name": "stdout",
     "output_type": "stream",
     "text": [
      "Model: \"sequential\"\n",
      "_________________________________________________________________\n",
      "Layer (type)                 Output Shape              Param #   \n",
      "=================================================================\n",
      "text_vectorization_2 (TextVe (None, None)              0         \n",
      "_________________________________________________________________\n",
      "embedding (Embedding)        (None, None, 64)          64000     \n",
      "_________________________________________________________________\n",
      "simple_rnn (SimpleRNN)       (None, 64)                8256      \n",
      "_________________________________________________________________\n",
      "dense (Dense)                (None, 64)                4160      \n",
      "_________________________________________________________________\n",
      "dense_1 (Dense)              (None, 4)                 260       \n",
      "=================================================================\n",
      "Total params: 76,676\n",
      "Trainable params: 76,676\n",
      "Non-trainable params: 0\n",
      "_________________________________________________________________\n"
     ]
    }
   ],
   "source": [
    "model.summary()"
   ]
  },
  {
   "cell_type": "code",
   "execution_count": 36,
   "metadata": {
    "colab": {
     "base_uri": "https://localhost:8080/"
    },
    "id": "HzEOTxsc1JTJ",
    "outputId": "2be08095-1e09-4843-ddd0-6e489616cefd"
   },
   "outputs": [
    {
     "data": {
      "text/plain": [
       "dict_keys(['loss', 'accuracy', 'val_loss', 'val_accuracy'])"
      ]
     },
     "execution_count": 36,
     "metadata": {},
     "output_type": "execute_result"
    }
   ],
   "source": [
    "history_dict = history.history\n",
    "history_dict.keys()"
   ]
  },
  {
   "cell_type": "code",
   "execution_count": 37,
   "metadata": {
    "colab": {
     "base_uri": "https://localhost:8080/",
     "height": 206
    },
    "id": "2VV8VwoA1Je1",
    "outputId": "2ded4b6d-390e-4d12-c485-6c234cae6c2a"
   },
   "outputs": [
    {
     "data": {
      "text/html": [
       "<div>\n",
       "<style scoped>\n",
       "    .dataframe tbody tr th:only-of-type {\n",
       "        vertical-align: middle;\n",
       "    }\n",
       "\n",
       "    .dataframe tbody tr th {\n",
       "        vertical-align: top;\n",
       "    }\n",
       "\n",
       "    .dataframe thead th {\n",
       "        text-align: right;\n",
       "    }\n",
       "</style>\n",
       "<table border=\"1\" class=\"dataframe\">\n",
       "  <thead>\n",
       "    <tr style=\"text-align: right;\">\n",
       "      <th></th>\n",
       "      <th>loss</th>\n",
       "      <th>accuracy</th>\n",
       "      <th>val_loss</th>\n",
       "      <th>val_accuracy</th>\n",
       "    </tr>\n",
       "  </thead>\n",
       "  <tbody>\n",
       "    <tr>\n",
       "      <th>0</th>\n",
       "      <td>0.909</td>\n",
       "      <td>0.581</td>\n",
       "      <td>0.529</td>\n",
       "      <td>0.808</td>\n",
       "    </tr>\n",
       "    <tr>\n",
       "      <th>1</th>\n",
       "      <td>0.468</td>\n",
       "      <td>0.832</td>\n",
       "      <td>0.433</td>\n",
       "      <td>0.847</td>\n",
       "    </tr>\n",
       "    <tr>\n",
       "      <th>2</th>\n",
       "      <td>0.422</td>\n",
       "      <td>0.850</td>\n",
       "      <td>0.420</td>\n",
       "      <td>0.850</td>\n",
       "    </tr>\n",
       "    <tr>\n",
       "      <th>3</th>\n",
       "      <td>0.406</td>\n",
       "      <td>0.855</td>\n",
       "      <td>0.402</td>\n",
       "      <td>0.858</td>\n",
       "    </tr>\n",
       "    <tr>\n",
       "      <th>4</th>\n",
       "      <td>0.398</td>\n",
       "      <td>0.858</td>\n",
       "      <td>0.402</td>\n",
       "      <td>0.858</td>\n",
       "    </tr>\n",
       "    <tr>\n",
       "      <th>5</th>\n",
       "      <td>0.392</td>\n",
       "      <td>0.860</td>\n",
       "      <td>0.410</td>\n",
       "      <td>0.855</td>\n",
       "    </tr>\n",
       "  </tbody>\n",
       "</table>\n",
       "</div>"
      ],
      "text/plain": [
       "    loss  accuracy  val_loss  val_accuracy\n",
       "0  0.909     0.581     0.529         0.808\n",
       "1  0.468     0.832     0.433         0.847\n",
       "2  0.422     0.850     0.420         0.850\n",
       "3  0.406     0.855     0.402         0.858\n",
       "4  0.398     0.858     0.402         0.858\n",
       "5  0.392     0.860     0.410         0.855"
      ]
     },
     "execution_count": 37,
     "metadata": {},
     "output_type": "execute_result"
    }
   ],
   "source": [
    "history_df=pd.DataFrame(history_dict)\n",
    "history_df.tail(10).round(3)"
   ]
  },
  {
   "cell_type": "code",
   "execution_count": 38,
   "metadata": {
    "id": "NvA2u5do1JqA"
   },
   "outputs": [],
   "source": [
    "losses = history.history['loss']\n",
    "accs = history.history['accuracy']\n",
    "val_losses = history.history['val_loss']\n",
    "val_accs = history.history['val_accuracy']\n",
    "epochs = len(losses)"
   ]
  },
  {
   "cell_type": "code",
   "execution_count": 39,
   "metadata": {
    "colab": {
     "base_uri": "https://localhost:8080/",
     "height": 265
    },
    "id": "JGoRjq2T1SUp",
    "outputId": "ba97450a-6af3-4584-8c9f-e31ad054da55",
    "scrolled": true
   },
   "outputs": [
    {
     "data": {
      "image/png": "[encoded data removed]",
      "text/plain": [
       "<Figure size 1152x288 with 2 Axes>"
      ]
     },
     "metadata": {
      "needs_background": "light"
     },
     "output_type": "display_data"
    }
   ],
   "source": [
    "plt.figure(figsize=(16, 4))\n",
    "for i, metrics in enumerate(zip([losses, accs], [val_losses, val_accs], ['Loss', 'Accuracy'])):\n",
    "    plt.subplot(1, 2, i + 1)\n",
    "    plt.plot(range(epochs), metrics[0], label='Training {}'.format(metrics[2]))\n",
    "    plt.plot(range(epochs), metrics[1], label='Validation {}'.format(metrics[2]))\n",
    "    plt.legend()\n",
    "plt.show()"
   ]
  },
  {
   "cell_type": "code",
   "execution_count": 40,
   "metadata": {
    "colab": {
     "base_uri": "https://localhost:8080/",
     "height": 644
    },
    "id": "2o0oUFPAOjht",
    "outputId": "4cbffb95-d019-4bb2-c5b7-8c9fdd15e34f"
   },
   "outputs": [
    {
     "name": "stdout",
     "output_type": "stream",
     "text": [
      "('Failed to import pydot. You must `pip install pydot` and install graphviz (https://graphviz.gitlab.io/download/), ', 'for `pydotprint` to work.')\n"
     ]
    }
   ],
   "source": [
    "keras.utils.plot_model(model, \"BiDirectionalLSTM.png\", show_shapes=True)"
   ]
  },
  {
   "cell_type": "markdown",
   "metadata": {
    "id": "7g1evcaRpTKm"
   },
   "source": [
    "## Stack two or more layers - Dual unidirectional rnn"
   ]
  },
  {
   "cell_type": "code",
   "execution_count": 42,
   "metadata": {
    "id": "jo1jjO3vn0jo"
   },
   "outputs": [],
   "source": [
    "model2 = tf.keras.Sequential([\n",
    "                              encoder\n",
    "                              ,tf.keras.layers.Embedding(len(encoder.get_vocabulary()), 64, mask_zero=True)\n",
    "                              ,tf.keras.layers.SimpleRNN(64, return_sequences=True)\n",
    "                              ,tf.keras.layers.SimpleRNN(64)\n",
    "                              ,tf.keras.layers.Dense(64, activation='relu')\n",
    "                              ,tf.keras.layers.Dropout(0.5)\n",
    "                              ,tf.keras.layers.Dense(num_classes,activation='softmax')   # not binary since there are num_classes categories\n",
    "])"
   ]
  },
  {
   "cell_type": "markdown",
   "metadata": {
    "id": "iukhoA9vR7gx"
   },
   "source": [
    "<div class=\"alert alert-block alert-info\">\n",
    "<b>tf.keras.losses.SparseCategoricalCrossentropy</b><br>\n",
    "https://www.tensorflow.org/api_docs/python/tf/keras/losses/SparseCategoricalCrossentropy</div>"
   ]
  },
  {
   "cell_type": "code",
   "execution_count": 43,
   "metadata": {
    "id": "_zjWuJesR72x"
   },
   "outputs": [],
   "source": [
    "model2.compile(optimizer='adam'\n",
    "              ,loss=tf.keras.losses.SparseCategoricalCrossentropy() # if we set from_logits=True we do not have specify a softmax activation function in the last layer\n",
    "              ,metrics=['accuracy'])"
   ]
  },
  {
   "cell_type": "code",
   "execution_count": 44,
   "metadata": {
    "colab": {
     "base_uri": "https://localhost:8080/"
    },
    "id": "LeSE-YjdqAeN",
    "outputId": "065043bf-ceaf-4bad-c26a-77c41cb31bf1"
   },
   "outputs": [
    {
     "name": "stdout",
     "output_type": "stream",
     "text": [
      "Epoch 1/200\n",
      "1782/1782 [==============================] - 1746s 980ms/step - loss: 0.6261 - accuracy: 0.7675 - val_loss: 0.4703 - val_accuracy: 0.8328\n",
      "Epoch 2/200\n",
      "1782/1782 [==============================] - 1732s 972ms/step - loss: 0.5017 - accuracy: 0.8294 - val_loss: 0.4917 - val_accuracy: 0.8208\n",
      "Epoch 3/200\n",
      "1782/1782 [==============================] - 1741s 977ms/step - loss: 0.4818 - accuracy: 0.8370 - val_loss: 0.4498 - val_accuracy: 0.8458\n",
      "Epoch 4/200\n",
      "1782/1782 [==============================] - 1692s 950ms/step - loss: 0.4826 - accuracy: 0.8357 - val_loss: 0.4941 - val_accuracy: 0.8281\n",
      "Epoch 5/200\n",
      "1782/1782 [==============================] - 480s 269ms/step - loss: 0.4607 - accuracy: 0.8433 - val_loss: 0.4592 - val_accuracy: 0.8411\n"
     ]
    }
   ],
   "source": [
    "history2 = model2.fit(train_dataset\n",
    "                    ,epochs=200\n",
    "                    ,validation_data=validation_dataset\n",
    "                    ,validation_steps=30\n",
    "                    ,callbacks=[tf.keras.callbacks.EarlyStopping(monitor='val_accuracy', patience=2)]\n",
    "                    )"
   ]
  },
  {
   "cell_type": "code",
   "execution_count": 45,
   "metadata": {
    "colab": {
     "base_uri": "https://localhost:8080/"
    },
    "id": "_LdwilM1qPM3",
    "outputId": "11a6921f-8005-4429-d62e-09d4ca6a6512"
   },
   "outputs": [
    {
     "name": "stdout",
     "output_type": "stream",
     "text": [
      "\n",
      "Model performance with training set\n",
      "1782/1782 [==============================] - 75s 42ms/step - loss: 0.3797 - accuracy: 0.8665\n",
      "\n",
      "Evaluating model performance with validation set\n",
      "94/94 [==============================] - 4s 40ms/step - loss: 0.4513 - accuracy: 0.8452\n",
      "\n",
      "Evaluating model performance with test set\n",
      "119/119 [==============================] - 5s 43ms/step - loss: 0.4623 - accuracy: 0.8411\n"
     ]
    },
    {
     "data": {
      "text/plain": [
       "[0.4622765779495239, 0.8410526514053345]"
      ]
     },
     "execution_count": 45,
     "metadata": {},
     "output_type": "execute_result"
    }
   ],
   "source": [
    "print('\\nModel performance with training set')\n",
    "model2.evaluate(train_dataset)\n",
    "\n",
    "print('\\nEvaluating model performance with validation set')\n",
    "model2.evaluate(validation_dataset)\n",
    "\n",
    "print('\\nEvaluating model performance with test set')\n",
    "model2.evaluate(test_dataset)"
   ]
  },
  {
   "cell_type": "code",
   "execution_count": 46,
   "metadata": {
    "colab": {
     "base_uri": "https://localhost:8080/"
    },
    "id": "l5Wa2bx7Suny",
    "outputId": "2d185881-ccbe-4923-e445-33c197795bf8"
   },
   "outputs": [
    {
     "data": {
      "text/plain": [
       "dict_keys(['loss', 'accuracy', 'val_loss', 'val_accuracy'])"
      ]
     },
     "execution_count": 46,
     "metadata": {},
     "output_type": "execute_result"
    }
   ],
   "source": [
    "history_dict2 = history2.history\n",
    "history_dict2.keys()"
   ]
  },
  {
   "cell_type": "code",
   "execution_count": 47,
   "metadata": {
    "colab": {
     "base_uri": "https://localhost:8080/",
     "height": 206
    },
    "id": "cwzqjLbrSurM",
    "outputId": "92494400-336c-41d5-a5fb-056d55752b5c"
   },
   "outputs": [
    {
     "data": {
      "text/html": [
       "<div>\n",
       "<style scoped>\n",
       "    .dataframe tbody tr th:only-of-type {\n",
       "        vertical-align: middle;\n",
       "    }\n",
       "\n",
       "    .dataframe tbody tr th {\n",
       "        vertical-align: top;\n",
       "    }\n",
       "\n",
       "    .dataframe thead th {\n",
       "        text-align: right;\n",
       "    }\n",
       "</style>\n",
       "<table border=\"1\" class=\"dataframe\">\n",
       "  <thead>\n",
       "    <tr style=\"text-align: right;\">\n",
       "      <th></th>\n",
       "      <th>loss</th>\n",
       "      <th>accuracy</th>\n",
       "      <th>val_loss</th>\n",
       "      <th>val_accuracy</th>\n",
       "    </tr>\n",
       "  </thead>\n",
       "  <tbody>\n",
       "    <tr>\n",
       "      <th>0</th>\n",
       "      <td>0.626</td>\n",
       "      <td>0.768</td>\n",
       "      <td>0.470</td>\n",
       "      <td>0.833</td>\n",
       "    </tr>\n",
       "    <tr>\n",
       "      <th>1</th>\n",
       "      <td>0.502</td>\n",
       "      <td>0.829</td>\n",
       "      <td>0.492</td>\n",
       "      <td>0.821</td>\n",
       "    </tr>\n",
       "    <tr>\n",
       "      <th>2</th>\n",
       "      <td>0.482</td>\n",
       "      <td>0.837</td>\n",
       "      <td>0.450</td>\n",
       "      <td>0.846</td>\n",
       "    </tr>\n",
       "    <tr>\n",
       "      <th>3</th>\n",
       "      <td>0.483</td>\n",
       "      <td>0.836</td>\n",
       "      <td>0.494</td>\n",
       "      <td>0.828</td>\n",
       "    </tr>\n",
       "    <tr>\n",
       "      <th>4</th>\n",
       "      <td>0.461</td>\n",
       "      <td>0.843</td>\n",
       "      <td>0.459</td>\n",
       "      <td>0.841</td>\n",
       "    </tr>\n",
       "  </tbody>\n",
       "</table>\n",
       "</div>"
      ],
      "text/plain": [
       "    loss  accuracy  val_loss  val_accuracy\n",
       "0  0.626     0.768     0.470         0.833\n",
       "1  0.502     0.829     0.492         0.821\n",
       "2  0.482     0.837     0.450         0.846\n",
       "3  0.483     0.836     0.494         0.828\n",
       "4  0.461     0.843     0.459         0.841"
      ]
     },
     "execution_count": 47,
     "metadata": {},
     "output_type": "execute_result"
    }
   ],
   "source": [
    "history2_df=pd.DataFrame(history_dict2)\n",
    "history2_df.tail().round(3)"
   ]
  },
  {
   "cell_type": "code",
   "execution_count": 48,
   "metadata": {
    "id": "5CrnwjN7Suu5"
   },
   "outputs": [],
   "source": [
    "losses = history2.history['loss']\n",
    "accs = history2.history['accuracy']\n",
    "val_losses = history2.history['val_loss']\n",
    "val_accs = history2.history['val_accuracy']\n",
    "epochs = len(losses)"
   ]
  },
  {
   "cell_type": "code",
   "execution_count": 49,
   "metadata": {
    "colab": {
     "base_uri": "https://localhost:8080/",
     "height": 265
    },
    "id": "Uw20TBZxSuye",
    "outputId": "e1dc3026-a47f-4e3c-c311-b0e285caf89c"
   },
   "outputs": [
    {
     "data": {
      "image/png": "[encoded data removed]",
      "text/plain": [
       "<Figure size 1152x288 with 2 Axes>"
      ]
     },
     "metadata": {
      "needs_background": "light"
     },
     "output_type": "display_data"
    }
   ],
   "source": [
    "plt.figure(figsize=(16, 4))\n",
    "for i, metrics in enumerate(zip([losses, accs], [val_losses, val_accs], ['Loss', 'Accuracy'])):\n",
    "    plt.subplot(1, 2, i + 1)\n",
    "    plt.plot(range(epochs), metrics[0], label='Training {}'.format(metrics[2]))\n",
    "    plt.plot(range(epochs), metrics[1], label='Validation {}'.format(metrics[2]))\n",
    "    plt.legend()\n",
    "plt.show()"
   ]
  },
  {
   "cell_type": "code",
   "execution_count": 50,
   "metadata": {
    "id": "TaRFsKvJyRRv"
   },
   "outputs": [],
   "source": [
    "preds = model.predict(test_dataset)"
   ]
  },
  {
   "cell_type": "code",
   "execution_count": 51,
   "metadata": {
    "colab": {
     "base_uri": "https://localhost:8080/"
    },
    "id": "38sM3BdNyRRv",
    "outputId": "224571b1-e68e-44a9-c62a-8f8073010fa9"
   },
   "outputs": [
    {
     "data": {
      "text/plain": [
       "(7600, 4)"
      ]
     },
     "execution_count": 51,
     "metadata": {},
     "output_type": "execute_result"
    }
   ],
   "source": [
    "preds.shape"
   ]
  },
  {
   "cell_type": "code",
   "execution_count": 52,
   "metadata": {
    "id": "HLEVza9CyRRw"
   },
   "outputs": [],
   "source": [
    "cm = sns.light_palette((260, 75, 60), input=\"husl\", as_cmap=True)"
   ]
  },
  {
   "cell_type": "code",
   "execution_count": 53,
   "metadata": {
    "colab": {
     "base_uri": "https://localhost:8080/",
     "height": 121
    },
    "id": "QJ4Zct-xyRRw",
    "outputId": "effd38ba-f989-4053-bee6-b5d96842e81d"
   },
   "outputs": [
    {
     "data": {
      "text/html": [
       "<style type=\"text/css\">\n",
       "#T_2328f_row0_col0, #T_2328f_row0_col5, #T_2328f_row3_col12 {\n",
       "  background-color: #f0f0f2;\n",
       "  color: #000000;\n",
       "}\n",
       "#T_2328f_row0_col1, #T_2328f_row0_col4, #T_2328f_row0_col8, #T_2328f_row0_col10, #T_2328f_row0_col13, #T_2328f_row0_col14, #T_2328f_row1_col0, #T_2328f_row1_col3, #T_2328f_row1_col6, #T_2328f_row1_col7, #T_2328f_row2_col9, #T_2328f_row2_col12, #T_2328f_row3_col2, #T_2328f_row3_col5, #T_2328f_row3_col11 {\n",
       "  background-color: #778ce4;\n",
       "  color: #f1f1f1;\n",
       "}\n",
       "#T_2328f_row0_col2, #T_2328f_row0_col11, #T_2328f_row1_col1, #T_2328f_row1_col2, #T_2328f_row1_col4, #T_2328f_row1_col5, #T_2328f_row1_col8, #T_2328f_row1_col9, #T_2328f_row1_col10, #T_2328f_row1_col12, #T_2328f_row1_col13, #T_2328f_row1_col14, #T_2328f_row2_col0, #T_2328f_row2_col1, #T_2328f_row2_col3, #T_2328f_row2_col4, #T_2328f_row2_col6, #T_2328f_row2_col7, #T_2328f_row2_col10, #T_2328f_row2_col14, #T_2328f_row3_col0, #T_2328f_row3_col1, #T_2328f_row3_col3, #T_2328f_row3_col4, #T_2328f_row3_col6, #T_2328f_row3_col10, #T_2328f_row3_col14 {\n",
       "  background-color: #f0f1f2;\n",
       "  color: #000000;\n",
       "}\n",
       "#T_2328f_row0_col3 {\n",
       "  background-color: #edeef2;\n",
       "  color: #000000;\n",
       "}\n",
       "#T_2328f_row0_col6, #T_2328f_row2_col8 {\n",
       "  background-color: #efeff2;\n",
       "  color: #000000;\n",
       "}\n",
       "#T_2328f_row0_col7 {\n",
       "  background-color: #b8c1eb;\n",
       "  color: #000000;\n",
       "}\n",
       "#T_2328f_row0_col9 {\n",
       "  background-color: #e8e9f1;\n",
       "  color: #000000;\n",
       "}\n",
       "#T_2328f_row0_col12 {\n",
       "  background-color: #eff0f2;\n",
       "  color: #000000;\n",
       "}\n",
       "#T_2328f_row1_col11, #T_2328f_row2_col11 {\n",
       "  background-color: #eeeff2;\n",
       "  color: #000000;\n",
       "}\n",
       "#T_2328f_row2_col2, #T_2328f_row2_col13, #T_2328f_row3_col7 {\n",
       "  background-color: #ecedf2;\n",
       "  color: #000000;\n",
       "}\n",
       "#T_2328f_row2_col5 {\n",
       "  background-color: #d7dbef;\n",
       "  color: #000000;\n",
       "}\n",
       "#T_2328f_row3_col8 {\n",
       "  background-color: #ebecf2;\n",
       "  color: #000000;\n",
       "}\n",
       "#T_2328f_row3_col9 {\n",
       "  background-color: #c3cbed;\n",
       "  color: #000000;\n",
       "}\n",
       "#T_2328f_row3_col13 {\n",
       "  background-color: #dce0f0;\n",
       "  color: #000000;\n",
       "}\n",
       "</style>\n",
       "<table id=\"T_2328f_\">\n",
       "  <thead>\n",
       "    <tr>\n",
       "      <th class=\"blank level0\" >&nbsp;</th>\n",
       "      <th class=\"col_heading level0 col0\" >0</th>\n",
       "      <th class=\"col_heading level0 col1\" >1</th>\n",
       "      <th class=\"col_heading level0 col2\" >2</th>\n",
       "      <th class=\"col_heading level0 col3\" >3</th>\n",
       "      <th class=\"col_heading level0 col4\" >4</th>\n",
       "      <th class=\"col_heading level0 col5\" >5</th>\n",
       "      <th class=\"col_heading level0 col6\" >6</th>\n",
       "      <th class=\"col_heading level0 col7\" >7</th>\n",
       "      <th class=\"col_heading level0 col8\" >8</th>\n",
       "      <th class=\"col_heading level0 col9\" >9</th>\n",
       "      <th class=\"col_heading level0 col10\" >10</th>\n",
       "      <th class=\"col_heading level0 col11\" >11</th>\n",
       "      <th class=\"col_heading level0 col12\" >12</th>\n",
       "      <th class=\"col_heading level0 col13\" >13</th>\n",
       "      <th class=\"col_heading level0 col14\" >14</th>\n",
       "    </tr>\n",
       "  </thead>\n",
       "  <tbody>\n",
       "    <tr>\n",
       "      <th id=\"T_2328f_level0_row0\" class=\"row_heading level0 row0\" >World</th>\n",
       "      <td id=\"T_2328f_row0_col0\" class=\"data row0 col0\" >0.77%</td>\n",
       "      <td id=\"T_2328f_row0_col1\" class=\"data row0 col1\" >99.77%</td>\n",
       "      <td id=\"T_2328f_row0_col2\" class=\"data row0 col2\" >0.03%</td>\n",
       "      <td id=\"T_2328f_row0_col3\" class=\"data row0 col3\" >2.96%</td>\n",
       "      <td id=\"T_2328f_row0_col4\" class=\"data row0 col4\" >99.19%</td>\n",
       "      <td id=\"T_2328f_row0_col5\" class=\"data row0 col5\" >0.68%</td>\n",
       "      <td id=\"T_2328f_row0_col6\" class=\"data row0 col6\" >1.64%</td>\n",
       "      <td id=\"T_2328f_row0_col7\" class=\"data row0 col7\" >30.98%</td>\n",
       "      <td id=\"T_2328f_row0_col8\" class=\"data row0 col8\" >92.92%</td>\n",
       "      <td id=\"T_2328f_row0_col9\" class=\"data row0 col9\" >5.10%</td>\n",
       "      <td id=\"T_2328f_row0_col10\" class=\"data row0 col10\" >99.84%</td>\n",
       "      <td id=\"T_2328f_row0_col11\" class=\"data row0 col11\" >0.59%</td>\n",
       "      <td id=\"T_2328f_row0_col12\" class=\"data row0 col12\" >1.02%</td>\n",
       "      <td id=\"T_2328f_row0_col13\" class=\"data row0 col13\" >76.72%</td>\n",
       "      <td id=\"T_2328f_row0_col14\" class=\"data row0 col14\" >99.34%</td>\n",
       "    </tr>\n",
       "    <tr>\n",
       "      <th id=\"T_2328f_level0_row1\" class=\"row_heading level0 row1\" >Sports</th>\n",
       "      <td id=\"T_2328f_row1_col0\" class=\"data row1 col0\" >99.15%</td>\n",
       "      <td id=\"T_2328f_row1_col1\" class=\"data row1 col1\" >0.01%</td>\n",
       "      <td id=\"T_2328f_row1_col2\" class=\"data row1 col2\" >0.00%</td>\n",
       "      <td id=\"T_2328f_row1_col3\" class=\"data row1 col3\" >96.73%</td>\n",
       "      <td id=\"T_2328f_row1_col4\" class=\"data row1 col4\" >0.05%</td>\n",
       "      <td id=\"T_2328f_row1_col5\" class=\"data row1 col5\" >0.16%</td>\n",
       "      <td id=\"T_2328f_row1_col6\" class=\"data row1 col6\" >97.72%</td>\n",
       "      <td id=\"T_2328f_row1_col7\" class=\"data row1 col7\" >65.77%</td>\n",
       "      <td id=\"T_2328f_row1_col8\" class=\"data row1 col8\" >0.52%</td>\n",
       "      <td id=\"T_2328f_row1_col9\" class=\"data row1 col9\" >0.06%</td>\n",
       "      <td id=\"T_2328f_row1_col10\" class=\"data row1 col10\" >0.01%</td>\n",
       "      <td id=\"T_2328f_row1_col11\" class=\"data row1 col11\" >2.27%</td>\n",
       "      <td id=\"T_2328f_row1_col12\" class=\"data row1 col12\" >0.03%</td>\n",
       "      <td id=\"T_2328f_row1_col13\" class=\"data row1 col13\" >2.71%</td>\n",
       "      <td id=\"T_2328f_row1_col14\" class=\"data row1 col14\" >0.02%</td>\n",
       "    </tr>\n",
       "    <tr>\n",
       "      <th id=\"T_2328f_level0_row2\" class=\"row_heading level0 row2\" >Business</th>\n",
       "      <td id=\"T_2328f_row2_col0\" class=\"data row2 col0\" >0.05%</td>\n",
       "      <td id=\"T_2328f_row2_col1\" class=\"data row2 col1\" >0.11%</td>\n",
       "      <td id=\"T_2328f_row2_col2\" class=\"data row2 col2\" >3.14%</td>\n",
       "      <td id=\"T_2328f_row2_col3\" class=\"data row2 col3\" >0.19%</td>\n",
       "      <td id=\"T_2328f_row2_col4\" class=\"data row2 col4\" >0.35%</td>\n",
       "      <td id=\"T_2328f_row2_col5\" class=\"data row2 col5\" >17.58%</td>\n",
       "      <td id=\"T_2328f_row2_col6\" class=\"data row2 col6\" >0.19%</td>\n",
       "      <td id=\"T_2328f_row2_col7\" class=\"data row2 col7\" >0.58%</td>\n",
       "      <td id=\"T_2328f_row2_col8\" class=\"data row2 col8\" >1.91%</td>\n",
       "      <td id=\"T_2328f_row2_col9\" class=\"data row2 col9\" >68.88%</td>\n",
       "      <td id=\"T_2328f_row2_col10\" class=\"data row2 col10\" >0.08%</td>\n",
       "      <td id=\"T_2328f_row2_col11\" class=\"data row2 col11\" >2.25%</td>\n",
       "      <td id=\"T_2328f_row2_col12\" class=\"data row2 col12\" >98.46%</td>\n",
       "      <td id=\"T_2328f_row2_col13\" class=\"data row2 col13\" >5.59%</td>\n",
       "      <td id=\"T_2328f_row2_col14\" class=\"data row2 col14\" >0.28%</td>\n",
       "    </tr>\n",
       "    <tr>\n",
       "      <th id=\"T_2328f_level0_row3\" class=\"row_heading level0 row3\" >Sci/Tech</th>\n",
       "      <td id=\"T_2328f_row3_col0\" class=\"data row3 col0\" >0.04%</td>\n",
       "      <td id=\"T_2328f_row3_col1\" class=\"data row3 col1\" >0.11%</td>\n",
       "      <td id=\"T_2328f_row3_col2\" class=\"data row3 col2\" >96.82%</td>\n",
       "      <td id=\"T_2328f_row3_col3\" class=\"data row3 col3\" >0.12%</td>\n",
       "      <td id=\"T_2328f_row3_col4\" class=\"data row3 col4\" >0.42%</td>\n",
       "      <td id=\"T_2328f_row3_col5\" class=\"data row3 col5\" >81.58%</td>\n",
       "      <td id=\"T_2328f_row3_col6\" class=\"data row3 col6\" >0.45%</td>\n",
       "      <td id=\"T_2328f_row3_col7\" class=\"data row3 col7\" >2.66%</td>\n",
       "      <td id=\"T_2328f_row3_col8\" class=\"data row3 col8\" >4.65%</td>\n",
       "      <td id=\"T_2328f_row3_col9\" class=\"data row3 col9\" >25.96%</td>\n",
       "      <td id=\"T_2328f_row3_col10\" class=\"data row3 col10\" >0.07%</td>\n",
       "      <td id=\"T_2328f_row3_col11\" class=\"data row3 col11\" >94.90%</td>\n",
       "      <td id=\"T_2328f_row3_col12\" class=\"data row3 col12\" >0.50%</td>\n",
       "      <td id=\"T_2328f_row3_col13\" class=\"data row3 col13\" >14.98%</td>\n",
       "      <td id=\"T_2328f_row3_col14\" class=\"data row3 col14\" >0.36%</td>\n",
       "    </tr>\n",
       "  </tbody>\n",
       "</table>\n"
      ],
      "text/plain": [
       "<pandas.io.formats.style.Styler at 0x1c3b0943ac8>"
      ]
     },
     "execution_count": 53,
     "metadata": {},
     "output_type": "execute_result"
    }
   ],
   "source": [
    "df = pd.DataFrame(preds[0:15]\n",
    "                  ,columns = ['World','Sports','Business','Sci/Tech']).T\n",
    "df.style.format(\"{:.2%}\").background_gradient(cmap=cm)"
   ]
  },
  {
   "cell_type": "code",
   "execution_count": 69,
   "metadata": {
    "colab": {
     "base_uri": "https://localhost:8080/"
    },
    "id": "idRIHfoySu12",
    "outputId": "ed31f258-94ab-4e62-c17f-8c0f42d2ca25"
   },
   "outputs": [
    {
     "name": "stdout",
     "output_type": "stream",
     "text": [
      "Model: \"sequential_1\"\n",
      "_________________________________________________________________\n",
      "Layer (type)                 Output Shape              Param #   \n",
      "=================================================================\n",
      "text_vectorization_2 (TextVe (None, None)              0         \n",
      "_________________________________________________________________\n",
      "embedding_1 (Embedding)      (None, None, 64)          64000     \n",
      "_________________________________________________________________\n",
      "bidirectional_1 (Bidirection (None, None, 128)         66048     \n",
      "_________________________________________________________________\n",
      "bidirectional_2 (Bidirection (None, 64)                41216     \n",
      "_________________________________________________________________\n",
      "dense_2 (Dense)              (None, 64)                4160      \n",
      "_________________________________________________________________\n",
      "dropout (Dropout)            (None, 64)                0         \n",
      "_________________________________________________________________\n",
      "dense_3 (Dense)              (None, 4)                 260       \n",
      "=================================================================\n",
      "Total params: 175,684\n",
      "Trainable params: 175,684\n",
      "Non-trainable params: 0\n",
      "_________________________________________________________________\n"
     ]
    }
   ],
   "source": [
    "model2.summary()"
   ]
  },
  {
   "cell_type": "code",
   "execution_count": 70,
   "metadata": {
    "colab": {
     "base_uri": "https://localhost:8080/",
     "height": 865
    },
    "id": "o01y6ZMVTF8J",
    "outputId": "83fec439-e4ff-4392-95ed-7a217076c9fe",
    "scrolled": false
   },
   "outputs": [
    {
     "name": "stdout",
     "output_type": "stream",
     "text": [
      "('Failed to import pydot. You must `pip install pydot` and install graphviz (https://graphviz.gitlab.io/download/), ', 'for `pydotprint` to work.')\n"
     ]
    }
   ],
   "source": [
    "keras.utils.plot_model(model2, \"2Layer_BiDirectionalLSTM.png\", show_shapes=True)"
   ]
  },
  {
   "cell_type": "code",
   "execution_count": null,
   "metadata": {},
   "outputs": [],
   "source": []
  },
  {
   "cell_type": "code",
   "execution_count": null,
   "metadata": {},
   "outputs": [],
   "source": []
  },
  {
   "cell_type": "markdown",
   "metadata": {
    "id": "bjUqGVBxGw-t"
   },
   "source": [
    "### Single Bidirectional RNN"
   ]
  },
  {
   "cell_type": "code",
   "execution_count": 58,
   "metadata": {
    "id": "LwfoBkmRYcP3"
   },
   "outputs": [],
   "source": [
    "start_time = time.time()\n",
    "num_classes = 4\n",
    "model = tf.keras.Sequential([\n",
    "                              encoder\n",
    "                              ,tf.keras.layers.Embedding(input_dim=len(encoder.get_vocabulary())\n",
    "                              ,output_dim=64\n",
    "                                # Use masking to handle the variable sequence lengths\n",
    "                              ,mask_zero=True)\n",
    "                              ,tf.keras.layers.Bidirectional(tf.keras.layers.SimpleRNN(64))\n",
    "                              ,tf.keras.layers.Dense(64, activation='relu')\n",
    "                              ,tf.keras.layers.Dense(num_classes,activation='softmax')   # num_classes = 4\n",
    "])"
   ]
  },
  {
   "cell_type": "code",
   "execution_count": 59,
   "metadata": {
    "id": "ZmWbBazIDe_-"
   },
   "outputs": [],
   "source": [
    "model.compile(optimizer=tf.keras.optimizers.Adam(1e-4)\n",
    "              ,loss=tf.keras.losses.SparseCategoricalCrossentropy() # if we set from_logits=True we don not have specify a softmax activation function in the last layer\n",
    "              ,metrics=['accuracy'])"
   ]
  },
  {
   "cell_type": "code",
   "execution_count": 60,
   "metadata": {
    "colab": {
     "base_uri": "https://localhost:8080/"
    },
    "id": "87a8-CwfKebw",
    "outputId": "ea133252-0000-4686-c7c5-1b9d21e4e011"
   },
   "outputs": [
    {
     "name": "stdout",
     "output_type": "stream",
     "text": [
      "[False, True, True, True, True]\n"
     ]
    }
   ],
   "source": [
    "print([layer.supports_masking for layer in model.layers])"
   ]
  },
  {
   "cell_type": "code",
   "execution_count": null,
   "metadata": {
    "colab": {
     "base_uri": "https://localhost:8080/"
    },
    "id": "hw86wWS4YgR2",
    "outputId": "ff206c6d-224d-45fa-cd65-b34113b4e45c"
   },
   "outputs": [
    {
     "name": "stdout",
     "output_type": "stream",
     "text": [
      "Epoch 1/200\n",
      "1782/1782 [==============================] - 444s 249ms/step - loss: 0.7737 - accuracy: 0.6857 - val_loss: 0.5102 - val_accuracy: 0.8260\n",
      "Epoch 2/200\n",
      "1782/1782 [==============================] - 442s 248ms/step - loss: 0.4838 - accuracy: 0.8263 - val_loss: 0.4579 - val_accuracy: 0.8392\n",
      "Epoch 3/200\n",
      " 983/1782 [===============>..............] - ETA: 3:16 - loss: 0.4495 - accuracy: 0.8379"
     ]
    }
   ],
   "source": [
    "history = model.fit(train_dataset\n",
    "                    ,epochs = 200\n",
    "                    ,validation_data=validation_dataset\n",
    "                    ,callbacks=[tf.keras.callbacks.EarlyStopping(monitor='val_accuracy', patience=2)]\n",
    "                    )\n",
    "end_time = time.time()\n",
    "second_elapsed = round(end_time - start_time)\n",
    "\n",
    "print(f'Finished model training in {second_elapsed}s')"
   ]
  },
  {
   "cell_type": "code",
   "execution_count": null,
   "metadata": {
    "colab": {
     "base_uri": "https://localhost:8080/"
    },
    "id": "BaNbXi43YgUT",
    "outputId": "c1c62b58-d132-4dd6-9d8e-20a1a5521151"
   },
   "outputs": [],
   "source": [
    "print('\\nModel performance with training set')\n",
    "model.evaluate(train_dataset)\n",
    "\n",
    "print('\\nEvaluating model performance with validation set')\n",
    "model.evaluate(validation_dataset)\n",
    "\n",
    "print('\\nEvaluating model performance with test set')\n",
    "model.evaluate(test_dataset)"
   ]
  },
  {
   "cell_type": "code",
   "execution_count": null,
   "metadata": {
    "colab": {
     "base_uri": "https://localhost:8080/"
    },
    "id": "KVd7MMCoOjMp",
    "outputId": "0469b445-4f5b-42bf-eaaf-f5b589e695f9"
   },
   "outputs": [],
   "source": [
    "model.summary()"
   ]
  },
  {
   "cell_type": "code",
   "execution_count": null,
   "metadata": {
    "colab": {
     "base_uri": "https://localhost:8080/"
    },
    "id": "HzEOTxsc1JTJ",
    "outputId": "2be08095-1e09-4843-ddd0-6e489616cefd"
   },
   "outputs": [],
   "source": [
    "history_dict = history.history\n",
    "history_dict.keys()"
   ]
  },
  {
   "cell_type": "code",
   "execution_count": null,
   "metadata": {
    "colab": {
     "base_uri": "https://localhost:8080/",
     "height": 206
    },
    "id": "2VV8VwoA1Je1",
    "outputId": "2ded4b6d-390e-4d12-c485-6c234cae6c2a"
   },
   "outputs": [],
   "source": [
    "history_df=pd.DataFrame(history_dict)\n",
    "history_df.tail(10).round(3)"
   ]
  },
  {
   "cell_type": "code",
   "execution_count": null,
   "metadata": {
    "id": "NvA2u5do1JqA"
   },
   "outputs": [],
   "source": [
    "losses = history.history['loss']\n",
    "accs = history.history['accuracy']\n",
    "val_losses = history.history['val_loss']\n",
    "val_accs = history.history['val_accuracy']\n",
    "epochs = len(losses)"
   ]
  },
  {
   "cell_type": "code",
   "execution_count": null,
   "metadata": {
    "colab": {
     "base_uri": "https://localhost:8080/",
     "height": 265
    },
    "id": "JGoRjq2T1SUp",
    "outputId": "ba97450a-6af3-4584-8c9f-e31ad054da55",
    "scrolled": true
   },
   "outputs": [],
   "source": [
    "plt.figure(figsize=(16, 4))\n",
    "for i, metrics in enumerate(zip([losses, accs], [val_losses, val_accs], ['Loss', 'Accuracy'])):\n",
    "    plt.subplot(1, 2, i + 1)\n",
    "    plt.plot(range(epochs), metrics[0], label='Training {}'.format(metrics[2]))\n",
    "    plt.plot(range(epochs), metrics[1], label='Validation {}'.format(metrics[2]))\n",
    "    plt.legend()\n",
    "plt.show()"
   ]
  }
 ],
 "metadata": {
  "accelerator": "GPU",
  "colab": {
   "collapsed_sections": [],
   "machine_shape": "hm",
   "name": "MSDS458_Assignment_03_20210619_DEV_v16.ipynb",
   "provenance": [],
   "toc_visible": true
  },
  "kernelspec": {
   "display_name": "Python 3 (ipykernel)",
   "language": "python",
   "name": "python3"
  },
  "language_info": {
   "codemirror_mode": {
    "name": "ipython",
    "version": 3
   },
   "file_extension": ".py",
   "mimetype": "text/x-python",
   "name": "python",
   "nbconvert_exporter": "python",
   "pygments_lexer": "ipython3",
   "version": "3.7.11"
  },
  "toc": {
   "base_numbering": 1,
   "nav_menu": {},
   "number_sections": false,
   "sideBar": true,
   "skip_h1_title": false,
   "title_cell": "Table of Contents",
   "title_sidebar": "Contents",
   "toc_cell": false,
   "toc_position": {},
   "toc_section_display": true,
   "toc_window_display": false
  }
 },
 "nbformat": 4,
 "nbformat_minor": 1
}
