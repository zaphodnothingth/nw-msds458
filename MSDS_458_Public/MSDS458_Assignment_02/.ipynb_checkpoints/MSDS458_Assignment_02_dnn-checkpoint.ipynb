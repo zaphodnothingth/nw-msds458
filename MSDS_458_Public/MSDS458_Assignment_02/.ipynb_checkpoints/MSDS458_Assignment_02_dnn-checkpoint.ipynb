{
 "cells": [
  {
   "cell_type": "markdown",
   "metadata": {
    "id": "3-yji0OXBQS1"
   },
   "source": [
    "\n",
    "\n",
    "\n",
    "\n",
    "\n",
    "<img src=\"https://github.com/djp840/MSDS_458_Public/blob/master/images/NorthwesternHeader.png?raw=1\">"
   ]
  },
  {
   "cell_type": "markdown",
   "metadata": {
    "id": "SRLmkqrHBQS2"
   },
   "source": [
    "## MSDS458 Research Assignment 02 - Part 1\n",
    "<div class=\"alert alert-block alert-success\">\n",
    "    <b>More Technical</b>: Throughout the notebook. This types of boxes provide more technical details and extra references about what you are seeing. They contain helpful tips, but you can safely skip them the first time you run through the code.\n",
    "</div><br>"
   ]
  },
  {
   "cell_type": "markdown",
   "metadata": {
    "id": "v2-7tctUBQS2"
   },
   "source": [
    "The CIFAR-10 dataset (Canadian Institute For Advanced Research) is a collection of images that are commonly used to train machine learning and computer vision algorithms. It is one of the most widely used datasets for machine learning research. The CIFAR-10 dataset contains 60,000 32x32 color images in 10 different classes. The 10 different classes represent airplanes, cars, birds, cats, deer, dogs, frogs, horses, ships, and trucks. There are 6,000 images of each class."
   ]
  },
  {
   "cell_type": "markdown",
   "metadata": {
    "id": "pNvM9PVNAIyq"
   },
   "source": [
    "<div class=\"alert alert-block alert-info\">\n",
    "<b>The CIFAR-10 dataset</b><br>\n",
    "https://www.cs.toronto.edu/~kriz/cifar.html\n",
    "    </div>"
   ]
  },
  {
   "cell_type": "markdown",
   "metadata": {
    "id": "sSPcQhKUBQS2"
   },
   "source": [
    "## Import packages needed "
   ]
  },
  {
   "cell_type": "code",
   "execution_count": 1,
   "metadata": {
    "id": "eHmjw7WoBQS2"
   },
   "outputs": [],
   "source": [
    "import datetime\n",
    "import time\n",
    "import numpy as np\n",
    "import pandas as pd\n",
    "from packaging import version\n",
    "from collections import Counter\n",
    "\n",
    "from sklearn.metrics import confusion_matrix, classification_report\n",
    "from sklearn.metrics import accuracy_score\n",
    "from sklearn.metrics import mean_squared_error as MSE\n",
    "from sklearn.model_selection import train_test_split\n",
    "from sklearn.manifold import TSNE\n",
    "\n",
    "import matplotlib.pyplot as plt\n",
    "import matplotlib as mpl\n",
    "import seaborn as sns\n",
    "\n",
    "import tensorflow as tf\n",
    "from tensorflow import keras\n",
    "from tensorflow.keras import models, layers\n",
    "from tensorflow.keras.models import Sequential\n",
    "from tensorflow.keras.layers import Conv2D, MaxPool2D, BatchNormalization, Dropout, Flatten, Input, Dense\n",
    "from tensorflow.keras.callbacks import ModelCheckpoint, EarlyStopping\n",
    "from tensorflow.keras.preprocessing import image\n",
    "from tensorflow.keras.utils import to_categorical"
   ]
  },
  {
   "cell_type": "code",
   "execution_count": 2,
   "metadata": {
    "id": "_cXetOQXBQS3"
   },
   "outputs": [],
   "source": [
    "%matplotlib inline\n",
    "np.set_printoptions(precision=3, suppress=True)"
   ]
  },
  {
   "cell_type": "markdown",
   "metadata": {
    "id": "yIDm78WyBQS3"
   },
   "source": [
    "### Verify TensorFlow Version and Keras Version"
   ]
  },
  {
   "cell_type": "code",
   "execution_count": 3,
   "metadata": {
    "colab": {
     "base_uri": "https://localhost:8080/"
    },
    "id": "Z54Ct2ouBQS3",
    "outputId": "19af225c-3b58-496b-c1d8-111b9a178dac"
   },
   "outputs": [
    {
     "name": "stdout",
     "output_type": "stream",
     "text": [
      "This notebook requires TensorFlow 2.0 or above\n",
      "TensorFlow version:  2.3.1\n"
     ]
    }
   ],
   "source": [
    "print(\"This notebook requires TensorFlow 2.0 or above\")\n",
    "print(\"TensorFlow version: \", tf.__version__)\n",
    "assert version.parse(tf.__version__).release[0] >=2"
   ]
  },
  {
   "cell_type": "code",
   "execution_count": 4,
   "metadata": {
    "colab": {
     "base_uri": "https://localhost:8080/"
    },
    "id": "3dgj2RJnBQS6",
    "outputId": "30e29d52-072c-4d51-d554-7eaa0f3bdf09"
   },
   "outputs": [
    {
     "name": "stdout",
     "output_type": "stream",
     "text": [
      "Keras version:  2.4.0\n"
     ]
    }
   ],
   "source": [
    "print(\"Keras version: \", keras.__version__)"
   ]
  },
  {
   "cell_type": "markdown",
   "metadata": {
    "id": "ApjAZzsZBQS6"
   },
   "source": [
    "### Mount Google Drive to Colab Environment"
   ]
  },
  {
   "cell_type": "code",
   "execution_count": 5,
   "metadata": {
    "colab": {
     "base_uri": "https://localhost:8080/"
    },
    "id": "UqJfFzLIBQS6",
    "outputId": "40fdccd7-f0a6-4802-836a-b1500f124b5b"
   },
   "outputs": [],
   "source": [
    "# from google.colab import drive\n",
    "# drive.mount('/content/gdrive')"
   ]
  },
  {
   "cell_type": "markdown",
   "metadata": {
    "id": "wheq-fA-5VuQ"
   },
   "source": [
    "### Functions for Research Assignment"
   ]
  },
  {
   "cell_type": "code",
   "execution_count": 6,
   "metadata": {
    "id": "hMmC4BQy5UoQ"
   },
   "outputs": [],
   "source": [
    "def print_validation_report(y_test, predictions):\n",
    "    print(\"Classification Report\")\n",
    "    print(classification_report(y_test, predictions))\n",
    "    print('Accuracy Score: {}'.format(accuracy_score(y_test, predictions)))\n",
    "    print('Root Mean Square Error: {}'.format(np.sqrt(MSE(y_test, predictions)))) "
   ]
  },
  {
   "cell_type": "code",
   "execution_count": 7,
   "metadata": {
    "id": "oJKrRAYk5dCm"
   },
   "outputs": [],
   "source": [
    "def plot_confusion_matrix(y_true, y_pred):\n",
    "    mtx = confusion_matrix(y_true, y_pred)\n",
    "    fig, ax = plt.subplots(figsize=(8,8))\n",
    "    sns.heatmap(mtx, annot=True, fmt='d', linewidths=.75,  cbar=False, ax=ax,cmap='Blues',linecolor='white')\n",
    "    #  square=True,\n",
    "    plt.ylabel('true label')\n",
    "    plt.xlabel('predicted label')"
   ]
  },
  {
   "cell_type": "markdown",
   "metadata": {
    "id": "m2smn4LPBQS6"
   },
   "source": [
    "## Loading cifar10 Dataset\n",
    "\n",
    "The CIFAR-10 dataset consists of 60000 32x32 colour images in 10 classes, with 6000 images per class. There are 50000 training images and 10000 test images.<br>\n",
    "\n",
    "The dataset is divided into five training batches and one test batch, each with 10000 images. The test batch contains exactly 1000 randomly-selected images from each class. The training batches contain the remaining images in random order, but some training batches may contain more images from one class than another. Between them, the training batches contain exactly 5000 images from each class.\n"
   ]
  },
  {
   "cell_type": "code",
   "execution_count": 8,
   "metadata": {
    "colab": {
     "base_uri": "https://localhost:8080/"
    },
    "id": "Bs_WjVbQE9TQ",
    "outputId": "2926c21c-64c6-4904-cad4-a9e4c36b8b62"
   },
   "outputs": [],
   "source": [
    "import ssl\n",
    "ssl._create_default_https_context = ssl._create_unverified_context\n",
    "\n",
    "(x_train, y_train), (x_test, y_test) = keras.datasets.cifar10.load_data()"
   ]
  },
  {
   "cell_type": "markdown",
   "metadata": {
    "id": "L1nXyX8xBQS6"
   },
   "source": [
    "* Tuple of Numpy arrays: (x_train, y_train), (x_test, y_test).\n",
    "* x_train, x_test: uint8 arrays of color image data with shapes (num_samples, 32, 32).\n",
    "* y_train, y_test: uint8 arrays of digit labels (integers in range 0-9)"
   ]
  },
  {
   "cell_type": "markdown",
   "metadata": {
    "id": "0qXkOUboBQS6"
   },
   "source": [
    "## EDA Training and Test Datasets\n",
    "\n",
    "* Imported 50000 examples for training and 10000 examples for test \n",
    "* Imported 50000 labels for training and 10000 labels for test "
   ]
  },
  {
   "cell_type": "code",
   "execution_count": 9,
   "metadata": {
    "colab": {
     "base_uri": "https://localhost:8080/"
    },
    "id": "un0LuWX2BQS7",
    "outputId": "3b6dddeb-f509-46fc-aab8-67f72b3e2f4f"
   },
   "outputs": [
    {
     "name": "stdout",
     "output_type": "stream",
     "text": [
      "train_images:\t(50000, 32, 32, 3)\n",
      "train_labels:\t(50000, 1)\n",
      "test_images:\t\t(10000, 32, 32, 3)\n",
      "test_labels:\t\t(10000, 1)\n"
     ]
    }
   ],
   "source": [
    "print('train_images:\\t{}'.format(x_train.shape))\n",
    "print('train_labels:\\t{}'.format(y_train.shape))\n",
    "print('test_images:\\t\\t{}'.format(x_test.shape))\n",
    "print('test_labels:\\t\\t{}'.format(y_test.shape))"
   ]
  },
  {
   "cell_type": "markdown",
   "metadata": {
    "id": "tDL-RelMBQS7"
   },
   "source": [
    "### Review labels for training dataset"
   ]
  },
  {
   "cell_type": "code",
   "execution_count": 10,
   "metadata": {
    "colab": {
     "base_uri": "https://localhost:8080/"
    },
    "id": "L_gEoattBQS7",
    "outputId": "8fea641a-8484-4e3f-e1b5-2ff777b6c424"
   },
   "outputs": [
    {
     "name": "stdout",
     "output_type": "stream",
     "text": [
      "First ten labels training dataset:\n",
      " [[6]\n",
      " [9]\n",
      " [9]\n",
      " [4]\n",
      " [1]\n",
      " [1]\n",
      " [2]\n",
      " [7]\n",
      " [8]\n",
      " [3]]\n",
      "\n",
      "This output the numeric label, need to convert to item description\n"
     ]
    }
   ],
   "source": [
    "print(\"First ten labels training dataset:\\n {}\\n\".format(y_train[0:10]))\n",
    "print(\"This output the numeric label, need to convert to item description\")"
   ]
  },
  {
   "cell_type": "markdown",
   "metadata": {
    "id": "zmOULZ_8BQS8"
   },
   "source": [
    "### Preprocessing Data for Model Development"
   ]
  },
  {
   "cell_type": "markdown",
   "metadata": {
    "id": "fWrM9M7tBQS9"
   },
   "source": [
    "The labels are an array of integers, ranging from 0 to 9. These correspond to the class of clothing the image represents:\n",
    "\n",
    "|Label  |Class_  |\n",
    "|-------|--------|\n",
    "|0|\tairplane     |\n",
    "|1|\tautomobile   |\n",
    "|2|\tbird         |\n",
    "|3|\tcat          |\n",
    "|4|\tdeer         |\n",
    "|5|\tdog          |\n",
    "|6|\tfrog         |\n",
    "|7|\thorse        |\n",
    "|8|\tship         |\n",
    "|9|\ttruck        |"
   ]
  },
  {
   "cell_type": "code",
   "execution_count": 11,
   "metadata": {
    "id": "0pOir5__BQS9"
   },
   "outputs": [],
   "source": [
    "class_names = ['airplane'\n",
    ",'automobile'\n",
    ",'bird'\n",
    ",'cat'\n",
    ",'deer'\n",
    ",'dog'\n",
    ",'frog' \n",
    ",'horse'\n",
    ",'ship'\n",
    ",'truck']"
   ]
  },
  {
   "cell_type": "markdown",
   "metadata": {
    "id": "VLEIzXIhGimu"
   },
   "source": [
    "### Create Validation Data Set"
   ]
  },
  {
   "cell_type": "code",
   "execution_count": 12,
   "metadata": {
    "id": "FwsWXD4VGvbI"
   },
   "outputs": [],
   "source": [
    "x_train_split, x_valid_split, y_train_split, y_valid_split = train_test_split(x_train\n",
    "                                                                              ,y_train\n",
    "                                                                              ,test_size=.1\n",
    "                                                                              ,random_state=42\n",
    "                                                                              ,shuffle=True)"
   ]
  },
  {
   "cell_type": "markdown",
   "metadata": {
    "id": "4m3HBmXfG_eO"
   },
   "source": [
    "### Confirm Datasets {Train, Validation, Test}"
   ]
  },
  {
   "cell_type": "code",
   "execution_count": 13,
   "metadata": {
    "colab": {
     "base_uri": "https://localhost:8080/"
    },
    "id": "RvERfc-kGvhG",
    "outputId": "aa978d27-092a-4c8e-f5bc-e5013f5c14db"
   },
   "outputs": [
    {
     "name": "stdout",
     "output_type": "stream",
     "text": [
      "(45000, 32, 32, 3) (5000, 32, 32, 3) (10000, 32, 32, 3)\n"
     ]
    }
   ],
   "source": [
    "print(x_train_split.shape, x_valid_split.shape, x_test.shape)"
   ]
  },
  {
   "cell_type": "code",
   "execution_count": 26,
   "metadata": {
    "colab": {
     "base_uri": "https://localhost:8080/"
    },
    "id": "RvERfc-kGvhG",
    "outputId": "aa978d27-092a-4c8e-f5bc-e5013f5c14db"
   },
   "outputs": [
    {
     "name": "stdout",
     "output_type": "stream",
     "text": [
      "(45000, 1) (5000, 1) (10000, 1)\n"
     ]
    }
   ],
   "source": [
    "print(y_train_split.shape, y_valid_split.shape, y_test.shape)"
   ]
  },
  {
   "cell_type": "markdown",
   "metadata": {
    "id": "f1Bc7VFlBQS9"
   },
   "source": [
    "### Rescale Examples  {Train, Validation, Test}\n",
    "The images are 28x28 NumPy arrays, with pixel values ranging from 0 to 255\n",
    " "
   ]
  },
  {
   "cell_type": "markdown",
   "metadata": {
    "id": "83IzVivSBQS9"
   },
   "source": [
    "1. Each element in each example is a pixel value\n",
    "2. Pixel values range from 0 to 255\n",
    "3. 0 = black\n",
    "4. 255 = white"
   ]
  },
  {
   "cell_type": "code",
   "execution_count": 14,
   "metadata": {
    "id": "42FmtjcVBQS9"
   },
   "outputs": [],
   "source": [
    "x_train_norm = x_train_split/255\n",
    "x_valid_norm = x_valid_split/255\n",
    "x_test_norm = x_test/255"
   ]
  },
  {
   "cell_type": "markdown",
   "metadata": {},
   "source": [
    "## Experiments"
   ]
  },
  {
   "cell_type": "code",
   "execution_count": 15,
   "metadata": {},
   "outputs": [],
   "source": [
    "# flatten\n",
    "x_train_reshaped = np.reshape(x_train_norm, (45000,3072))\n",
    "x_test_reshaped = np.reshape(x_test_norm, (10000, 3072))\n",
    "x_valid_reshaped = np.reshape(x_valid_norm, (5000, 3072))\n"
   ]
  },
  {
   "cell_type": "markdown",
   "metadata": {},
   "source": [
    "### Experiment 1: 2 layer DNN"
   ]
  },
  {
   "cell_type": "code",
   "execution_count": 39,
   "metadata": {
    "scrolled": false
   },
   "outputs": [
    {
     "name": "stdout",
     "output_type": "stream",
     "text": [
      "Model: \"sequential_5\"\n",
      "_________________________________________________________________\n",
      "Layer (type)                 Output Shape              Param #   \n",
      "=================================================================\n",
      "dense_18 (Dense)             (None, 784)               2409232   \n",
      "_________________________________________________________________\n",
      "dense_19 (Dense)             (None, 384)               301440    \n",
      "_________________________________________________________________\n",
      "dense_20 (Dense)             (None, 10)                3850      \n",
      "=================================================================\n",
      "Total params: 2,714,522\n",
      "Trainable params: 2,714,522\n",
      "Non-trainable params: 0\n",
      "_________________________________________________________________\n",
      "Epoch 1/200\n",
      "88/88 [==============================] - 3s 29ms/step - loss: 3.0618 - accuracy: 0.2585 - val_loss: 2.5240 - val_accuracy: 0.3290\n",
      "Epoch 2/200\n",
      "88/88 [==============================] - 2s 28ms/step - loss: 2.3147 - accuracy: 0.3634 - val_loss: 2.1733 - val_accuracy: 0.3800\n",
      "Epoch 3/200\n",
      "88/88 [==============================] - 2s 28ms/step - loss: 2.0527 - accuracy: 0.3981 - val_loss: 1.9754 - val_accuracy: 0.3980\n",
      "Epoch 4/200\n",
      "88/88 [==============================] - 2s 28ms/step - loss: 1.8841 - accuracy: 0.4254 - val_loss: 1.8660 - val_accuracy: 0.4104\n",
      "Epoch 5/200\n",
      "88/88 [==============================] - 3s 29ms/step - loss: 1.7839 - accuracy: 0.4390 - val_loss: 1.8008 - val_accuracy: 0.4096\n",
      "Epoch 6/200\n",
      "88/88 [==============================] - 3s 28ms/step - loss: 1.7211 - accuracy: 0.4478 - val_loss: 1.7308 - val_accuracy: 0.4286\n",
      "Epoch 7/200\n",
      "88/88 [==============================] - 3s 29ms/step - loss: 1.6494 - accuracy: 0.4645 - val_loss: 1.7221 - val_accuracy: 0.4314\n",
      "Epoch 8/200\n",
      "88/88 [==============================] - 3s 29ms/step - loss: 1.6101 - accuracy: 0.4719 - val_loss: 1.6668 - val_accuracy: 0.4418\n",
      "Epoch 9/200\n",
      "88/88 [==============================] - 3s 29ms/step - loss: 1.5812 - accuracy: 0.4770 - val_loss: 1.6508 - val_accuracy: 0.4438\n",
      "Epoch 10/200\n",
      "88/88 [==============================] - 3s 29ms/step - loss: 1.5512 - accuracy: 0.4835 - val_loss: 1.5993 - val_accuracy: 0.4588\n",
      "Epoch 11/200\n",
      "88/88 [==============================] - 3s 29ms/step - loss: 1.5099 - accuracy: 0.5002 - val_loss: 1.6077 - val_accuracy: 0.4582\n",
      "Epoch 12/200\n",
      "88/88 [==============================] - 3s 29ms/step - loss: 1.5159 - accuracy: 0.4938 - val_loss: 1.6371 - val_accuracy: 0.4356\n",
      "Finished model training in 31s\n",
      "\n",
      "Evaluating model performance with test set\n",
      "313/313 [==============================] - 1s 4ms/step - loss: 1.6054 - accuracy: 0.4545\n"
     ]
    }
   ],
   "source": [
    "model_1 = models.Sequential()\n",
    "model_1.add(layers.Dense(input_shape=[3072], units=784, activation=tf.nn.relu,kernel_regularizer=tf.keras.regularizers.L2(0.001)))\n",
    "model_1.add(Dense(384, activation=tf.nn.relu))\n",
    "model_1.add(layers.Dense(units=10, activation=tf.nn.softmax))\n",
    "\n",
    "model_1.summary()\n",
    "\n",
    "model_1.compile(optimizer='adam',\n",
    "              loss=tf.keras.losses.SparseCategoricalCrossentropy(from_logits=False),\n",
    "              metrics=['accuracy'])\n",
    "\n",
    "start_time = time.time()\n",
    "\n",
    "history = model_1.fit(\n",
    "    x_train_reshaped\n",
    "    ,y_train_split\n",
    "    ,epochs = 200\n",
    "    ,batch_size=512\n",
    "    ,validation_data=(x_valid_reshaped, y_valid_split)\n",
    "    ,callbacks=[tf.keras.callbacks.EarlyStopping(monitor='val_accuracy', patience=2)] \n",
    "    )\n",
    "\n",
    "end_time = time.time()\n",
    "second_elapsed = round(end_time - start_time)\n",
    "print(f'Finished model training in {second_elapsed}s')\n",
    "\n",
    "print('\\nEvaluating model performance with test set')\n",
    "loss, accuracy = model_1.evaluate(x_test_reshaped, y_test)\n"
   ]
  },
  {
   "cell_type": "code",
   "execution_count": 40,
   "metadata": {},
   "outputs": [
    {
     "name": "stdout",
     "output_type": "stream",
     "text": [
      "\n",
      "Model performance with training set\n",
      "1407/1407 [==============================] - 7s 5ms/step - loss: 1.5437 - accuracy: 0.4760\n",
      "\n",
      "Evaluating model performance with validation set\n",
      "157/157 [==============================] - 1s 4ms/step - loss: 1.6371 - accuracy: 0.4356\n"
     ]
    },
    {
     "data": {
      "text/plain": [
       "[1.6370842456817627, 0.43560001254081726]"
      ]
     },
     "execution_count": 40,
     "metadata": {},
     "output_type": "execute_result"
    }
   ],
   "source": [
    "print('\\nModel performance with training set')\n",
    "model_1.evaluate(x_train_reshaped, y_train_split)\n",
    "print('\\nEvaluating model performance with validation set')\n",
    "model_1.evaluate(x_valid_reshaped, y_valid_split)"
   ]
  },
  {
   "cell_type": "code",
   "execution_count": 41,
   "metadata": {
    "scrolled": false
   },
   "outputs": [
    {
     "name": "stdout",
     "output_type": "stream",
     "text": [
      "Model: \"sequential_6\"\n",
      "_________________________________________________________________\n",
      "Layer (type)                 Output Shape              Param #   \n",
      "=================================================================\n",
      "dense_21 (Dense)             (None, 784)               2409232   \n",
      "_________________________________________________________________\n",
      "dense_22 (Dense)             (None, 384)               301440    \n",
      "_________________________________________________________________\n",
      "dense_23 (Dense)             (None, 512)               197120    \n",
      "_________________________________________________________________\n",
      "dense_24 (Dense)             (None, 10)                5130      \n",
      "=================================================================\n",
      "Total params: 2,912,922\n",
      "Trainable params: 2,912,922\n",
      "Non-trainable params: 0\n",
      "_________________________________________________________________\n",
      "Epoch 1/200\n",
      "88/88 [==============================] - 3s 32ms/step - loss: 2.7679 - accuracy: 0.2713 - val_loss: 2.2855 - val_accuracy: 0.3476\n",
      "Epoch 2/200\n",
      "88/88 [==============================] - 3s 30ms/step - loss: 2.0937 - accuracy: 0.3756 - val_loss: 1.9946 - val_accuracy: 0.3782\n",
      "Epoch 3/200\n",
      "88/88 [==============================] - 3s 31ms/step - loss: 1.8726 - accuracy: 0.4111 - val_loss: 1.8424 - val_accuracy: 0.3952\n",
      "Epoch 4/200\n",
      "88/88 [==============================] - 3s 31ms/step - loss: 1.7564 - accuracy: 0.4294 - val_loss: 1.7659 - val_accuracy: 0.4182\n",
      "Epoch 5/200\n",
      "88/88 [==============================] - 3s 31ms/step - loss: 1.6817 - accuracy: 0.4447 - val_loss: 1.7042 - val_accuracy: 0.4236\n",
      "Epoch 6/200\n",
      "88/88 [==============================] - 3s 31ms/step - loss: 1.6291 - accuracy: 0.4597 - val_loss: 1.6430 - val_accuracy: 0.4478\n",
      "Epoch 7/200\n",
      "88/88 [==============================] - 3s 31ms/step - loss: 1.5785 - accuracy: 0.4734 - val_loss: 1.6113 - val_accuracy: 0.4522\n",
      "Epoch 8/200\n",
      "88/88 [==============================] - 3s 31ms/step - loss: 1.5521 - accuracy: 0.4791 - val_loss: 1.5830 - val_accuracy: 0.4654\n",
      "Epoch 9/200\n",
      "88/88 [==============================] - 3s 31ms/step - loss: 1.5289 - accuracy: 0.4904 - val_loss: 1.5907 - val_accuracy: 0.4556\n",
      "Epoch 10/200\n",
      "88/88 [==============================] - 3s 31ms/step - loss: 1.5043 - accuracy: 0.4972 - val_loss: 1.5360 - val_accuracy: 0.4768\n",
      "Epoch 11/200\n",
      "88/88 [==============================] - 3s 31ms/step - loss: 1.4789 - accuracy: 0.5034 - val_loss: 1.5777 - val_accuracy: 0.4674\n",
      "Epoch 12/200\n",
      "88/88 [==============================] - 3s 31ms/step - loss: 1.4496 - accuracy: 0.5150 - val_loss: 1.5861 - val_accuracy: 0.4596\n",
      "Finished model training in 34s\n",
      "313/313 [==============================] - 1s 4ms/step - loss: 1.5530 - accuracy: 0.4790\n",
      "test set accuracy:  47.90000021457672\n"
     ]
    }
   ],
   "source": [
    "model_2 = models.Sequential()\n",
    "model_2.add(layers.Dense(input_shape=[3072], units=784, activation=tf.nn.relu,kernel_regularizer=tf.keras.regularizers.L2(0.001)))\n",
    "model_2.add(Dense(384, activation=tf.nn.relu))\n",
    "model_2.add(Dense(512, activation=tf.nn.relu))\n",
    "model_2.add(layers.Dense(units=10, activation=tf.nn.softmax))\n",
    "\n",
    "model_2.summary()\n",
    "\n",
    "model_2.compile(optimizer='adam',\n",
    "              loss=tf.keras.losses.SparseCategoricalCrossentropy(from_logits=False),\n",
    "              metrics=['accuracy'])\n",
    "start_time = time.time()\n",
    "history = model_2.fit(\n",
    "    x_train_reshaped\n",
    "    ,y_train_split\n",
    "    ,epochs = 200\n",
    "    ,batch_size=512\n",
    "    ,validation_data=(x_valid_reshaped, y_valid_split)\n",
    "    ,callbacks=[tf.keras.callbacks.EarlyStopping(monitor='val_accuracy', patience=2)] \n",
    "    )\n",
    "\n",
    "end_time = time.time()\n",
    "second_elapsed = round(end_time - start_time)\n",
    "print(f'Finished model training in {second_elapsed}s')\n",
    "\n",
    "loss, accuracy = model_2.evaluate(x_test_reshaped, y_test)\n",
    "print('test set accuracy: ', accuracy * 100)"
   ]
  },
  {
   "cell_type": "code",
   "execution_count": 42,
   "metadata": {},
   "outputs": [
    {
     "name": "stdout",
     "output_type": "stream",
     "text": [
      "\n",
      "Model performance with training set\n",
      "1407/1407 [==============================] - 6s 4ms/step - loss: 1.4633 - accuracy: 0.5050\n",
      "\n",
      "Evaluating model performance with validation set\n",
      "157/157 [==============================] - 1s 3ms/step - loss: 1.5861 - accuracy: 0.4596\n"
     ]
    },
    {
     "data": {
      "text/plain": [
       "[1.5860686302185059, 0.4596000015735626]"
      ]
     },
     "execution_count": 42,
     "metadata": {},
     "output_type": "execute_result"
    }
   ],
   "source": [
    "print('\\nModel performance with training set')\n",
    "model_2.evaluate(x_train_reshaped, y_train_split)\n",
    "print('\\nEvaluating model performance with validation set')\n",
    "model_2.evaluate(x_valid_reshaped, y_valid_split)"
   ]
  },
  {
   "cell_type": "code",
   "execution_count": 43,
   "metadata": {
    "scrolled": false
   },
   "outputs": [
    {
     "name": "stdout",
     "output_type": "stream",
     "text": [
      "Model: \"sequential_7\"\n",
      "_________________________________________________________________\n",
      "Layer (type)                 Output Shape              Param #   \n",
      "=================================================================\n",
      "dense_25 (Dense)             (None, 784)               2409232   \n",
      "_________________________________________________________________\n",
      "dense_26 (Dense)             (None, 512)               401920    \n",
      "_________________________________________________________________\n",
      "dense_27 (Dense)             (None, 384)               196992    \n",
      "_________________________________________________________________\n",
      "dense_28 (Dense)             (None, 10)                3850      \n",
      "=================================================================\n",
      "Total params: 3,011,994\n",
      "Trainable params: 3,011,994\n",
      "Non-trainable params: 0\n",
      "_________________________________________________________________\n",
      "Epoch 1/200\n",
      "88/88 [==============================] - 3s 32ms/step - loss: 2.7947 - accuracy: 0.2769 - val_loss: 2.3071 - val_accuracy: 0.3550\n",
      "Epoch 2/200\n",
      "88/88 [==============================] - 3s 32ms/step - loss: 2.1221 - accuracy: 0.3766 - val_loss: 2.0162 - val_accuracy: 0.3890\n",
      "Epoch 3/200\n",
      "88/88 [==============================] - 3s 31ms/step - loss: 1.8993 - accuracy: 0.4048 - val_loss: 1.8687 - val_accuracy: 0.3966\n",
      "Epoch 4/200\n",
      "88/88 [==============================] - 3s 31ms/step - loss: 1.7745 - accuracy: 0.4287 - val_loss: 1.7337 - val_accuracy: 0.4318\n",
      "Epoch 5/200\n",
      "88/88 [==============================] - 3s 31ms/step - loss: 1.6970 - accuracy: 0.4454 - val_loss: 1.6823 - val_accuracy: 0.4424\n",
      "Epoch 6/200\n",
      "88/88 [==============================] - 3s 31ms/step - loss: 1.6336 - accuracy: 0.4629 - val_loss: 1.6249 - val_accuracy: 0.4508\n",
      "Epoch 7/200\n",
      "88/88 [==============================] - 3s 31ms/step - loss: 1.5796 - accuracy: 0.4752 - val_loss: 1.6330 - val_accuracy: 0.4594\n",
      "Epoch 8/200\n",
      "88/88 [==============================] - 3s 32ms/step - loss: 1.5483 - accuracy: 0.4832 - val_loss: 1.6317 - val_accuracy: 0.4522\n",
      "Epoch 9/200\n",
      "88/88 [==============================] - 3s 32ms/step - loss: 1.5156 - accuracy: 0.4940 - val_loss: 1.5558 - val_accuracy: 0.4770\n",
      "Epoch 10/200\n",
      "88/88 [==============================] - 3s 32ms/step - loss: 1.4952 - accuracy: 0.4985 - val_loss: 1.5837 - val_accuracy: 0.4656\n",
      "Epoch 11/200\n",
      "88/88 [==============================] - 3s 32ms/step - loss: 1.4718 - accuracy: 0.5081 - val_loss: 1.5666 - val_accuracy: 0.4660\n",
      "Finished model training in 32s\n",
      "313/313 [==============================] - 1s 5ms/step - loss: 1.5381 - accuracy: 0.4827\n",
      "test set accuracy:  48.2699990272522\n"
     ]
    }
   ],
   "source": [
    "model_3 = models.Sequential()\n",
    "model_3.add(layers.Dense(input_shape=[3072], units=784, activation=tf.nn.relu,kernel_regularizer=tf.keras.regularizers.L2(0.001)))\n",
    "model_3.add(Dense(512, activation=tf.nn.relu))\n",
    "model_3.add(Dense(384, activation=tf.nn.relu))\n",
    "model_3.add(layers.Dense(units=10, activation=tf.nn.softmax))\n",
    "\n",
    "model_3.summary()\n",
    "\n",
    "model_3.compile(optimizer='adam',\n",
    "              loss=tf.keras.losses.SparseCategoricalCrossentropy(from_logits=False),\n",
    "              metrics=['accuracy'])\n",
    "start_time = time.time()\n",
    "\n",
    "history = model_3.fit(\n",
    "    x_train_reshaped\n",
    "    ,y_train_split\n",
    "    ,epochs = 200\n",
    "    ,batch_size=512\n",
    "    ,validation_data=(x_valid_reshaped, y_valid_split)\n",
    "    ,callbacks=[tf.keras.callbacks.EarlyStopping(monitor='val_accuracy', patience=2)] \n",
    "    )\n",
    "\n",
    "end_time = time.time()\n",
    "second_elapsed = round(end_time - start_time)\n",
    "print(f'Finished model training in {second_elapsed}s')\n",
    "\n",
    "loss, accuracy = model_3.evaluate(x_test_reshaped, y_test)\n",
    "print('test set accuracy: ', accuracy * 100)\n",
    "\n",
    "### test set accuracy:  45.62000036239624"
   ]
  },
  {
   "cell_type": "code",
   "execution_count": 44,
   "metadata": {},
   "outputs": [
    {
     "name": "stdout",
     "output_type": "stream",
     "text": [
      "\n",
      "Model performance with training set\n",
      "1407/1407 [==============================] - 7s 5ms/step - loss: 1.4571 - accuracy: 0.5116\n",
      "\n",
      "Evaluating model performance with validation set\n",
      "157/157 [==============================] - 1s 4ms/step - loss: 1.5666 - accuracy: 0.4660\n"
     ]
    },
    {
     "data": {
      "text/plain": [
       "[1.5665608644485474, 0.4659999907016754]"
      ]
     },
     "execution_count": 44,
     "metadata": {},
     "output_type": "execute_result"
    }
   ],
   "source": [
    "print('\\nModel performance with training set')\n",
    "model_3.evaluate(x_train_reshaped, y_train_split)\n",
    "print('\\nEvaluating model performance with validation set')\n",
    "model_3.evaluate(x_valid_reshaped, y_valid_split)"
   ]
  },
  {
   "cell_type": "markdown",
   "metadata": {
    "id": "Q1dk3sX1BQS_"
   },
   "source": [
    "## Plotting Performance Metrics \n",
    "\n",
    "We use Matplotlib to create 2 plots--displaying the training and validation loss (resp. accuracy) for each (training) epoch side by side."
   ]
  },
  {
   "cell_type": "code",
   "execution_count": 19,
   "metadata": {
    "colab": {
     "base_uri": "https://localhost:8080/"
    },
    "id": "ROIyEsUtBQS_",
    "outputId": "90f6cab3-cd78-49db-c3e5-6d06137a3dd3"
   },
   "outputs": [
    {
     "data": {
      "text/plain": [
       "dict_keys(['loss', 'accuracy', 'val_loss', 'val_accuracy'])"
      ]
     },
     "execution_count": 19,
     "metadata": {},
     "output_type": "execute_result"
    }
   ],
   "source": [
    "history_dict = history.history\n",
    "history_dict.keys()"
   ]
  },
  {
   "cell_type": "code",
   "execution_count": 20,
   "metadata": {
    "colab": {
     "base_uri": "https://localhost:8080/",
     "height": 200
    },
    "id": "NxYHCMOlBQS_",
    "outputId": "33733d90-ed73-4de5-cb2d-0e165f97248b"
   },
   "outputs": [
    {
     "data": {
      "text/html": [
       "<div>\n",
       "<style scoped>\n",
       "    .dataframe tbody tr th:only-of-type {\n",
       "        vertical-align: middle;\n",
       "    }\n",
       "\n",
       "    .dataframe tbody tr th {\n",
       "        vertical-align: top;\n",
       "    }\n",
       "\n",
       "    .dataframe thead th {\n",
       "        text-align: right;\n",
       "    }\n",
       "</style>\n",
       "<table border=\"1\" class=\"dataframe\">\n",
       "  <thead>\n",
       "    <tr style=\"text-align: right;\">\n",
       "      <th></th>\n",
       "      <th>loss</th>\n",
       "      <th>accuracy</th>\n",
       "      <th>val_loss</th>\n",
       "      <th>val_accuracy</th>\n",
       "    </tr>\n",
       "  </thead>\n",
       "  <tbody>\n",
       "    <tr>\n",
       "      <th>3</th>\n",
       "      <td>1.779</td>\n",
       "      <td>0.430</td>\n",
       "      <td>1.818</td>\n",
       "      <td>0.404</td>\n",
       "    </tr>\n",
       "    <tr>\n",
       "      <th>4</th>\n",
       "      <td>1.711</td>\n",
       "      <td>0.438</td>\n",
       "      <td>1.744</td>\n",
       "      <td>0.423</td>\n",
       "    </tr>\n",
       "    <tr>\n",
       "      <th>5</th>\n",
       "      <td>1.627</td>\n",
       "      <td>0.461</td>\n",
       "      <td>1.614</td>\n",
       "      <td>0.458</td>\n",
       "    </tr>\n",
       "    <tr>\n",
       "      <th>6</th>\n",
       "      <td>1.585</td>\n",
       "      <td>0.471</td>\n",
       "      <td>1.644</td>\n",
       "      <td>0.445</td>\n",
       "    </tr>\n",
       "    <tr>\n",
       "      <th>7</th>\n",
       "      <td>1.554</td>\n",
       "      <td>0.478</td>\n",
       "      <td>1.666</td>\n",
       "      <td>0.439</td>\n",
       "    </tr>\n",
       "  </tbody>\n",
       "</table>\n",
       "</div>"
      ],
      "text/plain": [
       "    loss  accuracy  val_loss  val_accuracy\n",
       "3  1.779     0.430     1.818         0.404\n",
       "4  1.711     0.438     1.744         0.423\n",
       "5  1.627     0.461     1.614         0.458\n",
       "6  1.585     0.471     1.644         0.445\n",
       "7  1.554     0.478     1.666         0.439"
      ]
     },
     "execution_count": 20,
     "metadata": {},
     "output_type": "execute_result"
    }
   ],
   "source": [
    "history_df=pd.DataFrame(history_dict)\n",
    "history_df.tail().round(3)"
   ]
  },
  {
   "cell_type": "code",
   "execution_count": 21,
   "metadata": {
    "id": "d0WufsyEBQS_"
   },
   "outputs": [],
   "source": [
    "losses = history.history['loss']\n",
    "accs = history.history['accuracy']\n",
    "val_losses = history.history['val_loss']\n",
    "val_accs = history.history['val_accuracy']\n",
    "epochs = len(losses)"
   ]
  },
  {
   "cell_type": "code",
   "execution_count": 22,
   "metadata": {
    "colab": {
     "base_uri": "https://localhost:8080/",
     "height": 265
    },
    "id": "PX_RmAQgBQS_",
    "outputId": "70781082-94ae-4bf9-b9da-aa607136679a",
    "scrolled": false
   },
   "outputs": [
    {
     "data": {
      "image/png": "[encoded data removed]",
      "text/plain": [
       "<Figure size 1152x288 with 2 Axes>"
      ]
     },
     "metadata": {
      "needs_background": "light"
     },
     "output_type": "display_data"
    }
   ],
   "source": [
    "plt.figure(figsize=(16, 4))\n",
    "for i, metrics in enumerate(zip([losses, accs], [val_losses, val_accs], ['Loss', 'Accuracy'])):\n",
    "    plt.subplot(1, 2, i + 1)\n",
    "    plt.plot(range(epochs), metrics[0], label='Training {}'.format(metrics[2]))\n",
    "    plt.plot(range(epochs), metrics[1], label='Validation {}'.format(metrics[2]))\n",
    "    plt.legend()\n",
    "plt.show()"
   ]
  },
  {
   "cell_type": "markdown",
   "metadata": {
    "id": "eo4quLxCBQTA"
   },
   "source": [
    "## Confusion matrices\n",
    "Using both `sklearn.metrics`. Then we visualize the confusion matrix and see what that tells us."
   ]
  },
  {
   "cell_type": "code",
   "execution_count": 30,
   "metadata": {
    "id": "SJQl4PTC1z3b"
   },
   "outputs": [],
   "source": [
    "pred1= model_1.predict(x_test_reshaped)\n",
    "pred1=np.argmax(pred1, axis=1)"
   ]
  },
  {
   "cell_type": "code",
   "execution_count": 31,
   "metadata": {
    "colab": {
     "base_uri": "https://localhost:8080/"
    },
    "id": "bGmYQw9J142G",
    "outputId": "8aa5c3b0-19cd-44da-99be-6e72d980d662"
   },
   "outputs": [
    {
     "name": "stdout",
     "output_type": "stream",
     "text": [
      "Classification Report\n",
      "              precision    recall  f1-score   support\n",
      "\n",
      "           0       0.67      0.48      0.56      1000\n",
      "           1       0.54      0.71      0.61      1000\n",
      "           2       0.43      0.27      0.33      1000\n",
      "           3       0.34      0.42      0.38      1000\n",
      "           4       0.45      0.41      0.43      1000\n",
      "           5       0.42      0.39      0.41      1000\n",
      "           6       0.53      0.57      0.55      1000\n",
      "           7       0.44      0.69      0.54      1000\n",
      "           8       0.72      0.53      0.61      1000\n",
      "           9       0.57      0.52      0.54      1000\n",
      "\n",
      "    accuracy                           0.50     10000\n",
      "   macro avg       0.51      0.50      0.50     10000\n",
      "weighted avg       0.51      0.50      0.50     10000\n",
      "\n",
      "Accuracy Score: 0.4995\n",
      "Root Mean Square Error: 3.0199337741082997\n"
     ]
    }
   ],
   "source": [
    "print_validation_report(y_test, pred1)"
   ]
  },
  {
   "cell_type": "code",
   "execution_count": 32,
   "metadata": {
    "colab": {
     "base_uri": "https://localhost:8080/",
     "height": 497
    },
    "id": "26OXI2N22D4B",
    "outputId": "a2464765-0caf-4d7c-afca-d107714dc6de"
   },
   "outputs": [
    {
     "data": {
      "image/png": "[encoded data removed]",
      "text/plain": [
       "<Figure size 576x576 with 1 Axes>"
      ]
     },
     "metadata": {
      "needs_background": "light"
     },
     "output_type": "display_data"
    }
   ],
   "source": [
    "plot_confusion_matrix(y_test,pred1)"
   ]
  },
  {
   "cell_type": "markdown",
   "metadata": {},
   "source": [
    "### no reg"
   ]
  },
  {
   "cell_type": "code",
   "execution_count": 33,
   "metadata": {
    "scrolled": false
   },
   "outputs": [
    {
     "name": "stdout",
     "output_type": "stream",
     "text": [
      "Model: \"sequential_3\"\n",
      "_________________________________________________________________\n",
      "Layer (type)                 Output Shape              Param #   \n",
      "=================================================================\n",
      "dense_11 (Dense)             (None, 784)               2409232   \n",
      "_________________________________________________________________\n",
      "dense_12 (Dense)             (None, 384)               301440    \n",
      "_________________________________________________________________\n",
      "dense_13 (Dense)             (None, 10)                3850      \n",
      "=================================================================\n",
      "Total params: 2,714,522\n",
      "Trainable params: 2,714,522\n",
      "Non-trainable params: 0\n",
      "_________________________________________________________________\n",
      "Epoch 1/200\n",
      "88/88 [==============================] - 2s 27ms/step - loss: 2.2261 - accuracy: 0.2458 - val_loss: 1.9148 - val_accuracy: 0.3054\n",
      "Epoch 2/200\n",
      "88/88 [==============================] - 2s 25ms/step - loss: 1.8151 - accuracy: 0.3540 - val_loss: 1.7922 - val_accuracy: 0.3640\n",
      "Epoch 3/200\n",
      "88/88 [==============================] - 2s 25ms/step - loss: 1.7149 - accuracy: 0.3920 - val_loss: 1.7076 - val_accuracy: 0.3874\n",
      "Epoch 4/200\n",
      "88/88 [==============================] - 2s 25ms/step - loss: 1.6397 - accuracy: 0.4197 - val_loss: 1.6370 - val_accuracy: 0.4154\n",
      "Epoch 5/200\n",
      "88/88 [==============================] - 2s 25ms/step - loss: 1.5919 - accuracy: 0.4398 - val_loss: 1.5993 - val_accuracy: 0.4276\n",
      "Epoch 6/200\n",
      "88/88 [==============================] - 2s 26ms/step - loss: 1.5477 - accuracy: 0.4519 - val_loss: 1.5764 - val_accuracy: 0.4390\n",
      "Epoch 7/200\n",
      "88/88 [==============================] - 2s 26ms/step - loss: 1.5087 - accuracy: 0.4662 - val_loss: 1.5371 - val_accuracy: 0.4486\n",
      "Epoch 8/200\n",
      "88/88 [==============================] - 2s 25ms/step - loss: 1.4829 - accuracy: 0.4745 - val_loss: 1.5145 - val_accuracy: 0.4580\n",
      "Epoch 9/200\n",
      "88/88 [==============================] - 2s 25ms/step - loss: 1.4584 - accuracy: 0.4840 - val_loss: 1.5300 - val_accuracy: 0.4590\n",
      "Epoch 10/200\n",
      "88/88 [==============================] - 2s 26ms/step - loss: 1.4266 - accuracy: 0.4969 - val_loss: 1.4885 - val_accuracy: 0.4648\n",
      "Epoch 11/200\n",
      "88/88 [==============================] - 2s 26ms/step - loss: 1.4023 - accuracy: 0.5057 - val_loss: 1.4666 - val_accuracy: 0.4720\n",
      "Epoch 12/200\n",
      "88/88 [==============================] - 2s 26ms/step - loss: 1.3765 - accuracy: 0.5133 - val_loss: 1.4474 - val_accuracy: 0.4768\n",
      "Epoch 13/200\n",
      "88/88 [==============================] - 2s 25ms/step - loss: 1.3557 - accuracy: 0.5219 - val_loss: 1.4430 - val_accuracy: 0.4818\n",
      "Epoch 14/200\n",
      "88/88 [==============================] - 2s 26ms/step - loss: 1.3253 - accuracy: 0.5330 - val_loss: 1.4044 - val_accuracy: 0.5070\n",
      "Epoch 15/200\n",
      "88/88 [==============================] - 2s 25ms/step - loss: 1.3128 - accuracy: 0.5360 - val_loss: 1.4593 - val_accuracy: 0.4720\n",
      "Epoch 16/200\n",
      "88/88 [==============================] - 2s 26ms/step - loss: 1.2919 - accuracy: 0.5445 - val_loss: 1.4066 - val_accuracy: 0.4974\n",
      "Finished model training in 38s\n",
      "\n",
      "Evaluating model performance with test set\n",
      "313/313 [==============================] - 1s 3ms/step - loss: 1.3990 - accuracy: 0.5029\n"
     ]
    }
   ],
   "source": [
    "model_1 = models.Sequential()\n",
    "model_1.add(layers.Dense(input_shape=[3072], units=784, activation=tf.nn.relu,kernel_regularizer=None))\n",
    "model_1.add(Dense(384, activation=tf.nn.relu))\n",
    "model_1.add(layers.Dense(units=10, activation=tf.nn.softmax))\n",
    "\n",
    "model_1.summary()\n",
    "\n",
    "model_1.compile(optimizer='adam',\n",
    "              loss=tf.keras.losses.SparseCategoricalCrossentropy(from_logits=False),\n",
    "              metrics=['accuracy'])\n",
    "\n",
    "start_time = time.time()\n",
    "\n",
    "history = model_1.fit(\n",
    "    x_train_reshaped\n",
    "    ,y_train_split\n",
    "    ,epochs = 200\n",
    "    ,batch_size=512\n",
    "    ,validation_data=(x_valid_reshaped, y_valid_split)\n",
    "    ,callbacks=[tf.keras.callbacks.EarlyStopping(monitor='val_accuracy', patience=2)] \n",
    "    )\n",
    "\n",
    "end_time = time.time()\n",
    "second_elapsed = round(end_time - start_time)\n",
    "print(f'Finished model training in {second_elapsed}s')\n",
    "\n",
    "print('\\nEvaluating model performance with test set')\n",
    "loss, accuracy = model_1.evaluate(x_test_reshaped, y_test)\n"
   ]
  },
  {
   "cell_type": "code",
   "execution_count": 34,
   "metadata": {},
   "outputs": [
    {
     "name": "stdout",
     "output_type": "stream",
     "text": [
      "\n",
      "Model performance with training set\n",
      "1407/1407 [==============================] - 4s 3ms/step - loss: 1.2617 - accuracy: 0.5493\n",
      "\n",
      "Evaluating model performance with validation set\n",
      "157/157 [==============================] - 0s 3ms/step - loss: 1.4066 - accuracy: 0.4974\n"
     ]
    },
    {
     "data": {
      "text/plain": [
       "[1.4066163301467896, 0.4973999857902527]"
      ]
     },
     "execution_count": 34,
     "metadata": {},
     "output_type": "execute_result"
    }
   ],
   "source": [
    "print('\\nModel performance with training set')\n",
    "model_1.evaluate(x_train_reshaped, y_train_split)\n",
    "print('\\nEvaluating model performance with validation set')\n",
    "model_1.evaluate(x_valid_reshaped, y_valid_split)"
   ]
  },
  {
   "cell_type": "code",
   "execution_count": null,
   "metadata": {},
   "outputs": [],
   "source": []
  },
  {
   "cell_type": "code",
   "execution_count": 37,
   "metadata": {
    "scrolled": false
   },
   "outputs": [
    {
     "name": "stdout",
     "output_type": "stream",
     "text": [
      "Model: \"sequential_4\"\n",
      "_________________________________________________________________\n",
      "Layer (type)                 Output Shape              Param #   \n",
      "=================================================================\n",
      "dense_14 (Dense)             (None, 784)               2409232   \n",
      "_________________________________________________________________\n",
      "dense_15 (Dense)             (None, 384)               301440    \n",
      "_________________________________________________________________\n",
      "dense_16 (Dense)             (None, 512)               197120    \n",
      "_________________________________________________________________\n",
      "dense_17 (Dense)             (None, 10)                5130      \n",
      "=================================================================\n",
      "Total params: 2,912,922\n",
      "Trainable params: 2,912,922\n",
      "Non-trainable params: 0\n",
      "_________________________________________________________________\n",
      "Epoch 1/200\n",
      "88/88 [==============================] - 9s 103ms/step - loss: 2.0420 - accuracy: 0.2640 - val_loss: 1.8224 - val_accuracy: 0.3476\n",
      "Epoch 2/200\n",
      "88/88 [==============================] - 7s 75ms/step - loss: 1.7645 - accuracy: 0.3671 - val_loss: 1.7181 - val_accuracy: 0.3800\n",
      "Epoch 3/200\n",
      "88/88 [==============================] - 9s 100ms/step - loss: 1.6518 - accuracy: 0.4108 - val_loss: 1.6305 - val_accuracy: 0.4228\n",
      "Epoch 4/200\n",
      "88/88 [==============================] - 7s 76ms/step - loss: 1.5863 - accuracy: 0.4350 - val_loss: 1.5957 - val_accuracy: 0.4284\n",
      "Epoch 5/200\n",
      "88/88 [==============================] - 9s 99ms/step - loss: 1.5295 - accuracy: 0.4574 - val_loss: 1.5618 - val_accuracy: 0.4370\n",
      "Epoch 6/200\n",
      "88/88 [==============================] - 7s 76ms/step - loss: 1.4862 - accuracy: 0.4730 - val_loss: 1.5148 - val_accuracy: 0.4590\n",
      "Epoch 7/200\n",
      "88/88 [==============================] - 9s 100ms/step - loss: 1.4395 - accuracy: 0.4885 - val_loss: 1.4749 - val_accuracy: 0.4710\n",
      "Epoch 8/200\n",
      "88/88 [==============================] - 7s 76ms/step - loss: 1.4142 - accuracy: 0.4967 - val_loss: 1.4568 - val_accuracy: 0.4756\n",
      "Epoch 9/200\n",
      "88/88 [==============================] - 9s 100ms/step - loss: 1.3844 - accuracy: 0.5066 - val_loss: 1.4538 - val_accuracy: 0.4772\n",
      "Epoch 10/200\n",
      "88/88 [==============================] - 7s 76ms/step - loss: 1.3535 - accuracy: 0.5188 - val_loss: 1.4419 - val_accuracy: 0.4786\n",
      "Epoch 11/200\n",
      "88/88 [==============================] - 9s 99ms/step - loss: 1.3315 - accuracy: 0.5271 - val_loss: 1.4855 - val_accuracy: 0.4648\n",
      "Epoch 12/200\n",
      "88/88 [==============================] - 7s 77ms/step - loss: 1.2931 - accuracy: 0.5393 - val_loss: 1.4370 - val_accuracy: 0.4836\n",
      "Epoch 13/200\n",
      "88/88 [==============================] - 7s 77ms/step - loss: 1.2689 - accuracy: 0.5480 - val_loss: 1.4407 - val_accuracy: 0.4818\n",
      "Epoch 14/200\n",
      "88/88 [==============================] - 9s 101ms/step - loss: 1.2544 - accuracy: 0.5528 - val_loss: 1.4257 - val_accuracy: 0.4980\n",
      "Epoch 15/200\n",
      "88/88 [==============================] - 7s 76ms/step - loss: 1.2176 - accuracy: 0.5691 - val_loss: 1.4361 - val_accuracy: 0.4932\n",
      "Epoch 16/200\n",
      "88/88 [==============================] - 9s 100ms/step - loss: 1.1887 - accuracy: 0.5781 - val_loss: 1.4117 - val_accuracy: 0.4968\n",
      "Finished model training in 125s\n",
      "313/313 [==============================] - 3s 11ms/step - loss: 1.3988 - accuracy: 0.5097\n",
      "test set accuracy:  50.97000002861023\n"
     ]
    }
   ],
   "source": [
    "model_2 = models.Sequential()\n",
    "model_2.add(layers.Dense(input_shape=[3072], units=784, activation=tf.nn.relu,kernel_regularizer=None))\n",
    "model_2.add(Dense(384, activation=tf.nn.relu))\n",
    "model_2.add(Dense(512, activation=tf.nn.relu))\n",
    "model_2.add(layers.Dense(units=10, activation=tf.nn.softmax))\n",
    "\n",
    "model_2.summary()\n",
    "\n",
    "model_2.compile(optimizer='adam',\n",
    "              loss=tf.keras.losses.SparseCategoricalCrossentropy(from_logits=False),\n",
    "              metrics=['accuracy'])\n",
    "start_time = time.time()\n",
    "history = model_2.fit(\n",
    "    x_train_reshaped\n",
    "    ,y_train_split\n",
    "    ,epochs = 200\n",
    "    ,batch_size=512\n",
    "    ,validation_data=(x_valid_reshaped, y_valid_split)\n",
    "    ,callbacks=[tf.keras.callbacks.EarlyStopping(monitor='val_accuracy', patience=2)] \n",
    "    )\n",
    "\n",
    "end_time = time.time()\n",
    "second_elapsed = round(end_time - start_time)\n",
    "print(f'Finished model training in {second_elapsed}s')\n",
    "\n",
    "loss, accuracy = model_2.evaluate(x_test_reshaped, y_test)\n",
    "print('test set accuracy: ', accuracy * 100)"
   ]
  },
  {
   "cell_type": "code",
   "execution_count": 38,
   "metadata": {},
   "outputs": [
    {
     "name": "stdout",
     "output_type": "stream",
     "text": [
      "\n",
      "Model performance with training set\n",
      "1407/1407 [==============================] - 13s 9ms/step - loss: 1.1775 - accuracy: 0.5811\n",
      "\n",
      "Evaluating model performance with validation set\n",
      "157/157 [==============================] - 3s 17ms/step - loss: 1.4117 - accuracy: 0.4968\n"
     ]
    },
    {
     "data": {
      "text/plain": [
       "[1.4117025136947632, 0.4968000054359436]"
      ]
     },
     "execution_count": 38,
     "metadata": {},
     "output_type": "execute_result"
    }
   ],
   "source": [
    "print('\\nModel performance with training set')\n",
    "model_2.evaluate(x_train_reshaped, y_train_split)\n",
    "print('\\nEvaluating model performance with validation set')\n",
    "model_2.evaluate(x_valid_reshaped, y_valid_split)"
   ]
  },
  {
   "cell_type": "code",
   "execution_count": 45,
   "metadata": {},
   "outputs": [
    {
     "data": {
      "text/plain": [
       "array([3, 9, 1, ..., 3, 2, 7], dtype=int64)"
      ]
     },
     "execution_count": 45,
     "metadata": {},
     "output_type": "execute_result"
    }
   ],
   "source": [
    "pred1"
   ]
  }
 ],
 "metadata": {
  "accelerator": "GPU",
  "colab": {
   "collapsed_sections": [],
   "machine_shape": "hm",
   "name": "MSDS458_Assignment_02_ResearchExample_20210920_COLAB_Part1.ipynb",
   "provenance": []
  },
  "kernelspec": {
   "display_name": "Python 3 (ipykernel)",
   "language": "python",
   "name": "python3"
  },
  "language_info": {
   "codemirror_mode": {
    "name": "ipython",
    "version": 3
   },
   "file_extension": ".py",
   "mimetype": "text/x-python",
   "name": "python",
   "nbconvert_exporter": "python",
   "pygments_lexer": "ipython3",
   "version": "3.7.11"
  },
  "toc": {
   "base_numbering": 1,
   "nav_menu": {},
   "number_sections": false,
   "sideBar": true,
   "skip_h1_title": false,
   "title_cell": "Table of Contents",
   "title_sidebar": "Contents",
   "toc_cell": false,
   "toc_position": {},
   "toc_section_display": true,
   "toc_window_display": false
  }
 },
 "nbformat": 4,
 "nbformat_minor": 1
}
